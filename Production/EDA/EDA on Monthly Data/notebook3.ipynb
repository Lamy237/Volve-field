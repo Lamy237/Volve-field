{
 "cells": [
  {
   "cell_type": "markdown",
   "metadata": {},
   "source": [
    "# Analysis and Visualization [<svg height=\"1.5rem\" width=\"1.5rem\" fill=\"currentColor\" viewBox=\"0 0 16 16\" aria-hidden=\"true\" xmlns=\"http://www.w3.org/2000/svg\" class=\"Icon__StyledSvg-sc-6evbi1-0\"><path data-testid=\"eds-icon-path\" d=\"M5 3c-1.093 0-2 .907-2 2v14c0 1.093.907 2 2 2h14c1.093 0 2-.907 2-2v-7h-2v7H5V5h7V3H5Zm9 0v2h3.586l-9.293 9.293 1.414 1.414L19 6.414V10h2V3h-7Z\" height=\"24\" fill-rule=\"evenodd\" clip-rule=\"evenodd\" transform=\"scale(0.6666666666666666)\" class=\"Icon__StyledPath-sc-6evbi1-1 jzkZsK\"></path></svg>]()\n",
    "\n",
    "After creating numerous subsets to account for various data classifications, it is now time to graphically analyze the dataset to understand trends and identify patterns in the production history.\n",
    "\n",
    "This notebook covers the following topics:\n",
    "\n",
    "- [Getting the notebook ready](#getting-the-notebook-ready)\n",
    "- [Annual Production](#annual-production)\n",
    "- [Monthly Production](#monthly-production)\n",
    "- [Wellbore Yield Comparison](#wellbore-yield-comparison)\n",
    "- [Wellbore Production Analysis](#wellbore-production-analysis)\n",
    "- [Chronology of Events](#chronology-of-events)\n",
    "\n",
    "<br>\n",
    "\n",
    ">**Note:** Unfortunately, GitHub does not render Plotly charts. To render the interactive charts in this notebook, you will have to paste the notebook URL on [nbviewer](https://nbviewer.org/)."
   ]
  },
  {
   "cell_type": "code",
   "execution_count": 1,
   "metadata": {},
   "outputs": [],
   "source": [
    "import pandas as pd\n",
    "import functions as fn"
   ]
  },
  {
   "cell_type": "code",
   "execution_count": 2,
   "metadata": {},
   "outputs": [],
   "source": [
    "volve_df = pd.read_excel(io=\"../../Data/raw-data/Volve production data.xlsx\", sheet_name=\"Monthly Production Data\")"
   ]
  },
  {
   "cell_type": "code",
   "execution_count": 3,
   "metadata": {},
   "outputs": [],
   "source": [
    "volve_df = fn.clean_data(volve_df)"
   ]
  },
  {
   "cell_type": "markdown",
   "metadata": {},
   "source": [
    "## Getting the notebook ready"
   ]
  },
  {
   "cell_type": "code",
   "execution_count": 4,
   "metadata": {},
   "outputs": [],
   "source": [
    "import matplotlib\n",
    "import matplotlib.pyplot as plt\n",
    "import seaborn as sns\n",
    "import plotly.graph_objects as go\n",
    "from plotly.subplots import make_subplots"
   ]
  },
  {
   "cell_type": "code",
   "execution_count": 5,
   "metadata": {},
   "outputs": [],
   "source": [
    "sns.set_style(\"darkgrid\")\n",
    "\n",
    "matplotlib.rcParams[\"font.size\"] = 14\n",
    "matplotlib.rcParams[\"figure.facecolor\"] = \"#0000\""
   ]
  },
  {
   "cell_type": "code",
   "execution_count": 6,
   "metadata": {},
   "outputs": [],
   "source": [
    "volumes = {\n",
    "    \"OIL\": 0.1589873,  # 1 bbl = 0.1589873 m3\n",
    "    \"GAS\": 0.0283168,  # 1 scf = 0.0283168 m3\n",
    "    \"WATER\": 0.1589873,  # conversion to have the equivalent in barrels\n",
    "}"
   ]
  },
  {
   "cell_type": "markdown",
   "metadata": {},
   "source": [
    "## Annual Production"
   ]
  },
  {
   "cell_type": "code",
   "execution_count": 7,
   "metadata": {},
   "outputs": [],
   "source": [
    "annual_production_df, annual_injection_df = fn.generate_annual_dataframes(volve_df).values()"
   ]
  },
  {
   "cell_type": "code",
   "execution_count": 8,
   "metadata": {},
   "outputs": [
    {
     "data": {
      "application/vnd.plotly.v1+json": {
       "config": {
        "plotlyServerURL": "https://plot.ly"
       },
       "data": [
        {
         "customdata": [
          0,
          11097585.467518475,
          16884317.426612064,
          10629166.920879845,
          5333541.735723546,
          3611649.043665752,
          3509793.109260929,
          4674005.345081022,
          5420238.346081732,
          1971038.3156390479
         ],
         "hovertemplate": "<b>%{x}</b><br><br><b>barrels:</b> %{customdata:,.0f}<br><b>cubic meters:</b> %{y}",
         "line": {
          "color": "red",
          "dash": "dash",
          "shape": "spline",
          "width": 3
         },
         "marker": {
          "size": 10
         },
         "name": "Profile",
         "type": "scatter",
         "x": [
          2007,
          2008,
          2009,
          2010,
          2011,
          2012,
          2013,
          2014,
          2015,
          2016
         ],
         "y": [
          0,
          1764375.15,
          2684392.04,
          1689902.55,
          847965.4,
          574206.33,
          558012.53,
          743107.49,
          861749.06,
          313370.06
         ]
        },
        {
         "customdata": [
          0,
          11097585.467518475,
          16884317.426612064,
          10629166.920879845,
          5333541.735723546,
          3611649.043665752,
          3509793.109260929,
          4674005.345081022,
          5420238.346081732,
          1971038.3156390479
         ],
         "hovertemplate": "<b>%{x}</b><br><br><b>barrels:</b> %{customdata:,.0f}<br><b>cubic meters:</b> %{y}",
         "marker": {
          "color": "lime",
          "line": {
           "color": "white",
           "width": 1.2
          }
         },
         "name": "Distribution",
         "type": "bar",
         "x": [
          2007,
          2008,
          2009,
          2010,
          2011,
          2012,
          2013,
          2014,
          2015,
          2016
         ],
         "y": [
          0,
          1764375.15,
          2684392.04,
          1689902.55,
          847965.4,
          574206.33,
          558012.53,
          743107.49,
          861749.06,
          313370.06
         ]
        }
       ],
       "layout": {
        "font": {
         "size": 14
        },
        "height": 580,
        "template": {
         "data": {
          "bar": [
           {
            "error_x": {
             "color": "#2a3f5f"
            },
            "error_y": {
             "color": "#2a3f5f"
            },
            "marker": {
             "line": {
              "color": "#E5ECF6",
              "width": 0.5
             },
             "pattern": {
              "fillmode": "overlay",
              "size": 10,
              "solidity": 0.2
             }
            },
            "type": "bar"
           }
          ],
          "barpolar": [
           {
            "marker": {
             "line": {
              "color": "#E5ECF6",
              "width": 0.5
             },
             "pattern": {
              "fillmode": "overlay",
              "size": 10,
              "solidity": 0.2
             }
            },
            "type": "barpolar"
           }
          ],
          "carpet": [
           {
            "aaxis": {
             "endlinecolor": "#2a3f5f",
             "gridcolor": "white",
             "linecolor": "white",
             "minorgridcolor": "white",
             "startlinecolor": "#2a3f5f"
            },
            "baxis": {
             "endlinecolor": "#2a3f5f",
             "gridcolor": "white",
             "linecolor": "white",
             "minorgridcolor": "white",
             "startlinecolor": "#2a3f5f"
            },
            "type": "carpet"
           }
          ],
          "choropleth": [
           {
            "colorbar": {
             "outlinewidth": 0,
             "ticks": ""
            },
            "type": "choropleth"
           }
          ],
          "contour": [
           {
            "colorbar": {
             "outlinewidth": 0,
             "ticks": ""
            },
            "colorscale": [
             [
              0,
              "#0d0887"
             ],
             [
              0.1111111111111111,
              "#46039f"
             ],
             [
              0.2222222222222222,
              "#7201a8"
             ],
             [
              0.3333333333333333,
              "#9c179e"
             ],
             [
              0.4444444444444444,
              "#bd3786"
             ],
             [
              0.5555555555555556,
              "#d8576b"
             ],
             [
              0.6666666666666666,
              "#ed7953"
             ],
             [
              0.7777777777777778,
              "#fb9f3a"
             ],
             [
              0.8888888888888888,
              "#fdca26"
             ],
             [
              1,
              "#f0f921"
             ]
            ],
            "type": "contour"
           }
          ],
          "contourcarpet": [
           {
            "colorbar": {
             "outlinewidth": 0,
             "ticks": ""
            },
            "type": "contourcarpet"
           }
          ],
          "heatmap": [
           {
            "colorbar": {
             "outlinewidth": 0,
             "ticks": ""
            },
            "colorscale": [
             [
              0,
              "#0d0887"
             ],
             [
              0.1111111111111111,
              "#46039f"
             ],
             [
              0.2222222222222222,
              "#7201a8"
             ],
             [
              0.3333333333333333,
              "#9c179e"
             ],
             [
              0.4444444444444444,
              "#bd3786"
             ],
             [
              0.5555555555555556,
              "#d8576b"
             ],
             [
              0.6666666666666666,
              "#ed7953"
             ],
             [
              0.7777777777777778,
              "#fb9f3a"
             ],
             [
              0.8888888888888888,
              "#fdca26"
             ],
             [
              1,
              "#f0f921"
             ]
            ],
            "type": "heatmap"
           }
          ],
          "heatmapgl": [
           {
            "colorbar": {
             "outlinewidth": 0,
             "ticks": ""
            },
            "colorscale": [
             [
              0,
              "#0d0887"
             ],
             [
              0.1111111111111111,
              "#46039f"
             ],
             [
              0.2222222222222222,
              "#7201a8"
             ],
             [
              0.3333333333333333,
              "#9c179e"
             ],
             [
              0.4444444444444444,
              "#bd3786"
             ],
             [
              0.5555555555555556,
              "#d8576b"
             ],
             [
              0.6666666666666666,
              "#ed7953"
             ],
             [
              0.7777777777777778,
              "#fb9f3a"
             ],
             [
              0.8888888888888888,
              "#fdca26"
             ],
             [
              1,
              "#f0f921"
             ]
            ],
            "type": "heatmapgl"
           }
          ],
          "histogram": [
           {
            "marker": {
             "pattern": {
              "fillmode": "overlay",
              "size": 10,
              "solidity": 0.2
             }
            },
            "type": "histogram"
           }
          ],
          "histogram2d": [
           {
            "colorbar": {
             "outlinewidth": 0,
             "ticks": ""
            },
            "colorscale": [
             [
              0,
              "#0d0887"
             ],
             [
              0.1111111111111111,
              "#46039f"
             ],
             [
              0.2222222222222222,
              "#7201a8"
             ],
             [
              0.3333333333333333,
              "#9c179e"
             ],
             [
              0.4444444444444444,
              "#bd3786"
             ],
             [
              0.5555555555555556,
              "#d8576b"
             ],
             [
              0.6666666666666666,
              "#ed7953"
             ],
             [
              0.7777777777777778,
              "#fb9f3a"
             ],
             [
              0.8888888888888888,
              "#fdca26"
             ],
             [
              1,
              "#f0f921"
             ]
            ],
            "type": "histogram2d"
           }
          ],
          "histogram2dcontour": [
           {
            "colorbar": {
             "outlinewidth": 0,
             "ticks": ""
            },
            "colorscale": [
             [
              0,
              "#0d0887"
             ],
             [
              0.1111111111111111,
              "#46039f"
             ],
             [
              0.2222222222222222,
              "#7201a8"
             ],
             [
              0.3333333333333333,
              "#9c179e"
             ],
             [
              0.4444444444444444,
              "#bd3786"
             ],
             [
              0.5555555555555556,
              "#d8576b"
             ],
             [
              0.6666666666666666,
              "#ed7953"
             ],
             [
              0.7777777777777778,
              "#fb9f3a"
             ],
             [
              0.8888888888888888,
              "#fdca26"
             ],
             [
              1,
              "#f0f921"
             ]
            ],
            "type": "histogram2dcontour"
           }
          ],
          "mesh3d": [
           {
            "colorbar": {
             "outlinewidth": 0,
             "ticks": ""
            },
            "type": "mesh3d"
           }
          ],
          "parcoords": [
           {
            "line": {
             "colorbar": {
              "outlinewidth": 0,
              "ticks": ""
             }
            },
            "type": "parcoords"
           }
          ],
          "pie": [
           {
            "automargin": true,
            "type": "pie"
           }
          ],
          "scatter": [
           {
            "fillpattern": {
             "fillmode": "overlay",
             "size": 10,
             "solidity": 0.2
            },
            "type": "scatter"
           }
          ],
          "scatter3d": [
           {
            "line": {
             "colorbar": {
              "outlinewidth": 0,
              "ticks": ""
             }
            },
            "marker": {
             "colorbar": {
              "outlinewidth": 0,
              "ticks": ""
             }
            },
            "type": "scatter3d"
           }
          ],
          "scattercarpet": [
           {
            "marker": {
             "colorbar": {
              "outlinewidth": 0,
              "ticks": ""
             }
            },
            "type": "scattercarpet"
           }
          ],
          "scattergeo": [
           {
            "marker": {
             "colorbar": {
              "outlinewidth": 0,
              "ticks": ""
             }
            },
            "type": "scattergeo"
           }
          ],
          "scattergl": [
           {
            "marker": {
             "colorbar": {
              "outlinewidth": 0,
              "ticks": ""
             }
            },
            "type": "scattergl"
           }
          ],
          "scattermapbox": [
           {
            "marker": {
             "colorbar": {
              "outlinewidth": 0,
              "ticks": ""
             }
            },
            "type": "scattermapbox"
           }
          ],
          "scatterpolar": [
           {
            "marker": {
             "colorbar": {
              "outlinewidth": 0,
              "ticks": ""
             }
            },
            "type": "scatterpolar"
           }
          ],
          "scatterpolargl": [
           {
            "marker": {
             "colorbar": {
              "outlinewidth": 0,
              "ticks": ""
             }
            },
            "type": "scatterpolargl"
           }
          ],
          "scatterternary": [
           {
            "marker": {
             "colorbar": {
              "outlinewidth": 0,
              "ticks": ""
             }
            },
            "type": "scatterternary"
           }
          ],
          "surface": [
           {
            "colorbar": {
             "outlinewidth": 0,
             "ticks": ""
            },
            "colorscale": [
             [
              0,
              "#0d0887"
             ],
             [
              0.1111111111111111,
              "#46039f"
             ],
             [
              0.2222222222222222,
              "#7201a8"
             ],
             [
              0.3333333333333333,
              "#9c179e"
             ],
             [
              0.4444444444444444,
              "#bd3786"
             ],
             [
              0.5555555555555556,
              "#d8576b"
             ],
             [
              0.6666666666666666,
              "#ed7953"
             ],
             [
              0.7777777777777778,
              "#fb9f3a"
             ],
             [
              0.8888888888888888,
              "#fdca26"
             ],
             [
              1,
              "#f0f921"
             ]
            ],
            "type": "surface"
           }
          ],
          "table": [
           {
            "cells": {
             "fill": {
              "color": "#EBF0F8"
             },
             "line": {
              "color": "white"
             }
            },
            "header": {
             "fill": {
              "color": "#C8D4E3"
             },
             "line": {
              "color": "white"
             }
            },
            "type": "table"
           }
          ]
         },
         "layout": {
          "annotationdefaults": {
           "arrowcolor": "#2a3f5f",
           "arrowhead": 0,
           "arrowwidth": 1
          },
          "autotypenumbers": "strict",
          "coloraxis": {
           "colorbar": {
            "outlinewidth": 0,
            "ticks": ""
           }
          },
          "colorscale": {
           "diverging": [
            [
             0,
             "#8e0152"
            ],
            [
             0.1,
             "#c51b7d"
            ],
            [
             0.2,
             "#de77ae"
            ],
            [
             0.3,
             "#f1b6da"
            ],
            [
             0.4,
             "#fde0ef"
            ],
            [
             0.5,
             "#f7f7f7"
            ],
            [
             0.6,
             "#e6f5d0"
            ],
            [
             0.7,
             "#b8e186"
            ],
            [
             0.8,
             "#7fbc41"
            ],
            [
             0.9,
             "#4d9221"
            ],
            [
             1,
             "#276419"
            ]
           ],
           "sequential": [
            [
             0,
             "#0d0887"
            ],
            [
             0.1111111111111111,
             "#46039f"
            ],
            [
             0.2222222222222222,
             "#7201a8"
            ],
            [
             0.3333333333333333,
             "#9c179e"
            ],
            [
             0.4444444444444444,
             "#bd3786"
            ],
            [
             0.5555555555555556,
             "#d8576b"
            ],
            [
             0.6666666666666666,
             "#ed7953"
            ],
            [
             0.7777777777777778,
             "#fb9f3a"
            ],
            [
             0.8888888888888888,
             "#fdca26"
            ],
            [
             1,
             "#f0f921"
            ]
           ],
           "sequentialminus": [
            [
             0,
             "#0d0887"
            ],
            [
             0.1111111111111111,
             "#46039f"
            ],
            [
             0.2222222222222222,
             "#7201a8"
            ],
            [
             0.3333333333333333,
             "#9c179e"
            ],
            [
             0.4444444444444444,
             "#bd3786"
            ],
            [
             0.5555555555555556,
             "#d8576b"
            ],
            [
             0.6666666666666666,
             "#ed7953"
            ],
            [
             0.7777777777777778,
             "#fb9f3a"
            ],
            [
             0.8888888888888888,
             "#fdca26"
            ],
            [
             1,
             "#f0f921"
            ]
           ]
          },
          "colorway": [
           "#636efa",
           "#EF553B",
           "#00cc96",
           "#ab63fa",
           "#FFA15A",
           "#19d3f3",
           "#FF6692",
           "#B6E880",
           "#FF97FF",
           "#FECB52"
          ],
          "font": {
           "color": "#2a3f5f"
          },
          "geo": {
           "bgcolor": "white",
           "lakecolor": "white",
           "landcolor": "#E5ECF6",
           "showlakes": true,
           "showland": true,
           "subunitcolor": "white"
          },
          "hoverlabel": {
           "align": "left"
          },
          "hovermode": "closest",
          "mapbox": {
           "style": "light"
          },
          "paper_bgcolor": "white",
          "plot_bgcolor": "#E5ECF6",
          "polar": {
           "angularaxis": {
            "gridcolor": "white",
            "linecolor": "white",
            "ticks": ""
           },
           "bgcolor": "#E5ECF6",
           "radialaxis": {
            "gridcolor": "white",
            "linecolor": "white",
            "ticks": ""
           }
          },
          "scene": {
           "xaxis": {
            "backgroundcolor": "#E5ECF6",
            "gridcolor": "white",
            "gridwidth": 2,
            "linecolor": "white",
            "showbackground": true,
            "ticks": "",
            "zerolinecolor": "white"
           },
           "yaxis": {
            "backgroundcolor": "#E5ECF6",
            "gridcolor": "white",
            "gridwidth": 2,
            "linecolor": "white",
            "showbackground": true,
            "ticks": "",
            "zerolinecolor": "white"
           },
           "zaxis": {
            "backgroundcolor": "#E5ECF6",
            "gridcolor": "white",
            "gridwidth": 2,
            "linecolor": "white",
            "showbackground": true,
            "ticks": "",
            "zerolinecolor": "white"
           }
          },
          "shapedefaults": {
           "line": {
            "color": "#2a3f5f"
           }
          },
          "ternary": {
           "aaxis": {
            "gridcolor": "white",
            "linecolor": "white",
            "ticks": ""
           },
           "baxis": {
            "gridcolor": "white",
            "linecolor": "white",
            "ticks": ""
           },
           "bgcolor": "#E5ECF6",
           "caxis": {
            "gridcolor": "white",
            "linecolor": "white",
            "ticks": ""
           }
          },
          "title": {
           "x": 0.05
          },
          "xaxis": {
           "automargin": true,
           "gridcolor": "white",
           "linecolor": "white",
           "ticks": "",
           "title": {
            "standoff": 15
           },
           "zerolinecolor": "white",
           "zerolinewidth": 2
          },
          "yaxis": {
           "automargin": true,
           "gridcolor": "white",
           "linecolor": "white",
           "ticks": "",
           "title": {
            "standoff": 15
           },
           "zerolinecolor": "white",
           "zerolinewidth": 2
          }
         }
        },
        "title": {
         "text": "<b>Annual Oil Production (m<sup>3</sup>)</b>"
        },
        "width": 900,
        "xaxis": {
         "tickmode": "array",
         "tickvals": [
          2007,
          2008,
          2009,
          2010,
          2011,
          2012,
          2013,
          2014,
          2015,
          2016
         ],
         "title": {
          "text": "Year"
         }
        },
        "yaxis": {
         "hoverformat": ",.0f",
         "title": {
          "text": "Oil Volume"
         }
        }
       }
      }
     },
     "metadata": {},
     "output_type": "display_data"
    }
   ],
   "source": [
    "layout = go.Layout(\n",
    "    title=\"<b>Annual Oil Production (m<sup>3</sup>)</b>\",\n",
    "    xaxis=dict(\n",
    "        title=\"Year\",\n",
    "        tickmode=\"array\",\n",
    "        tickvals=annual_production_df[\"YEAR\"]\n",
    "    ),\n",
    "    yaxis=dict(\n",
    "        title=\"Oil Volume\",\n",
    "        hoverformat=\",.0f\"\n",
    "    ),\n",
    "    font_size=14,\n",
    "    width=900,\n",
    "    height=580\n",
    ")\n",
    "\n",
    "trace1 = go.Scatter(\n",
    "    x=annual_production_df[\"YEAR\"],\n",
    "    y=annual_production_df[\"OIL\"],\n",
    "    customdata=(annual_production_df[\"OIL\"] / volumes.get(\"OIL\")),\n",
    "    hovertemplate=\"<br>\".join([\"<b>%{x}</b><br>\", \"<b>barrels:</b> %{customdata:,.0f}\", \"<b>cubic meters:</b> %{y}\"]),\n",
    "    line=dict(color=\"red\", dash=\"dash\", shape=\"spline\", width=3),\n",
    "    marker_size=10,\n",
    "    name=\"Profile\"\n",
    ")\n",
    "\n",
    "trace2 = go.Bar(\n",
    "    x=annual_production_df[\"YEAR\"],\n",
    "    y=annual_production_df[\"OIL\"],\n",
    "    customdata=annual_production_df[\"OIL\"] / volumes.get(\"OIL\"),\n",
    "    hovertemplate=\"<br>\".join([\"<b>%{x}</b><br>\", \"<b>barrels:</b> %{customdata:,.0f}\", \"<b>cubic meters:</b> %{y}\"]),\n",
    "    marker=dict(color=\"lime\", line=dict(color=\"white\", width=1.2)),\n",
    "    name=\"Distribution\"\n",
    ")\n",
    "\n",
    "go.Figure(data=[trace1, trace2], layout=layout)"
   ]
  },
  {
   "cell_type": "code",
   "execution_count": 9,
   "metadata": {},
   "outputs": [
    {
     "data": {
      "application/vnd.plotly.v1+json": {
       "config": {
        "plotlyServerURL": "https://plot.ly"
       },
       "data": [
        {
         "customdata": [
          0,
          9077246959.75534,
          13277701311.942028,
          8614969693.2563,
          4602221837.919539,
          3185693403.209402,
          3093138229.249068,
          3947899288.761442,
          4535252710.051983,
          1768177529.9468868
         ],
         "hovertemplate": "<b>%{x}</b><br><br><b>SCF:</b> %{customdata:,.0f}<br><b>cubic meters:</b> %{y}",
         "line": {
          "color": "darkcyan",
          "dash": "dash",
          "shape": "spline",
          "width": 3
         },
         "marker": {
          "size": 10
         },
         "name": "Profile",
         "type": "scatter",
         "x": [
          2007,
          2008,
          2009,
          2010,
          2011,
          2012,
          2013,
          2014,
          2015,
          2016
         ],
         "y": [
          0,
          257038586.71,
          375982012.51,
          243948373.81,
          130320195.34,
          90208642.96,
          87587776.61,
          111791874.58,
          128423843.94,
          50069129.480000004
         ]
        },
        {
         "customdata": [
          0,
          9077246959.75534,
          13277701311.942028,
          8614969693.2563,
          4602221837.919539,
          3185693403.209402,
          3093138229.249068,
          3947899288.761442,
          4535252710.051983,
          1768177529.9468868
         ],
         "hovertemplate": "<b>%{x}</b><br><br><b>SCF:</b> %{customdata:,.0f}<br><b>cubic meters:</b> %{y}",
         "marker": {
          "color": "tomato",
          "line": {
           "color": "white",
           "width": 1.2
          }
         },
         "name": "Distribution",
         "type": "bar",
         "x": [
          2007,
          2008,
          2009,
          2010,
          2011,
          2012,
          2013,
          2014,
          2015,
          2016
         ],
         "y": [
          0,
          257038586.71,
          375982012.51,
          243948373.81,
          130320195.34,
          90208642.96,
          87587776.61,
          111791874.58,
          128423843.94,
          50069129.480000004
         ]
        }
       ],
       "layout": {
        "font": {
         "size": 14
        },
        "height": 580,
        "template": {
         "data": {
          "bar": [
           {
            "error_x": {
             "color": "#2a3f5f"
            },
            "error_y": {
             "color": "#2a3f5f"
            },
            "marker": {
             "line": {
              "color": "#E5ECF6",
              "width": 0.5
             },
             "pattern": {
              "fillmode": "overlay",
              "size": 10,
              "solidity": 0.2
             }
            },
            "type": "bar"
           }
          ],
          "barpolar": [
           {
            "marker": {
             "line": {
              "color": "#E5ECF6",
              "width": 0.5
             },
             "pattern": {
              "fillmode": "overlay",
              "size": 10,
              "solidity": 0.2
             }
            },
            "type": "barpolar"
           }
          ],
          "carpet": [
           {
            "aaxis": {
             "endlinecolor": "#2a3f5f",
             "gridcolor": "white",
             "linecolor": "white",
             "minorgridcolor": "white",
             "startlinecolor": "#2a3f5f"
            },
            "baxis": {
             "endlinecolor": "#2a3f5f",
             "gridcolor": "white",
             "linecolor": "white",
             "minorgridcolor": "white",
             "startlinecolor": "#2a3f5f"
            },
            "type": "carpet"
           }
          ],
          "choropleth": [
           {
            "colorbar": {
             "outlinewidth": 0,
             "ticks": ""
            },
            "type": "choropleth"
           }
          ],
          "contour": [
           {
            "colorbar": {
             "outlinewidth": 0,
             "ticks": ""
            },
            "colorscale": [
             [
              0,
              "#0d0887"
             ],
             [
              0.1111111111111111,
              "#46039f"
             ],
             [
              0.2222222222222222,
              "#7201a8"
             ],
             [
              0.3333333333333333,
              "#9c179e"
             ],
             [
              0.4444444444444444,
              "#bd3786"
             ],
             [
              0.5555555555555556,
              "#d8576b"
             ],
             [
              0.6666666666666666,
              "#ed7953"
             ],
             [
              0.7777777777777778,
              "#fb9f3a"
             ],
             [
              0.8888888888888888,
              "#fdca26"
             ],
             [
              1,
              "#f0f921"
             ]
            ],
            "type": "contour"
           }
          ],
          "contourcarpet": [
           {
            "colorbar": {
             "outlinewidth": 0,
             "ticks": ""
            },
            "type": "contourcarpet"
           }
          ],
          "heatmap": [
           {
            "colorbar": {
             "outlinewidth": 0,
             "ticks": ""
            },
            "colorscale": [
             [
              0,
              "#0d0887"
             ],
             [
              0.1111111111111111,
              "#46039f"
             ],
             [
              0.2222222222222222,
              "#7201a8"
             ],
             [
              0.3333333333333333,
              "#9c179e"
             ],
             [
              0.4444444444444444,
              "#bd3786"
             ],
             [
              0.5555555555555556,
              "#d8576b"
             ],
             [
              0.6666666666666666,
              "#ed7953"
             ],
             [
              0.7777777777777778,
              "#fb9f3a"
             ],
             [
              0.8888888888888888,
              "#fdca26"
             ],
             [
              1,
              "#f0f921"
             ]
            ],
            "type": "heatmap"
           }
          ],
          "heatmapgl": [
           {
            "colorbar": {
             "outlinewidth": 0,
             "ticks": ""
            },
            "colorscale": [
             [
              0,
              "#0d0887"
             ],
             [
              0.1111111111111111,
              "#46039f"
             ],
             [
              0.2222222222222222,
              "#7201a8"
             ],
             [
              0.3333333333333333,
              "#9c179e"
             ],
             [
              0.4444444444444444,
              "#bd3786"
             ],
             [
              0.5555555555555556,
              "#d8576b"
             ],
             [
              0.6666666666666666,
              "#ed7953"
             ],
             [
              0.7777777777777778,
              "#fb9f3a"
             ],
             [
              0.8888888888888888,
              "#fdca26"
             ],
             [
              1,
              "#f0f921"
             ]
            ],
            "type": "heatmapgl"
           }
          ],
          "histogram": [
           {
            "marker": {
             "pattern": {
              "fillmode": "overlay",
              "size": 10,
              "solidity": 0.2
             }
            },
            "type": "histogram"
           }
          ],
          "histogram2d": [
           {
            "colorbar": {
             "outlinewidth": 0,
             "ticks": ""
            },
            "colorscale": [
             [
              0,
              "#0d0887"
             ],
             [
              0.1111111111111111,
              "#46039f"
             ],
             [
              0.2222222222222222,
              "#7201a8"
             ],
             [
              0.3333333333333333,
              "#9c179e"
             ],
             [
              0.4444444444444444,
              "#bd3786"
             ],
             [
              0.5555555555555556,
              "#d8576b"
             ],
             [
              0.6666666666666666,
              "#ed7953"
             ],
             [
              0.7777777777777778,
              "#fb9f3a"
             ],
             [
              0.8888888888888888,
              "#fdca26"
             ],
             [
              1,
              "#f0f921"
             ]
            ],
            "type": "histogram2d"
           }
          ],
          "histogram2dcontour": [
           {
            "colorbar": {
             "outlinewidth": 0,
             "ticks": ""
            },
            "colorscale": [
             [
              0,
              "#0d0887"
             ],
             [
              0.1111111111111111,
              "#46039f"
             ],
             [
              0.2222222222222222,
              "#7201a8"
             ],
             [
              0.3333333333333333,
              "#9c179e"
             ],
             [
              0.4444444444444444,
              "#bd3786"
             ],
             [
              0.5555555555555556,
              "#d8576b"
             ],
             [
              0.6666666666666666,
              "#ed7953"
             ],
             [
              0.7777777777777778,
              "#fb9f3a"
             ],
             [
              0.8888888888888888,
              "#fdca26"
             ],
             [
              1,
              "#f0f921"
             ]
            ],
            "type": "histogram2dcontour"
           }
          ],
          "mesh3d": [
           {
            "colorbar": {
             "outlinewidth": 0,
             "ticks": ""
            },
            "type": "mesh3d"
           }
          ],
          "parcoords": [
           {
            "line": {
             "colorbar": {
              "outlinewidth": 0,
              "ticks": ""
             }
            },
            "type": "parcoords"
           }
          ],
          "pie": [
           {
            "automargin": true,
            "type": "pie"
           }
          ],
          "scatter": [
           {
            "fillpattern": {
             "fillmode": "overlay",
             "size": 10,
             "solidity": 0.2
            },
            "type": "scatter"
           }
          ],
          "scatter3d": [
           {
            "line": {
             "colorbar": {
              "outlinewidth": 0,
              "ticks": ""
             }
            },
            "marker": {
             "colorbar": {
              "outlinewidth": 0,
              "ticks": ""
             }
            },
            "type": "scatter3d"
           }
          ],
          "scattercarpet": [
           {
            "marker": {
             "colorbar": {
              "outlinewidth": 0,
              "ticks": ""
             }
            },
            "type": "scattercarpet"
           }
          ],
          "scattergeo": [
           {
            "marker": {
             "colorbar": {
              "outlinewidth": 0,
              "ticks": ""
             }
            },
            "type": "scattergeo"
           }
          ],
          "scattergl": [
           {
            "marker": {
             "colorbar": {
              "outlinewidth": 0,
              "ticks": ""
             }
            },
            "type": "scattergl"
           }
          ],
          "scattermapbox": [
           {
            "marker": {
             "colorbar": {
              "outlinewidth": 0,
              "ticks": ""
             }
            },
            "type": "scattermapbox"
           }
          ],
          "scatterpolar": [
           {
            "marker": {
             "colorbar": {
              "outlinewidth": 0,
              "ticks": ""
             }
            },
            "type": "scatterpolar"
           }
          ],
          "scatterpolargl": [
           {
            "marker": {
             "colorbar": {
              "outlinewidth": 0,
              "ticks": ""
             }
            },
            "type": "scatterpolargl"
           }
          ],
          "scatterternary": [
           {
            "marker": {
             "colorbar": {
              "outlinewidth": 0,
              "ticks": ""
             }
            },
            "type": "scatterternary"
           }
          ],
          "surface": [
           {
            "colorbar": {
             "outlinewidth": 0,
             "ticks": ""
            },
            "colorscale": [
             [
              0,
              "#0d0887"
             ],
             [
              0.1111111111111111,
              "#46039f"
             ],
             [
              0.2222222222222222,
              "#7201a8"
             ],
             [
              0.3333333333333333,
              "#9c179e"
             ],
             [
              0.4444444444444444,
              "#bd3786"
             ],
             [
              0.5555555555555556,
              "#d8576b"
             ],
             [
              0.6666666666666666,
              "#ed7953"
             ],
             [
              0.7777777777777778,
              "#fb9f3a"
             ],
             [
              0.8888888888888888,
              "#fdca26"
             ],
             [
              1,
              "#f0f921"
             ]
            ],
            "type": "surface"
           }
          ],
          "table": [
           {
            "cells": {
             "fill": {
              "color": "#EBF0F8"
             },
             "line": {
              "color": "white"
             }
            },
            "header": {
             "fill": {
              "color": "#C8D4E3"
             },
             "line": {
              "color": "white"
             }
            },
            "type": "table"
           }
          ]
         },
         "layout": {
          "annotationdefaults": {
           "arrowcolor": "#2a3f5f",
           "arrowhead": 0,
           "arrowwidth": 1
          },
          "autotypenumbers": "strict",
          "coloraxis": {
           "colorbar": {
            "outlinewidth": 0,
            "ticks": ""
           }
          },
          "colorscale": {
           "diverging": [
            [
             0,
             "#8e0152"
            ],
            [
             0.1,
             "#c51b7d"
            ],
            [
             0.2,
             "#de77ae"
            ],
            [
             0.3,
             "#f1b6da"
            ],
            [
             0.4,
             "#fde0ef"
            ],
            [
             0.5,
             "#f7f7f7"
            ],
            [
             0.6,
             "#e6f5d0"
            ],
            [
             0.7,
             "#b8e186"
            ],
            [
             0.8,
             "#7fbc41"
            ],
            [
             0.9,
             "#4d9221"
            ],
            [
             1,
             "#276419"
            ]
           ],
           "sequential": [
            [
             0,
             "#0d0887"
            ],
            [
             0.1111111111111111,
             "#46039f"
            ],
            [
             0.2222222222222222,
             "#7201a8"
            ],
            [
             0.3333333333333333,
             "#9c179e"
            ],
            [
             0.4444444444444444,
             "#bd3786"
            ],
            [
             0.5555555555555556,
             "#d8576b"
            ],
            [
             0.6666666666666666,
             "#ed7953"
            ],
            [
             0.7777777777777778,
             "#fb9f3a"
            ],
            [
             0.8888888888888888,
             "#fdca26"
            ],
            [
             1,
             "#f0f921"
            ]
           ],
           "sequentialminus": [
            [
             0,
             "#0d0887"
            ],
            [
             0.1111111111111111,
             "#46039f"
            ],
            [
             0.2222222222222222,
             "#7201a8"
            ],
            [
             0.3333333333333333,
             "#9c179e"
            ],
            [
             0.4444444444444444,
             "#bd3786"
            ],
            [
             0.5555555555555556,
             "#d8576b"
            ],
            [
             0.6666666666666666,
             "#ed7953"
            ],
            [
             0.7777777777777778,
             "#fb9f3a"
            ],
            [
             0.8888888888888888,
             "#fdca26"
            ],
            [
             1,
             "#f0f921"
            ]
           ]
          },
          "colorway": [
           "#636efa",
           "#EF553B",
           "#00cc96",
           "#ab63fa",
           "#FFA15A",
           "#19d3f3",
           "#FF6692",
           "#B6E880",
           "#FF97FF",
           "#FECB52"
          ],
          "font": {
           "color": "#2a3f5f"
          },
          "geo": {
           "bgcolor": "white",
           "lakecolor": "white",
           "landcolor": "#E5ECF6",
           "showlakes": true,
           "showland": true,
           "subunitcolor": "white"
          },
          "hoverlabel": {
           "align": "left"
          },
          "hovermode": "closest",
          "mapbox": {
           "style": "light"
          },
          "paper_bgcolor": "white",
          "plot_bgcolor": "#E5ECF6",
          "polar": {
           "angularaxis": {
            "gridcolor": "white",
            "linecolor": "white",
            "ticks": ""
           },
           "bgcolor": "#E5ECF6",
           "radialaxis": {
            "gridcolor": "white",
            "linecolor": "white",
            "ticks": ""
           }
          },
          "scene": {
           "xaxis": {
            "backgroundcolor": "#E5ECF6",
            "gridcolor": "white",
            "gridwidth": 2,
            "linecolor": "white",
            "showbackground": true,
            "ticks": "",
            "zerolinecolor": "white"
           },
           "yaxis": {
            "backgroundcolor": "#E5ECF6",
            "gridcolor": "white",
            "gridwidth": 2,
            "linecolor": "white",
            "showbackground": true,
            "ticks": "",
            "zerolinecolor": "white"
           },
           "zaxis": {
            "backgroundcolor": "#E5ECF6",
            "gridcolor": "white",
            "gridwidth": 2,
            "linecolor": "white",
            "showbackground": true,
            "ticks": "",
            "zerolinecolor": "white"
           }
          },
          "shapedefaults": {
           "line": {
            "color": "#2a3f5f"
           }
          },
          "ternary": {
           "aaxis": {
            "gridcolor": "white",
            "linecolor": "white",
            "ticks": ""
           },
           "baxis": {
            "gridcolor": "white",
            "linecolor": "white",
            "ticks": ""
           },
           "bgcolor": "#E5ECF6",
           "caxis": {
            "gridcolor": "white",
            "linecolor": "white",
            "ticks": ""
           }
          },
          "title": {
           "x": 0.05
          },
          "xaxis": {
           "automargin": true,
           "gridcolor": "white",
           "linecolor": "white",
           "ticks": "",
           "title": {
            "standoff": 15
           },
           "zerolinecolor": "white",
           "zerolinewidth": 2
          },
          "yaxis": {
           "automargin": true,
           "gridcolor": "white",
           "linecolor": "white",
           "ticks": "",
           "title": {
            "standoff": 15
           },
           "zerolinecolor": "white",
           "zerolinewidth": 2
          }
         }
        },
        "title": {
         "text": "<b>Annual Gas Production (m<sup>3</sup>)</b>"
        },
        "width": 900,
        "xaxis": {
         "tickmode": "array",
         "tickvals": [
          2007,
          2008,
          2009,
          2010,
          2011,
          2012,
          2013,
          2014,
          2015,
          2016
         ],
         "title": {
          "text": "Year"
         }
        },
        "yaxis": {
         "hoverformat": ",.0f",
         "title": {
          "text": "Gas Volume"
         }
        }
       }
      }
     },
     "metadata": {},
     "output_type": "display_data"
    }
   ],
   "source": [
    "layout = go.Layout(\n",
    "    title=\"<b>Annual Gas Production (m<sup>3</sup>)</b>\",\n",
    "    xaxis=dict(\n",
    "        title=\"Year\",\n",
    "        tickmode=\"array\",\n",
    "        tickvals=annual_production_df[\"YEAR\"]\n",
    "    ),\n",
    "    yaxis=dict(\n",
    "        title=\"Gas Volume\",\n",
    "        hoverformat=\",.0f\"\n",
    "    ),\n",
    "    font_size=14,\n",
    "    width=900,\n",
    "    height=580\n",
    ")\n",
    "\n",
    "trace1 = go.Scatter(\n",
    "    x=annual_production_df[\"YEAR\"],\n",
    "    y=annual_production_df[\"GAS\"],\n",
    "    customdata=annual_production_df[\"GAS\"] / volumes.get(\"GAS\"),\n",
    "    hovertemplate=\"<br>\".join([\"<b>%{x}</b><br>\", \"<b>SCF:</b> %{customdata:,.0f}\", \"<b>cubic meters:</b> %{y}\"]),\n",
    "    line=dict(color=\"darkcyan\", dash=\"dash\", shape=\"spline\", width=3),\n",
    "    marker_size=10,\n",
    "    name=\"Profile\"\n",
    ")\n",
    "\n",
    "trace2 = go.Bar(\n",
    "    x=annual_production_df[\"YEAR\"],\n",
    "    y=annual_production_df[\"GAS\"],\n",
    "    customdata=(annual_production_df[\"GAS\"] / volumes.get(\"GAS\")),\n",
    "    hovertemplate=\"<br>\".join([\"<b>%{x}</b><br>\", \"<b>SCF:</b> %{customdata:,.0f}\", \"<b>cubic meters:</b> %{y}\"]),\n",
    "    marker=dict(color=\"tomato\", line=dict(color=\"white\", width=1.2)),\n",
    "    name=\"Distribution\"\n",
    ")\n",
    "\n",
    "go.Figure(data=[trace1, trace2], layout=layout)"
   ]
  },
  {
   "cell_type": "markdown",
   "metadata": {},
   "source": [
    "### Observations\n",
    "\n",
    "- Hydrocarbon production began in **2008**\n",
    "- There was a peak in production in **2009**, followed by a continuous decline until **2013**\n",
    "- The graphs show a slight increase in production between **2014** and **2015**\n",
    "- The field was abandoned in **2016**\n",
    "\n",
    "### Question\n",
    "\n",
    "- What can justify the sudden decline in production after **2009**?"
   ]
  },
  {
   "cell_type": "code",
   "execution_count": 10,
   "metadata": {},
   "outputs": [
    {
     "data": {
      "application/vnd.plotly.v1+json": {
       "config": {
        "plotlyServerURL": "https://plot.ly"
       },
       "data": [
        {
         "line": {
          "color": "lime",
          "shape": "spline",
          "width": 3
         },
         "marker": {
          "size": 10
         },
         "name": "Oil",
         "type": "scatter",
         "x": [
          2007,
          2008,
          2009,
          2010,
          2011,
          2012,
          2013,
          2014,
          2015,
          2016
         ],
         "y": [
          0,
          1764375.15,
          2684392.04,
          1689902.55,
          847965.4,
          574206.33,
          558012.53,
          743107.49,
          861749.06,
          313370.06
         ]
        },
        {
         "line": {
          "color": "blue",
          "shape": "spline",
          "width": 3
         },
         "marker": {
          "size": 10
         },
         "name": "Water",
         "type": "scatter",
         "x": [
          2007,
          2008,
          2009,
          2010,
          2011,
          2012,
          2013,
          2014,
          2015,
          2016
         ],
         "y": [
          0,
          23508.94,
          232103.74,
          1887594.78,
          2190640.28,
          2109601.63,
          2576365.79,
          2716070.92,
          2009825.86,
          1572866.41
         ]
        }
       ],
       "layout": {
        "font": {
         "size": 14
        },
        "height": 580,
        "hovermode": "x unified",
        "template": {
         "data": {
          "bar": [
           {
            "error_x": {
             "color": "#2a3f5f"
            },
            "error_y": {
             "color": "#2a3f5f"
            },
            "marker": {
             "line": {
              "color": "#E5ECF6",
              "width": 0.5
             },
             "pattern": {
              "fillmode": "overlay",
              "size": 10,
              "solidity": 0.2
             }
            },
            "type": "bar"
           }
          ],
          "barpolar": [
           {
            "marker": {
             "line": {
              "color": "#E5ECF6",
              "width": 0.5
             },
             "pattern": {
              "fillmode": "overlay",
              "size": 10,
              "solidity": 0.2
             }
            },
            "type": "barpolar"
           }
          ],
          "carpet": [
           {
            "aaxis": {
             "endlinecolor": "#2a3f5f",
             "gridcolor": "white",
             "linecolor": "white",
             "minorgridcolor": "white",
             "startlinecolor": "#2a3f5f"
            },
            "baxis": {
             "endlinecolor": "#2a3f5f",
             "gridcolor": "white",
             "linecolor": "white",
             "minorgridcolor": "white",
             "startlinecolor": "#2a3f5f"
            },
            "type": "carpet"
           }
          ],
          "choropleth": [
           {
            "colorbar": {
             "outlinewidth": 0,
             "ticks": ""
            },
            "type": "choropleth"
           }
          ],
          "contour": [
           {
            "colorbar": {
             "outlinewidth": 0,
             "ticks": ""
            },
            "colorscale": [
             [
              0,
              "#0d0887"
             ],
             [
              0.1111111111111111,
              "#46039f"
             ],
             [
              0.2222222222222222,
              "#7201a8"
             ],
             [
              0.3333333333333333,
              "#9c179e"
             ],
             [
              0.4444444444444444,
              "#bd3786"
             ],
             [
              0.5555555555555556,
              "#d8576b"
             ],
             [
              0.6666666666666666,
              "#ed7953"
             ],
             [
              0.7777777777777778,
              "#fb9f3a"
             ],
             [
              0.8888888888888888,
              "#fdca26"
             ],
             [
              1,
              "#f0f921"
             ]
            ],
            "type": "contour"
           }
          ],
          "contourcarpet": [
           {
            "colorbar": {
             "outlinewidth": 0,
             "ticks": ""
            },
            "type": "contourcarpet"
           }
          ],
          "heatmap": [
           {
            "colorbar": {
             "outlinewidth": 0,
             "ticks": ""
            },
            "colorscale": [
             [
              0,
              "#0d0887"
             ],
             [
              0.1111111111111111,
              "#46039f"
             ],
             [
              0.2222222222222222,
              "#7201a8"
             ],
             [
              0.3333333333333333,
              "#9c179e"
             ],
             [
              0.4444444444444444,
              "#bd3786"
             ],
             [
              0.5555555555555556,
              "#d8576b"
             ],
             [
              0.6666666666666666,
              "#ed7953"
             ],
             [
              0.7777777777777778,
              "#fb9f3a"
             ],
             [
              0.8888888888888888,
              "#fdca26"
             ],
             [
              1,
              "#f0f921"
             ]
            ],
            "type": "heatmap"
           }
          ],
          "heatmapgl": [
           {
            "colorbar": {
             "outlinewidth": 0,
             "ticks": ""
            },
            "colorscale": [
             [
              0,
              "#0d0887"
             ],
             [
              0.1111111111111111,
              "#46039f"
             ],
             [
              0.2222222222222222,
              "#7201a8"
             ],
             [
              0.3333333333333333,
              "#9c179e"
             ],
             [
              0.4444444444444444,
              "#bd3786"
             ],
             [
              0.5555555555555556,
              "#d8576b"
             ],
             [
              0.6666666666666666,
              "#ed7953"
             ],
             [
              0.7777777777777778,
              "#fb9f3a"
             ],
             [
              0.8888888888888888,
              "#fdca26"
             ],
             [
              1,
              "#f0f921"
             ]
            ],
            "type": "heatmapgl"
           }
          ],
          "histogram": [
           {
            "marker": {
             "pattern": {
              "fillmode": "overlay",
              "size": 10,
              "solidity": 0.2
             }
            },
            "type": "histogram"
           }
          ],
          "histogram2d": [
           {
            "colorbar": {
             "outlinewidth": 0,
             "ticks": ""
            },
            "colorscale": [
             [
              0,
              "#0d0887"
             ],
             [
              0.1111111111111111,
              "#46039f"
             ],
             [
              0.2222222222222222,
              "#7201a8"
             ],
             [
              0.3333333333333333,
              "#9c179e"
             ],
             [
              0.4444444444444444,
              "#bd3786"
             ],
             [
              0.5555555555555556,
              "#d8576b"
             ],
             [
              0.6666666666666666,
              "#ed7953"
             ],
             [
              0.7777777777777778,
              "#fb9f3a"
             ],
             [
              0.8888888888888888,
              "#fdca26"
             ],
             [
              1,
              "#f0f921"
             ]
            ],
            "type": "histogram2d"
           }
          ],
          "histogram2dcontour": [
           {
            "colorbar": {
             "outlinewidth": 0,
             "ticks": ""
            },
            "colorscale": [
             [
              0,
              "#0d0887"
             ],
             [
              0.1111111111111111,
              "#46039f"
             ],
             [
              0.2222222222222222,
              "#7201a8"
             ],
             [
              0.3333333333333333,
              "#9c179e"
             ],
             [
              0.4444444444444444,
              "#bd3786"
             ],
             [
              0.5555555555555556,
              "#d8576b"
             ],
             [
              0.6666666666666666,
              "#ed7953"
             ],
             [
              0.7777777777777778,
              "#fb9f3a"
             ],
             [
              0.8888888888888888,
              "#fdca26"
             ],
             [
              1,
              "#f0f921"
             ]
            ],
            "type": "histogram2dcontour"
           }
          ],
          "mesh3d": [
           {
            "colorbar": {
             "outlinewidth": 0,
             "ticks": ""
            },
            "type": "mesh3d"
           }
          ],
          "parcoords": [
           {
            "line": {
             "colorbar": {
              "outlinewidth": 0,
              "ticks": ""
             }
            },
            "type": "parcoords"
           }
          ],
          "pie": [
           {
            "automargin": true,
            "type": "pie"
           }
          ],
          "scatter": [
           {
            "fillpattern": {
             "fillmode": "overlay",
             "size": 10,
             "solidity": 0.2
            },
            "type": "scatter"
           }
          ],
          "scatter3d": [
           {
            "line": {
             "colorbar": {
              "outlinewidth": 0,
              "ticks": ""
             }
            },
            "marker": {
             "colorbar": {
              "outlinewidth": 0,
              "ticks": ""
             }
            },
            "type": "scatter3d"
           }
          ],
          "scattercarpet": [
           {
            "marker": {
             "colorbar": {
              "outlinewidth": 0,
              "ticks": ""
             }
            },
            "type": "scattercarpet"
           }
          ],
          "scattergeo": [
           {
            "marker": {
             "colorbar": {
              "outlinewidth": 0,
              "ticks": ""
             }
            },
            "type": "scattergeo"
           }
          ],
          "scattergl": [
           {
            "marker": {
             "colorbar": {
              "outlinewidth": 0,
              "ticks": ""
             }
            },
            "type": "scattergl"
           }
          ],
          "scattermapbox": [
           {
            "marker": {
             "colorbar": {
              "outlinewidth": 0,
              "ticks": ""
             }
            },
            "type": "scattermapbox"
           }
          ],
          "scatterpolar": [
           {
            "marker": {
             "colorbar": {
              "outlinewidth": 0,
              "ticks": ""
             }
            },
            "type": "scatterpolar"
           }
          ],
          "scatterpolargl": [
           {
            "marker": {
             "colorbar": {
              "outlinewidth": 0,
              "ticks": ""
             }
            },
            "type": "scatterpolargl"
           }
          ],
          "scatterternary": [
           {
            "marker": {
             "colorbar": {
              "outlinewidth": 0,
              "ticks": ""
             }
            },
            "type": "scatterternary"
           }
          ],
          "surface": [
           {
            "colorbar": {
             "outlinewidth": 0,
             "ticks": ""
            },
            "colorscale": [
             [
              0,
              "#0d0887"
             ],
             [
              0.1111111111111111,
              "#46039f"
             ],
             [
              0.2222222222222222,
              "#7201a8"
             ],
             [
              0.3333333333333333,
              "#9c179e"
             ],
             [
              0.4444444444444444,
              "#bd3786"
             ],
             [
              0.5555555555555556,
              "#d8576b"
             ],
             [
              0.6666666666666666,
              "#ed7953"
             ],
             [
              0.7777777777777778,
              "#fb9f3a"
             ],
             [
              0.8888888888888888,
              "#fdca26"
             ],
             [
              1,
              "#f0f921"
             ]
            ],
            "type": "surface"
           }
          ],
          "table": [
           {
            "cells": {
             "fill": {
              "color": "#EBF0F8"
             },
             "line": {
              "color": "white"
             }
            },
            "header": {
             "fill": {
              "color": "#C8D4E3"
             },
             "line": {
              "color": "white"
             }
            },
            "type": "table"
           }
          ]
         },
         "layout": {
          "annotationdefaults": {
           "arrowcolor": "#2a3f5f",
           "arrowhead": 0,
           "arrowwidth": 1
          },
          "autotypenumbers": "strict",
          "coloraxis": {
           "colorbar": {
            "outlinewidth": 0,
            "ticks": ""
           }
          },
          "colorscale": {
           "diverging": [
            [
             0,
             "#8e0152"
            ],
            [
             0.1,
             "#c51b7d"
            ],
            [
             0.2,
             "#de77ae"
            ],
            [
             0.3,
             "#f1b6da"
            ],
            [
             0.4,
             "#fde0ef"
            ],
            [
             0.5,
             "#f7f7f7"
            ],
            [
             0.6,
             "#e6f5d0"
            ],
            [
             0.7,
             "#b8e186"
            ],
            [
             0.8,
             "#7fbc41"
            ],
            [
             0.9,
             "#4d9221"
            ],
            [
             1,
             "#276419"
            ]
           ],
           "sequential": [
            [
             0,
             "#0d0887"
            ],
            [
             0.1111111111111111,
             "#46039f"
            ],
            [
             0.2222222222222222,
             "#7201a8"
            ],
            [
             0.3333333333333333,
             "#9c179e"
            ],
            [
             0.4444444444444444,
             "#bd3786"
            ],
            [
             0.5555555555555556,
             "#d8576b"
            ],
            [
             0.6666666666666666,
             "#ed7953"
            ],
            [
             0.7777777777777778,
             "#fb9f3a"
            ],
            [
             0.8888888888888888,
             "#fdca26"
            ],
            [
             1,
             "#f0f921"
            ]
           ],
           "sequentialminus": [
            [
             0,
             "#0d0887"
            ],
            [
             0.1111111111111111,
             "#46039f"
            ],
            [
             0.2222222222222222,
             "#7201a8"
            ],
            [
             0.3333333333333333,
             "#9c179e"
            ],
            [
             0.4444444444444444,
             "#bd3786"
            ],
            [
             0.5555555555555556,
             "#d8576b"
            ],
            [
             0.6666666666666666,
             "#ed7953"
            ],
            [
             0.7777777777777778,
             "#fb9f3a"
            ],
            [
             0.8888888888888888,
             "#fdca26"
            ],
            [
             1,
             "#f0f921"
            ]
           ]
          },
          "colorway": [
           "#636efa",
           "#EF553B",
           "#00cc96",
           "#ab63fa",
           "#FFA15A",
           "#19d3f3",
           "#FF6692",
           "#B6E880",
           "#FF97FF",
           "#FECB52"
          ],
          "font": {
           "color": "#2a3f5f"
          },
          "geo": {
           "bgcolor": "white",
           "lakecolor": "white",
           "landcolor": "#E5ECF6",
           "showlakes": true,
           "showland": true,
           "subunitcolor": "white"
          },
          "hoverlabel": {
           "align": "left"
          },
          "hovermode": "closest",
          "mapbox": {
           "style": "light"
          },
          "paper_bgcolor": "white",
          "plot_bgcolor": "#E5ECF6",
          "polar": {
           "angularaxis": {
            "gridcolor": "white",
            "linecolor": "white",
            "ticks": ""
           },
           "bgcolor": "#E5ECF6",
           "radialaxis": {
            "gridcolor": "white",
            "linecolor": "white",
            "ticks": ""
           }
          },
          "scene": {
           "xaxis": {
            "backgroundcolor": "#E5ECF6",
            "gridcolor": "white",
            "gridwidth": 2,
            "linecolor": "white",
            "showbackground": true,
            "ticks": "",
            "zerolinecolor": "white"
           },
           "yaxis": {
            "backgroundcolor": "#E5ECF6",
            "gridcolor": "white",
            "gridwidth": 2,
            "linecolor": "white",
            "showbackground": true,
            "ticks": "",
            "zerolinecolor": "white"
           },
           "zaxis": {
            "backgroundcolor": "#E5ECF6",
            "gridcolor": "white",
            "gridwidth": 2,
            "linecolor": "white",
            "showbackground": true,
            "ticks": "",
            "zerolinecolor": "white"
           }
          },
          "shapedefaults": {
           "line": {
            "color": "#2a3f5f"
           }
          },
          "ternary": {
           "aaxis": {
            "gridcolor": "white",
            "linecolor": "white",
            "ticks": ""
           },
           "baxis": {
            "gridcolor": "white",
            "linecolor": "white",
            "ticks": ""
           },
           "bgcolor": "#E5ECF6",
           "caxis": {
            "gridcolor": "white",
            "linecolor": "white",
            "ticks": ""
           }
          },
          "title": {
           "x": 0.05
          },
          "xaxis": {
           "automargin": true,
           "gridcolor": "white",
           "linecolor": "white",
           "ticks": "",
           "title": {
            "standoff": 15
           },
           "zerolinecolor": "white",
           "zerolinewidth": 2
          },
          "yaxis": {
           "automargin": true,
           "gridcolor": "white",
           "linecolor": "white",
           "ticks": "",
           "title": {
            "standoff": 15
           },
           "zerolinecolor": "white",
           "zerolinewidth": 2
          }
         }
        },
        "title": {
         "text": "<b>Annual Liquid Production (m<sup>3</sup>)</b>"
        },
        "width": 900,
        "xaxis": {
         "tickmode": "array",
         "tickvals": [
          2007,
          2008,
          2009,
          2010,
          2011,
          2012,
          2013,
          2014,
          2015,
          2016
         ],
         "title": {
          "text": "Year"
         }
        },
        "yaxis": {
         "hoverformat": ",.0f",
         "title": {
          "text": "Liquid Volume"
         }
        }
       }
      }
     },
     "metadata": {},
     "output_type": "display_data"
    }
   ],
   "source": [
    "layout = go.Layout(\n",
    "    title=\"<b>Annual Liquid Production (m<sup>3</sup>)</b>\",\n",
    "    xaxis=dict(\n",
    "        title=\"Year\",\n",
    "        tickmode=\"array\",\n",
    "        tickvals=annual_production_df[\"YEAR\"]\n",
    "    ),\n",
    "    yaxis=dict(\n",
    "        title=\"Liquid Volume\",\n",
    "        hoverformat=\",.0f\"\n",
    "    ),\n",
    "    hovermode=\"x unified\",\n",
    "    font_size=14,\n",
    "    width=900,\n",
    "    height=580\n",
    ")\n",
    "\n",
    "trace1 = go.Scatter(\n",
    "    x=annual_production_df[\"YEAR\"],\n",
    "    y=annual_production_df[\"OIL\"],\n",
    "    line=dict(color=\"lime\", shape=\"spline\", width=3),\n",
    "    marker_size=10,\n",
    "    name=\"Oil\"\n",
    ")\n",
    "\n",
    "trace2 = go.Scatter(\n",
    "    x=annual_production_df[\"YEAR\"],\n",
    "    y=annual_production_df[\"WATER\"],\n",
    "    line=dict(color=\"blue\", shape=\"spline\", width=3),\n",
    "    marker_size=10,\n",
    "    name=\"Water\"\n",
    ")\n",
    "\n",
    "go.Figure(data=[trace1, trace2], layout=layout)"
   ]
  },
  {
   "cell_type": "markdown",
   "metadata": {},
   "source": [
    "### Answer\n",
    "\n",
    "The above graph depicts an abrupt increase in water production from **2010**, corresponding to a decrease in oil production. This implies that the decrease in hydrocarbon production over time was due to the water breakthrough.\n",
    "\n",
    "### Question\n",
    "\n",
    "- What was the origin of the produced water?\n",
    "\n",
    "**Note:** In the event of a water breakthrough, produced water may originate from natural aquifers or injectors after waterflooding. To clearly identify the origin of water production, let's compare the annual liquid production to the annual water injection."
   ]
  },
  {
   "cell_type": "code",
   "execution_count": 11,
   "metadata": {},
   "outputs": [
    {
     "ename": "SyntaxError",
     "evalue": "invalid syntax. Perhaps you forgot a comma? (2698587492.py, line 31)",
     "output_type": "error",
     "traceback": [
      "\u001b[1;36m  Cell \u001b[1;32mIn[11], line 31\u001b[1;36m\u001b[0m\n\u001b[1;33m    customdata=(annual_production_df[\"WATER\"] / volumes.get(\"WATER\"),)\u001b[0m\n\u001b[1;37m               ^\u001b[0m\n\u001b[1;31mSyntaxError\u001b[0m\u001b[1;31m:\u001b[0m invalid syntax. Perhaps you forgot a comma?\n"
     ]
    }
   ],
   "source": [
    "layout = go.Layout(\n",
    "    title=\"<b>Liquid Production Vs. Water Injection (m<sup>3</sup>)</b>\",\n",
    "    legend=dict(orientation=\"h\", x=0.35, y=-0.15),\n",
    "    xaxis=dict(\n",
    "        title=\"Year\",\n",
    "        tickmode=\"array\",\n",
    "        tickvals=annual_production_df[\"YEAR\"]\n",
    "    ),\n",
    "    yaxis=dict(\n",
    "        title=\"Liquid Volume\",\n",
    "        hoverformat=\",.0f\"\n",
    "    ),\n",
    "    font_size=14,\n",
    "    width=900,\n",
    "    height=600\n",
    ")\n",
    "\n",
    "trace1 = go.Scatter(\n",
    "    x=annual_production_df[\"YEAR\"],\n",
    "    y=annual_production_df[\"OIL\"],\n",
    "    customdata=(annual_production_df[\"OIL\"] / volumes.get(\"OIL\")),\n",
    "    hovertemplate=\"<br>\".join([\"<b>%{x}</b><br>\", \"<b>barrels:</b> %{customdata:,.0f}\", \"<b>cubic meters:</b> %{y}\"]),\n",
    "    line=dict(color=\"#19CA9C\", width=3, shape=\"spline\"),\n",
    "    marker_size=10,\n",
    "    name=\"OIL\"\n",
    ")\n",
    "\n",
    "trace2 = go.Scatter(\n",
    "    x=annual_production_df[\"YEAR\"],\n",
    "    y=annual_production_df[\"WATER\"],\n",
    "    customdata=(annual_production_df[\"WATER\"] / volumes.get(\"WATER\"),)\n",
    "    hovertemplate=\"<br>\".join([\"<b>%{x}</b><br>\", \"<b>barrels:</b> %{customdata:,.0f}\", \"<b>cubic meters:</b> %{y}\"]),\n",
    "    line=dict(color=\"#636EFA\", width=3, shape=\"spline\"),\n",
    "    marker_size=10,\n",
    "    name=\"WATER\"\n",
    ")\n",
    "\n",
    "trace3 = go.Scatter(\n",
    "    x=annual_injection_df[\"YEAR\"],\n",
    "    y=annual_injection_df[\"WI\"],\n",
    "    customdata=(annual_injection_df[\"WI\"] / volumes.get(\"WATER\")),\n",
    "    hovertemplate=\"<br>\".join([\"<b>%{x}</b><br>\", \"<b>barrels:</b> %{customdata:,.0f}\", \"<b>cubic meters:</b> %{y}\"]),\n",
    "    line=dict(color=\"#AB63FA\", width=3, shape=\"spline\"),\n",
    "    marker_size=10,\n",
    "    name=\"WI\"\n",
    ")\n",
    "\n",
    "go.Figure(data=[trace1, trace2, trace3], layout=layout)"
   ]
  },
  {
   "cell_type": "markdown",
   "metadata": {},
   "source": [
    "### Observations\n",
    "\n",
    "- The above graph shows that secondary recovery via water injection also began in **2008**.\n",
    "- From **2008** to **2009**, injected water along with natural drives provided a good sweep efficiency.\n",
    "- From **2010** onwards, there was a change in the oil-to-water ratio in favor of water despite an ever-increasing water injection.\n",
    "\n",
    "### Conclusion\n",
    "\n",
    "For the first two years of the field's life `(2008 - 2009)`, produced water originated from natural aquifers. From **2010** onwards, produced water originated from injectors after waterflooding, as we notice a significant increase in water injection rates, aligning with the abrupt change in the oil-to-water ratio. Moreover, there is a noticeable trend between water production and water injection from **2012**.\n",
    "\n",
    "### Question\n",
    "\n",
    "- What could be the reason behind the increase in production between **2014** and **2015**?\n",
    "\n",
    "### Answer\n",
    "\n",
    "As mentioned in the [previous notebook](https://notebooks.githubusercontent.com/view/ipynb?browser=chrome&bypass_fastly=true&color_mode=auto&commit=b92c1b1a9bd026eca38484b32e67b26c13bef98d&device=unknown_device&docs_host=https%3A%2F%2Fdocs.github.com&enc_url=68747470733a2f2f7261772e67697468756275736572636f6e74656e742e636f6d2f4c616d793233372f566f6c76652d6669656c642f623932633162316139626430323665636133383438346233326536376232366331336265663938642f50726f64756374696f6e2f4544412f4544412532306f6e2532304d6f6e74686c79253230446174612f6e6f7465626f6f6b322e6970796e62&logged_in=true&nwo=Lamy237%2FVolve-field&path=Production%2FEDA%2FEDA+on+Monthly+Data%2Fnotebook2.ipynb&platform=windows&repository_id=659379612&repository_type=Repository&version=117), the Volve field adopted a new drilling program in **2014** after a successful exploration pilot improved the amount of proved reserves <cite>([Statoil 2014](https://cdn.equinor.com/files/h61q9gi9/global/f7148331f9bfa5ddb7b7b9851bc94e9bff66dfb0.pdf?statoil-annual-report-20-F-2013.pdf), [2015](https://cdn.equinor.com/files/h61q9gi9/global/b2c0248e609fa8783137514d8fd0ca09f9a1ec5e.pdf?Statoil-20-F-2014.pdf))</cite>. Three new wellbores were drilled between **2013** and **2014**, leading to an increase in hydrocarbon production."
   ]
  },
  {
   "cell_type": "markdown",
   "metadata": {},
   "source": [
    "[Back to Top](#analysis-and-visualization)"
   ]
  },
  {
   "cell_type": "markdown",
   "metadata": {},
   "source": [
    "## Monthly Production"
   ]
  },
  {
   "cell_type": "code",
   "execution_count": 12,
   "metadata": {},
   "outputs": [],
   "source": [
    "monthly_oil_production_df, monthly_gas_production_df = (fn.generate_monthly_dataframes(volve_df).get(key) for key in (\"OIL\", \"GAS\"))"
   ]
  },
  {
   "cell_type": "code",
   "execution_count": 13,
   "metadata": {},
   "outputs": [
    {
     "data": {
      "application/vnd.plotly.v1+json": {
       "config": {
        "plotlyServerURL": "https://plot.ly"
       },
       "data": [
        {
         "colorscale": [
          [
           0,
           "rgb(247,252,245)"
          ],
          [
           0.125,
           "rgb(229,245,224)"
          ],
          [
           0.25,
           "rgb(199,233,192)"
          ],
          [
           0.375,
           "rgb(161,217,155)"
          ],
          [
           0.5,
           "rgb(116,196,118)"
          ],
          [
           0.625,
           "rgb(65,171,93)"
          ],
          [
           0.75,
           "rgb(35,139,69)"
          ],
          [
           0.875,
           "rgb(0,109,44)"
          ],
          [
           1,
           "rgb(0,68,27)"
          ]
         ],
         "customdata": [
          [
           0,
           0,
           1693530.3637460351,
           1458481.7781042887,
           667191.6561888906,
           286356.7089949952,
           299353.2816772157,
           389407.3300194418,
           511024.27678185614,
           324408.9936743375
          ],
          [
           0,
           308773.46806946216,
           1483049.2121068789,
           1038567.1056744785,
           460563.8311990958,
           403553.7429719229,
           262177.6078969829,
           358243.07979316585,
           416841.47098541836,
           297934.614903203
          ],
          [
           0,
           524326.5342577677,
           1154829.033513998,
           1060215.8788783757,
           591902.6865667887,
           386354.57045940147,
           158014.69677137735,
           390991.984894391,
           514125.0275965439,
           269219.23952416325
          ],
          [
           0,
           468794.9918012319,
           1496344.299198741,
           1001900.2775693403,
           563780.6290187958,
           381150.8214807095,
           221569.64738692963,
           479275.7031536481,
           567489.4787193695,
           203224.0311018553
          ],
          [
           0,
           789236.3729681553,
           1617827.6503846534,
           1037333.4222293227,
           555555.8840234409,
           361457.23589242663,
           276593.97951911885,
           527256.9570022259,
           547616.9480203765,
           245492.87899096342
          ],
          [
           0,
           904392.0489246626,
           1377995.2235178533,
           911564.5715097999,
           334747.303715454,
           330547.9745866494,
           215097.872597371,
           500279.8336722493,
           527385.7094245893,
           224290.49364320294
          ],
          [
           0,
           1045867.751700922,
           1075413.3820751722,
           840569.9071561062,
           205511.5723079768,
           340704.19461177086,
           241450.0403491348,
           471617.85878494696,
           465416.10556314874,
           195357.8682070832
          ],
          [
           0,
           1040609.281370273,
           1414627.2689705405,
           431047.57424020657,
           541618.2927818763,
           136413.91482212732,
           391919.0400742701,
           310563.0449727746,
           354093.8175564967,
           156960.08423314316
          ],
          [
           0,
           1209299.1704368838,
           1134988.077664065,
           671236.8849587357,
           509803.6132445799,
           16787.567308835358,
           319958.4495113761,
           392417.63335813617,
           396868.9951964717,
           54150.11136109614
          ],
          [
           0,
           1491781.3561208977,
           1406697.0758041681,
           818844.5869575746,
           216713.72493274618,
           336862.5670100693,
           382801.7709590641,
           405784.4871885993,
           362801.9344941388,
           0
          ],
          [
           0,
           1574497.9001467412,
           1472187.9043168856,
           673160.2461328672,
           357468.4267233924,
           339338.67673707276,
           388745.32745697297,
           332854.32232637453,
           380340.6309812168,
           0
          ],
          [
           0,
           1740006.5917214772,
           1556827.935313072,
           686244.6874687475,
           328684.11502050795,
           292121.0687897713,
           352111.3950611149,
           115313.1099150687,
           376233.9507621049,
           0
          ]
         ],
         "hoverlabel": {
          "bgcolor": "#F2FBF0",
          "font": {
           "color": "#333"
          }
         },
         "hovertemplate": "<b>%{y} %{x}</b><br><br><b>barrels:</b> %{customdata:,.0f}<br><b>cubic meters:</b> %{z:,.0f}",
         "name": "",
         "type": "heatmap",
         "x": [
          2007,
          2008,
          2009,
          2010,
          2011,
          2012,
          2013,
          2014,
          2015,
          2016
         ],
         "y": [
          "Jan",
          "Feb",
          "Mar",
          "Apr",
          "May",
          "Jun",
          "Jul",
          "Aug",
          "Sep",
          "Oct",
          "Nov",
          "Dec"
         ],
         "z": [
          [
           0,
           0,
           269249.82,
           231880.08,
           106075,
           45527.08,
           47593.369999999995,
           61910.82,
           81246.37,
           51576.909999999996
          ],
          [
           0,
           49091.06,
           235785.99,
           165118.98,
           73223.8,
           64159.92,
           41682.909999999996,
           56956.1,
           66272.5,
           47367.82
          ],
          [
           0,
           83361.26,
           183603.15000000002,
           168560.86,
           94105.01000000001,
           61425.47,
           25122.33,
           62162.76,
           81739.35,
           42802.44
          ],
          [
           0,
           74532.45,
           237899.74,
           159289.41999999998,
           89633.95999999999,
           60598.14,
           35226.759999999995,
           76198.75,
           90223.62000000001,
           32310.04
          ],
          [
           0,
           125478.56,
           257214.05,
           164922.84,
           88326.33,
           57467.11,
           43974.93,
           83827.15999999999,
           87064.14,
           39030.25
          ],
          [
           0,
           143786.85,
           219083.74,
           144927.19,
           53220.57,
           52552.93,
           34197.83,
           79538.14,
           83847.63,
           35659.34
          ],
          [
           0,
           166279.69,
           170977.07,
           133639.94,
           32673.73,
           54167.64,
           38387.49,
           74981.25,
           73995.25,
           31059.42
          ],
          [
           0,
           165443.66,
           224907.77000000002,
           68531.09,
           86110.43,
           21688.08,
           62310.15,
           49375.58,
           56296.420000000006,
           24954.66
          ],
          [
           0,
           192263.21,
           180448.69,
           106718.14,
           81052.29999999999,
           2669.0099999999998,
           50869.33,
           62389.42,
           63097.130000000005,
           8609.18
          ],
          [
           0,
           237174.28999999998,
           223646.97,
           130185.89,
           34454.729999999996,
           53556.869999999995,
           60860.62,
           64514.579999999994,
           57680.899999999994,
           0
          ],
          [
           0,
           250325.16999999998,
           234059.18,
           107023.93,
           56832.94,
           53950.54000000001,
           61805.57,
           52919.61,
           60469.33000000001,
           0
          ],
          [
           0,
           276638.95,
           247515.87,
           109104.19,
           52256.6,
           46443.54,
           55981.24,
           18333.32,
           59816.42,
           0
          ]
         ]
        }
       ],
       "layout": {
        "font": {
         "size": 14
        },
        "height": 580,
        "template": {
         "data": {
          "bar": [
           {
            "error_x": {
             "color": "#2a3f5f"
            },
            "error_y": {
             "color": "#2a3f5f"
            },
            "marker": {
             "line": {
              "color": "#E5ECF6",
              "width": 0.5
             },
             "pattern": {
              "fillmode": "overlay",
              "size": 10,
              "solidity": 0.2
             }
            },
            "type": "bar"
           }
          ],
          "barpolar": [
           {
            "marker": {
             "line": {
              "color": "#E5ECF6",
              "width": 0.5
             },
             "pattern": {
              "fillmode": "overlay",
              "size": 10,
              "solidity": 0.2
             }
            },
            "type": "barpolar"
           }
          ],
          "carpet": [
           {
            "aaxis": {
             "endlinecolor": "#2a3f5f",
             "gridcolor": "white",
             "linecolor": "white",
             "minorgridcolor": "white",
             "startlinecolor": "#2a3f5f"
            },
            "baxis": {
             "endlinecolor": "#2a3f5f",
             "gridcolor": "white",
             "linecolor": "white",
             "minorgridcolor": "white",
             "startlinecolor": "#2a3f5f"
            },
            "type": "carpet"
           }
          ],
          "choropleth": [
           {
            "colorbar": {
             "outlinewidth": 0,
             "ticks": ""
            },
            "type": "choropleth"
           }
          ],
          "contour": [
           {
            "colorbar": {
             "outlinewidth": 0,
             "ticks": ""
            },
            "colorscale": [
             [
              0,
              "#0d0887"
             ],
             [
              0.1111111111111111,
              "#46039f"
             ],
             [
              0.2222222222222222,
              "#7201a8"
             ],
             [
              0.3333333333333333,
              "#9c179e"
             ],
             [
              0.4444444444444444,
              "#bd3786"
             ],
             [
              0.5555555555555556,
              "#d8576b"
             ],
             [
              0.6666666666666666,
              "#ed7953"
             ],
             [
              0.7777777777777778,
              "#fb9f3a"
             ],
             [
              0.8888888888888888,
              "#fdca26"
             ],
             [
              1,
              "#f0f921"
             ]
            ],
            "type": "contour"
           }
          ],
          "contourcarpet": [
           {
            "colorbar": {
             "outlinewidth": 0,
             "ticks": ""
            },
            "type": "contourcarpet"
           }
          ],
          "heatmap": [
           {
            "colorbar": {
             "outlinewidth": 0,
             "ticks": ""
            },
            "colorscale": [
             [
              0,
              "#0d0887"
             ],
             [
              0.1111111111111111,
              "#46039f"
             ],
             [
              0.2222222222222222,
              "#7201a8"
             ],
             [
              0.3333333333333333,
              "#9c179e"
             ],
             [
              0.4444444444444444,
              "#bd3786"
             ],
             [
              0.5555555555555556,
              "#d8576b"
             ],
             [
              0.6666666666666666,
              "#ed7953"
             ],
             [
              0.7777777777777778,
              "#fb9f3a"
             ],
             [
              0.8888888888888888,
              "#fdca26"
             ],
             [
              1,
              "#f0f921"
             ]
            ],
            "type": "heatmap"
           }
          ],
          "heatmapgl": [
           {
            "colorbar": {
             "outlinewidth": 0,
             "ticks": ""
            },
            "colorscale": [
             [
              0,
              "#0d0887"
             ],
             [
              0.1111111111111111,
              "#46039f"
             ],
             [
              0.2222222222222222,
              "#7201a8"
             ],
             [
              0.3333333333333333,
              "#9c179e"
             ],
             [
              0.4444444444444444,
              "#bd3786"
             ],
             [
              0.5555555555555556,
              "#d8576b"
             ],
             [
              0.6666666666666666,
              "#ed7953"
             ],
             [
              0.7777777777777778,
              "#fb9f3a"
             ],
             [
              0.8888888888888888,
              "#fdca26"
             ],
             [
              1,
              "#f0f921"
             ]
            ],
            "type": "heatmapgl"
           }
          ],
          "histogram": [
           {
            "marker": {
             "pattern": {
              "fillmode": "overlay",
              "size": 10,
              "solidity": 0.2
             }
            },
            "type": "histogram"
           }
          ],
          "histogram2d": [
           {
            "colorbar": {
             "outlinewidth": 0,
             "ticks": ""
            },
            "colorscale": [
             [
              0,
              "#0d0887"
             ],
             [
              0.1111111111111111,
              "#46039f"
             ],
             [
              0.2222222222222222,
              "#7201a8"
             ],
             [
              0.3333333333333333,
              "#9c179e"
             ],
             [
              0.4444444444444444,
              "#bd3786"
             ],
             [
              0.5555555555555556,
              "#d8576b"
             ],
             [
              0.6666666666666666,
              "#ed7953"
             ],
             [
              0.7777777777777778,
              "#fb9f3a"
             ],
             [
              0.8888888888888888,
              "#fdca26"
             ],
             [
              1,
              "#f0f921"
             ]
            ],
            "type": "histogram2d"
           }
          ],
          "histogram2dcontour": [
           {
            "colorbar": {
             "outlinewidth": 0,
             "ticks": ""
            },
            "colorscale": [
             [
              0,
              "#0d0887"
             ],
             [
              0.1111111111111111,
              "#46039f"
             ],
             [
              0.2222222222222222,
              "#7201a8"
             ],
             [
              0.3333333333333333,
              "#9c179e"
             ],
             [
              0.4444444444444444,
              "#bd3786"
             ],
             [
              0.5555555555555556,
              "#d8576b"
             ],
             [
              0.6666666666666666,
              "#ed7953"
             ],
             [
              0.7777777777777778,
              "#fb9f3a"
             ],
             [
              0.8888888888888888,
              "#fdca26"
             ],
             [
              1,
              "#f0f921"
             ]
            ],
            "type": "histogram2dcontour"
           }
          ],
          "mesh3d": [
           {
            "colorbar": {
             "outlinewidth": 0,
             "ticks": ""
            },
            "type": "mesh3d"
           }
          ],
          "parcoords": [
           {
            "line": {
             "colorbar": {
              "outlinewidth": 0,
              "ticks": ""
             }
            },
            "type": "parcoords"
           }
          ],
          "pie": [
           {
            "automargin": true,
            "type": "pie"
           }
          ],
          "scatter": [
           {
            "fillpattern": {
             "fillmode": "overlay",
             "size": 10,
             "solidity": 0.2
            },
            "type": "scatter"
           }
          ],
          "scatter3d": [
           {
            "line": {
             "colorbar": {
              "outlinewidth": 0,
              "ticks": ""
             }
            },
            "marker": {
             "colorbar": {
              "outlinewidth": 0,
              "ticks": ""
             }
            },
            "type": "scatter3d"
           }
          ],
          "scattercarpet": [
           {
            "marker": {
             "colorbar": {
              "outlinewidth": 0,
              "ticks": ""
             }
            },
            "type": "scattercarpet"
           }
          ],
          "scattergeo": [
           {
            "marker": {
             "colorbar": {
              "outlinewidth": 0,
              "ticks": ""
             }
            },
            "type": "scattergeo"
           }
          ],
          "scattergl": [
           {
            "marker": {
             "colorbar": {
              "outlinewidth": 0,
              "ticks": ""
             }
            },
            "type": "scattergl"
           }
          ],
          "scattermapbox": [
           {
            "marker": {
             "colorbar": {
              "outlinewidth": 0,
              "ticks": ""
             }
            },
            "type": "scattermapbox"
           }
          ],
          "scatterpolar": [
           {
            "marker": {
             "colorbar": {
              "outlinewidth": 0,
              "ticks": ""
             }
            },
            "type": "scatterpolar"
           }
          ],
          "scatterpolargl": [
           {
            "marker": {
             "colorbar": {
              "outlinewidth": 0,
              "ticks": ""
             }
            },
            "type": "scatterpolargl"
           }
          ],
          "scatterternary": [
           {
            "marker": {
             "colorbar": {
              "outlinewidth": 0,
              "ticks": ""
             }
            },
            "type": "scatterternary"
           }
          ],
          "surface": [
           {
            "colorbar": {
             "outlinewidth": 0,
             "ticks": ""
            },
            "colorscale": [
             [
              0,
              "#0d0887"
             ],
             [
              0.1111111111111111,
              "#46039f"
             ],
             [
              0.2222222222222222,
              "#7201a8"
             ],
             [
              0.3333333333333333,
              "#9c179e"
             ],
             [
              0.4444444444444444,
              "#bd3786"
             ],
             [
              0.5555555555555556,
              "#d8576b"
             ],
             [
              0.6666666666666666,
              "#ed7953"
             ],
             [
              0.7777777777777778,
              "#fb9f3a"
             ],
             [
              0.8888888888888888,
              "#fdca26"
             ],
             [
              1,
              "#f0f921"
             ]
            ],
            "type": "surface"
           }
          ],
          "table": [
           {
            "cells": {
             "fill": {
              "color": "#EBF0F8"
             },
             "line": {
              "color": "white"
             }
            },
            "header": {
             "fill": {
              "color": "#C8D4E3"
             },
             "line": {
              "color": "white"
             }
            },
            "type": "table"
           }
          ]
         },
         "layout": {
          "annotationdefaults": {
           "arrowcolor": "#2a3f5f",
           "arrowhead": 0,
           "arrowwidth": 1
          },
          "autotypenumbers": "strict",
          "coloraxis": {
           "colorbar": {
            "outlinewidth": 0,
            "ticks": ""
           }
          },
          "colorscale": {
           "diverging": [
            [
             0,
             "#8e0152"
            ],
            [
             0.1,
             "#c51b7d"
            ],
            [
             0.2,
             "#de77ae"
            ],
            [
             0.3,
             "#f1b6da"
            ],
            [
             0.4,
             "#fde0ef"
            ],
            [
             0.5,
             "#f7f7f7"
            ],
            [
             0.6,
             "#e6f5d0"
            ],
            [
             0.7,
             "#b8e186"
            ],
            [
             0.8,
             "#7fbc41"
            ],
            [
             0.9,
             "#4d9221"
            ],
            [
             1,
             "#276419"
            ]
           ],
           "sequential": [
            [
             0,
             "#0d0887"
            ],
            [
             0.1111111111111111,
             "#46039f"
            ],
            [
             0.2222222222222222,
             "#7201a8"
            ],
            [
             0.3333333333333333,
             "#9c179e"
            ],
            [
             0.4444444444444444,
             "#bd3786"
            ],
            [
             0.5555555555555556,
             "#d8576b"
            ],
            [
             0.6666666666666666,
             "#ed7953"
            ],
            [
             0.7777777777777778,
             "#fb9f3a"
            ],
            [
             0.8888888888888888,
             "#fdca26"
            ],
            [
             1,
             "#f0f921"
            ]
           ],
           "sequentialminus": [
            [
             0,
             "#0d0887"
            ],
            [
             0.1111111111111111,
             "#46039f"
            ],
            [
             0.2222222222222222,
             "#7201a8"
            ],
            [
             0.3333333333333333,
             "#9c179e"
            ],
            [
             0.4444444444444444,
             "#bd3786"
            ],
            [
             0.5555555555555556,
             "#d8576b"
            ],
            [
             0.6666666666666666,
             "#ed7953"
            ],
            [
             0.7777777777777778,
             "#fb9f3a"
            ],
            [
             0.8888888888888888,
             "#fdca26"
            ],
            [
             1,
             "#f0f921"
            ]
           ]
          },
          "colorway": [
           "#636efa",
           "#EF553B",
           "#00cc96",
           "#ab63fa",
           "#FFA15A",
           "#19d3f3",
           "#FF6692",
           "#B6E880",
           "#FF97FF",
           "#FECB52"
          ],
          "font": {
           "color": "#2a3f5f"
          },
          "geo": {
           "bgcolor": "white",
           "lakecolor": "white",
           "landcolor": "#E5ECF6",
           "showlakes": true,
           "showland": true,
           "subunitcolor": "white"
          },
          "hoverlabel": {
           "align": "left"
          },
          "hovermode": "closest",
          "mapbox": {
           "style": "light"
          },
          "paper_bgcolor": "white",
          "plot_bgcolor": "#E5ECF6",
          "polar": {
           "angularaxis": {
            "gridcolor": "white",
            "linecolor": "white",
            "ticks": ""
           },
           "bgcolor": "#E5ECF6",
           "radialaxis": {
            "gridcolor": "white",
            "linecolor": "white",
            "ticks": ""
           }
          },
          "scene": {
           "xaxis": {
            "backgroundcolor": "#E5ECF6",
            "gridcolor": "white",
            "gridwidth": 2,
            "linecolor": "white",
            "showbackground": true,
            "ticks": "",
            "zerolinecolor": "white"
           },
           "yaxis": {
            "backgroundcolor": "#E5ECF6",
            "gridcolor": "white",
            "gridwidth": 2,
            "linecolor": "white",
            "showbackground": true,
            "ticks": "",
            "zerolinecolor": "white"
           },
           "zaxis": {
            "backgroundcolor": "#E5ECF6",
            "gridcolor": "white",
            "gridwidth": 2,
            "linecolor": "white",
            "showbackground": true,
            "ticks": "",
            "zerolinecolor": "white"
           }
          },
          "shapedefaults": {
           "line": {
            "color": "#2a3f5f"
           }
          },
          "ternary": {
           "aaxis": {
            "gridcolor": "white",
            "linecolor": "white",
            "ticks": ""
           },
           "baxis": {
            "gridcolor": "white",
            "linecolor": "white",
            "ticks": ""
           },
           "bgcolor": "#E5ECF6",
           "caxis": {
            "gridcolor": "white",
            "linecolor": "white",
            "ticks": ""
           }
          },
          "title": {
           "x": 0.05
          },
          "xaxis": {
           "automargin": true,
           "gridcolor": "white",
           "linecolor": "white",
           "ticks": "",
           "title": {
            "standoff": 15
           },
           "zerolinecolor": "white",
           "zerolinewidth": 2
          },
          "yaxis": {
           "automargin": true,
           "gridcolor": "white",
           "linecolor": "white",
           "ticks": "",
           "title": {
            "standoff": 15
           },
           "zerolinecolor": "white",
           "zerolinewidth": 2
          }
         }
        },
        "title": {
         "text": "<b>Monthly Oil Production (m<sup>3</sup>)</b>"
        },
        "width": 900,
        "xaxis": {
         "tickmode": "array",
         "tickvals": [
          2007,
          2008,
          2009,
          2010,
          2011,
          2012,
          2013,
          2014,
          2015,
          2016
         ],
         "title": {
          "text": "Year"
         }
        },
        "yaxis": {
         "autorange": "reversed",
         "title": {
          "text": "Month"
         }
        }
       }
      }
     },
     "metadata": {},
     "output_type": "display_data"
    }
   ],
   "source": [
    "layout = go.Layout(\n",
    "    title=\"<b>Monthly Oil Production (m<sup>3</sup>)</b>\",\n",
    "    xaxis=dict(\n",
    "        title=\"Year\",\n",
    "        tickmode=\"array\",\n",
    "        tickvals=monthly_oil_production_df.columns\n",
    "    ),\n",
    "    yaxis=dict(\n",
    "        title=\"Month\",\n",
    "        autorange=\"reversed\"\n",
    "    ),\n",
    "    font_size=14,\n",
    "    width=900,\n",
    "    height=580\n",
    ")\n",
    "\n",
    "trace = go.Heatmap(\n",
    "    x=monthly_oil_production_df.columns,\n",
    "    y=monthly_oil_production_df.index,\n",
    "    z=monthly_oil_production_df.values,\n",
    "    customdata=(monthly_oil_production_df.values / volumes.get(\"OIL\")),\n",
    "    hovertemplate=\"<br>\".join([\"<b>%{y} %{x}</b><br>\", \"<b>barrels:</b> %{customdata:,.0f}\", \"<b>cubic meters:</b> %{z:,.0f}\"]),\n",
    "    hoverlabel=dict(bgcolor=\"#F2FBF0\", font_color=\"#333\"),\n",
    "    colorscale=\"Greens\",\n",
    "    name=\"\"\n",
    ")\n",
    "\n",
    "go.Figure(data=[trace], layout=layout)"
   ]
  },
  {
   "cell_type": "code",
   "execution_count": 14,
   "metadata": {},
   "outputs": [
    {
     "data": {
      "application/vnd.plotly.v1+json": {
       "config": {
        "plotlyServerURL": "https://plot.ly"
       },
       "data": [
        {
         "colorscale": [
          [
           0,
           "rgb(255,245,240)"
          ],
          [
           0.125,
           "rgb(254,224,210)"
          ],
          [
           0.25,
           "rgb(252,187,161)"
          ],
          [
           0.375,
           "rgb(252,146,114)"
          ],
          [
           0.5,
           "rgb(251,106,74)"
          ],
          [
           0.625,
           "rgb(239,59,44)"
          ],
          [
           0.75,
           "rgb(203,24,29)"
          ],
          [
           0.875,
           "rgb(165,15,21)"
          ],
          [
           1,
           "rgb(103,0,13)"
          ]
         ],
         "customdata": [
          [
           0,
           0,
           1376344761.7668664,
           1151468596.0277996,
           571293553.65013,
           242920533.74675104,
           272484749.68923044,
           325152245.6633518,
           423083793.71962935,
           285189311.29223645
          ],
          [
           0,
           249604803.1557238,
           1189450396.2312124,
           821838563.3263644,
           400798701.1244208,
           349209082.9472257,
           235110618.7846084,
           301400763.85749805,
           354055994.6745395,
           263752578.32805967
          ],
          [
           0,
           430527846.0136739,
           912038443.9625946,
           836970426.0368403,
           511850709.8259691,
           340941582.02904284,
           135518787.78675556,
           330145634.3937168,
           424926525.5961126,
           243681027.51723358
          ],
          [
           0,
           406346788.4789242,
           1160362893.7591817,
           792802023.8868799,
           491923654.8621313,
           336880580.07967,
           202408069.0614759,
           397525810.47293484,
           464571558.22691834,
           186739146.0193242
          ],
          [
           0,
           674224189.173918,
           1247012454.0908577,
           828507359.9418014,
           486448608.952989,
           322294404.7349983,
           257221412.37710476,
           417633077.1838626,
           448517780.2576562,
           217466465.49045092
          ],
          [
           0,
           759702153.1387727,
           1056946998.2483896,
           731054041.0639621,
           291273658.04045653,
           295762855.97242624,
           200939467.73646742,
           413451763.97050506,
           433557987.83760875,
           202666311.51825064
          ],
          [
           0,
           870695235.6904736,
           842250102.0595547,
           683583989.716352,
           172629579.61351568,
           304625917.1234038,
           214134490.47915018,
           394933252.34489775,
           388459759.5773534,
           176216587.6793988
          ],
          [
           0,
           844853252.4861566,
           1106797793.8891401,
           349254030.46954465,
           463616101.3956379,
           118318051.47474292,
           334986557.4499943,
           270047360.22431916,
           301040581.20974123,
           140948404.12758502
          ],
          [
           0,
           972089330.7153351,
           887037198.0591028,
           565415692.0979772,
           444534373.2342637,
           14228353.133122386,
           276028703.1020454,
           345672970.1096169,
           336132207.02904284,
           51517697.97434739
          ],
          [
           0,
           1192143895.8498135,
           1108044662.5324895,
           691999937.1397898,
           188086317.30986553,
           290380383.7298,
           328901675.6836931,
           352372664.2840999,
           310413418.88914,
           0
          ],
          [
           0,
           1262259233.7411008,
           1165508363.939428,
           573243668.776133,
           304542577.5511357,
           302722238.03537124,
           330899962.919539,
           292174527.84212905,
           326877157.3765397,
           0
          ],
          [
           0,
           1414800231.3114476,
           1225907243.4032092,
           588831364.7728558,
           275224002.35902363,
           267409420.20284775,
           304503734.1790033,
           107389218.41451012,
           323615945.65770143,
           0
          ]
         ],
         "hoverlabel": {
          "bgcolor": "#FEF5F1",
          "font": {
           "color": "#333"
          }
         },
         "hovertemplate": "<b>%{y} %{x}</b><br><br><b>SCF:</b> %{customdata:,.0f}<br><b>cubic meters:</b> %{z:,.0f}",
         "name": "",
         "type": "heatmap",
         "x": [
          2007,
          2008,
          2009,
          2010,
          2011,
          2012,
          2013,
          2014,
          2015,
          2016
         ],
         "y": [
          "Jan",
          "Feb",
          "Mar",
          "Apr",
          "May",
          "Jun",
          "Jul",
          "Aug",
          "Sep",
          "Oct",
          "Nov",
          "Dec"
         ],
         "z": [
          [
           0,
           0,
           38973679.35,
           32605905.939999998,
           16177205.3,
           6878732.17,
           7715896.16,
           9207271.11,
           11980379.17,
           8075648.69
          ],
          [
           0,
           7068009.29,
           33681428.98,
           23271838.229999997,
           11349336.66,
           9888483.76,
           6657580.369999999,
           8534705.15,
           10025732.790000001,
           7468629.01
          ],
          [
           0,
           12191170.91,
           25826010.21,
           23700324.16,
           14493974.180000002,
           9654374.59,
           3837458.41,
           9348667.9,
           12032559.440000001,
           6900266.92
          ],
          [
           0,
           11506440.74,
           32857763.99,
           22449616.35,
           13929703.75,
           9539380.01,
           5731548.8100000005,
           11256658.870000001,
           13155179.9,
           5287855.05
          ],
          [
           0,
           19091871.52,
           35311402.26,
           23460677.21,
           13774667.969999999,
           9126346.2,
           7283687.29,
           11826032.32,
           12700588.28,
           6157954.41
          ],
          [
           0,
           21512333.93,
           29929356.759999998,
           20701111.07,
           8247937.92,
           8375057.64,
           5689962.720000001,
           11707630.909999998,
           12276974.83,
           5738861.41
          ],
          [
           0,
           24655302.85,
           23849827.689999998,
           19356911.119999997,
           4888317.28,
           8626031.17,
           6063603.54,
           11183245.92,
           10999937.32,
           4989889.87
          ],
          [
           0,
           23923540.58,
           31340971.770000003,
           9889756.530000001,
           13128124.42,
           3350388.6,
           9485747.35,
           7646877.09,
           8524505.93,
           3991207.7699999996
          ],
          [
           0,
           27526459.16,
           25118054.93,
           16010763.07,
           12587790.94,
           402901.43,
           7816249.58,
           9788352.36,
           9518188.48,
           1458816.35
          ],
          [
           0,
           33757700.269999996,
           31376279.1,
           19595223.82,
           5326002.63,
           8222643.25,
           9313442.97,
           9978066.26,
           8789914.7,
           0
          ],
          [
           0,
           35743142.27,
           33003467.24,
           16232426.32,
           8623671.26,
           8572125.07,
           9370028.07,
           8273447.67,
           9256115.09,
           0
          ],
          [
           0,
           40062615.19,
           34713770.23,
           16673819.99,
           7793463.03,
           7572179.069999999,
           8622571.34,
           3040919.02,
           9163768.01,
           0
          ]
         ]
        }
       ],
       "layout": {
        "font": {
         "size": 14
        },
        "height": 580,
        "template": {
         "data": {
          "bar": [
           {
            "error_x": {
             "color": "#2a3f5f"
            },
            "error_y": {
             "color": "#2a3f5f"
            },
            "marker": {
             "line": {
              "color": "#E5ECF6",
              "width": 0.5
             },
             "pattern": {
              "fillmode": "overlay",
              "size": 10,
              "solidity": 0.2
             }
            },
            "type": "bar"
           }
          ],
          "barpolar": [
           {
            "marker": {
             "line": {
              "color": "#E5ECF6",
              "width": 0.5
             },
             "pattern": {
              "fillmode": "overlay",
              "size": 10,
              "solidity": 0.2
             }
            },
            "type": "barpolar"
           }
          ],
          "carpet": [
           {
            "aaxis": {
             "endlinecolor": "#2a3f5f",
             "gridcolor": "white",
             "linecolor": "white",
             "minorgridcolor": "white",
             "startlinecolor": "#2a3f5f"
            },
            "baxis": {
             "endlinecolor": "#2a3f5f",
             "gridcolor": "white",
             "linecolor": "white",
             "minorgridcolor": "white",
             "startlinecolor": "#2a3f5f"
            },
            "type": "carpet"
           }
          ],
          "choropleth": [
           {
            "colorbar": {
             "outlinewidth": 0,
             "ticks": ""
            },
            "type": "choropleth"
           }
          ],
          "contour": [
           {
            "colorbar": {
             "outlinewidth": 0,
             "ticks": ""
            },
            "colorscale": [
             [
              0,
              "#0d0887"
             ],
             [
              0.1111111111111111,
              "#46039f"
             ],
             [
              0.2222222222222222,
              "#7201a8"
             ],
             [
              0.3333333333333333,
              "#9c179e"
             ],
             [
              0.4444444444444444,
              "#bd3786"
             ],
             [
              0.5555555555555556,
              "#d8576b"
             ],
             [
              0.6666666666666666,
              "#ed7953"
             ],
             [
              0.7777777777777778,
              "#fb9f3a"
             ],
             [
              0.8888888888888888,
              "#fdca26"
             ],
             [
              1,
              "#f0f921"
             ]
            ],
            "type": "contour"
           }
          ],
          "contourcarpet": [
           {
            "colorbar": {
             "outlinewidth": 0,
             "ticks": ""
            },
            "type": "contourcarpet"
           }
          ],
          "heatmap": [
           {
            "colorbar": {
             "outlinewidth": 0,
             "ticks": ""
            },
            "colorscale": [
             [
              0,
              "#0d0887"
             ],
             [
              0.1111111111111111,
              "#46039f"
             ],
             [
              0.2222222222222222,
              "#7201a8"
             ],
             [
              0.3333333333333333,
              "#9c179e"
             ],
             [
              0.4444444444444444,
              "#bd3786"
             ],
             [
              0.5555555555555556,
              "#d8576b"
             ],
             [
              0.6666666666666666,
              "#ed7953"
             ],
             [
              0.7777777777777778,
              "#fb9f3a"
             ],
             [
              0.8888888888888888,
              "#fdca26"
             ],
             [
              1,
              "#f0f921"
             ]
            ],
            "type": "heatmap"
           }
          ],
          "heatmapgl": [
           {
            "colorbar": {
             "outlinewidth": 0,
             "ticks": ""
            },
            "colorscale": [
             [
              0,
              "#0d0887"
             ],
             [
              0.1111111111111111,
              "#46039f"
             ],
             [
              0.2222222222222222,
              "#7201a8"
             ],
             [
              0.3333333333333333,
              "#9c179e"
             ],
             [
              0.4444444444444444,
              "#bd3786"
             ],
             [
              0.5555555555555556,
              "#d8576b"
             ],
             [
              0.6666666666666666,
              "#ed7953"
             ],
             [
              0.7777777777777778,
              "#fb9f3a"
             ],
             [
              0.8888888888888888,
              "#fdca26"
             ],
             [
              1,
              "#f0f921"
             ]
            ],
            "type": "heatmapgl"
           }
          ],
          "histogram": [
           {
            "marker": {
             "pattern": {
              "fillmode": "overlay",
              "size": 10,
              "solidity": 0.2
             }
            },
            "type": "histogram"
           }
          ],
          "histogram2d": [
           {
            "colorbar": {
             "outlinewidth": 0,
             "ticks": ""
            },
            "colorscale": [
             [
              0,
              "#0d0887"
             ],
             [
              0.1111111111111111,
              "#46039f"
             ],
             [
              0.2222222222222222,
              "#7201a8"
             ],
             [
              0.3333333333333333,
              "#9c179e"
             ],
             [
              0.4444444444444444,
              "#bd3786"
             ],
             [
              0.5555555555555556,
              "#d8576b"
             ],
             [
              0.6666666666666666,
              "#ed7953"
             ],
             [
              0.7777777777777778,
              "#fb9f3a"
             ],
             [
              0.8888888888888888,
              "#fdca26"
             ],
             [
              1,
              "#f0f921"
             ]
            ],
            "type": "histogram2d"
           }
          ],
          "histogram2dcontour": [
           {
            "colorbar": {
             "outlinewidth": 0,
             "ticks": ""
            },
            "colorscale": [
             [
              0,
              "#0d0887"
             ],
             [
              0.1111111111111111,
              "#46039f"
             ],
             [
              0.2222222222222222,
              "#7201a8"
             ],
             [
              0.3333333333333333,
              "#9c179e"
             ],
             [
              0.4444444444444444,
              "#bd3786"
             ],
             [
              0.5555555555555556,
              "#d8576b"
             ],
             [
              0.6666666666666666,
              "#ed7953"
             ],
             [
              0.7777777777777778,
              "#fb9f3a"
             ],
             [
              0.8888888888888888,
              "#fdca26"
             ],
             [
              1,
              "#f0f921"
             ]
            ],
            "type": "histogram2dcontour"
           }
          ],
          "mesh3d": [
           {
            "colorbar": {
             "outlinewidth": 0,
             "ticks": ""
            },
            "type": "mesh3d"
           }
          ],
          "parcoords": [
           {
            "line": {
             "colorbar": {
              "outlinewidth": 0,
              "ticks": ""
             }
            },
            "type": "parcoords"
           }
          ],
          "pie": [
           {
            "automargin": true,
            "type": "pie"
           }
          ],
          "scatter": [
           {
            "fillpattern": {
             "fillmode": "overlay",
             "size": 10,
             "solidity": 0.2
            },
            "type": "scatter"
           }
          ],
          "scatter3d": [
           {
            "line": {
             "colorbar": {
              "outlinewidth": 0,
              "ticks": ""
             }
            },
            "marker": {
             "colorbar": {
              "outlinewidth": 0,
              "ticks": ""
             }
            },
            "type": "scatter3d"
           }
          ],
          "scattercarpet": [
           {
            "marker": {
             "colorbar": {
              "outlinewidth": 0,
              "ticks": ""
             }
            },
            "type": "scattercarpet"
           }
          ],
          "scattergeo": [
           {
            "marker": {
             "colorbar": {
              "outlinewidth": 0,
              "ticks": ""
             }
            },
            "type": "scattergeo"
           }
          ],
          "scattergl": [
           {
            "marker": {
             "colorbar": {
              "outlinewidth": 0,
              "ticks": ""
             }
            },
            "type": "scattergl"
           }
          ],
          "scattermapbox": [
           {
            "marker": {
             "colorbar": {
              "outlinewidth": 0,
              "ticks": ""
             }
            },
            "type": "scattermapbox"
           }
          ],
          "scatterpolar": [
           {
            "marker": {
             "colorbar": {
              "outlinewidth": 0,
              "ticks": ""
             }
            },
            "type": "scatterpolar"
           }
          ],
          "scatterpolargl": [
           {
            "marker": {
             "colorbar": {
              "outlinewidth": 0,
              "ticks": ""
             }
            },
            "type": "scatterpolargl"
           }
          ],
          "scatterternary": [
           {
            "marker": {
             "colorbar": {
              "outlinewidth": 0,
              "ticks": ""
             }
            },
            "type": "scatterternary"
           }
          ],
          "surface": [
           {
            "colorbar": {
             "outlinewidth": 0,
             "ticks": ""
            },
            "colorscale": [
             [
              0,
              "#0d0887"
             ],
             [
              0.1111111111111111,
              "#46039f"
             ],
             [
              0.2222222222222222,
              "#7201a8"
             ],
             [
              0.3333333333333333,
              "#9c179e"
             ],
             [
              0.4444444444444444,
              "#bd3786"
             ],
             [
              0.5555555555555556,
              "#d8576b"
             ],
             [
              0.6666666666666666,
              "#ed7953"
             ],
             [
              0.7777777777777778,
              "#fb9f3a"
             ],
             [
              0.8888888888888888,
              "#fdca26"
             ],
             [
              1,
              "#f0f921"
             ]
            ],
            "type": "surface"
           }
          ],
          "table": [
           {
            "cells": {
             "fill": {
              "color": "#EBF0F8"
             },
             "line": {
              "color": "white"
             }
            },
            "header": {
             "fill": {
              "color": "#C8D4E3"
             },
             "line": {
              "color": "white"
             }
            },
            "type": "table"
           }
          ]
         },
         "layout": {
          "annotationdefaults": {
           "arrowcolor": "#2a3f5f",
           "arrowhead": 0,
           "arrowwidth": 1
          },
          "autotypenumbers": "strict",
          "coloraxis": {
           "colorbar": {
            "outlinewidth": 0,
            "ticks": ""
           }
          },
          "colorscale": {
           "diverging": [
            [
             0,
             "#8e0152"
            ],
            [
             0.1,
             "#c51b7d"
            ],
            [
             0.2,
             "#de77ae"
            ],
            [
             0.3,
             "#f1b6da"
            ],
            [
             0.4,
             "#fde0ef"
            ],
            [
             0.5,
             "#f7f7f7"
            ],
            [
             0.6,
             "#e6f5d0"
            ],
            [
             0.7,
             "#b8e186"
            ],
            [
             0.8,
             "#7fbc41"
            ],
            [
             0.9,
             "#4d9221"
            ],
            [
             1,
             "#276419"
            ]
           ],
           "sequential": [
            [
             0,
             "#0d0887"
            ],
            [
             0.1111111111111111,
             "#46039f"
            ],
            [
             0.2222222222222222,
             "#7201a8"
            ],
            [
             0.3333333333333333,
             "#9c179e"
            ],
            [
             0.4444444444444444,
             "#bd3786"
            ],
            [
             0.5555555555555556,
             "#d8576b"
            ],
            [
             0.6666666666666666,
             "#ed7953"
            ],
            [
             0.7777777777777778,
             "#fb9f3a"
            ],
            [
             0.8888888888888888,
             "#fdca26"
            ],
            [
             1,
             "#f0f921"
            ]
           ],
           "sequentialminus": [
            [
             0,
             "#0d0887"
            ],
            [
             0.1111111111111111,
             "#46039f"
            ],
            [
             0.2222222222222222,
             "#7201a8"
            ],
            [
             0.3333333333333333,
             "#9c179e"
            ],
            [
             0.4444444444444444,
             "#bd3786"
            ],
            [
             0.5555555555555556,
             "#d8576b"
            ],
            [
             0.6666666666666666,
             "#ed7953"
            ],
            [
             0.7777777777777778,
             "#fb9f3a"
            ],
            [
             0.8888888888888888,
             "#fdca26"
            ],
            [
             1,
             "#f0f921"
            ]
           ]
          },
          "colorway": [
           "#636efa",
           "#EF553B",
           "#00cc96",
           "#ab63fa",
           "#FFA15A",
           "#19d3f3",
           "#FF6692",
           "#B6E880",
           "#FF97FF",
           "#FECB52"
          ],
          "font": {
           "color": "#2a3f5f"
          },
          "geo": {
           "bgcolor": "white",
           "lakecolor": "white",
           "landcolor": "#E5ECF6",
           "showlakes": true,
           "showland": true,
           "subunitcolor": "white"
          },
          "hoverlabel": {
           "align": "left"
          },
          "hovermode": "closest",
          "mapbox": {
           "style": "light"
          },
          "paper_bgcolor": "white",
          "plot_bgcolor": "#E5ECF6",
          "polar": {
           "angularaxis": {
            "gridcolor": "white",
            "linecolor": "white",
            "ticks": ""
           },
           "bgcolor": "#E5ECF6",
           "radialaxis": {
            "gridcolor": "white",
            "linecolor": "white",
            "ticks": ""
           }
          },
          "scene": {
           "xaxis": {
            "backgroundcolor": "#E5ECF6",
            "gridcolor": "white",
            "gridwidth": 2,
            "linecolor": "white",
            "showbackground": true,
            "ticks": "",
            "zerolinecolor": "white"
           },
           "yaxis": {
            "backgroundcolor": "#E5ECF6",
            "gridcolor": "white",
            "gridwidth": 2,
            "linecolor": "white",
            "showbackground": true,
            "ticks": "",
            "zerolinecolor": "white"
           },
           "zaxis": {
            "backgroundcolor": "#E5ECF6",
            "gridcolor": "white",
            "gridwidth": 2,
            "linecolor": "white",
            "showbackground": true,
            "ticks": "",
            "zerolinecolor": "white"
           }
          },
          "shapedefaults": {
           "line": {
            "color": "#2a3f5f"
           }
          },
          "ternary": {
           "aaxis": {
            "gridcolor": "white",
            "linecolor": "white",
            "ticks": ""
           },
           "baxis": {
            "gridcolor": "white",
            "linecolor": "white",
            "ticks": ""
           },
           "bgcolor": "#E5ECF6",
           "caxis": {
            "gridcolor": "white",
            "linecolor": "white",
            "ticks": ""
           }
          },
          "title": {
           "x": 0.05
          },
          "xaxis": {
           "automargin": true,
           "gridcolor": "white",
           "linecolor": "white",
           "ticks": "",
           "title": {
            "standoff": 15
           },
           "zerolinecolor": "white",
           "zerolinewidth": 2
          },
          "yaxis": {
           "automargin": true,
           "gridcolor": "white",
           "linecolor": "white",
           "ticks": "",
           "title": {
            "standoff": 15
           },
           "zerolinecolor": "white",
           "zerolinewidth": 2
          }
         }
        },
        "title": {
         "text": "<b>Monthly Gas Production (m<sup>3</sup>)</b>"
        },
        "width": 900,
        "xaxis": {
         "tickmode": "array",
         "tickvals": [
          2007,
          2008,
          2009,
          2010,
          2011,
          2012,
          2013,
          2014,
          2015,
          2016
         ],
         "title": {
          "text": "Year"
         }
        },
        "yaxis": {
         "autorange": "reversed",
         "title": {
          "text": "Month"
         }
        }
       }
      }
     },
     "metadata": {},
     "output_type": "display_data"
    }
   ],
   "source": [
    "layout = go.Layout(\n",
    "    title=\"<b>Monthly Gas Production (m<sup>3</sup>)</b>\",\n",
    "    xaxis=dict(\n",
    "        title=\"Year\",\n",
    "        tickmode=\"array\",\n",
    "        tickvals=monthly_gas_production_df.columns\n",
    "    ),\n",
    "    yaxis=dict(\n",
    "        title=\"Month\",\n",
    "        autorange=\"reversed\"\n",
    "    ),\n",
    "    font_size=14,\n",
    "    width=900,\n",
    "    height=580\n",
    ")\n",
    "\n",
    "trace = go.Heatmap(\n",
    "    x=monthly_gas_production_df.columns,\n",
    "    y=monthly_gas_production_df.index,\n",
    "    z=monthly_gas_production_df.values,\n",
    "    customdata=(monthly_gas_production_df.values / volumes.get(\"GAS\")),\n",
    "    hovertemplate=\"<br>\".join([\"<b>%{y} %{x}</b><br>\", \"<b>SCF:</b> %{customdata:,.0f}\", \"<b>cubic meters:</b> %{z:,.0f}\"]),\n",
    "    hoverlabel=dict(bgcolor=\"#FEF5F1\", font_color=\"#333\"),\n",
    "    colorscale=\"Reds\",\n",
    "    name=\"\"\n",
    ")\n",
    "\n",
    "go.Figure(data=[trace], layout=layout)"
   ]
  },
  {
   "cell_type": "markdown",
   "metadata": {},
   "source": [
    "### Observations\n",
    "\n",
    "- Hydrocarbon production began exactly in **February 2008** and ended in **September 2016**.\n",
    "- Produced volumes began to decline in **April 2008**, only two months after the beginning of production operations.\n",
    "- The highest recorded production was in **December 2008**, and the lowest one in **September 2012**.\n",
    "\n",
    "### Questions\n",
    "\n",
    "- When did secondary recovery begin?\n",
    "- What caused the poor performance recorded in **September 2012**?"
   ]
  },
  {
   "cell_type": "code",
   "execution_count": 15,
   "metadata": {},
   "outputs": [],
   "source": [
    "monthly_water_injection_df = fn.monthly_data(volve_df, parameter=\"WI\")"
   ]
  },
  {
   "cell_type": "code",
   "execution_count": 16,
   "metadata": {},
   "outputs": [
    {
     "data": {
      "application/vnd.plotly.v1+json": {
       "config": {
        "plotlyServerURL": "https://plot.ly"
       },
       "data": [
        {
         "colorscale": [
          [
           0,
           "rgb(247,251,255)"
          ],
          [
           0.125,
           "rgb(222,235,247)"
          ],
          [
           0.25,
           "rgb(198,219,239)"
          ],
          [
           0.375,
           "rgb(158,202,225)"
          ],
          [
           0.5,
           "rgb(107,174,214)"
          ],
          [
           0.625,
           "rgb(66,146,198)"
          ],
          [
           0.75,
           "rgb(33,113,181)"
          ],
          [
           0.875,
           "rgb(8,81,156)"
          ],
          [
           1,
           "rgb(8,48,107)"
          ]
         ],
         "customdata": [
          [
           0,
           0,
           3146888.6470483807,
           2982840.303511262,
           2378333.174089748,
           1178647.690713084,
           1984859.1093565337,
           1804986.6896561862,
           1245461.5025225305,
           1890242.1242097642
          ],
          [
           0,
           0,
           2813027.794522217,
           2421733.8167744153,
           1728793.6607264858,
           1832234.2813742042,
           1803290.0756734973,
           1703899.1357000966,
           1568267.6497876497,
           1964098.5371774477
          ],
          [
           0,
           0,
           898576.9222028006,
           2068683.115932191,
           2323665.855158318,
           1849556.6775201855,
           1148884.3298502981,
           2028159.5548418963,
           1665909.7357032856,
           1767514.6184082
          ],
          [
           0,
           187138.76450147654,
           1329526.9100425001,
           2300909.220925816,
           2323636.234119279,
           1888700.3165307858,
           1494992.4104092463,
           2237162.434631829,
           1828323.5353560254,
           1511474.6519087816
          ],
          [
           0,
           1392168.4717846457,
           2917450.7022135165,
           3174706.935961495,
           2387704.1687198407,
           1930275.323296263,
           2059727.349481424,
           1960110.6906126463,
           1659893.9150721473,
           1693715.0084380452
          ],
          [
           0,
           1332204.8607905852,
           1655429.0117381513,
           2694299.628620865,
           1484684.459206358,
           1836230.610231918,
           1703228.0734124174,
           2344769.924150388,
           1932914.693744406,
           1618250.3940238748
          ],
          [
           0,
           1459422.6252054912,
           2495012.425422502,
           2590510.9131476227,
           788832.2122846711,
           1921994.2433727414,
           1665488.7363736539,
           2366336.283226975,
           1723233.9354267605,
           1245229.697214809
          ],
          [
           0,
           1436556.227894218,
           2455529.5768789393,
           1439978.134823876,
           2106918.449590854,
           780856.995734355,
           2150250.4133925606,
           1926063.7667193671,
           1433410.444441424,
           832663.2214976165
          ],
          [
           0,
           1027739.8747612484,
           2110599.5680336663,
           1940007.1918963338,
           2268134.3239741097,
           88638.89811612833,
           1708600.0401866501,
           2267666.8657837263,
           1648032.731541293,
           384941.91671546537
          ],
          [
           0,
           2237649.030058678,
           2408695.2733792574,
           2486957.644487415,
           1031208.4995769575,
           1439957.8047979304,
           1964714.2853771404,
           2430729.8294611643,
           1699727.5109564853,
           0
          ],
          [
           0,
           2779505.5556426332,
           2596485.475923234,
           2238555.8187424783,
           1467594.25335913,
           2082670.4353481943,
           2037622.9168291558,
           1970369.0016959468,
           1856172.9366957862,
           0
          ],
          [
           0,
           3354929.837208953,
           2798868.6776616815,
           2401442.48448922,
           1362831.0776316726,
           1883769.856094638,
           2001846.453772043,
           1021374.6535755794,
           1876281.7377787405,
           0
          ]
         ],
         "hoverlabel": {
          "bgcolor": "aliceblue",
          "font": {
           "color": "#333"
          }
         },
         "hovertemplate": "<b>%{y} %{x}</b><br><br><b>barrels:</b> %{customdata:,.0f}<br><b>cubic meters:</b> %{z:,.0f}",
         "name": "",
         "type": "heatmap",
         "x": [
          2007,
          2008,
          2009,
          2010,
          2011,
          2012,
          2013,
          2014,
          2015,
          2016
         ],
         "y": [
          "Jan",
          "Feb",
          "Mar",
          "Apr",
          "May",
          "Jun",
          "Jul",
          "Aug",
          "Sep",
          "Oct",
          "Nov",
          "Dec"
         ],
         "z": [
          [
           0,
           0,
           500315.329394875,
           474233.726186436,
           378124.769848959,
           187390.0139977083,
           315567.39067700005,
           286969.96032437496,
           198012.56154000032,
           300524.491674375
          ],
          [
           0,
           0,
           447235.69387604203,
           385024.920847659,
           274856.23637602,
           291301.981363125,
           286700.220248125,
           270898.323057292,
           249334.639317084,
           312266.723359792
          ],
          [
           0,
           0,
           142862.31870333332,
           328894.343157646,
           369433.360413812,
           294056.022355905,
           182658.0176152083,
           322451.61159351503,
           264858.49092317896,
           281012.37689125
          ],
          [
           0,
           29752.6868934256,
           211377.893705,
           365815.344580099,
           369428.65104479203,
           300279.363834375,
           237684.80685145798,
           355680.415143541,
           290680.22241270903,
           240305.27392541702
          ],
          [
           0,
           221337.106474167,
           463837.610028031,
           504738.084039791,
           379614.63898351195,
           306889.2619075,
           327470.490030208,
           311632.70640163997,
           263902.05184375,
           269279.176161042
          ],
          [
           0,
           211803.653863971,
           263192.18891791697,
           428359.423345434,
           236045.973521179,
           291937.346898125,
           270791.63267604203,
           372788.639361875,
           307308.88828875,
           257281.260869792
          ],
          [
           0,
           232029.662740333,
           396675.288984375,
           411858.33570187504,
           125414.3035841667,
           305572.67536937504,
           264791.557376459,
           376217.416562292,
           273972.310661875,
           197975.70744
          ],
          [
           0,
           228394.1959710864,
           390398.017498125,
           228938.235714684,
           334973.27562063595,
           124146.3454379166,
           341862.507549167,
           306219.677898542,
           227894.056353542,
           132382.877395208
          ],
          [
           0,
           163397.587790629,
           335558.52670283895,
           308436.50542018,
           360604.552205969,
           14092.45908645833,
           271645.707169167,
           360530.232290417,
           262016.274299375,
           61200.8759954167
          ],
          [
           0,
           355757.777636648,
           382951.95803733,
           395394.681111414,
           163949.05508479162,
           228935.00349875,
           312364.61950354103,
           386455.17261549097,
           270235.087702692,
           0
          ],
          [
           0,
           441906.083626622,
           412808.21530625003,
           355901.945521156,
           233328.847837084,
           331118.14930583397,
           323956.165964792,
           313263.647583334,
           295107.92353833397,
           0
          ],
          [
           0,
           533391.236507291,
           444984.574116001,
           381798.856714233,
           216672.83338875,
           299495.483241875,
           318268.16269979195,
           162385.59846041672,
           298304.96752874996,
           0
          ]
         ]
        }
       ],
       "layout": {
        "font": {
         "size": 14
        },
        "height": 580,
        "template": {
         "data": {
          "bar": [
           {
            "error_x": {
             "color": "#2a3f5f"
            },
            "error_y": {
             "color": "#2a3f5f"
            },
            "marker": {
             "line": {
              "color": "#E5ECF6",
              "width": 0.5
             },
             "pattern": {
              "fillmode": "overlay",
              "size": 10,
              "solidity": 0.2
             }
            },
            "type": "bar"
           }
          ],
          "barpolar": [
           {
            "marker": {
             "line": {
              "color": "#E5ECF6",
              "width": 0.5
             },
             "pattern": {
              "fillmode": "overlay",
              "size": 10,
              "solidity": 0.2
             }
            },
            "type": "barpolar"
           }
          ],
          "carpet": [
           {
            "aaxis": {
             "endlinecolor": "#2a3f5f",
             "gridcolor": "white",
             "linecolor": "white",
             "minorgridcolor": "white",
             "startlinecolor": "#2a3f5f"
            },
            "baxis": {
             "endlinecolor": "#2a3f5f",
             "gridcolor": "white",
             "linecolor": "white",
             "minorgridcolor": "white",
             "startlinecolor": "#2a3f5f"
            },
            "type": "carpet"
           }
          ],
          "choropleth": [
           {
            "colorbar": {
             "outlinewidth": 0,
             "ticks": ""
            },
            "type": "choropleth"
           }
          ],
          "contour": [
           {
            "colorbar": {
             "outlinewidth": 0,
             "ticks": ""
            },
            "colorscale": [
             [
              0,
              "#0d0887"
             ],
             [
              0.1111111111111111,
              "#46039f"
             ],
             [
              0.2222222222222222,
              "#7201a8"
             ],
             [
              0.3333333333333333,
              "#9c179e"
             ],
             [
              0.4444444444444444,
              "#bd3786"
             ],
             [
              0.5555555555555556,
              "#d8576b"
             ],
             [
              0.6666666666666666,
              "#ed7953"
             ],
             [
              0.7777777777777778,
              "#fb9f3a"
             ],
             [
              0.8888888888888888,
              "#fdca26"
             ],
             [
              1,
              "#f0f921"
             ]
            ],
            "type": "contour"
           }
          ],
          "contourcarpet": [
           {
            "colorbar": {
             "outlinewidth": 0,
             "ticks": ""
            },
            "type": "contourcarpet"
           }
          ],
          "heatmap": [
           {
            "colorbar": {
             "outlinewidth": 0,
             "ticks": ""
            },
            "colorscale": [
             [
              0,
              "#0d0887"
             ],
             [
              0.1111111111111111,
              "#46039f"
             ],
             [
              0.2222222222222222,
              "#7201a8"
             ],
             [
              0.3333333333333333,
              "#9c179e"
             ],
             [
              0.4444444444444444,
              "#bd3786"
             ],
             [
              0.5555555555555556,
              "#d8576b"
             ],
             [
              0.6666666666666666,
              "#ed7953"
             ],
             [
              0.7777777777777778,
              "#fb9f3a"
             ],
             [
              0.8888888888888888,
              "#fdca26"
             ],
             [
              1,
              "#f0f921"
             ]
            ],
            "type": "heatmap"
           }
          ],
          "heatmapgl": [
           {
            "colorbar": {
             "outlinewidth": 0,
             "ticks": ""
            },
            "colorscale": [
             [
              0,
              "#0d0887"
             ],
             [
              0.1111111111111111,
              "#46039f"
             ],
             [
              0.2222222222222222,
              "#7201a8"
             ],
             [
              0.3333333333333333,
              "#9c179e"
             ],
             [
              0.4444444444444444,
              "#bd3786"
             ],
             [
              0.5555555555555556,
              "#d8576b"
             ],
             [
              0.6666666666666666,
              "#ed7953"
             ],
             [
              0.7777777777777778,
              "#fb9f3a"
             ],
             [
              0.8888888888888888,
              "#fdca26"
             ],
             [
              1,
              "#f0f921"
             ]
            ],
            "type": "heatmapgl"
           }
          ],
          "histogram": [
           {
            "marker": {
             "pattern": {
              "fillmode": "overlay",
              "size": 10,
              "solidity": 0.2
             }
            },
            "type": "histogram"
           }
          ],
          "histogram2d": [
           {
            "colorbar": {
             "outlinewidth": 0,
             "ticks": ""
            },
            "colorscale": [
             [
              0,
              "#0d0887"
             ],
             [
              0.1111111111111111,
              "#46039f"
             ],
             [
              0.2222222222222222,
              "#7201a8"
             ],
             [
              0.3333333333333333,
              "#9c179e"
             ],
             [
              0.4444444444444444,
              "#bd3786"
             ],
             [
              0.5555555555555556,
              "#d8576b"
             ],
             [
              0.6666666666666666,
              "#ed7953"
             ],
             [
              0.7777777777777778,
              "#fb9f3a"
             ],
             [
              0.8888888888888888,
              "#fdca26"
             ],
             [
              1,
              "#f0f921"
             ]
            ],
            "type": "histogram2d"
           }
          ],
          "histogram2dcontour": [
           {
            "colorbar": {
             "outlinewidth": 0,
             "ticks": ""
            },
            "colorscale": [
             [
              0,
              "#0d0887"
             ],
             [
              0.1111111111111111,
              "#46039f"
             ],
             [
              0.2222222222222222,
              "#7201a8"
             ],
             [
              0.3333333333333333,
              "#9c179e"
             ],
             [
              0.4444444444444444,
              "#bd3786"
             ],
             [
              0.5555555555555556,
              "#d8576b"
             ],
             [
              0.6666666666666666,
              "#ed7953"
             ],
             [
              0.7777777777777778,
              "#fb9f3a"
             ],
             [
              0.8888888888888888,
              "#fdca26"
             ],
             [
              1,
              "#f0f921"
             ]
            ],
            "type": "histogram2dcontour"
           }
          ],
          "mesh3d": [
           {
            "colorbar": {
             "outlinewidth": 0,
             "ticks": ""
            },
            "type": "mesh3d"
           }
          ],
          "parcoords": [
           {
            "line": {
             "colorbar": {
              "outlinewidth": 0,
              "ticks": ""
             }
            },
            "type": "parcoords"
           }
          ],
          "pie": [
           {
            "automargin": true,
            "type": "pie"
           }
          ],
          "scatter": [
           {
            "fillpattern": {
             "fillmode": "overlay",
             "size": 10,
             "solidity": 0.2
            },
            "type": "scatter"
           }
          ],
          "scatter3d": [
           {
            "line": {
             "colorbar": {
              "outlinewidth": 0,
              "ticks": ""
             }
            },
            "marker": {
             "colorbar": {
              "outlinewidth": 0,
              "ticks": ""
             }
            },
            "type": "scatter3d"
           }
          ],
          "scattercarpet": [
           {
            "marker": {
             "colorbar": {
              "outlinewidth": 0,
              "ticks": ""
             }
            },
            "type": "scattercarpet"
           }
          ],
          "scattergeo": [
           {
            "marker": {
             "colorbar": {
              "outlinewidth": 0,
              "ticks": ""
             }
            },
            "type": "scattergeo"
           }
          ],
          "scattergl": [
           {
            "marker": {
             "colorbar": {
              "outlinewidth": 0,
              "ticks": ""
             }
            },
            "type": "scattergl"
           }
          ],
          "scattermapbox": [
           {
            "marker": {
             "colorbar": {
              "outlinewidth": 0,
              "ticks": ""
             }
            },
            "type": "scattermapbox"
           }
          ],
          "scatterpolar": [
           {
            "marker": {
             "colorbar": {
              "outlinewidth": 0,
              "ticks": ""
             }
            },
            "type": "scatterpolar"
           }
          ],
          "scatterpolargl": [
           {
            "marker": {
             "colorbar": {
              "outlinewidth": 0,
              "ticks": ""
             }
            },
            "type": "scatterpolargl"
           }
          ],
          "scatterternary": [
           {
            "marker": {
             "colorbar": {
              "outlinewidth": 0,
              "ticks": ""
             }
            },
            "type": "scatterternary"
           }
          ],
          "surface": [
           {
            "colorbar": {
             "outlinewidth": 0,
             "ticks": ""
            },
            "colorscale": [
             [
              0,
              "#0d0887"
             ],
             [
              0.1111111111111111,
              "#46039f"
             ],
             [
              0.2222222222222222,
              "#7201a8"
             ],
             [
              0.3333333333333333,
              "#9c179e"
             ],
             [
              0.4444444444444444,
              "#bd3786"
             ],
             [
              0.5555555555555556,
              "#d8576b"
             ],
             [
              0.6666666666666666,
              "#ed7953"
             ],
             [
              0.7777777777777778,
              "#fb9f3a"
             ],
             [
              0.8888888888888888,
              "#fdca26"
             ],
             [
              1,
              "#f0f921"
             ]
            ],
            "type": "surface"
           }
          ],
          "table": [
           {
            "cells": {
             "fill": {
              "color": "#EBF0F8"
             },
             "line": {
              "color": "white"
             }
            },
            "header": {
             "fill": {
              "color": "#C8D4E3"
             },
             "line": {
              "color": "white"
             }
            },
            "type": "table"
           }
          ]
         },
         "layout": {
          "annotationdefaults": {
           "arrowcolor": "#2a3f5f",
           "arrowhead": 0,
           "arrowwidth": 1
          },
          "autotypenumbers": "strict",
          "coloraxis": {
           "colorbar": {
            "outlinewidth": 0,
            "ticks": ""
           }
          },
          "colorscale": {
           "diverging": [
            [
             0,
             "#8e0152"
            ],
            [
             0.1,
             "#c51b7d"
            ],
            [
             0.2,
             "#de77ae"
            ],
            [
             0.3,
             "#f1b6da"
            ],
            [
             0.4,
             "#fde0ef"
            ],
            [
             0.5,
             "#f7f7f7"
            ],
            [
             0.6,
             "#e6f5d0"
            ],
            [
             0.7,
             "#b8e186"
            ],
            [
             0.8,
             "#7fbc41"
            ],
            [
             0.9,
             "#4d9221"
            ],
            [
             1,
             "#276419"
            ]
           ],
           "sequential": [
            [
             0,
             "#0d0887"
            ],
            [
             0.1111111111111111,
             "#46039f"
            ],
            [
             0.2222222222222222,
             "#7201a8"
            ],
            [
             0.3333333333333333,
             "#9c179e"
            ],
            [
             0.4444444444444444,
             "#bd3786"
            ],
            [
             0.5555555555555556,
             "#d8576b"
            ],
            [
             0.6666666666666666,
             "#ed7953"
            ],
            [
             0.7777777777777778,
             "#fb9f3a"
            ],
            [
             0.8888888888888888,
             "#fdca26"
            ],
            [
             1,
             "#f0f921"
            ]
           ],
           "sequentialminus": [
            [
             0,
             "#0d0887"
            ],
            [
             0.1111111111111111,
             "#46039f"
            ],
            [
             0.2222222222222222,
             "#7201a8"
            ],
            [
             0.3333333333333333,
             "#9c179e"
            ],
            [
             0.4444444444444444,
             "#bd3786"
            ],
            [
             0.5555555555555556,
             "#d8576b"
            ],
            [
             0.6666666666666666,
             "#ed7953"
            ],
            [
             0.7777777777777778,
             "#fb9f3a"
            ],
            [
             0.8888888888888888,
             "#fdca26"
            ],
            [
             1,
             "#f0f921"
            ]
           ]
          },
          "colorway": [
           "#636efa",
           "#EF553B",
           "#00cc96",
           "#ab63fa",
           "#FFA15A",
           "#19d3f3",
           "#FF6692",
           "#B6E880",
           "#FF97FF",
           "#FECB52"
          ],
          "font": {
           "color": "#2a3f5f"
          },
          "geo": {
           "bgcolor": "white",
           "lakecolor": "white",
           "landcolor": "#E5ECF6",
           "showlakes": true,
           "showland": true,
           "subunitcolor": "white"
          },
          "hoverlabel": {
           "align": "left"
          },
          "hovermode": "closest",
          "mapbox": {
           "style": "light"
          },
          "paper_bgcolor": "white",
          "plot_bgcolor": "#E5ECF6",
          "polar": {
           "angularaxis": {
            "gridcolor": "white",
            "linecolor": "white",
            "ticks": ""
           },
           "bgcolor": "#E5ECF6",
           "radialaxis": {
            "gridcolor": "white",
            "linecolor": "white",
            "ticks": ""
           }
          },
          "scene": {
           "xaxis": {
            "backgroundcolor": "#E5ECF6",
            "gridcolor": "white",
            "gridwidth": 2,
            "linecolor": "white",
            "showbackground": true,
            "ticks": "",
            "zerolinecolor": "white"
           },
           "yaxis": {
            "backgroundcolor": "#E5ECF6",
            "gridcolor": "white",
            "gridwidth": 2,
            "linecolor": "white",
            "showbackground": true,
            "ticks": "",
            "zerolinecolor": "white"
           },
           "zaxis": {
            "backgroundcolor": "#E5ECF6",
            "gridcolor": "white",
            "gridwidth": 2,
            "linecolor": "white",
            "showbackground": true,
            "ticks": "",
            "zerolinecolor": "white"
           }
          },
          "shapedefaults": {
           "line": {
            "color": "#2a3f5f"
           }
          },
          "ternary": {
           "aaxis": {
            "gridcolor": "white",
            "linecolor": "white",
            "ticks": ""
           },
           "baxis": {
            "gridcolor": "white",
            "linecolor": "white",
            "ticks": ""
           },
           "bgcolor": "#E5ECF6",
           "caxis": {
            "gridcolor": "white",
            "linecolor": "white",
            "ticks": ""
           }
          },
          "title": {
           "x": 0.05
          },
          "xaxis": {
           "automargin": true,
           "gridcolor": "white",
           "linecolor": "white",
           "ticks": "",
           "title": {
            "standoff": 15
           },
           "zerolinecolor": "white",
           "zerolinewidth": 2
          },
          "yaxis": {
           "automargin": true,
           "gridcolor": "white",
           "linecolor": "white",
           "ticks": "",
           "title": {
            "standoff": 15
           },
           "zerolinecolor": "white",
           "zerolinewidth": 2
          }
         }
        },
        "title": {
         "text": "<b>Monthly Water Injection (m<sup>3</sup>)</b>"
        },
        "width": 900,
        "xaxis": {
         "tickmode": "array",
         "tickvals": [
          2007,
          2008,
          2009,
          2010,
          2011,
          2012,
          2013,
          2014,
          2015,
          2016
         ],
         "title": {
          "text": "Year"
         }
        },
        "yaxis": {
         "autorange": "reversed",
         "title": {
          "text": "Month"
         }
        }
       }
      }
     },
     "metadata": {},
     "output_type": "display_data"
    }
   ],
   "source": [
    "layout = go.Layout(\n",
    "    title=\"<b>Monthly Water Injection (m<sup>3</sup>)</b>\",\n",
    "    xaxis=dict(\n",
    "        title=\"Year\",\n",
    "        tickmode=\"array\",\n",
    "        tickvals=monthly_water_injection_df.columns,\n",
    "    ),\n",
    "    yaxis=dict(\n",
    "        title=\"Month\",\n",
    "        autorange=\"reversed\"\n",
    "    ),\n",
    "    font_size=14,\n",
    "    width=900,\n",
    "    height=580\n",
    ")\n",
    "\n",
    "trace = go.Heatmap(\n",
    "    x=monthly_water_injection_df.columns,\n",
    "    y=monthly_water_injection_df.index,\n",
    "    z=monthly_water_injection_df.values,\n",
    "    customdata=(monthly_water_injection_df.values / volumes.get(\"WATER\")),\n",
    "    hovertemplate=\"<br>\".join([\"<b>%{y} %{x}</b><br>\", \"<b>barrels:</b> %{customdata:,.0f}\", \"<b>cubic meters:</b> %{z:,.0f}\"]),\n",
    "    hoverlabel=dict(bgcolor=\"aliceblue\", font_color=\"#333\"),\n",
    "    colorscale=\"Blues\",\n",
    "    name=\"\"\n",
    ")\n",
    "\n",
    "go.Figure(data=[trace], layout=layout)"
   ]
  },
  {
   "cell_type": "markdown",
   "metadata": {},
   "source": [
    "### Answers\n",
    "\n",
    "- Secondary recovery via water injection started in **April 2008** to maintain the reservoir pressure, as hydrocarbon production had begun to decline.\n",
    "\n",
    "- The [2012 Annual Report](https://cdn.equinor.com/files/h61q9gi9/global/b9a38e453593f930bdec33efa5a085b626cb4aab.pdf?statoil-annual-report-20f-2012.pdf) from **Equinor/Statoil** states that the Volve field was temporarily shut down due to anchor line problems *(Page 77)*. We can therefore deduce from the above graphs that the shut down was between **August** and **September 2012**. However, analyzing the monthly production of each wellbore is necessary to confirm this hypothesis."
   ]
  },
  {
   "cell_type": "code",
   "execution_count": 17,
   "metadata": {},
   "outputs": [
    {
     "data": {
      "image/png": "[encoded data removed]",
      "text/plain": [
       "<Figure size 1800x900 with 8 Axes>"
      ]
     },
     "metadata": {
      "needs_background": "light"
     },
     "output_type": "display_data"
    }
   ],
   "source": [
    "fig, axes = plt.subplots(2, 3, figsize=(18, 9))\n",
    "\n",
    "axes[0, 0].bar(annual_production_df[\"YEAR\"], annual_production_df[\"OIL\"], color=\"lime\")\n",
    "axes[0, 0].plot(annual_production_df[\"YEAR\"], annual_production_df[\"OIL\"], \"o--r\", lw=2, ms=7)\n",
    "axes[0, 0].set_xlabel(\"Year\")\n",
    "axes[0, 0].set_ylabel(\"Oil Volume\")\n",
    "axes[0, 0].set_title(\"Annual Oil Production(m$^3$)\")\n",
    "\n",
    "sns.heatmap(monthly_oil_production_df, cmap=\"Greens\", ax=axes[0, 1])\n",
    "axes[0, 1].set_xlabel(\"Year\")\n",
    "axes[0, 1].set_ylabel(\"Month\")\n",
    "axes[0, 1].set_title(\"Monthly Oil Production (m$^3$)\")\n",
    "\n",
    "axes[0, 2].plot(annual_production_df[\"YEAR\"], annual_production_df[\"OIL\"], color=\"lime\", lw=2, marker=\"o\", ms=7, label=\"Oil\")\n",
    "axes[0, 2].plot(annual_production_df[\"YEAR\"], annual_production_df[\"WATER\"], color=\"blue\", lw=2, marker=\"o\", ms=7, label=\"Water\")\n",
    "axes[0, 2].set_xlabel(\"Year\")\n",
    "axes[0, 2].set_ylabel(\"Liquid Volume\")\n",
    "axes[0, 2].legend(loc=\"center\")\n",
    "axes[0, 2].set_title(\"Annual Liquid Production (m$^3$)\")\n",
    "\n",
    "axes[1, 0].bar(annual_production_df[\"YEAR\"], annual_production_df[\"GAS\"], color=\"tomato\")\n",
    "axes[1, 0].plot(annual_production_df[\"YEAR\"], annual_production_df[\"GAS\"], color=\"darkcyan\", ls=\"--\", lw=2, marker=\"o\", ms=7)\n",
    "axes[1, 0].set_xlabel(\"Year\")\n",
    "axes[1, 0].set_ylabel(\"Gas Volume\")\n",
    "axes[1, 0].set_title(\"Annual Gas Production(m$^3$)\")\n",
    "\n",
    "sns.heatmap(monthly_gas_production_df, cmap=\"Reds\", ax=axes[1, 1])\n",
    "axes[1, 1].set_xlabel(\"Year\")\n",
    "axes[1, 1].set_ylabel(\"Month\")\n",
    "axes[1, 1].set_title(\"Monthly Gas Production (m$^3$)\")\n",
    "\n",
    "axes[1, 2].plot(annual_production_df[\"YEAR\"], annual_production_df[\"CUM_OIL\"], color=\"lime\", lw=2, marker=\"o\", ms=7, label=\"Oil\")\n",
    "axes[1, 2].plot(annual_production_df[\"YEAR\"], annual_production_df[\"CUM_WATER\"], color=\"blue\", lw=2, marker=\"o\", ms=7, label=\"Water\")\n",
    "axes[1, 2].set_xlabel(\"Year\")\n",
    "axes[1, 2].set_ylabel(\"Liquid Volume\")\n",
    "axes[1, 2].legend()\n",
    "axes[1, 2].set_title(\"Cumulated Liquid Production (m$^3$)\")\n",
    "\n",
    "plt.tight_layout(pad=2)"
   ]
  },
  {
   "cell_type": "markdown",
   "metadata": {},
   "source": [
    "[Back to Top](#analysis-and-visualization)"
   ]
  },
  {
   "cell_type": "markdown",
   "metadata": {},
   "source": [
    "## Wellbore Yield Comparison\n",
    "\n",
    "### Questions\n",
    "\n",
    "- Which wellbores produced the highest and lowest amounts of hydrocarbon?\n",
    "- Which wellbore was the biggest water producer?"
   ]
  },
  {
   "cell_type": "code",
   "execution_count": 18,
   "metadata": {},
   "outputs": [],
   "source": [
    "production_wells_df, injection_wells_df = (fn.generate_wellbores_dataframes(volve_df).get(key) for key in (\"PRODUCTION\", \"INJECTION\"))"
   ]
  },
  {
   "cell_type": "code",
   "execution_count": 19,
   "metadata": {},
   "outputs": [
    {
     "data": {
      "application/vnd.plotly.v1+json": {
       "config": {
        "plotlyServerURL": "https://plot.ly"
       },
       "data": [
        {
         "customdata": [
          1117758.022181646,
          7219753.4016868025,
          28804876.553032853,
          24795901.244942207,
          934153.6084957729,
          258892.88012312935
         ],
         "hovertemplate": "<b>%{x}</b><br><br><b>barrels:</b> %{customdata:,.0f}<br><b>cubic meters:</b> %{y}",
         "marker": {
          "color": "#19CA9C",
          "line": {
           "color": "whitesmoke",
           "width": 1.2
          }
         },
         "name": "OIL",
         "offsetgroup": "1",
         "type": "bar",
         "x": [
          "15/9-F-1 C",
          "15/9-F-11",
          "15/9-F-12",
          "15/9-F-14",
          "15/9-F-15 D",
          "15/9-F-5"
         ],
         "y": [
          177709.33,
          1147849.1,
          4579609.55,
          3942233.39,
          148518.56,
          41160.68
         ],
         "yaxis": "y"
        },
        {
         "customdata": [
          933753764.5496666,
          6155728069.909029,
          23574071859.10837,
          20412247924.200474,
          794770275.9492598,
          231729070.37518364
         ],
         "hovertemplate": "<b>%{x}</b><br><br><b>SCF:</b> %{customdata:,.0f}<br><b>cubic meters:</b> %{y}",
         "marker": {
          "color": "#EE553C",
          "line": {
           "color": "whitesmoke",
           "width": 1.2
          }
         },
         "name": "GAS",
         "offsetgroup": "2",
         "type": "bar",
         "x": [
          "15/9-F-1 C",
          "15/9-F-11",
          "15/9-F-12",
          "15/9-F-14",
          "15/9-F-15 D",
          "15/9-F-5"
         ],
         "y": [
          26440918.6,
          174310520.60999998,
          667542278.02,
          578009542.02,
          22505350.95,
          6561825.74
         ],
         "yaxis": "y2"
        },
        {
         "customdata": [
          1303892.7637616338,
          6860964.806622919,
          42980290.689885296,
          44791311.88465997,
          329374.73622106924,
          85121.13860666858
         ],
         "hovertemplate": "<b>%{x}</b><br><br><b>barrels:</b> %{customdata:,.0f}<br><b>cubic meters:</b> %{y}",
         "marker": {
          "color": "#636EFA",
          "line": {
           "color": "whitesmoke",
           "width": 1.2
          }
         },
         "name": "WATER",
         "offsetgroup": "3",
         "type": "bar",
         "x": [
          "15/9-F-1 C",
          "15/9-F-11",
          "15/9-F-12",
          "15/9-F-14",
          "15/9-F-15 D",
          "15/9-F-5"
         ],
         "y": [
          207302.38999999998,
          1090806.27,
          6833320.37,
          7121249.74,
          52366.4,
          13533.18
         ],
         "yaxis": "y"
        }
       ],
       "layout": {
        "font": {
         "size": 14
        },
        "height": 580,
        "legend": {
         "orientation": "h",
         "x": 0.35,
         "y": -0.15
        },
        "template": {
         "data": {
          "bar": [
           {
            "error_x": {
             "color": "#2a3f5f"
            },
            "error_y": {
             "color": "#2a3f5f"
            },
            "marker": {
             "line": {
              "color": "#E5ECF6",
              "width": 0.5
             },
             "pattern": {
              "fillmode": "overlay",
              "size": 10,
              "solidity": 0.2
             }
            },
            "type": "bar"
           }
          ],
          "barpolar": [
           {
            "marker": {
             "line": {
              "color": "#E5ECF6",
              "width": 0.5
             },
             "pattern": {
              "fillmode": "overlay",
              "size": 10,
              "solidity": 0.2
             }
            },
            "type": "barpolar"
           }
          ],
          "carpet": [
           {
            "aaxis": {
             "endlinecolor": "#2a3f5f",
             "gridcolor": "white",
             "linecolor": "white",
             "minorgridcolor": "white",
             "startlinecolor": "#2a3f5f"
            },
            "baxis": {
             "endlinecolor": "#2a3f5f",
             "gridcolor": "white",
             "linecolor": "white",
             "minorgridcolor": "white",
             "startlinecolor": "#2a3f5f"
            },
            "type": "carpet"
           }
          ],
          "choropleth": [
           {
            "colorbar": {
             "outlinewidth": 0,
             "ticks": ""
            },
            "type": "choropleth"
           }
          ],
          "contour": [
           {
            "colorbar": {
             "outlinewidth": 0,
             "ticks": ""
            },
            "colorscale": [
             [
              0,
              "#0d0887"
             ],
             [
              0.1111111111111111,
              "#46039f"
             ],
             [
              0.2222222222222222,
              "#7201a8"
             ],
             [
              0.3333333333333333,
              "#9c179e"
             ],
             [
              0.4444444444444444,
              "#bd3786"
             ],
             [
              0.5555555555555556,
              "#d8576b"
             ],
             [
              0.6666666666666666,
              "#ed7953"
             ],
             [
              0.7777777777777778,
              "#fb9f3a"
             ],
             [
              0.8888888888888888,
              "#fdca26"
             ],
             [
              1,
              "#f0f921"
             ]
            ],
            "type": "contour"
           }
          ],
          "contourcarpet": [
           {
            "colorbar": {
             "outlinewidth": 0,
             "ticks": ""
            },
            "type": "contourcarpet"
           }
          ],
          "heatmap": [
           {
            "colorbar": {
             "outlinewidth": 0,
             "ticks": ""
            },
            "colorscale": [
             [
              0,
              "#0d0887"
             ],
             [
              0.1111111111111111,
              "#46039f"
             ],
             [
              0.2222222222222222,
              "#7201a8"
             ],
             [
              0.3333333333333333,
              "#9c179e"
             ],
             [
              0.4444444444444444,
              "#bd3786"
             ],
             [
              0.5555555555555556,
              "#d8576b"
             ],
             [
              0.6666666666666666,
              "#ed7953"
             ],
             [
              0.7777777777777778,
              "#fb9f3a"
             ],
             [
              0.8888888888888888,
              "#fdca26"
             ],
             [
              1,
              "#f0f921"
             ]
            ],
            "type": "heatmap"
           }
          ],
          "heatmapgl": [
           {
            "colorbar": {
             "outlinewidth": 0,
             "ticks": ""
            },
            "colorscale": [
             [
              0,
              "#0d0887"
             ],
             [
              0.1111111111111111,
              "#46039f"
             ],
             [
              0.2222222222222222,
              "#7201a8"
             ],
             [
              0.3333333333333333,
              "#9c179e"
             ],
             [
              0.4444444444444444,
              "#bd3786"
             ],
             [
              0.5555555555555556,
              "#d8576b"
             ],
             [
              0.6666666666666666,
              "#ed7953"
             ],
             [
              0.7777777777777778,
              "#fb9f3a"
             ],
             [
              0.8888888888888888,
              "#fdca26"
             ],
             [
              1,
              "#f0f921"
             ]
            ],
            "type": "heatmapgl"
           }
          ],
          "histogram": [
           {
            "marker": {
             "pattern": {
              "fillmode": "overlay",
              "size": 10,
              "solidity": 0.2
             }
            },
            "type": "histogram"
           }
          ],
          "histogram2d": [
           {
            "colorbar": {
             "outlinewidth": 0,
             "ticks": ""
            },
            "colorscale": [
             [
              0,
              "#0d0887"
             ],
             [
              0.1111111111111111,
              "#46039f"
             ],
             [
              0.2222222222222222,
              "#7201a8"
             ],
             [
              0.3333333333333333,
              "#9c179e"
             ],
             [
              0.4444444444444444,
              "#bd3786"
             ],
             [
              0.5555555555555556,
              "#d8576b"
             ],
             [
              0.6666666666666666,
              "#ed7953"
             ],
             [
              0.7777777777777778,
              "#fb9f3a"
             ],
             [
              0.8888888888888888,
              "#fdca26"
             ],
             [
              1,
              "#f0f921"
             ]
            ],
            "type": "histogram2d"
           }
          ],
          "histogram2dcontour": [
           {
            "colorbar": {
             "outlinewidth": 0,
             "ticks": ""
            },
            "colorscale": [
             [
              0,
              "#0d0887"
             ],
             [
              0.1111111111111111,
              "#46039f"
             ],
             [
              0.2222222222222222,
              "#7201a8"
             ],
             [
              0.3333333333333333,
              "#9c179e"
             ],
             [
              0.4444444444444444,
              "#bd3786"
             ],
             [
              0.5555555555555556,
              "#d8576b"
             ],
             [
              0.6666666666666666,
              "#ed7953"
             ],
             [
              0.7777777777777778,
              "#fb9f3a"
             ],
             [
              0.8888888888888888,
              "#fdca26"
             ],
             [
              1,
              "#f0f921"
             ]
            ],
            "type": "histogram2dcontour"
           }
          ],
          "mesh3d": [
           {
            "colorbar": {
             "outlinewidth": 0,
             "ticks": ""
            },
            "type": "mesh3d"
           }
          ],
          "parcoords": [
           {
            "line": {
             "colorbar": {
              "outlinewidth": 0,
              "ticks": ""
             }
            },
            "type": "parcoords"
           }
          ],
          "pie": [
           {
            "automargin": true,
            "type": "pie"
           }
          ],
          "scatter": [
           {
            "fillpattern": {
             "fillmode": "overlay",
             "size": 10,
             "solidity": 0.2
            },
            "type": "scatter"
           }
          ],
          "scatter3d": [
           {
            "line": {
             "colorbar": {
              "outlinewidth": 0,
              "ticks": ""
             }
            },
            "marker": {
             "colorbar": {
              "outlinewidth": 0,
              "ticks": ""
             }
            },
            "type": "scatter3d"
           }
          ],
          "scattercarpet": [
           {
            "marker": {
             "colorbar": {
              "outlinewidth": 0,
              "ticks": ""
             }
            },
            "type": "scattercarpet"
           }
          ],
          "scattergeo": [
           {
            "marker": {
             "colorbar": {
              "outlinewidth": 0,
              "ticks": ""
             }
            },
            "type": "scattergeo"
           }
          ],
          "scattergl": [
           {
            "marker": {
             "colorbar": {
              "outlinewidth": 0,
              "ticks": ""
             }
            },
            "type": "scattergl"
           }
          ],
          "scattermapbox": [
           {
            "marker": {
             "colorbar": {
              "outlinewidth": 0,
              "ticks": ""
             }
            },
            "type": "scattermapbox"
           }
          ],
          "scatterpolar": [
           {
            "marker": {
             "colorbar": {
              "outlinewidth": 0,
              "ticks": ""
             }
            },
            "type": "scatterpolar"
           }
          ],
          "scatterpolargl": [
           {
            "marker": {
             "colorbar": {
              "outlinewidth": 0,
              "ticks": ""
             }
            },
            "type": "scatterpolargl"
           }
          ],
          "scatterternary": [
           {
            "marker": {
             "colorbar": {
              "outlinewidth": 0,
              "ticks": ""
             }
            },
            "type": "scatterternary"
           }
          ],
          "surface": [
           {
            "colorbar": {
             "outlinewidth": 0,
             "ticks": ""
            },
            "colorscale": [
             [
              0,
              "#0d0887"
             ],
             [
              0.1111111111111111,
              "#46039f"
             ],
             [
              0.2222222222222222,
              "#7201a8"
             ],
             [
              0.3333333333333333,
              "#9c179e"
             ],
             [
              0.4444444444444444,
              "#bd3786"
             ],
             [
              0.5555555555555556,
              "#d8576b"
             ],
             [
              0.6666666666666666,
              "#ed7953"
             ],
             [
              0.7777777777777778,
              "#fb9f3a"
             ],
             [
              0.8888888888888888,
              "#fdca26"
             ],
             [
              1,
              "#f0f921"
             ]
            ],
            "type": "surface"
           }
          ],
          "table": [
           {
            "cells": {
             "fill": {
              "color": "#EBF0F8"
             },
             "line": {
              "color": "white"
             }
            },
            "header": {
             "fill": {
              "color": "#C8D4E3"
             },
             "line": {
              "color": "white"
             }
            },
            "type": "table"
           }
          ]
         },
         "layout": {
          "annotationdefaults": {
           "arrowcolor": "#2a3f5f",
           "arrowhead": 0,
           "arrowwidth": 1
          },
          "autotypenumbers": "strict",
          "coloraxis": {
           "colorbar": {
            "outlinewidth": 0,
            "ticks": ""
           }
          },
          "colorscale": {
           "diverging": [
            [
             0,
             "#8e0152"
            ],
            [
             0.1,
             "#c51b7d"
            ],
            [
             0.2,
             "#de77ae"
            ],
            [
             0.3,
             "#f1b6da"
            ],
            [
             0.4,
             "#fde0ef"
            ],
            [
             0.5,
             "#f7f7f7"
            ],
            [
             0.6,
             "#e6f5d0"
            ],
            [
             0.7,
             "#b8e186"
            ],
            [
             0.8,
             "#7fbc41"
            ],
            [
             0.9,
             "#4d9221"
            ],
            [
             1,
             "#276419"
            ]
           ],
           "sequential": [
            [
             0,
             "#0d0887"
            ],
            [
             0.1111111111111111,
             "#46039f"
            ],
            [
             0.2222222222222222,
             "#7201a8"
            ],
            [
             0.3333333333333333,
             "#9c179e"
            ],
            [
             0.4444444444444444,
             "#bd3786"
            ],
            [
             0.5555555555555556,
             "#d8576b"
            ],
            [
             0.6666666666666666,
             "#ed7953"
            ],
            [
             0.7777777777777778,
             "#fb9f3a"
            ],
            [
             0.8888888888888888,
             "#fdca26"
            ],
            [
             1,
             "#f0f921"
            ]
           ],
           "sequentialminus": [
            [
             0,
             "#0d0887"
            ],
            [
             0.1111111111111111,
             "#46039f"
            ],
            [
             0.2222222222222222,
             "#7201a8"
            ],
            [
             0.3333333333333333,
             "#9c179e"
            ],
            [
             0.4444444444444444,
             "#bd3786"
            ],
            [
             0.5555555555555556,
             "#d8576b"
            ],
            [
             0.6666666666666666,
             "#ed7953"
            ],
            [
             0.7777777777777778,
             "#fb9f3a"
            ],
            [
             0.8888888888888888,
             "#fdca26"
            ],
            [
             1,
             "#f0f921"
            ]
           ]
          },
          "colorway": [
           "#636efa",
           "#EF553B",
           "#00cc96",
           "#ab63fa",
           "#FFA15A",
           "#19d3f3",
           "#FF6692",
           "#B6E880",
           "#FF97FF",
           "#FECB52"
          ],
          "font": {
           "color": "#2a3f5f"
          },
          "geo": {
           "bgcolor": "white",
           "lakecolor": "white",
           "landcolor": "#E5ECF6",
           "showlakes": true,
           "showland": true,
           "subunitcolor": "white"
          },
          "hoverlabel": {
           "align": "left"
          },
          "hovermode": "closest",
          "mapbox": {
           "style": "light"
          },
          "paper_bgcolor": "white",
          "plot_bgcolor": "#E5ECF6",
          "polar": {
           "angularaxis": {
            "gridcolor": "white",
            "linecolor": "white",
            "ticks": ""
           },
           "bgcolor": "#E5ECF6",
           "radialaxis": {
            "gridcolor": "white",
            "linecolor": "white",
            "ticks": ""
           }
          },
          "scene": {
           "xaxis": {
            "backgroundcolor": "#E5ECF6",
            "gridcolor": "white",
            "gridwidth": 2,
            "linecolor": "white",
            "showbackground": true,
            "ticks": "",
            "zerolinecolor": "white"
           },
           "yaxis": {
            "backgroundcolor": "#E5ECF6",
            "gridcolor": "white",
            "gridwidth": 2,
            "linecolor": "white",
            "showbackground": true,
            "ticks": "",
            "zerolinecolor": "white"
           },
           "zaxis": {
            "backgroundcolor": "#E5ECF6",
            "gridcolor": "white",
            "gridwidth": 2,
            "linecolor": "white",
            "showbackground": true,
            "ticks": "",
            "zerolinecolor": "white"
           }
          },
          "shapedefaults": {
           "line": {
            "color": "#2a3f5f"
           }
          },
          "ternary": {
           "aaxis": {
            "gridcolor": "white",
            "linecolor": "white",
            "ticks": ""
           },
           "baxis": {
            "gridcolor": "white",
            "linecolor": "white",
            "ticks": ""
           },
           "bgcolor": "#E5ECF6",
           "caxis": {
            "gridcolor": "white",
            "linecolor": "white",
            "ticks": ""
           }
          },
          "title": {
           "x": 0.05
          },
          "xaxis": {
           "automargin": true,
           "gridcolor": "white",
           "linecolor": "white",
           "ticks": "",
           "title": {
            "standoff": 15
           },
           "zerolinecolor": "white",
           "zerolinewidth": 2
          },
          "yaxis": {
           "automargin": true,
           "gridcolor": "white",
           "linecolor": "white",
           "ticks": "",
           "title": {
            "standoff": 15
           },
           "zerolinecolor": "white",
           "zerolinewidth": 2
          }
         }
        },
        "title": {
         "text": "<b>Fluid Production per Wellbore (m<sup>3</sup>)</b>"
        },
        "width": 900,
        "xaxis": {
         "title": {
          "text": "Wellbore name"
         }
        },
        "yaxis": {
         "hoverformat": ",.0f",
         "title": {
          "text": "Liquid Volume"
         }
        },
        "yaxis2": {
         "hoverformat": ",.0f",
         "overlaying": "y",
         "side": "right",
         "title": {
          "text": "Gas Volume"
         }
        }
       }
      }
     },
     "metadata": {},
     "output_type": "display_data"
    }
   ],
   "source": [
    "layout = go.Layout(\n",
    "    title=\"<b>Fluid Production per Wellbore (m<sup>3</sup>)</b>\",\n",
    "    xaxis_title=\"Wellbore name\",\n",
    "    yaxis=dict(\n",
    "        title=\"Liquid Volume\",\n",
    "        hoverformat=\",.0f\"\n",
    "    ),\n",
    "    yaxis2=dict(\n",
    "        title=\"Gas Volume\",\n",
    "        overlaying=\"y\",\n",
    "        side=\"right\",\n",
    "        hoverformat=\",.0f\"\n",
    "    ),\n",
    "    legend=dict(orientation=\"h\", x=0.35, y=-0.15),\n",
    "    font_size=14,\n",
    "    width=900,\n",
    "    height=580\n",
    ")\n",
    "\n",
    "trace1 = go.Bar(\n",
    "    x=production_wells_df[\"WELLBORE_NAME\"],\n",
    "    y=production_wells_df[\"OIL\"],\n",
    "    customdata=(production_wells_df[\"OIL\"] / volumes.get(\"OIL\")),\n",
    "    hovertemplate=\"<br>\".join([\"<b>%{x}</b><br>\", \"<b>barrels:</b> %{customdata:,.0f}\", \"<b>cubic meters:</b> %{y}\"]),\n",
    "    marker=dict(color=\"#19CA9C\", line=dict(color=\"whitesmoke\", width=1.2)),\n",
    "    offsetgroup=1,\n",
    "    yaxis=\"y1\",\n",
    "    name=\"OIL\"\n",
    ")\n",
    "\n",
    "trace2 = go.Bar(\n",
    "    x=production_wells_df[\"WELLBORE_NAME\"],\n",
    "    y=production_wells_df[\"GAS\"],\n",
    "    customdata=(production_wells_df[\"GAS\"] / volumes.get(\"GAS\")),\n",
    "    hovertemplate=\"<br>\".join([\"<b>%{x}</b><br>\", \"<b>SCF:</b> %{customdata:,.0f}\", \"<b>cubic meters:</b> %{y}\"]),\n",
    "    marker=dict(color=\"#EE553C\", line=dict(color=\"whitesmoke\", width=1.2)),\n",
    "    offsetgroup=2,\n",
    "    yaxis=\"y2\",\n",
    "    name=\"GAS\"\n",
    ")\n",
    "\n",
    "trace3 = go.Bar(\n",
    "    x=production_wells_df[\"WELLBORE_NAME\"],\n",
    "    y=production_wells_df[\"WATER\"],\n",
    "    customdata=(production_wells_df[\"WATER\"] / volumes.get(\"WATER\")),\n",
    "    hovertemplate=\"<br>\".join([\"<b>%{x}</b><br>\", \"<b>barrels:</b> %{customdata:,.0f}\", \"<b>cubic meters:</b> %{y}\"]),\n",
    "    marker=dict(color=\"#636EFA\", line=dict(color=\"whitesmoke\", width=1.2)),\n",
    "    offsetgroup=3,\n",
    "    yaxis=\"y1\",\n",
    "    name=\"WATER\"\n",
    ")\n",
    "\n",
    "go.Figure(data=[trace1, trace2, trace3], layout=layout)"
   ]
  },
  {
   "cell_type": "markdown",
   "metadata": {},
   "source": [
    "### Answers\n",
    "\n",
    "- The wellbore `15/9-F-12` produced the highest amount of hydrocarbon.\n",
    "- The wellbore `15/9-F-5` produced the lowest amount of hydrocarbon. This is because its production life only began in **April 2016**, after being employed as an injection wellbore for waterflooding since **August 2016**.\n",
    "- The wellbore `15/9-F-14` was the biggest water producer. The high amount of produced water from the wellbore may indicate a poor management of water production."
   ]
  },
  {
   "cell_type": "code",
   "execution_count": 20,
   "metadata": {},
   "outputs": [
    {
     "data": {
      "application/vnd.plotly.v1+json": {
       "config": {
        "plotlyServerURL": "https://plot.ly"
       },
       "data": [
        {
         "customdata": [
          102151096.60726169,
          88619697.8593249
         ],
         "hoverlabel": {
          "bgcolor": "aliceblue",
          "font": {
           "color": "#333"
          }
         },
         "hovertemplate": "<b>%{x}</b><br><br><b>barrels:</b> %{customdata:,.0f}<br><b>cubic meters:</b> %{y}",
         "marker": {
          "color": [
           16240727.041627696,
           14089406.489469845
          ],
          "colorscale": [
           [
            0,
            "rgb(247,251,255)"
           ],
           [
            0.125,
            "rgb(222,235,247)"
           ],
           [
            0.25,
            "rgb(198,219,239)"
           ],
           [
            0.375,
            "rgb(158,202,225)"
           ],
           [
            0.5,
            "rgb(107,174,214)"
           ],
           [
            0.625,
            "rgb(66,146,198)"
           ],
           [
            0.75,
            "rgb(33,113,181)"
           ],
           [
            0.875,
            "rgb(8,81,156)"
           ],
           [
            1,
            "rgb(8,48,107)"
           ]
          ],
          "line": {
           "color": "gray",
           "width": 1.2
          }
         },
         "name": "",
         "type": "bar",
         "x": [
          "15/9-F-4",
          "15/9-F-5"
         ],
         "y": [
          16240727.041627696,
          14089406.489469845
         ]
        }
       ],
       "layout": {
        "font": {
         "size": 14
        },
        "height": 580,
        "template": {
         "data": {
          "bar": [
           {
            "error_x": {
             "color": "#2a3f5f"
            },
            "error_y": {
             "color": "#2a3f5f"
            },
            "marker": {
             "line": {
              "color": "#E5ECF6",
              "width": 0.5
             },
             "pattern": {
              "fillmode": "overlay",
              "size": 10,
              "solidity": 0.2
             }
            },
            "type": "bar"
           }
          ],
          "barpolar": [
           {
            "marker": {
             "line": {
              "color": "#E5ECF6",
              "width": 0.5
             },
             "pattern": {
              "fillmode": "overlay",
              "size": 10,
              "solidity": 0.2
             }
            },
            "type": "barpolar"
           }
          ],
          "carpet": [
           {
            "aaxis": {
             "endlinecolor": "#2a3f5f",
             "gridcolor": "white",
             "linecolor": "white",
             "minorgridcolor": "white",
             "startlinecolor": "#2a3f5f"
            },
            "baxis": {
             "endlinecolor": "#2a3f5f",
             "gridcolor": "white",
             "linecolor": "white",
             "minorgridcolor": "white",
             "startlinecolor": "#2a3f5f"
            },
            "type": "carpet"
           }
          ],
          "choropleth": [
           {
            "colorbar": {
             "outlinewidth": 0,
             "ticks": ""
            },
            "type": "choropleth"
           }
          ],
          "contour": [
           {
            "colorbar": {
             "outlinewidth": 0,
             "ticks": ""
            },
            "colorscale": [
             [
              0,
              "#0d0887"
             ],
             [
              0.1111111111111111,
              "#46039f"
             ],
             [
              0.2222222222222222,
              "#7201a8"
             ],
             [
              0.3333333333333333,
              "#9c179e"
             ],
             [
              0.4444444444444444,
              "#bd3786"
             ],
             [
              0.5555555555555556,
              "#d8576b"
             ],
             [
              0.6666666666666666,
              "#ed7953"
             ],
             [
              0.7777777777777778,
              "#fb9f3a"
             ],
             [
              0.8888888888888888,
              "#fdca26"
             ],
             [
              1,
              "#f0f921"
             ]
            ],
            "type": "contour"
           }
          ],
          "contourcarpet": [
           {
            "colorbar": {
             "outlinewidth": 0,
             "ticks": ""
            },
            "type": "contourcarpet"
           }
          ],
          "heatmap": [
           {
            "colorbar": {
             "outlinewidth": 0,
             "ticks": ""
            },
            "colorscale": [
             [
              0,
              "#0d0887"
             ],
             [
              0.1111111111111111,
              "#46039f"
             ],
             [
              0.2222222222222222,
              "#7201a8"
             ],
             [
              0.3333333333333333,
              "#9c179e"
             ],
             [
              0.4444444444444444,
              "#bd3786"
             ],
             [
              0.5555555555555556,
              "#d8576b"
             ],
             [
              0.6666666666666666,
              "#ed7953"
             ],
             [
              0.7777777777777778,
              "#fb9f3a"
             ],
             [
              0.8888888888888888,
              "#fdca26"
             ],
             [
              1,
              "#f0f921"
             ]
            ],
            "type": "heatmap"
           }
          ],
          "heatmapgl": [
           {
            "colorbar": {
             "outlinewidth": 0,
             "ticks": ""
            },
            "colorscale": [
             [
              0,
              "#0d0887"
             ],
             [
              0.1111111111111111,
              "#46039f"
             ],
             [
              0.2222222222222222,
              "#7201a8"
             ],
             [
              0.3333333333333333,
              "#9c179e"
             ],
             [
              0.4444444444444444,
              "#bd3786"
             ],
             [
              0.5555555555555556,
              "#d8576b"
             ],
             [
              0.6666666666666666,
              "#ed7953"
             ],
             [
              0.7777777777777778,
              "#fb9f3a"
             ],
             [
              0.8888888888888888,
              "#fdca26"
             ],
             [
              1,
              "#f0f921"
             ]
            ],
            "type": "heatmapgl"
           }
          ],
          "histogram": [
           {
            "marker": {
             "pattern": {
              "fillmode": "overlay",
              "size": 10,
              "solidity": 0.2
             }
            },
            "type": "histogram"
           }
          ],
          "histogram2d": [
           {
            "colorbar": {
             "outlinewidth": 0,
             "ticks": ""
            },
            "colorscale": [
             [
              0,
              "#0d0887"
             ],
             [
              0.1111111111111111,
              "#46039f"
             ],
             [
              0.2222222222222222,
              "#7201a8"
             ],
             [
              0.3333333333333333,
              "#9c179e"
             ],
             [
              0.4444444444444444,
              "#bd3786"
             ],
             [
              0.5555555555555556,
              "#d8576b"
             ],
             [
              0.6666666666666666,
              "#ed7953"
             ],
             [
              0.7777777777777778,
              "#fb9f3a"
             ],
             [
              0.8888888888888888,
              "#fdca26"
             ],
             [
              1,
              "#f0f921"
             ]
            ],
            "type": "histogram2d"
           }
          ],
          "histogram2dcontour": [
           {
            "colorbar": {
             "outlinewidth": 0,
             "ticks": ""
            },
            "colorscale": [
             [
              0,
              "#0d0887"
             ],
             [
              0.1111111111111111,
              "#46039f"
             ],
             [
              0.2222222222222222,
              "#7201a8"
             ],
             [
              0.3333333333333333,
              "#9c179e"
             ],
             [
              0.4444444444444444,
              "#bd3786"
             ],
             [
              0.5555555555555556,
              "#d8576b"
             ],
             [
              0.6666666666666666,
              "#ed7953"
             ],
             [
              0.7777777777777778,
              "#fb9f3a"
             ],
             [
              0.8888888888888888,
              "#fdca26"
             ],
             [
              1,
              "#f0f921"
             ]
            ],
            "type": "histogram2dcontour"
           }
          ],
          "mesh3d": [
           {
            "colorbar": {
             "outlinewidth": 0,
             "ticks": ""
            },
            "type": "mesh3d"
           }
          ],
          "parcoords": [
           {
            "line": {
             "colorbar": {
              "outlinewidth": 0,
              "ticks": ""
             }
            },
            "type": "parcoords"
           }
          ],
          "pie": [
           {
            "automargin": true,
            "type": "pie"
           }
          ],
          "scatter": [
           {
            "fillpattern": {
             "fillmode": "overlay",
             "size": 10,
             "solidity": 0.2
            },
            "type": "scatter"
           }
          ],
          "scatter3d": [
           {
            "line": {
             "colorbar": {
              "outlinewidth": 0,
              "ticks": ""
             }
            },
            "marker": {
             "colorbar": {
              "outlinewidth": 0,
              "ticks": ""
             }
            },
            "type": "scatter3d"
           }
          ],
          "scattercarpet": [
           {
            "marker": {
             "colorbar": {
              "outlinewidth": 0,
              "ticks": ""
             }
            },
            "type": "scattercarpet"
           }
          ],
          "scattergeo": [
           {
            "marker": {
             "colorbar": {
              "outlinewidth": 0,
              "ticks": ""
             }
            },
            "type": "scattergeo"
           }
          ],
          "scattergl": [
           {
            "marker": {
             "colorbar": {
              "outlinewidth": 0,
              "ticks": ""
             }
            },
            "type": "scattergl"
           }
          ],
          "scattermapbox": [
           {
            "marker": {
             "colorbar": {
              "outlinewidth": 0,
              "ticks": ""
             }
            },
            "type": "scattermapbox"
           }
          ],
          "scatterpolar": [
           {
            "marker": {
             "colorbar": {
              "outlinewidth": 0,
              "ticks": ""
             }
            },
            "type": "scatterpolar"
           }
          ],
          "scatterpolargl": [
           {
            "marker": {
             "colorbar": {
              "outlinewidth": 0,
              "ticks": ""
             }
            },
            "type": "scatterpolargl"
           }
          ],
          "scatterternary": [
           {
            "marker": {
             "colorbar": {
              "outlinewidth": 0,
              "ticks": ""
             }
            },
            "type": "scatterternary"
           }
          ],
          "surface": [
           {
            "colorbar": {
             "outlinewidth": 0,
             "ticks": ""
            },
            "colorscale": [
             [
              0,
              "#0d0887"
             ],
             [
              0.1111111111111111,
              "#46039f"
             ],
             [
              0.2222222222222222,
              "#7201a8"
             ],
             [
              0.3333333333333333,
              "#9c179e"
             ],
             [
              0.4444444444444444,
              "#bd3786"
             ],
             [
              0.5555555555555556,
              "#d8576b"
             ],
             [
              0.6666666666666666,
              "#ed7953"
             ],
             [
              0.7777777777777778,
              "#fb9f3a"
             ],
             [
              0.8888888888888888,
              "#fdca26"
             ],
             [
              1,
              "#f0f921"
             ]
            ],
            "type": "surface"
           }
          ],
          "table": [
           {
            "cells": {
             "fill": {
              "color": "#EBF0F8"
             },
             "line": {
              "color": "white"
             }
            },
            "header": {
             "fill": {
              "color": "#C8D4E3"
             },
             "line": {
              "color": "white"
             }
            },
            "type": "table"
           }
          ]
         },
         "layout": {
          "annotationdefaults": {
           "arrowcolor": "#2a3f5f",
           "arrowhead": 0,
           "arrowwidth": 1
          },
          "autotypenumbers": "strict",
          "coloraxis": {
           "colorbar": {
            "outlinewidth": 0,
            "ticks": ""
           }
          },
          "colorscale": {
           "diverging": [
            [
             0,
             "#8e0152"
            ],
            [
             0.1,
             "#c51b7d"
            ],
            [
             0.2,
             "#de77ae"
            ],
            [
             0.3,
             "#f1b6da"
            ],
            [
             0.4,
             "#fde0ef"
            ],
            [
             0.5,
             "#f7f7f7"
            ],
            [
             0.6,
             "#e6f5d0"
            ],
            [
             0.7,
             "#b8e186"
            ],
            [
             0.8,
             "#7fbc41"
            ],
            [
             0.9,
             "#4d9221"
            ],
            [
             1,
             "#276419"
            ]
           ],
           "sequential": [
            [
             0,
             "#0d0887"
            ],
            [
             0.1111111111111111,
             "#46039f"
            ],
            [
             0.2222222222222222,
             "#7201a8"
            ],
            [
             0.3333333333333333,
             "#9c179e"
            ],
            [
             0.4444444444444444,
             "#bd3786"
            ],
            [
             0.5555555555555556,
             "#d8576b"
            ],
            [
             0.6666666666666666,
             "#ed7953"
            ],
            [
             0.7777777777777778,
             "#fb9f3a"
            ],
            [
             0.8888888888888888,
             "#fdca26"
            ],
            [
             1,
             "#f0f921"
            ]
           ],
           "sequentialminus": [
            [
             0,
             "#0d0887"
            ],
            [
             0.1111111111111111,
             "#46039f"
            ],
            [
             0.2222222222222222,
             "#7201a8"
            ],
            [
             0.3333333333333333,
             "#9c179e"
            ],
            [
             0.4444444444444444,
             "#bd3786"
            ],
            [
             0.5555555555555556,
             "#d8576b"
            ],
            [
             0.6666666666666666,
             "#ed7953"
            ],
            [
             0.7777777777777778,
             "#fb9f3a"
            ],
            [
             0.8888888888888888,
             "#fdca26"
            ],
            [
             1,
             "#f0f921"
            ]
           ]
          },
          "colorway": [
           "#636efa",
           "#EF553B",
           "#00cc96",
           "#ab63fa",
           "#FFA15A",
           "#19d3f3",
           "#FF6692",
           "#B6E880",
           "#FF97FF",
           "#FECB52"
          ],
          "font": {
           "color": "#2a3f5f"
          },
          "geo": {
           "bgcolor": "white",
           "lakecolor": "white",
           "landcolor": "#E5ECF6",
           "showlakes": true,
           "showland": true,
           "subunitcolor": "white"
          },
          "hoverlabel": {
           "align": "left"
          },
          "hovermode": "closest",
          "mapbox": {
           "style": "light"
          },
          "paper_bgcolor": "white",
          "plot_bgcolor": "#E5ECF6",
          "polar": {
           "angularaxis": {
            "gridcolor": "white",
            "linecolor": "white",
            "ticks": ""
           },
           "bgcolor": "#E5ECF6",
           "radialaxis": {
            "gridcolor": "white",
            "linecolor": "white",
            "ticks": ""
           }
          },
          "scene": {
           "xaxis": {
            "backgroundcolor": "#E5ECF6",
            "gridcolor": "white",
            "gridwidth": 2,
            "linecolor": "white",
            "showbackground": true,
            "ticks": "",
            "zerolinecolor": "white"
           },
           "yaxis": {
            "backgroundcolor": "#E5ECF6",
            "gridcolor": "white",
            "gridwidth": 2,
            "linecolor": "white",
            "showbackground": true,
            "ticks": "",
            "zerolinecolor": "white"
           },
           "zaxis": {
            "backgroundcolor": "#E5ECF6",
            "gridcolor": "white",
            "gridwidth": 2,
            "linecolor": "white",
            "showbackground": true,
            "ticks": "",
            "zerolinecolor": "white"
           }
          },
          "shapedefaults": {
           "line": {
            "color": "#2a3f5f"
           }
          },
          "ternary": {
           "aaxis": {
            "gridcolor": "white",
            "linecolor": "white",
            "ticks": ""
           },
           "baxis": {
            "gridcolor": "white",
            "linecolor": "white",
            "ticks": ""
           },
           "bgcolor": "#E5ECF6",
           "caxis": {
            "gridcolor": "white",
            "linecolor": "white",
            "ticks": ""
           }
          },
          "title": {
           "x": 0.05
          },
          "xaxis": {
           "automargin": true,
           "gridcolor": "white",
           "linecolor": "white",
           "ticks": "",
           "title": {
            "standoff": 15
           },
           "zerolinecolor": "white",
           "zerolinewidth": 2
          },
          "yaxis": {
           "automargin": true,
           "gridcolor": "white",
           "linecolor": "white",
           "ticks": "",
           "title": {
            "standoff": 15
           },
           "zerolinecolor": "white",
           "zerolinewidth": 2
          }
         }
        },
        "title": {
         "text": "<b>Water Injection per Wellbore (m<sup>3</sup>)</b>"
        },
        "width": 900,
        "xaxis": {
         "title": {
          "text": "Wellbore name"
         }
        },
        "yaxis": {
         "hoverformat": ",.0f",
         "title": {
          "text": "Water Volume"
         }
        }
       }
      }
     },
     "metadata": {},
     "output_type": "display_data"
    }
   ],
   "source": [
    "layout = go.Layout(\n",
    "    title=\"<b>Water Injection per Wellbore (m<sup>3</sup>)</b>\",\n",
    "    xaxis_title=\"Wellbore name\",\n",
    "    yaxis=dict(\n",
    "        title=\"Water Volume\",\n",
    "        hoverformat=\",.0f\"\n",
    "    ),\n",
    "    font_size=14,\n",
    "    width=900,\n",
    "    height=580\n",
    ")\n",
    "\n",
    "trace = go.Bar(\n",
    "    x=injection_wells_df[\"WELLBORE_NAME\"],\n",
    "    y=injection_wells_df[\"WI\"],\n",
    "    customdata=(injection_wells_df[\"WI\"] / volumes.get(\"WATER\")),\n",
    "    hovertemplate=\"<br>\".join([\"<b>%{x}</b><br>\", \"<b>barrels:</b> %{customdata:,.0f}\", \"<b>cubic meters:</b> %{y}\"]),\n",
    "    hoverlabel=dict(bgcolor=\"aliceblue\", font_color=\"#333\"),\n",
    "    marker=dict(color=injection_wells_df[\"WI\"], colorscale=\"Blues\", line=dict(color=\"gray\", width=1.2)),\n",
    "    name=\"\"\n",
    ")\n",
    "\n",
    "go.Figure(data=[trace], layout=layout)"
   ]
  },
  {
   "cell_type": "code",
   "execution_count": 21,
   "metadata": {},
   "outputs": [
    {
     "data": {
      "image/png": "[encoded data removed]",
      "text/plain": [
       "<Figure size 1800x1100 with 4 Axes>"
      ]
     },
     "metadata": {
      "needs_background": "light"
     },
     "output_type": "display_data"
    }
   ],
   "source": [
    "fig, axes = plt.subplots(2, 2, figsize=(18, 11))\n",
    "\n",
    "sns.barplot(x=\"WELLBORE_NAME\", y=\"OIL\", hue=\"OIL\", palette=\"Greens\", dodge=False, data=production_wells_df, ax=axes[0, 0]).legend_.remove()\n",
    "axes[0, 0].set_xlabel(\"Wellbore name\")\n",
    "axes[0, 0].set_ylabel(\"Oil Volume\")\n",
    "axes[0, 0].set_title(\"Oil Production per Wellbore (m$^3$)\")\n",
    "\n",
    "sns.barplot(x=\"WELLBORE_NAME\", y=\"GAS\", hue=\"GAS\", palette=\"Reds\", dodge=False, data=production_wells_df, ax=axes[0, 1]).legend_.remove()\n",
    "axes[0, 1].set_xlabel(\"Wellbore name\")\n",
    "axes[0, 1].set_ylabel(\"Gas Volume\")\n",
    "axes[0, 1].set_title(\"Gas Production per Wellbore (m$^3$)\")\n",
    "\n",
    "sns.barplot(x=\"WELLBORE_NAME\", y=\"WATER\", hue=\"WATER\", palette=\"Blues\", dodge=False, data=production_wells_df, ax=axes[1, 0]).legend_.remove()\n",
    "axes[1, 0].set_xlabel(\"Wellbore name\")\n",
    "axes[1, 0].set_ylabel(\"Water Volume\")\n",
    "axes[1, 0].set_title(\"Water Production per Wellbore (m$^3$)\")\n",
    "\n",
    "sns.barplot(x=\"WELLBORE_NAME\", y=\"WI\", hue=\"WI\", palette=\"Blues\", dodge=False, data=injection_wells_df, ax=axes[1, 1]).legend_.remove()\n",
    "axes[1, 1].set_xlabel(\"Wellbore name\")\n",
    "axes[1, 1].set_ylabel(\"Water Volume\")\n",
    "axes[1, 1].set_title(\"Water Injection per Wellbore (m$^3$)\")\n",
    "\n",
    "plt.tight_layout(pad=2)"
   ]
  },
  {
   "cell_type": "markdown",
   "metadata": {},
   "source": [
    "[Back to Top](#analysis-and-visualization)"
   ]
  },
  {
   "cell_type": "markdown",
   "metadata": {},
   "source": [
    "## Wellbore Production Analysis\n",
    "\n",
    "The individual analysis of each wellbore will help provide a more accurate picture of the events. As there are seven (07) wellbores in the dataset, analyzing them one after the other would be time-consuming. We will therefore proceed by creating functions to automate the process."
   ]
  },
  {
   "cell_type": "code",
   "execution_count": 22,
   "metadata": {},
   "outputs": [],
   "source": [
    "# PRODUCTION WELLS\n",
    "\n",
    "def analyze_production_wellbore(data: pd.DataFrame, well_name: str) -> go.Figure:\n",
    "    fig = make_subplots(\n",
    "        rows=2,\n",
    "        cols=2,\n",
    "        vertical_spacing=0.175,\n",
    "        subplot_titles=(\n",
    "            \"<b>Annual Oil Production (m<sup>3</sup>)</b>\", \"<b>Monthly Oil Production (m<sup>3</sup>)</b>\", \n",
    "            \"<b>Annual Gas Production (m<sup>3</sup>)</b>\", \"<b>Monthly Gas Production (m<sup>3</sup>)</b>\"\n",
    "        )\n",
    "    )\n",
    "\n",
    "    annual_df = fn.annual_data(data, well_name)\n",
    "    monthly_oil_df, monthly_gas_df = (fn.generate_monthly_dataframes(data, well_name).get(key) for key in (\"OIL\", \"GAS\"))\n",
    "\n",
    "    trace1 = go.Bar(\n",
    "        x=annual_df[\"YEAR\"],\n",
    "        y=annual_df[\"OIL\"],\n",
    "        customdata=(annual_df[\"OIL\"] / volumes.get(\"OIL\")),\n",
    "        hovertemplate=\"<br>\".join([\"<b>%{x}</b><br>\", \"<b>barrels:</b> %{customdata:,.0f}\", \"<b>cubic meters:</b> %{y:,.0f}\"]),\n",
    "        marker=dict(color=\"mediumspringgreen\", line=dict(color=\"whitesmoke\", width=1.2)),\n",
    "        showlegend=False,\n",
    "        name=\"\"\n",
    "    )\n",
    "\n",
    "    trace2 = go.Heatmap(\n",
    "        x=monthly_oil_df.columns,\n",
    "        y=monthly_oil_df.index,\n",
    "        z=monthly_oil_df.values,\n",
    "        customdata=(monthly_oil_df.values / volumes.get(\"OIL\")),\n",
    "        hovertemplate=\"<br>\".join([\"<b>%{y} %{x}</b><br>\", \"<b>barrels:</b> %{customdata:,.0f}\", \"<b>cubic meters:</b> %{z:,.0f}\"]),\n",
    "        hoverlabel=dict(bgcolor=\"#F2FBF0\", font_color=\"#333\"),\n",
    "        colorscale=\"Greens\",\n",
    "        showscale=False,\n",
    "        name=\"\"\n",
    "    )\n",
    "\n",
    "    trace3 = go.Bar(\n",
    "        x=annual_df[\"YEAR\"],\n",
    "        y=annual_df[\"GAS\"],\n",
    "        customdata=(annual_df[\"GAS\"] / volumes.get(\"GAS\")),\n",
    "        hovertemplate=\"<br>\".join([\"<b>%{x}</b><br>\", \"<b>SCF:</b> %{customdata:,.0f}\", \"<b>cubic meters:</b> %{y:,.0f}\"]),\n",
    "        marker=dict(color=\"crimson\", line=dict(color=\"whitesmoke\", width=1.2)),\n",
    "        showlegend=False,\n",
    "        name=\"\"\n",
    "    )\n",
    "\n",
    "    trace4 = go.Heatmap(\n",
    "        x=monthly_gas_df.columns,\n",
    "        y=monthly_gas_df.index,\n",
    "        z=monthly_gas_df.values,\n",
    "        customdata=(monthly_gas_df.values / volumes.get(\"GAS\")),\n",
    "        hovertemplate=\"<br>\".join([\"<b>%{y} %{x}</b><br>\", \"<b>SCF:</b> %{customdata:,.0f}\", \"<b>cubic meters:</b> %{z:,.0f}\"]),\n",
    "        hoverlabel=dict(bgcolor=\"#FEF5F1\", font_color=\"#333\"),\n",
    "        colorscale=\"Reds\",\n",
    "        showscale=False,\n",
    "        name=\"\"\n",
    "    )\n",
    "\n",
    "    data = [trace1, trace2, trace3, trace4]\n",
    "    i = 0\n",
    "\n",
    "    for row in range(1, 3):\n",
    "        for col in range(1, 3):\n",
    "            fig.add_trace(data[i], row=row, col=col)\n",
    "            i += 1\n",
    "            fig.update_xaxes(title=\"Year\", tickmode=\"array\", tickvals=annual_df[\"YEAR\"], row=row, col=col)\n",
    "    \n",
    "    fig.update_yaxes(title=dict(text=\"Oil Volume\", standoff=3), row=1, col=1)\n",
    "    fig.update_yaxes(title=dict(text=\"Gas Volume\", standoff=3), row=2, col=1)\n",
    "    fig.update_yaxes(title=dict(text=\"Month\", standoff=3), autorange=\"reversed\", row=1, col=2)\n",
    "    fig.update_yaxes(title=dict(text=\"Month\", standoff=3), autorange=\"reversed\", row=2, col=2)\n",
    "\n",
    "    for trace in fig.layout.annotations:\n",
    "        trace.font.size = 18\n",
    "\n",
    "    fig.update_layout(\n",
    "        title=dict(text=f\"<b>Wellbore {well_name.upper()}</b>\", font_size=20), \n",
    "        height=1000, \n",
    "        font_size=14,\n",
    "        margin=dict(t=120)\n",
    "    )\n",
    "\n",
    "    return fig"
   ]
  },
  {
   "cell_type": "code",
   "execution_count": 23,
   "metadata": {},
   "outputs": [],
   "source": [
    "# INJECTION WELLS\n",
    "\n",
    "def analyze_injection_wellbore(data: pd.DataFrame, well_name: str) -> go.Figure:\n",
    "    fig = make_subplots(\n",
    "        rows=1,\n",
    "        cols=2,\n",
    "        subplot_titles=(\n",
    "            \"<b>Annual Water Injection (m<sup>3</sup>)</b>\", \n",
    "            \"<b>Monthly Water Injection (m<sup>3</sup>)</b>\"\n",
    "        )\n",
    "    )\n",
    "\n",
    "    annual_df = fn.annual_data(data, well_name)\n",
    "    monthly_water_injection_df = fn.monthly_data(data, well_name, parameter=\"WI\")\n",
    "\n",
    "    trace1 = go.Bar(\n",
    "        x=annual_df[\"YEAR\"],\n",
    "        y=annual_df[\"WI\"],\n",
    "        customdata=(annual_df[\"WI\"] / volumes.get(\"WATER\")),\n",
    "        hovertemplate=\"<br>\".join([\"<b>%{x}</b><br>\", \"<b>barrels:</b> %{customdata:,.0f}\", \"<b>cubic meters:</b> %{y:,.0f}\"]),\n",
    "        hoverlabel=dict(bgcolor=\"aliceblue\", font_color=\"#333\"),\n",
    "        marker=dict(color=\"deepskyblue\", line=dict(color=\"whitesmoke\", width=1.2)),\n",
    "        name=\"\"\n",
    "    )\n",
    "\n",
    "    trace2 = go.Heatmap(\n",
    "        x=monthly_water_injection_df.columns,\n",
    "        y=monthly_water_injection_df.index,\n",
    "        z=monthly_water_injection_df.values,\n",
    "        customdata=(monthly_water_injection_df.values / volumes.get(\"WATER\")),\n",
    "        hovertemplate=\"<br>\".join([\"<b>%{y} %{x}</b><br>\", \"<b>barrels:</b> %{customdata:,.0f}\", \"<b>cubic meters:</b> %{z:,.0f}\"]),\n",
    "        hoverlabel=dict(bgcolor=\"aliceblue\", font_color=\"#333\"),\n",
    "        colorscale=\"Blues\",\n",
    "        showscale=False,\n",
    "        name=\"\"\n",
    "    )\n",
    "\n",
    "    fig.add_trace(trace1, row=1, col=1)\n",
    "    fig.add_trace(trace2, row=1, col=2)\n",
    "\n",
    "    for col in range(1, 3):\n",
    "        fig.update_xaxes(title=\"Year\", tickmode=\"array\", tickvals=annual_df[\"YEAR\"], row=1, col=col)\n",
    "    \n",
    "    fig.update_yaxes(title=dict(text=\"Water Volume\", standoff=3), col=1)\n",
    "    fig.update_yaxes(title=dict(text=\"Month\", standoff=3), autorange=\"reversed\", col=2)\n",
    "\n",
    "    for trace in fig.layout.annotations:\n",
    "        trace.font.size = 18\n",
    "    \n",
    "    fig.update_layout(\n",
    "        title=dict(text=f\"<b>Wellbore {well_name.upper()}</b>\", font_size=20),\n",
    "        height=530,\n",
    "        font_size=14,\n",
    "        margin=dict(t=120)\n",
    "    )\n",
    "\n",
    "    return fig"
   ]
  },
  {
   "cell_type": "code",
   "execution_count": 24,
   "metadata": {},
   "outputs": [],
   "source": [
    "# HYBRID WELLS\n",
    "\n",
    "def analyze_hybrid_wellbore(data: pd.DataFrame, well_name: str) -> go.Figure:\n",
    "    fig = make_subplots(\n",
    "        rows=2,\n",
    "        cols=3,\n",
    "        vertical_spacing=0.185,\n",
    "        subplot_titles=(\n",
    "            \"<b>Annual Oil Production (m<sup>3</sup>)</b>\", \"<b>Annual Gas Production (m<sup>3</sup>)</b>\",\n",
    "            \"<b>Annual Water Injection (m<sup>3</sup>)</b>\", \"<b>Monthly Oil Production (m<sup>3</sup>)</b>\", \n",
    "            \"<b>Monthly Gas Production (m<sup>3</sup>)</b>\", \"<b>Monthly Water Injection (m<sup>3</sup>)</b>\"\n",
    "        )\n",
    "    )\n",
    "\n",
    "    annual_df = fn.annual_data(data, well_name)\n",
    "    monthly_oil_df, monthly_gas_df, monthly_wi_df = (fn.generate_monthly_dataframes(data, well_name).get(key) for key in (\"OIL\", \"GAS\", \"WI\"))\n",
    "\n",
    "    trace1 = go.Bar(\n",
    "        x=annual_df[\"YEAR\"],\n",
    "        y=annual_df[\"OIL\"],\n",
    "        customdata=(annual_df[\"OIL\"] / volumes.get(\"OIL\")),\n",
    "        hovertemplate=\"<br>\".join([\"<b>%{x}</b><br>\", \"<b>barrels:</b> %{customdata:,.0f}\", \"<b>cubic meters:</b> %{y:,.0f}\"]),\n",
    "        marker=dict(color=\"mediumspringgreen\", line=dict(color=\"whitesmoke\", width=1.2)),\n",
    "        showlegend=False,\n",
    "        name=\"\"\n",
    "    )\n",
    "\n",
    "    trace2 = go.Bar(\n",
    "        x=annual_df[\"YEAR\"],\n",
    "        y=annual_df[\"GAS\"],\n",
    "        customdata=(annual_df[\"GAS\"] / volumes.get(\"GAS\")),\n",
    "        hovertemplate=\"<br>\".join([\"<b>%{x}</b><br>\", \"<b>SCF:</b> %{customdata:,.0f}\", \"<b>cubic meters:</b> %{y:,.0f}\"]),\n",
    "        marker=dict(color=\"crimson\", line=dict(color=\"whitesmoke\", width=1.2)),\n",
    "        showlegend=False,\n",
    "        name=\"\"\n",
    "    )\n",
    "\n",
    "    trace3 = go.Bar(\n",
    "        x=annual_df[\"YEAR\"],\n",
    "        y=annual_df[\"WI\"],\n",
    "        customdata=(annual_df[\"WI\"] / volumes.get(\"WATER\")),\n",
    "        hovertemplate=\"<br>\".join([\"<b>%{x}</b><br>\", \"<b>barrels:</b> %{customdata:,.0f}\", \"<b>cubic meters:</b> %{y:,.0f}\"]),\n",
    "        marker=dict(color=\"deepskyblue\", line=dict(color=\"whitesmoke\", width=1.2)),\n",
    "        showlegend=False,\n",
    "        name=\"\"\n",
    "    )\n",
    "\n",
    "    trace4 = go.Heatmap(\n",
    "        x=monthly_oil_df.columns,\n",
    "        y=monthly_oil_df.index,\n",
    "        z=monthly_oil_df.values,\n",
    "        customdata=(monthly_oil_df.values / volumes.get(\"OIL\")),\n",
    "        hovertemplate=\"<br>\".join([\"<b>%{y} %{x}</b><br>\", \"<b>barrels:</b> %{customdata:,.0f}\", \"<b>cubic meters:</b> %{z:,.0f}\"]),\n",
    "        hoverlabel=dict(bgcolor=\"#F2FBF0\", font_color=\"#333\"),\n",
    "        colorscale=\"Greens\",\n",
    "        showscale=False,\n",
    "        name=\"\"\n",
    "    )\n",
    "\n",
    "    trace5 = go.Heatmap(\n",
    "        x=monthly_gas_df.columns,\n",
    "        y=monthly_gas_df.index,\n",
    "        z=monthly_gas_df.values,\n",
    "        customdata=(monthly_gas_df.values / volumes.get(\"GAS\")),\n",
    "        hovertemplate=\"<br>\".join([\"<b>%{y} %{x}</b><br>\", \"<b>SCF:</b> %{customdata:,.0f}\", \"<b>cubic meters:</b> %{z:,.0f}\"]),\n",
    "        hoverlabel=dict(bgcolor=\"#FEF5F1\", font_color=\"#333\"),\n",
    "        colorscale=\"Reds\",\n",
    "        showscale=False,\n",
    "        name=\"\"\n",
    "    )\n",
    "\n",
    "    trace6 = go.Heatmap(\n",
    "        x=monthly_wi_df.columns,\n",
    "        y=monthly_wi_df.index,\n",
    "        z=monthly_wi_df.values,\n",
    "        customdata=(monthly_wi_df.values / volumes.get(\"WATER\")),\n",
    "        hovertemplate=\"<br>\".join([\"<b>%{y} %{x}</b><br>\", \"<b>barrels:</b> %{customdata:,.0f}\", \"<b>cubic meters:</b> %{z:,.0f}\"]),\n",
    "        hoverlabel=dict(bgcolor=\"aliceblue\", font_color=\"#333\"),\n",
    "        colorscale=\"Blues\",\n",
    "        showscale=False,\n",
    "        name=\"\"\n",
    "    )\n",
    "\n",
    "    data = [trace1, trace2, trace3, trace4, trace5, trace6]\n",
    "    i = 0\n",
    "\n",
    "    for row in range(1, 3):\n",
    "        for col in range(1, 4):\n",
    "            fig.add_trace(data[i], row=row, col=col)\n",
    "            i += 1\n",
    "            fig.update_xaxes(title=\"Year\", tickmode=\"array\", tickvals=annual_df[\"YEAR\"], row=row, col=col)\n",
    "    \n",
    "    fig.update_yaxes(title=dict(text=\"Oil Volume\", standoff=3), row=1, col=1)\n",
    "    fig.update_yaxes(title=dict(text=\"Gas Volume\", standoff=3), row=1, col=2)\n",
    "    fig.update_yaxes(title=dict(text=\"Water Volume\", standoff=3), row=1, col=3)\n",
    "    fig.update_yaxes(title=dict(text=\"Month\", standoff=3), autorange=\"reversed\", row=2, col=1)\n",
    "    fig.update_yaxes(title=dict(text=\"Month\", standoff=3), autorange=\"reversed\", row=2, col=2)\n",
    "    fig.update_yaxes(title=dict(text=\"Month\", standoff=3), autorange=\"reversed\", row=2, col=3)\n",
    "\n",
    "    for trace in fig.layout.annotations:\n",
    "        trace.font.size = 18\n",
    "\n",
    "    fig.update_layout(\n",
    "        title=dict(text=f\"<b>Wellbore {well_name.upper()}</b>\", font_size=20),\n",
    "        height=810,\n",
    "        font_size=14,\n",
    "        margin=dict(t=120)\n",
    "    )\n",
    "\n",
    "    return fig"
   ]
  },
  {
   "cell_type": "code",
   "execution_count": 25,
   "metadata": {},
   "outputs": [],
   "source": [
    "def analyze_wellbore(data: pd.DataFrame, well_name: str) -> go.Figure:\n",
    "    well_type = fn.determine_well_type(data, well_name)\n",
    "\n",
    "    if well_type == \"PRODUCTION\":\n",
    "        return analyze_production_wellbore(data, well_name)\n",
    "    elif well_type == \"INJECTION\":\n",
    "        return analyze_injection_wellbore(data, well_name)\n",
    "    else:\n",
    "        return analyze_hybrid_wellbore(data, well_name)"
   ]
  },
  {
   "cell_type": "code",
   "execution_count": 26,
   "metadata": {},
   "outputs": [
    {
     "data": {
      "application/vnd.plotly.v1+json": {
       "config": {
        "plotlyServerURL": "https://plot.ly"
       },
       "data": [
        {
         "customdata": [
          7380757.205135252,
          9576491.581403043,
          5496212.276074882,
          2136762.307429587,
          1420379.866819551,
          868959.3445514202,
          364801.46527427033,
          1259227.4980454412,
          301285.00829940505
         ],
         "hovertemplate": "<b>%{x}</b><br><br><b>barrels:</b> %{customdata:,.0f}<br><b>cubic meters:</b> %{y:,.0f}",
         "marker": {
          "color": "mediumspringgreen",
          "line": {
           "color": "whitesmoke",
           "width": 1.2
          }
         },
         "name": "",
         "showlegend": false,
         "type": "bar",
         "x": [
          2008,
          2009,
          2010,
          2011,
          2012,
          2013,
          2014,
          2015,
          2016
         ],
         "xaxis": "x",
         "y": [
          1173446.66,
          1522540.54,
          873827.95,
          339718.07,
          225822.36,
          138153.5,
          57998.8,
          200201.18,
          47900.49
         ],
         "yaxis": "y"
        },
        {
         "colorscale": [
          [
           0,
           "rgb(247,252,245)"
          ],
          [
           0.125,
           "rgb(229,245,224)"
          ],
          [
           0.25,
           "rgb(199,233,192)"
          ],
          [
           0.375,
           "rgb(161,217,155)"
          ],
          [
           0.5,
           "rgb(116,196,118)"
          ],
          [
           0.625,
           "rgb(65,171,93)"
          ],
          [
           0.75,
           "rgb(35,139,69)"
          ],
          [
           0.875,
           "rgb(0,109,44)"
          ],
          [
           1,
           "rgb(0,68,27)"
          ]
         ],
         "customdata": [
          [
           0,
           966600.2253010146,
           941325.6907941703,
           281447.3231509687,
           114586.82548857675,
           109496.6075906692,
           31431.69297170277,
           161727.06876586998,
           59721.625563802896
          ],
          [
           308773.46806946216,
           766759.4204065356,
           648014.0237616464,
           183395.08879011092,
           172103.4321609336,
           94896.76219421299,
           38376.650210425614,
           123145.37073086969,
           48080.06677262901
          ],
          [
           524326.5342577677,
           584692.6767106556,
           638866.1861670712,
           235207.78074726724,
           167811.3912243305,
           39662.350388993334,
           42995.006519388655,
           121653.93084856463,
           46292.56550680463
          ],
          [
           468794.9918012319,
           949482.6316315831,
           542518.8678592567,
           237878.8746019336,
           151511.1584384413,
           77687.58888288561,
           37059.626775220415,
           124516.61233318638,
           38695.9838930531
          ],
          [
           789236.3729681553,
           887108.6558486118,
           485029.68476098403,
           234010.57820341625,
           140987.04739309367,
           102608.19574896863,
           20364.519681760743,
           106904.63955297058,
           36890.55666710486
          ],
          [
           904392.0489246626,
           832957.7897102473,
           437880.0696659419,
           138539.7449984999,
           131377.6634989084,
           74846.04116177832,
           36173.95854889038,
           122879.6262342967,
           34017.24540262021
          ],
          [
           723294.313445162,
           667381.9229586263,
           402797.5190471189,
           78386.26104097623,
           133387.63536458573,
           74607.40574876106,
           36429.576450446046,
           120496.73149993742,
           28516.868957457606
          ],
          [
           615284.742869399,
           707064.4636395486,
           189432.4892617209,
           228824.25200000254,
           56597.225061372825,
           95272.89286628555,
           27980.1594215387,
           84744.31605543336,
           9070.095535932744
          ],
          [
           488510.40303219185,
           566704.9506470014,
           322748.6094801283,
           188689.09655047918,
           6377.427631012037,
           58014.25648463746,
           31842.732092437574,
           78588.10106216032,
           0
          ],
          [
           593489.1025886973,
           798426.3522935479,
           323488.60569366236,
           79550.3791812302,
           123361.11123341297,
           52236.93968008766,
           33874.46670268632,
           74777.23063414499,
           0
          ],
          [
           917781.2315826485,
           855512.8617191436,
           279698.1268315142,
           137048.99699535748,
           119625.15244928369,
           45101.46407920633,
           28273.07589977313,
           71511.87547684627,
           0
          ],
          [
           1046873.9955958747,
           993799.630536527,
           284412.4027516663,
           113783.93116934499,
           102653.7968755995,
           44528.839724934005,
           0,
           68281.99485116107,
           0
          ]
         ],
         "hoverlabel": {
          "bgcolor": "#F2FBF0",
          "font": {
           "color": "#333"
          }
         },
         "hovertemplate": "<b>%{y} %{x}</b><br><br><b>barrels:</b> %{customdata:,.0f}<br><b>cubic meters:</b> %{z:,.0f}",
         "name": "",
         "showscale": false,
         "type": "heatmap",
         "x": [
          2008,
          2009,
          2010,
          2011,
          2012,
          2013,
          2014,
          2015,
          2016
         ],
         "xaxis": "x2",
         "y": [
          "Jan",
          "Feb",
          "Mar",
          "Apr",
          "May",
          "Jun",
          "Jul",
          "Aug",
          "Sep",
          "Oct",
          "Nov",
          "Dec"
         ],
         "yaxis": "y2",
         "z": [
          [
           0,
           153677.16,
           149658.83,
           44746.55,
           18217.85,
           17408.57,
           4997.24,
           25712.55,
           9494.98
          ],
          [
           49091.06,
           121905.01,
           103026,
           29157.49,
           27362.26,
           15087.38,
           6101.4,
           19578.55,
           7644.12
          ],
          [
           83361.26,
           92958.71,
           101571.61,
           37395.05,
           26679.88,
           6305.81,
           6835.66,
           19341.43,
           7359.93
          ],
          [
           74532.45,
           150955.68,
           86253.61,
           37819.72,
           24088.35,
           12351.34,
           5892.01,
           19796.56,
           6152.17
          ],
          [
           125478.56,
           141039.01,
           77113.56,
           37204.71,
           22415.15,
           16313.4,
           3237.7,
           16996.48,
           5865.13
          ],
          [
           143786.85,
           132429.71,
           69617.37,
           22026.06,
           20887.38,
           11899.57,
           5751.2,
           19536.3,
           5408.31
          ],
          [
           114994.61,
           106105.25,
           64039.69,
           12462.42,
           21206.94,
           11861.63,
           5791.84,
           19157.45,
           4533.82
          ],
          [
           97822.46,
           112414.27,
           30117.36,
           36380.15,
           8998.24,
           15147.18,
           4448.49,
           13473.27,
           1442.03
          ],
          [
           77666.95,
           90098.89,
           51312.93,
           29999.17,
           1013.93,
           9223.53,
           5062.59,
           12494.51,
           0
          ],
          [
           94357.23,
           126939.65,
           51430.58,
           12647.5,
           19612.85,
           8305.01,
           5385.61,
           11888.63,
           0
          ],
          [
           145915.56,
           136015.68,
           44468.45,
           21789.05,
           19018.88,
           7170.56,
           4495.06,
           11369.48,
           0
          ],
          [
           166439.67,
           158001.52,
           45217.96,
           18090.2,
           16320.65,
           7079.52,
           0,
           10855.97,
           0
          ]
         ]
        },
        {
         "customdata": [
          6080826179.864957,
          7522217856.537461,
          4439024942.790146,
          1830854473.6693413,
          1272375352.440954,
          792994176.2487286,
          311861163.6908125,
          1053698579.2886202,
          270219134.5773534
         ],
         "hovertemplate": "<b>%{x}</b><br><br><b>SCF:</b> %{customdata:,.0f}<br><b>cubic meters:</b> %{y:,.0f}",
         "marker": {
          "color": "crimson",
          "line": {
           "color": "whitesmoke",
           "width": 1.2
          }
         },
         "name": "",
         "showlegend": false,
         "type": "bar",
         "x": [
          2008,
          2009,
          2010,
          2011,
          2012,
          2013,
          2014,
          2015,
          2016
         ],
         "xaxis": "x3",
         "y": [
          172189538.77,
          213005138.6,
          125698981.5,
          51843939.96,
          36029598.38,
          22455057.49,
          8830910.2,
          29837371.93,
          7651741.19
         ],
         "yaxis": "y3"
        },
        {
         "colorscale": [
          [
           0,
           "rgb(255,245,240)"
          ],
          [
           0.125,
           "rgb(254,224,210)"
          ],
          [
           0.25,
           "rgb(252,187,161)"
          ],
          [
           0.375,
           "rgb(252,146,114)"
          ],
          [
           0.5,
           "rgb(251,106,74)"
          ],
          [
           0.625,
           "rgb(239,59,44)"
          ],
          [
           0.75,
           "rgb(203,24,29)"
          ],
          [
           0.875,
           "rgb(165,15,21)"
          ],
          [
           1,
           "rgb(103,0,13)"
          ]
         ],
         "customdata": [
          [
           0,
           785937112.2443213,
           743184400.0734546,
           240987713.6540852,
           96146932.20985423,
           101748042.15165555,
           27057991.015934,
           133505884.49259804,
           52525004.94406148
          ],
          [
           249604803.1557238,
           615431529.6926206,
           512790638.06644815,
           159595260.4107809,
           151497514.90281388,
           86918314.21629563,
           32559011.258334275,
           104555396.08995368,
           42573634.73273817
          ],
          [
           430527846.0136739,
           463454450.71477,
           504241962.3686293,
           203420556.34817493,
           151012329.07673183,
           37209911.430670135,
           36588568.62357329,
           100768195.20567296,
           41879504.74629902
          ],
          [
           406346788.4789242,
           739176312.6483217,
           429467522.10701776,
           207560913.3094135,
           136532030.10227144,
           72582066.47643802,
           31204267.431348175,
           102038187.93083964,
           35845659.114024185
          ],
          [
           674224189.173918,
           683935099.6581534,
           387415996.8640525,
           204886861.86292237,
           128226292.16578145,
           97389364.97061814,
           16586054.921460053,
           87567112.1030625,
           32684266.58379478
          ],
          [
           759702153.1387727,
           628159807.9585264,
           351188491.2843259,
           120494751.17244887,
           119881002.09063171,
           71943857.70991072,
           29902169.030398916,
           100989769.32421742,
           30742647.47429088
          ],
          [
           604462431.4894339,
           519902220.58989716,
           327839896.10407954,
           64405277.079331,
           121651058.38230309,
           67793764.47903718,
           30513544.256413158,
           100534697.42343767,
           25755705.44694316
          ],
          [
           499456444.2309866,
           553605985.1395638,
           153495601.5510227,
           192342232.52627417,
           48598537.97039214,
           83139390.39722003,
           24880571.250988815,
           72293504.56266245,
           8212711.535201717
          ],
          [
           395028548.77669793,
           443320632.62798053,
           273696564.58356875,
           161261398.18058538,
           5541600.745846989,
           51094025.80800091,
           28392002.980562776,
           66675918.88914002,
           0
          ],
          [
           474306205.15029943,
           629297600.0113008,
           273384607.01774216,
           67792414.04395977,
           108330934.28636004,
           45329398.09583004,
           29421423.6778167,
           64319702.4381286,
           0
          ],
          [
           735857238.8122952,
           677392345.8865408,
           238271190.24748558,
           114505653.18115042,
           108996770.82156175,
           38950807.64775681,
           24755559.24398237,
           61741134.23833202,
           0
          ],
          [
           851309531.4442309,
           782604759.365465,
           244048072.5223189,
           93601441.90021472,
           95960349.68640524,
           38895232.865295514,
           0,
           58709076.5905752,
           0
          ]
         ],
         "hoverlabel": {
          "bgcolor": "#FEF5F1",
          "font": {
           "color": "#333"
          }
         },
         "hovertemplate": "<b>%{y} %{x}</b><br><br><b>SCF:</b> %{customdata:,.0f}<br><b>cubic meters:</b> %{z:,.0f}",
         "name": "",
         "showscale": false,
         "type": "heatmap",
         "x": [
          2008,
          2009,
          2010,
          2011,
          2012,
          2013,
          2014,
          2015,
          2016
         ],
         "xaxis": "x4",
         "y": [
          "Jan",
          "Feb",
          "Mar",
          "Apr",
          "May",
          "Jun",
          "Jul",
          "Aug",
          "Sep",
          "Oct",
          "Nov",
          "Dec"
         ],
         "yaxis": "y4",
         "z": [
          [
           0,
           22255224.02,
           21044604.02,
           6824000.89,
           2722573.45,
           2881178.96,
           766195.72,
           3780459.43,
           1487340.06
          ],
          [
           7068009.29,
           17427051.54,
           14520589.94,
           4519227.07,
           4289924.83,
           2461248.52,
           921967.01,
           2960674.24,
           1205549.1
          ],
          [
           12191170.91,
           13123546.99,
           14278518.8,
           5760219.21,
           4276185.92,
           1053665.62,
           1036071.18,
           2853432.83,
           1185893.56
          ],
          [
           11506440.74,
           20931107.81,
           12161145.93,
           5877460.87,
           3866150.19,
           2055291.86,
           883605,
           2889394.96,
           1015034.36
          ],
          [
           19091871.52,
           19366853.43,
           10970381.3,
           5801740.29,
           3630958.27,
           2757755.17,
           469664,
           2479620.4,
           925513.84
          ],
          [
           21512333.93,
           17787475.65,
           9944534.27,
           3412025.77,
           3394646.36,
           2037219.83,
           846733.74,
           2859707.1,
           870533.4
          ],
          [
           17116441.78,
           14721967.2,
           9283376.77,
           1823751.35,
           3444768.69,
           1919702.47,
           864045.93,
           2846820.92,
           729319.16
          ],
          [
           14143008.24,
           15676349.96,
           4346504.25,
           5446516.53,
           1376155.08,
           2354241.49,
           704538.16,
           2047120.71,
           232557.71
          ],
          [
           11185944.41,
           12553421.69,
           7750210.88,
           4566406.76,
           156920.4,
           1446819.31,
           803970.67,
           1888048.66,
           0
          ],
          [
           13430833.95,
           17819694.28,
           7741377.24,
           1919664.23,
           3067585.4,
           1283583.5,
           833120.57,
           1821328.15,
           0
          ],
          [
           20837122.26,
           19181583.58,
           6747077.64,
           3242433.68,
           3086439.76,
           1102962.23,
           700998.22,
           1748311.35,
           0
          ],
          [
           24106361.74,
           22160862.45,
           6910660.46,
           2650493.31,
           2717290.03,
           1101388.53,
           0,
           1662453.18,
           0
          ]
         ]
        }
       ],
       "layout": {
        "annotations": [
         {
          "font": {
           "size": 18
          },
          "showarrow": false,
          "text": "<b>Annual Oil Production (m<sup>3</sup>)</b>",
          "x": 0.225,
          "xanchor": "center",
          "xref": "paper",
          "y": 0.9999999999999999,
          "yanchor": "bottom",
          "yref": "paper"
         },
         {
          "font": {
           "size": 18
          },
          "showarrow": false,
          "text": "<b>Monthly Oil Production (m<sup>3</sup>)</b>",
          "x": 0.775,
          "xanchor": "center",
          "xref": "paper",
          "y": 0.9999999999999999,
          "yanchor": "bottom",
          "yref": "paper"
         },
         {
          "font": {
           "size": 18
          },
          "showarrow": false,
          "text": "<b>Annual Gas Production (m<sup>3</sup>)</b>",
          "x": 0.225,
          "xanchor": "center",
          "xref": "paper",
          "y": 0.4125,
          "yanchor": "bottom",
          "yref": "paper"
         },
         {
          "font": {
           "size": 18
          },
          "showarrow": false,
          "text": "<b>Monthly Gas Production (m<sup>3</sup>)</b>",
          "x": 0.775,
          "xanchor": "center",
          "xref": "paper",
          "y": 0.4125,
          "yanchor": "bottom",
          "yref": "paper"
         }
        ],
        "font": {
         "size": 14
        },
        "height": 1000,
        "margin": {
         "t": 120
        },
        "template": {
         "data": {
          "bar": [
           {
            "error_x": {
             "color": "#2a3f5f"
            },
            "error_y": {
             "color": "#2a3f5f"
            },
            "marker": {
             "line": {
              "color": "#E5ECF6",
              "width": 0.5
             },
             "pattern": {
              "fillmode": "overlay",
              "size": 10,
              "solidity": 0.2
             }
            },
            "type": "bar"
           }
          ],
          "barpolar": [
           {
            "marker": {
             "line": {
              "color": "#E5ECF6",
              "width": 0.5
             },
             "pattern": {
              "fillmode": "overlay",
              "size": 10,
              "solidity": 0.2
             }
            },
            "type": "barpolar"
           }
          ],
          "carpet": [
           {
            "aaxis": {
             "endlinecolor": "#2a3f5f",
             "gridcolor": "white",
             "linecolor": "white",
             "minorgridcolor": "white",
             "startlinecolor": "#2a3f5f"
            },
            "baxis": {
             "endlinecolor": "#2a3f5f",
             "gridcolor": "white",
             "linecolor": "white",
             "minorgridcolor": "white",
             "startlinecolor": "#2a3f5f"
            },
            "type": "carpet"
           }
          ],
          "choropleth": [
           {
            "colorbar": {
             "outlinewidth": 0,
             "ticks": ""
            },
            "type": "choropleth"
           }
          ],
          "contour": [
           {
            "colorbar": {
             "outlinewidth": 0,
             "ticks": ""
            },
            "colorscale": [
             [
              0,
              "#0d0887"
             ],
             [
              0.1111111111111111,
              "#46039f"
             ],
             [
              0.2222222222222222,
              "#7201a8"
             ],
             [
              0.3333333333333333,
              "#9c179e"
             ],
             [
              0.4444444444444444,
              "#bd3786"
             ],
             [
              0.5555555555555556,
              "#d8576b"
             ],
             [
              0.6666666666666666,
              "#ed7953"
             ],
             [
              0.7777777777777778,
              "#fb9f3a"
             ],
             [
              0.8888888888888888,
              "#fdca26"
             ],
             [
              1,
              "#f0f921"
             ]
            ],
            "type": "contour"
           }
          ],
          "contourcarpet": [
           {
            "colorbar": {
             "outlinewidth": 0,
             "ticks": ""
            },
            "type": "contourcarpet"
           }
          ],
          "heatmap": [
           {
            "colorbar": {
             "outlinewidth": 0,
             "ticks": ""
            },
            "colorscale": [
             [
              0,
              "#0d0887"
             ],
             [
              0.1111111111111111,
              "#46039f"
             ],
             [
              0.2222222222222222,
              "#7201a8"
             ],
             [
              0.3333333333333333,
              "#9c179e"
             ],
             [
              0.4444444444444444,
              "#bd3786"
             ],
             [
              0.5555555555555556,
              "#d8576b"
             ],
             [
              0.6666666666666666,
              "#ed7953"
             ],
             [
              0.7777777777777778,
              "#fb9f3a"
             ],
             [
              0.8888888888888888,
              "#fdca26"
             ],
             [
              1,
              "#f0f921"
             ]
            ],
            "type": "heatmap"
           }
          ],
          "heatmapgl": [
           {
            "colorbar": {
             "outlinewidth": 0,
             "ticks": ""
            },
            "colorscale": [
             [
              0,
              "#0d0887"
             ],
             [
              0.1111111111111111,
              "#46039f"
             ],
             [
              0.2222222222222222,
              "#7201a8"
             ],
             [
              0.3333333333333333,
              "#9c179e"
             ],
             [
              0.4444444444444444,
              "#bd3786"
             ],
             [
              0.5555555555555556,
              "#d8576b"
             ],
             [
              0.6666666666666666,
              "#ed7953"
             ],
             [
              0.7777777777777778,
              "#fb9f3a"
             ],
             [
              0.8888888888888888,
              "#fdca26"
             ],
             [
              1,
              "#f0f921"
             ]
            ],
            "type": "heatmapgl"
           }
          ],
          "histogram": [
           {
            "marker": {
             "pattern": {
              "fillmode": "overlay",
              "size": 10,
              "solidity": 0.2
             }
            },
            "type": "histogram"
           }
          ],
          "histogram2d": [
           {
            "colorbar": {
             "outlinewidth": 0,
             "ticks": ""
            },
            "colorscale": [
             [
              0,
              "#0d0887"
             ],
             [
              0.1111111111111111,
              "#46039f"
             ],
             [
              0.2222222222222222,
              "#7201a8"
             ],
             [
              0.3333333333333333,
              "#9c179e"
             ],
             [
              0.4444444444444444,
              "#bd3786"
             ],
             [
              0.5555555555555556,
              "#d8576b"
             ],
             [
              0.6666666666666666,
              "#ed7953"
             ],
             [
              0.7777777777777778,
              "#fb9f3a"
             ],
             [
              0.8888888888888888,
              "#fdca26"
             ],
             [
              1,
              "#f0f921"
             ]
            ],
            "type": "histogram2d"
           }
          ],
          "histogram2dcontour": [
           {
            "colorbar": {
             "outlinewidth": 0,
             "ticks": ""
            },
            "colorscale": [
             [
              0,
              "#0d0887"
             ],
             [
              0.1111111111111111,
              "#46039f"
             ],
             [
              0.2222222222222222,
              "#7201a8"
             ],
             [
              0.3333333333333333,
              "#9c179e"
             ],
             [
              0.4444444444444444,
              "#bd3786"
             ],
             [
              0.5555555555555556,
              "#d8576b"
             ],
             [
              0.6666666666666666,
              "#ed7953"
             ],
             [
              0.7777777777777778,
              "#fb9f3a"
             ],
             [
              0.8888888888888888,
              "#fdca26"
             ],
             [
              1,
              "#f0f921"
             ]
            ],
            "type": "histogram2dcontour"
           }
          ],
          "mesh3d": [
           {
            "colorbar": {
             "outlinewidth": 0,
             "ticks": ""
            },
            "type": "mesh3d"
           }
          ],
          "parcoords": [
           {
            "line": {
             "colorbar": {
              "outlinewidth": 0,
              "ticks": ""
             }
            },
            "type": "parcoords"
           }
          ],
          "pie": [
           {
            "automargin": true,
            "type": "pie"
           }
          ],
          "scatter": [
           {
            "fillpattern": {
             "fillmode": "overlay",
             "size": 10,
             "solidity": 0.2
            },
            "type": "scatter"
           }
          ],
          "scatter3d": [
           {
            "line": {
             "colorbar": {
              "outlinewidth": 0,
              "ticks": ""
             }
            },
            "marker": {
             "colorbar": {
              "outlinewidth": 0,
              "ticks": ""
             }
            },
            "type": "scatter3d"
           }
          ],
          "scattercarpet": [
           {
            "marker": {
             "colorbar": {
              "outlinewidth": 0,
              "ticks": ""
             }
            },
            "type": "scattercarpet"
           }
          ],
          "scattergeo": [
           {
            "marker": {
             "colorbar": {
              "outlinewidth": 0,
              "ticks": ""
             }
            },
            "type": "scattergeo"
           }
          ],
          "scattergl": [
           {
            "marker": {
             "colorbar": {
              "outlinewidth": 0,
              "ticks": ""
             }
            },
            "type": "scattergl"
           }
          ],
          "scattermapbox": [
           {
            "marker": {
             "colorbar": {
              "outlinewidth": 0,
              "ticks": ""
             }
            },
            "type": "scattermapbox"
           }
          ],
          "scatterpolar": [
           {
            "marker": {
             "colorbar": {
              "outlinewidth": 0,
              "ticks": ""
             }
            },
            "type": "scatterpolar"
           }
          ],
          "scatterpolargl": [
           {
            "marker": {
             "colorbar": {
              "outlinewidth": 0,
              "ticks": ""
             }
            },
            "type": "scatterpolargl"
           }
          ],
          "scatterternary": [
           {
            "marker": {
             "colorbar": {
              "outlinewidth": 0,
              "ticks": ""
             }
            },
            "type": "scatterternary"
           }
          ],
          "surface": [
           {
            "colorbar": {
             "outlinewidth": 0,
             "ticks": ""
            },
            "colorscale": [
             [
              0,
              "#0d0887"
             ],
             [
              0.1111111111111111,
              "#46039f"
             ],
             [
              0.2222222222222222,
              "#7201a8"
             ],
             [
              0.3333333333333333,
              "#9c179e"
             ],
             [
              0.4444444444444444,
              "#bd3786"
             ],
             [
              0.5555555555555556,
              "#d8576b"
             ],
             [
              0.6666666666666666,
              "#ed7953"
             ],
             [
              0.7777777777777778,
              "#fb9f3a"
             ],
             [
              0.8888888888888888,
              "#fdca26"
             ],
             [
              1,
              "#f0f921"
             ]
            ],
            "type": "surface"
           }
          ],
          "table": [
           {
            "cells": {
             "fill": {
              "color": "#EBF0F8"
             },
             "line": {
              "color": "white"
             }
            },
            "header": {
             "fill": {
              "color": "#C8D4E3"
             },
             "line": {
              "color": "white"
             }
            },
            "type": "table"
           }
          ]
         },
         "layout": {
          "annotationdefaults": {
           "arrowcolor": "#2a3f5f",
           "arrowhead": 0,
           "arrowwidth": 1
          },
          "autotypenumbers": "strict",
          "coloraxis": {
           "colorbar": {
            "outlinewidth": 0,
            "ticks": ""
           }
          },
          "colorscale": {
           "diverging": [
            [
             0,
             "#8e0152"
            ],
            [
             0.1,
             "#c51b7d"
            ],
            [
             0.2,
             "#de77ae"
            ],
            [
             0.3,
             "#f1b6da"
            ],
            [
             0.4,
             "#fde0ef"
            ],
            [
             0.5,
             "#f7f7f7"
            ],
            [
             0.6,
             "#e6f5d0"
            ],
            [
             0.7,
             "#b8e186"
            ],
            [
             0.8,
             "#7fbc41"
            ],
            [
             0.9,
             "#4d9221"
            ],
            [
             1,
             "#276419"
            ]
           ],
           "sequential": [
            [
             0,
             "#0d0887"
            ],
            [
             0.1111111111111111,
             "#46039f"
            ],
            [
             0.2222222222222222,
             "#7201a8"
            ],
            [
             0.3333333333333333,
             "#9c179e"
            ],
            [
             0.4444444444444444,
             "#bd3786"
            ],
            [
             0.5555555555555556,
             "#d8576b"
            ],
            [
             0.6666666666666666,
             "#ed7953"
            ],
            [
             0.7777777777777778,
             "#fb9f3a"
            ],
            [
             0.8888888888888888,
             "#fdca26"
            ],
            [
             1,
             "#f0f921"
            ]
           ],
           "sequentialminus": [
            [
             0,
             "#0d0887"
            ],
            [
             0.1111111111111111,
             "#46039f"
            ],
            [
             0.2222222222222222,
             "#7201a8"
            ],
            [
             0.3333333333333333,
             "#9c179e"
            ],
            [
             0.4444444444444444,
             "#bd3786"
            ],
            [
             0.5555555555555556,
             "#d8576b"
            ],
            [
             0.6666666666666666,
             "#ed7953"
            ],
            [
             0.7777777777777778,
             "#fb9f3a"
            ],
            [
             0.8888888888888888,
             "#fdca26"
            ],
            [
             1,
             "#f0f921"
            ]
           ]
          },
          "colorway": [
           "#636efa",
           "#EF553B",
           "#00cc96",
           "#ab63fa",
           "#FFA15A",
           "#19d3f3",
           "#FF6692",
           "#B6E880",
           "#FF97FF",
           "#FECB52"
          ],
          "font": {
           "color": "#2a3f5f"
          },
          "geo": {
           "bgcolor": "white",
           "lakecolor": "white",
           "landcolor": "#E5ECF6",
           "showlakes": true,
           "showland": true,
           "subunitcolor": "white"
          },
          "hoverlabel": {
           "align": "left"
          },
          "hovermode": "closest",
          "mapbox": {
           "style": "light"
          },
          "paper_bgcolor": "white",
          "plot_bgcolor": "#E5ECF6",
          "polar": {
           "angularaxis": {
            "gridcolor": "white",
            "linecolor": "white",
            "ticks": ""
           },
           "bgcolor": "#E5ECF6",
           "radialaxis": {
            "gridcolor": "white",
            "linecolor": "white",
            "ticks": ""
           }
          },
          "scene": {
           "xaxis": {
            "backgroundcolor": "#E5ECF6",
            "gridcolor": "white",
            "gridwidth": 2,
            "linecolor": "white",
            "showbackground": true,
            "ticks": "",
            "zerolinecolor": "white"
           },
           "yaxis": {
            "backgroundcolor": "#E5ECF6",
            "gridcolor": "white",
            "gridwidth": 2,
            "linecolor": "white",
            "showbackground": true,
            "ticks": "",
            "zerolinecolor": "white"
           },
           "zaxis": {
            "backgroundcolor": "#E5ECF6",
            "gridcolor": "white",
            "gridwidth": 2,
            "linecolor": "white",
            "showbackground": true,
            "ticks": "",
            "zerolinecolor": "white"
           }
          },
          "shapedefaults": {
           "line": {
            "color": "#2a3f5f"
           }
          },
          "ternary": {
           "aaxis": {
            "gridcolor": "white",
            "linecolor": "white",
            "ticks": ""
           },
           "baxis": {
            "gridcolor": "white",
            "linecolor": "white",
            "ticks": ""
           },
           "bgcolor": "#E5ECF6",
           "caxis": {
            "gridcolor": "white",
            "linecolor": "white",
            "ticks": ""
           }
          },
          "title": {
           "x": 0.05
          },
          "xaxis": {
           "automargin": true,
           "gridcolor": "white",
           "linecolor": "white",
           "ticks": "",
           "title": {
            "standoff": 15
           },
           "zerolinecolor": "white",
           "zerolinewidth": 2
          },
          "yaxis": {
           "automargin": true,
           "gridcolor": "white",
           "linecolor": "white",
           "ticks": "",
           "title": {
            "standoff": 15
           },
           "zerolinecolor": "white",
           "zerolinewidth": 2
          }
         }
        },
        "title": {
         "font": {
          "size": 20
         },
         "text": "<b>Wellbore 15/9-F-12</b>"
        },
        "xaxis": {
         "anchor": "y",
         "domain": [
          0,
          0.45
         ],
         "tickmode": "array",
         "tickvals": [
          2008,
          2009,
          2010,
          2011,
          2012,
          2013,
          2014,
          2015,
          2016
         ],
         "title": {
          "text": "Year"
         }
        },
        "xaxis2": {
         "anchor": "y2",
         "domain": [
          0.55,
          1
         ],
         "tickmode": "array",
         "tickvals": [
          2008,
          2009,
          2010,
          2011,
          2012,
          2013,
          2014,
          2015,
          2016
         ],
         "title": {
          "text": "Year"
         }
        },
        "xaxis3": {
         "anchor": "y3",
         "domain": [
          0,
          0.45
         ],
         "tickmode": "array",
         "tickvals": [
          2008,
          2009,
          2010,
          2011,
          2012,
          2013,
          2014,
          2015,
          2016
         ],
         "title": {
          "text": "Year"
         }
        },
        "xaxis4": {
         "anchor": "y4",
         "domain": [
          0.55,
          1
         ],
         "tickmode": "array",
         "tickvals": [
          2008,
          2009,
          2010,
          2011,
          2012,
          2013,
          2014,
          2015,
          2016
         ],
         "title": {
          "text": "Year"
         }
        },
        "yaxis": {
         "anchor": "x",
         "domain": [
          0.5874999999999999,
          0.9999999999999999
         ],
         "title": {
          "standoff": 3,
          "text": "Oil Volume"
         }
        },
        "yaxis2": {
         "anchor": "x2",
         "autorange": "reversed",
         "domain": [
          0.5874999999999999,
          0.9999999999999999
         ],
         "title": {
          "standoff": 3,
          "text": "Month"
         }
        },
        "yaxis3": {
         "anchor": "x3",
         "domain": [
          0,
          0.4125
         ],
         "title": {
          "standoff": 3,
          "text": "Gas Volume"
         }
        },
        "yaxis4": {
         "anchor": "x4",
         "autorange": "reversed",
         "domain": [
          0,
          0.4125
         ],
         "title": {
          "standoff": 3,
          "text": "Month"
         }
        }
       }
      }
     },
     "metadata": {},
     "output_type": "display_data"
    }
   ],
   "source": [
    "analyze_wellbore(volve_df, \"15/9-F-12\")"
   ]
  },
  {
   "cell_type": "code",
   "execution_count": 27,
   "metadata": {},
   "outputs": [
    {
     "data": {
      "application/vnd.plotly.v1+json": {
       "config": {
        "plotlyServerURL": "https://plot.ly"
       },
       "data": [
        {
         "customdata": [
          3716828.2623832216,
          7307825.84520902,
          5132954.644804962,
          3196779.4282939583,
          2191269.1768462006,
          1658989.114224847,
          953311.7425102508,
          493094.16538302123,
          144848.86528672418
         ],
         "hovertemplate": "<b>%{x}</b><br><br><b>barrels:</b> %{customdata:,.0f}<br><b>cubic meters:</b> %{y:,.0f}",
         "marker": {
          "color": "mediumspringgreen",
          "line": {
           "color": "whitesmoke",
           "width": 1.2
          }
         },
         "name": "",
         "showlegend": false,
         "type": "bar",
         "x": [
          2008,
          2009,
          2010,
          2011,
          2012,
          2013,
          2014,
          2015,
          2016
         ],
         "xaxis": "x",
         "y": [
          590928.49,
          1161851.5,
          816074.6,
          508247.33,
          348383.97,
          263758.2,
          151564.46,
          78395.71,
          23029.13
         ],
         "yaxis": "y"
        },
        {
         "colorscale": [
          [
           0,
           "rgb(247,252,245)"
          ],
          [
           0.125,
           "rgb(229,245,224)"
          ],
          [
           0.25,
           "rgb(199,233,192)"
          ],
          [
           0.375,
           "rgb(161,217,155)"
          ],
          [
           0.5,
           "rgb(116,196,118)"
          ],
          [
           0.625,
           "rgb(65,171,93)"
          ],
          [
           0.75,
           "rgb(35,139,69)"
          ],
          [
           0.875,
           "rgb(0,109,44)"
          ],
          [
           1,
           "rgb(0,68,27)"
          ]
         ],
         "customdata": [
          [
           0,
           726930.1384450205,
           517156.0873101185,
           385744.33303792187,
           171769.88350641844,
           189856.67408654653,
           104955.4272573973,
           57369.23641070702,
           28972.754427554908
          ],
          [
           0,
           716289.7917003434,
           390553.08191283204,
           277168.74240898486,
           231450.31081098932,
           167280.84570276996,
           92876.16054867275,
           45153.29211830127,
           24792.98660962228
          ],
          [
           0,
           570136.3568033421,
           421349.69271130464,
           356694.90581952146,
           218543.17923507094,
           118352.346382384,
           94063.11070129501,
           50752.73307993783,
           23610.69091682166
          ],
          [
           0,
           546861.6675671579,
           459381.40971008374,
           325901.7544168622,
           229639.66304226816,
           143882.05850404402,
           104236.25031684923,
           48351.03181197492,
           19576.469315473627
          ],
          [
           0,
           730718.9945360415,
           552303.7374683387,
           321545.30582002463,
           220470.18849933296,
           173985.78377015018,
           85774.27253623403,
           44958.24509253255,
           20208.909768264508
          ],
          [
           0,
           545037.433807606,
           473684.50184385804,
           196207.5587169541,
           199170.31108774096,
           140251.83143559264,
           83390.24563597218,
           38178.709871794796,
           19341.356196375436
          ],
          [
           322573.43825576006,
           408031.4591165458,
           437772.3881089873,
           127125.31126700058,
           207316.55924718513,
           142167.20455030055,
           84887.15765347295,
           42272.181488710106,
           8345.69805261175
          ],
          [
           425324.53850087395,
           707562.8053309919,
           241615.0849784857,
           312794.04078187374,
           79816.68976075448,
           136280.69663425948,
           53109.46220232685,
           30671.066179499874,
           0
          ],
          [
           720788.767404692,
           568283.1270170637,
           348488.2754786074,
           321114.5166941007,
           10410.139677823323,
           112403.44354549075,
           60521.87816259537,
           33338.574842141476,
           0
          ],
          [
           898292.2535322004,
           608270.7235106201,
           495355.9812639123,
           137163.345751516,
           213501.45577665637,
           115991.08859638475,
           63377.51505937895,
           35442.20198720275,
           0
          ],
          [
           656716.6685640928,
           616675.042597742,
           393462.119301353,
           220419.42972803488,
           219713.52428778904,
           121070.4251220066,
           65328.55140001749,
           34163.48349836748,
           0
          ],
          [
           693132.5961256025,
           563028.304776545,
           401832.2847170812,
           214900.18385116296,
           189467.27191417175,
           97466.71589491739,
           60791.71103603873,
           32443.409001851094,
           0
          ]
         ],
         "hoverlabel": {
          "bgcolor": "#F2FBF0",
          "font": {
           "color": "#333"
          }
         },
         "hovertemplate": "<b>%{y} %{x}</b><br><br><b>barrels:</b> %{customdata:,.0f}<br><b>cubic meters:</b> %{z:,.0f}",
         "name": "",
         "showscale": false,
         "type": "heatmap",
         "x": [
          2008,
          2009,
          2010,
          2011,
          2012,
          2013,
          2014,
          2015,
          2016
         ],
         "xaxis": "x2",
         "y": [
          "Jan",
          "Feb",
          "Mar",
          "Apr",
          "May",
          "Jun",
          "Jul",
          "Aug",
          "Sep",
          "Oct",
          "Nov",
          "Dec"
         ],
         "yaxis": "y2",
         "z": [
          [
           0,
           115572.66,
           82221.25,
           61328.45,
           27309.23,
           30184.8,
           16686.58,
           9120.98,
           4606.3
          ],
          [
           0,
           113880.98,
           62092.98,
           44066.31,
           36797.66,
           26595.53,
           14766.13,
           7178.8,
           3941.77
          ],
          [
           0,
           90644.44,
           66989.25,
           56709.96,
           34745.59,
           18816.52,
           14954.84,
           8069.04,
           3753.8
          ],
          [
           0,
           86944.06,
           73035.81,
           51814.24,
           36509.79,
           22875.42,
           16572.24,
           7687.2,
           3112.41
          ],
          [
           0,
           116175.04,
           87809.28,
           51121.62,
           35051.96,
           27661.53,
           13637.02,
           7147.79,
           3212.96
          ],
          [
           0,
           86654.03,
           75309.82,
           31194.51,
           31665.55,
           22298.26,
           13257.99,
           6069.93,
           3075.03
          ],
          [
           51285.08,
           64871.82,
           69600.25,
           20211.31,
           32960.7,
           22602.78,
           13495.98,
           6720.74,
           1326.86
          ],
          [
           67621.2,
           112493.5,
           38413.73,
           49730.28,
           12689.84,
           21666.9,
           8443.73,
           4876.31,
           0
          ],
          [
           114596.26,
           90349.8,
           55405.21,
           51053.13,
           1655.08,
           17870.72,
           9622.21,
           5300.41,
           0
          ],
          [
           142817.06,
           96707.32,
           78755.31,
           21807.23,
           33944.02,
           18441.11,
           10076.22,
           5634.86,
           0
          ],
          [
           104409.61,
           98043.5,
           62555.48,
           35043.89,
           34931.66,
           19248.66,
           10386.41,
           5431.56,
           0
          ],
          [
           110199.28,
           89514.35,
           63886.23,
           34166.4,
           30122.89,
           15495.97,
           9665.11,
           5158.09,
           0
          ]
         ]
        },
        {
         "customdata": [
          2996420779.8903832,
          5755483455.404566,
          4175944750.4661546,
          2771367364.2501974,
          1913318050.7684484,
          1452559224.206125,
          803246223.7964741,
          413972580.2350548,
          129935495.18307154
         ],
         "hovertemplate": "<b>%{x}</b><br><br><b>SCF:</b> %{customdata:,.0f}<br><b>cubic meters:</b> %{y:,.0f}",
         "marker": {
          "color": "crimson",
          "line": {
           "color": "whitesmoke",
           "width": 1.2
          }
         },
         "name": "",
         "showlegend": false,
         "type": "bar",
         "x": [
          2008,
          2009,
          2010,
          2011,
          2012,
          2013,
          2014,
          2015,
          2016
         ],
         "xaxis": "x3",
         "y": [
          84849047.94,
          162976873.91,
          118249392.31,
          78476255.38,
          54179044.58,
          41131829.04,
          22745362.669999998,
          11722378.76,
          3679357.43
         ],
         "yaxis": "y3"
        },
        {
         "colorscale": [
          [
           0,
           "rgb(255,245,240)"
          ],
          [
           0.125,
           "rgb(254,224,210)"
          ],
          [
           0.25,
           "rgb(252,187,161)"
          ],
          [
           0.375,
           "rgb(252,146,114)"
          ],
          [
           0.5,
           "rgb(251,106,74)"
          ],
          [
           0.625,
           "rgb(239,59,44)"
          ],
          [
           0.75,
           "rgb(203,24,29)"
          ],
          [
           0.875,
           "rgb(165,15,21)"
          ],
          [
           1,
           "rgb(103,0,13)"
          ]
         ],
         "customdata": [
          [
           0,
           590407649.522545,
           408284195.9543451,
           330305839.99604475,
           146773601.53689682,
           170736707.5375749,
           85700121.83580066,
           47926764.323652394,
           25466291.03571025
          ],
          [
           0,
           574018866.5385919,
           309047925.25991637,
           241203440.71363994,
           197711568.04441178,
           148192304.5683128,
           76324710.77240366,
           38583845.63227484,
           21953706.98666516
          ],
          [
           0,
           448583993.24782467,
           332728463.6682111,
           308430153.4777941,
           189929252.952311,
           98308876.35608543,
           77564661.96745396,
           42219609.91354956,
           21362271.16058312
          ],
          [
           0,
           421186581.11086,
           363334501.7798621,
           284362741.5527178,
           200348549.9773986,
           129826002.58503787,
           84716072.7907108,
           39596158.46423325,
           18166403.68968245
          ],
          [
           0,
           563077354.4327043,
           441091363.0777489,
           281561747.0900667,
           194068112.56921685,
           159832047.4064866,
           68634851.74878518,
           36815841.479263194,
           17899516.54141711
          ],
          [
           0,
           428787190.2898632,
           379865549.77963614,
           170778906.8680077,
           175881853.88179457,
           128995610.02655669,
           68910557.69013448,
           31396763.052322295,
           17484450.92665838
          ],
          [
           266232804.20103967,
           322347881.4696576,
           355744093.61227256,
           108224302.53418466,
           182974858.7411007,
           125487221.36682111,
           71085455.98372698,
           35284433.26929597,
           7602854.842355068
          ],
          [
           345396808.25517005,
           553191808.7495762,
           195758428.91852188,
           271273868.8693638,
           69719513.50435078,
           115110589.82653406,
           47101601.87591818,
           26044769.536105774,
           0
          ],
          [
           577060781.9386371,
           443716565.4311222,
           291719127.5144084,
           283272975.0536784,
           8686752.387275398,
           95627199.04791503,
           53561997.47146571,
           28224759.153576676,
           0
          ],
          [
           717837690.699514,
           478747062.52118886,
           418615330.1220477,
           120293903.26590575,
           182049449.44343993,
           97367470.19437225,
           55048389.64854786,
           30484739.80110747,
           0
          ],
          [
           526401994.92880553,
           488116018.0528873,
           334972478.5286473,
           190036924.3699853,
           193725467.21380946,
           100773381.8793084,
           58025367.9794327,
           29491624.053565376,
           0
          ],
          [
           563490699.8672166,
           443302484.03774434,
           344783292.25053674,
           181622560.4588089,
           171449070.51644254,
           82301813.41111991,
           56572434.032094024,
           27903271.556108035,
           0
          ]
         ],
         "hoverlabel": {
          "bgcolor": "#FEF5F1",
          "font": {
           "color": "#333"
          }
         },
         "hovertemplate": "<b>%{y} %{x}</b><br><br><b>SCF:</b> %{customdata:,.0f}<br><b>cubic meters:</b> %{z:,.0f}",
         "name": "",
         "showscale": false,
         "type": "heatmap",
         "x": [
          2008,
          2009,
          2010,
          2011,
          2012,
          2013,
          2014,
          2015,
          2016
         ],
         "xaxis": "x4",
         "y": [
          "Jan",
          "Feb",
          "Mar",
          "Apr",
          "May",
          "Jun",
          "Jul",
          "Aug",
          "Sep",
          "Oct",
          "Nov",
          "Dec"
         ],
         "yaxis": "y4",
         "z": [
          [
           0,
           16718455.33,
           11561301.92,
           9353204.41,
           4156158.72,
           4834717.2,
           2426753.21,
           1357132.6,
           721123.87
          ],
          [
           0,
           16254377.44,
           8751248.29,
           6830109.59,
           5598558.93,
           4196331.85,
           2161271.57,
           1092571.04,
           621658.73
          ],
          [
           0,
           12702463.22,
           9421805.36,
           8733754.97,
           5378188.67,
           2783792.79,
           2196383.02,
           1195524.25,
           604911.16
          ],
          [
           0,
           11926656.18,
           10288470.42,
           8052242.88,
           5673229.82,
           3676256.95,
           2398888.09,
           1121236.5,
           514414.42
          ],
          [
           0,
           15944548.83,
           12490295.91,
           7972927.68,
           5495387.93,
           4525932.12,
           1943519.37,
           1042506.82,
           506857.03
          ],
          [
           0,
           12141881.11,
           10756576.8,
           4835912.15,
           4980411.28,
           3652742.89,
           1951326.48,
           889055.86,
           495103.7
          ],
          [
           7538861.07,
           9127860.49,
           10073534.35,
           3064565.93,
           5181262.48,
           3553396.55,
           2012912.64,
           999142.24,
           215288.52
          ],
          [
           9780532.34,
           15664621.81,
           5543252.28,
           7681607.89,
           1974233.52,
           3259563.55,
           1333766.64,
           737504.53,
           0
          ],
          [
           16340514.75,
           12564633.24,
           8260552.19,
           8021384.18,
           245981.03,
           2707856.27,
           1516704.37,
           799234.86,
           0
          ],
          [
           20326866.32,
           13556584.82,
           11853846.58,
           3406338.4,
           5155057.85,
           2757135.18,
           1558794.24,
           863230.28,
           0
          ],
          [
           14906020.01,
           13821883.66,
           9485348.68,
           5381237.58,
           5485685.31,
           2853579.7,
           1643092.74,
           835108.42,
           0
          ],
          [
           15956253.45,
           12552907.78,
           9763159.53,
           5142969.72,
           4854889.04,
           2330523.99,
           1601950.3,
           790131.36,
           0
          ]
         ]
        }
       ],
       "layout": {
        "annotations": [
         {
          "font": {
           "size": 18
          },
          "showarrow": false,
          "text": "<b>Annual Oil Production (m<sup>3</sup>)</b>",
          "x": 0.225,
          "xanchor": "center",
          "xref": "paper",
          "y": 0.9999999999999999,
          "yanchor": "bottom",
          "yref": "paper"
         },
         {
          "font": {
           "size": 18
          },
          "showarrow": false,
          "text": "<b>Monthly Oil Production (m<sup>3</sup>)</b>",
          "x": 0.775,
          "xanchor": "center",
          "xref": "paper",
          "y": 0.9999999999999999,
          "yanchor": "bottom",
          "yref": "paper"
         },
         {
          "font": {
           "size": 18
          },
          "showarrow": false,
          "text": "<b>Annual Gas Production (m<sup>3</sup>)</b>",
          "x": 0.225,
          "xanchor": "center",
          "xref": "paper",
          "y": 0.4125,
          "yanchor": "bottom",
          "yref": "paper"
         },
         {
          "font": {
           "size": 18
          },
          "showarrow": false,
          "text": "<b>Monthly Gas Production (m<sup>3</sup>)</b>",
          "x": 0.775,
          "xanchor": "center",
          "xref": "paper",
          "y": 0.4125,
          "yanchor": "bottom",
          "yref": "paper"
         }
        ],
        "font": {
         "size": 14
        },
        "height": 1000,
        "margin": {
         "t": 120
        },
        "template": {
         "data": {
          "bar": [
           {
            "error_x": {
             "color": "#2a3f5f"
            },
            "error_y": {
             "color": "#2a3f5f"
            },
            "marker": {
             "line": {
              "color": "#E5ECF6",
              "width": 0.5
             },
             "pattern": {
              "fillmode": "overlay",
              "size": 10,
              "solidity": 0.2
             }
            },
            "type": "bar"
           }
          ],
          "barpolar": [
           {
            "marker": {
             "line": {
              "color": "#E5ECF6",
              "width": 0.5
             },
             "pattern": {
              "fillmode": "overlay",
              "size": 10,
              "solidity": 0.2
             }
            },
            "type": "barpolar"
           }
          ],
          "carpet": [
           {
            "aaxis": {
             "endlinecolor": "#2a3f5f",
             "gridcolor": "white",
             "linecolor": "white",
             "minorgridcolor": "white",
             "startlinecolor": "#2a3f5f"
            },
            "baxis": {
             "endlinecolor": "#2a3f5f",
             "gridcolor": "white",
             "linecolor": "white",
             "minorgridcolor": "white",
             "startlinecolor": "#2a3f5f"
            },
            "type": "carpet"
           }
          ],
          "choropleth": [
           {
            "colorbar": {
             "outlinewidth": 0,
             "ticks": ""
            },
            "type": "choropleth"
           }
          ],
          "contour": [
           {
            "colorbar": {
             "outlinewidth": 0,
             "ticks": ""
            },
            "colorscale": [
             [
              0,
              "#0d0887"
             ],
             [
              0.1111111111111111,
              "#46039f"
             ],
             [
              0.2222222222222222,
              "#7201a8"
             ],
             [
              0.3333333333333333,
              "#9c179e"
             ],
             [
              0.4444444444444444,
              "#bd3786"
             ],
             [
              0.5555555555555556,
              "#d8576b"
             ],
             [
              0.6666666666666666,
              "#ed7953"
             ],
             [
              0.7777777777777778,
              "#fb9f3a"
             ],
             [
              0.8888888888888888,
              "#fdca26"
             ],
             [
              1,
              "#f0f921"
             ]
            ],
            "type": "contour"
           }
          ],
          "contourcarpet": [
           {
            "colorbar": {
             "outlinewidth": 0,
             "ticks": ""
            },
            "type": "contourcarpet"
           }
          ],
          "heatmap": [
           {
            "colorbar": {
             "outlinewidth": 0,
             "ticks": ""
            },
            "colorscale": [
             [
              0,
              "#0d0887"
             ],
             [
              0.1111111111111111,
              "#46039f"
             ],
             [
              0.2222222222222222,
              "#7201a8"
             ],
             [
              0.3333333333333333,
              "#9c179e"
             ],
             [
              0.4444444444444444,
              "#bd3786"
             ],
             [
              0.5555555555555556,
              "#d8576b"
             ],
             [
              0.6666666666666666,
              "#ed7953"
             ],
             [
              0.7777777777777778,
              "#fb9f3a"
             ],
             [
              0.8888888888888888,
              "#fdca26"
             ],
             [
              1,
              "#f0f921"
             ]
            ],
            "type": "heatmap"
           }
          ],
          "heatmapgl": [
           {
            "colorbar": {
             "outlinewidth": 0,
             "ticks": ""
            },
            "colorscale": [
             [
              0,
              "#0d0887"
             ],
             [
              0.1111111111111111,
              "#46039f"
             ],
             [
              0.2222222222222222,
              "#7201a8"
             ],
             [
              0.3333333333333333,
              "#9c179e"
             ],
             [
              0.4444444444444444,
              "#bd3786"
             ],
             [
              0.5555555555555556,
              "#d8576b"
             ],
             [
              0.6666666666666666,
              "#ed7953"
             ],
             [
              0.7777777777777778,
              "#fb9f3a"
             ],
             [
              0.8888888888888888,
              "#fdca26"
             ],
             [
              1,
              "#f0f921"
             ]
            ],
            "type": "heatmapgl"
           }
          ],
          "histogram": [
           {
            "marker": {
             "pattern": {
              "fillmode": "overlay",
              "size": 10,
              "solidity": 0.2
             }
            },
            "type": "histogram"
           }
          ],
          "histogram2d": [
           {
            "colorbar": {
             "outlinewidth": 0,
             "ticks": ""
            },
            "colorscale": [
             [
              0,
              "#0d0887"
             ],
             [
              0.1111111111111111,
              "#46039f"
             ],
             [
              0.2222222222222222,
              "#7201a8"
             ],
             [
              0.3333333333333333,
              "#9c179e"
             ],
             [
              0.4444444444444444,
              "#bd3786"
             ],
             [
              0.5555555555555556,
              "#d8576b"
             ],
             [
              0.6666666666666666,
              "#ed7953"
             ],
             [
              0.7777777777777778,
              "#fb9f3a"
             ],
             [
              0.8888888888888888,
              "#fdca26"
             ],
             [
              1,
              "#f0f921"
             ]
            ],
            "type": "histogram2d"
           }
          ],
          "histogram2dcontour": [
           {
            "colorbar": {
             "outlinewidth": 0,
             "ticks": ""
            },
            "colorscale": [
             [
              0,
              "#0d0887"
             ],
             [
              0.1111111111111111,
              "#46039f"
             ],
             [
              0.2222222222222222,
              "#7201a8"
             ],
             [
              0.3333333333333333,
              "#9c179e"
             ],
             [
              0.4444444444444444,
              "#bd3786"
             ],
             [
              0.5555555555555556,
              "#d8576b"
             ],
             [
              0.6666666666666666,
              "#ed7953"
             ],
             [
              0.7777777777777778,
              "#fb9f3a"
             ],
             [
              0.8888888888888888,
              "#fdca26"
             ],
             [
              1,
              "#f0f921"
             ]
            ],
            "type": "histogram2dcontour"
           }
          ],
          "mesh3d": [
           {
            "colorbar": {
             "outlinewidth": 0,
             "ticks": ""
            },
            "type": "mesh3d"
           }
          ],
          "parcoords": [
           {
            "line": {
             "colorbar": {
              "outlinewidth": 0,
              "ticks": ""
             }
            },
            "type": "parcoords"
           }
          ],
          "pie": [
           {
            "automargin": true,
            "type": "pie"
           }
          ],
          "scatter": [
           {
            "fillpattern": {
             "fillmode": "overlay",
             "size": 10,
             "solidity": 0.2
            },
            "type": "scatter"
           }
          ],
          "scatter3d": [
           {
            "line": {
             "colorbar": {
              "outlinewidth": 0,
              "ticks": ""
             }
            },
            "marker": {
             "colorbar": {
              "outlinewidth": 0,
              "ticks": ""
             }
            },
            "type": "scatter3d"
           }
          ],
          "scattercarpet": [
           {
            "marker": {
             "colorbar": {
              "outlinewidth": 0,
              "ticks": ""
             }
            },
            "type": "scattercarpet"
           }
          ],
          "scattergeo": [
           {
            "marker": {
             "colorbar": {
              "outlinewidth": 0,
              "ticks": ""
             }
            },
            "type": "scattergeo"
           }
          ],
          "scattergl": [
           {
            "marker": {
             "colorbar": {
              "outlinewidth": 0,
              "ticks": ""
             }
            },
            "type": "scattergl"
           }
          ],
          "scattermapbox": [
           {
            "marker": {
             "colorbar": {
              "outlinewidth": 0,
              "ticks": ""
             }
            },
            "type": "scattermapbox"
           }
          ],
          "scatterpolar": [
           {
            "marker": {
             "colorbar": {
              "outlinewidth": 0,
              "ticks": ""
             }
            },
            "type": "scatterpolar"
           }
          ],
          "scatterpolargl": [
           {
            "marker": {
             "colorbar": {
              "outlinewidth": 0,
              "ticks": ""
             }
            },
            "type": "scatterpolargl"
           }
          ],
          "scatterternary": [
           {
            "marker": {
             "colorbar": {
              "outlinewidth": 0,
              "ticks": ""
             }
            },
            "type": "scatterternary"
           }
          ],
          "surface": [
           {
            "colorbar": {
             "outlinewidth": 0,
             "ticks": ""
            },
            "colorscale": [
             [
              0,
              "#0d0887"
             ],
             [
              0.1111111111111111,
              "#46039f"
             ],
             [
              0.2222222222222222,
              "#7201a8"
             ],
             [
              0.3333333333333333,
              "#9c179e"
             ],
             [
              0.4444444444444444,
              "#bd3786"
             ],
             [
              0.5555555555555556,
              "#d8576b"
             ],
             [
              0.6666666666666666,
              "#ed7953"
             ],
             [
              0.7777777777777778,
              "#fb9f3a"
             ],
             [
              0.8888888888888888,
              "#fdca26"
             ],
             [
              1,
              "#f0f921"
             ]
            ],
            "type": "surface"
           }
          ],
          "table": [
           {
            "cells": {
             "fill": {
              "color": "#EBF0F8"
             },
             "line": {
              "color": "white"
             }
            },
            "header": {
             "fill": {
              "color": "#C8D4E3"
             },
             "line": {
              "color": "white"
             }
            },
            "type": "table"
           }
          ]
         },
         "layout": {
          "annotationdefaults": {
           "arrowcolor": "#2a3f5f",
           "arrowhead": 0,
           "arrowwidth": 1
          },
          "autotypenumbers": "strict",
          "coloraxis": {
           "colorbar": {
            "outlinewidth": 0,
            "ticks": ""
           }
          },
          "colorscale": {
           "diverging": [
            [
             0,
             "#8e0152"
            ],
            [
             0.1,
             "#c51b7d"
            ],
            [
             0.2,
             "#de77ae"
            ],
            [
             0.3,
             "#f1b6da"
            ],
            [
             0.4,
             "#fde0ef"
            ],
            [
             0.5,
             "#f7f7f7"
            ],
            [
             0.6,
             "#e6f5d0"
            ],
            [
             0.7,
             "#b8e186"
            ],
            [
             0.8,
             "#7fbc41"
            ],
            [
             0.9,
             "#4d9221"
            ],
            [
             1,
             "#276419"
            ]
           ],
           "sequential": [
            [
             0,
             "#0d0887"
            ],
            [
             0.1111111111111111,
             "#46039f"
            ],
            [
             0.2222222222222222,
             "#7201a8"
            ],
            [
             0.3333333333333333,
             "#9c179e"
            ],
            [
             0.4444444444444444,
             "#bd3786"
            ],
            [
             0.5555555555555556,
             "#d8576b"
            ],
            [
             0.6666666666666666,
             "#ed7953"
            ],
            [
             0.7777777777777778,
             "#fb9f3a"
            ],
            [
             0.8888888888888888,
             "#fdca26"
            ],
            [
             1,
             "#f0f921"
            ]
           ],
           "sequentialminus": [
            [
             0,
             "#0d0887"
            ],
            [
             0.1111111111111111,
             "#46039f"
            ],
            [
             0.2222222222222222,
             "#7201a8"
            ],
            [
             0.3333333333333333,
             "#9c179e"
            ],
            [
             0.4444444444444444,
             "#bd3786"
            ],
            [
             0.5555555555555556,
             "#d8576b"
            ],
            [
             0.6666666666666666,
             "#ed7953"
            ],
            [
             0.7777777777777778,
             "#fb9f3a"
            ],
            [
             0.8888888888888888,
             "#fdca26"
            ],
            [
             1,
             "#f0f921"
            ]
           ]
          },
          "colorway": [
           "#636efa",
           "#EF553B",
           "#00cc96",
           "#ab63fa",
           "#FFA15A",
           "#19d3f3",
           "#FF6692",
           "#B6E880",
           "#FF97FF",
           "#FECB52"
          ],
          "font": {
           "color": "#2a3f5f"
          },
          "geo": {
           "bgcolor": "white",
           "lakecolor": "white",
           "landcolor": "#E5ECF6",
           "showlakes": true,
           "showland": true,
           "subunitcolor": "white"
          },
          "hoverlabel": {
           "align": "left"
          },
          "hovermode": "closest",
          "mapbox": {
           "style": "light"
          },
          "paper_bgcolor": "white",
          "plot_bgcolor": "#E5ECF6",
          "polar": {
           "angularaxis": {
            "gridcolor": "white",
            "linecolor": "white",
            "ticks": ""
           },
           "bgcolor": "#E5ECF6",
           "radialaxis": {
            "gridcolor": "white",
            "linecolor": "white",
            "ticks": ""
           }
          },
          "scene": {
           "xaxis": {
            "backgroundcolor": "#E5ECF6",
            "gridcolor": "white",
            "gridwidth": 2,
            "linecolor": "white",
            "showbackground": true,
            "ticks": "",
            "zerolinecolor": "white"
           },
           "yaxis": {
            "backgroundcolor": "#E5ECF6",
            "gridcolor": "white",
            "gridwidth": 2,
            "linecolor": "white",
            "showbackground": true,
            "ticks": "",
            "zerolinecolor": "white"
           },
           "zaxis": {
            "backgroundcolor": "#E5ECF6",
            "gridcolor": "white",
            "gridwidth": 2,
            "linecolor": "white",
            "showbackground": true,
            "ticks": "",
            "zerolinecolor": "white"
           }
          },
          "shapedefaults": {
           "line": {
            "color": "#2a3f5f"
           }
          },
          "ternary": {
           "aaxis": {
            "gridcolor": "white",
            "linecolor": "white",
            "ticks": ""
           },
           "baxis": {
            "gridcolor": "white",
            "linecolor": "white",
            "ticks": ""
           },
           "bgcolor": "#E5ECF6",
           "caxis": {
            "gridcolor": "white",
            "linecolor": "white",
            "ticks": ""
           }
          },
          "title": {
           "x": 0.05
          },
          "xaxis": {
           "automargin": true,
           "gridcolor": "white",
           "linecolor": "white",
           "ticks": "",
           "title": {
            "standoff": 15
           },
           "zerolinecolor": "white",
           "zerolinewidth": 2
          },
          "yaxis": {
           "automargin": true,
           "gridcolor": "white",
           "linecolor": "white",
           "ticks": "",
           "title": {
            "standoff": 15
           },
           "zerolinecolor": "white",
           "zerolinewidth": 2
          }
         }
        },
        "title": {
         "font": {
          "size": 20
         },
         "text": "<b>Wellbore 15/9-F-14</b>"
        },
        "xaxis": {
         "anchor": "y",
         "domain": [
          0,
          0.45
         ],
         "tickmode": "array",
         "tickvals": [
          2008,
          2009,
          2010,
          2011,
          2012,
          2013,
          2014,
          2015,
          2016
         ],
         "title": {
          "text": "Year"
         }
        },
        "xaxis2": {
         "anchor": "y2",
         "domain": [
          0.55,
          1
         ],
         "tickmode": "array",
         "tickvals": [
          2008,
          2009,
          2010,
          2011,
          2012,
          2013,
          2014,
          2015,
          2016
         ],
         "title": {
          "text": "Year"
         }
        },
        "xaxis3": {
         "anchor": "y3",
         "domain": [
          0,
          0.45
         ],
         "tickmode": "array",
         "tickvals": [
          2008,
          2009,
          2010,
          2011,
          2012,
          2013,
          2014,
          2015,
          2016
         ],
         "title": {
          "text": "Year"
         }
        },
        "xaxis4": {
         "anchor": "y4",
         "domain": [
          0.55,
          1
         ],
         "tickmode": "array",
         "tickvals": [
          2008,
          2009,
          2010,
          2011,
          2012,
          2013,
          2014,
          2015,
          2016
         ],
         "title": {
          "text": "Year"
         }
        },
        "yaxis": {
         "anchor": "x",
         "domain": [
          0.5874999999999999,
          0.9999999999999999
         ],
         "title": {
          "standoff": 3,
          "text": "Oil Volume"
         }
        },
        "yaxis2": {
         "anchor": "x2",
         "autorange": "reversed",
         "domain": [
          0.5874999999999999,
          0.9999999999999999
         ],
         "title": {
          "standoff": 3,
          "text": "Month"
         }
        },
        "yaxis3": {
         "anchor": "x3",
         "domain": [
          0,
          0.4125
         ],
         "title": {
          "standoff": 3,
          "text": "Gas Volume"
         }
        },
        "yaxis4": {
         "anchor": "x4",
         "autorange": "reversed",
         "domain": [
          0,
          0.4125
         ],
         "title": {
          "standoff": 3,
          "text": "Month"
         }
        }
       }
      }
     },
     "metadata": {},
     "output_type": "display_data"
    }
   ],
   "source": [
    "analyze_wellbore(volve_df, \"15/9-F-14\")"
   ]
  },
  {
   "cell_type": "code",
   "execution_count": 28,
   "metadata": {},
   "outputs": [
    {
     "data": {
      "application/vnd.plotly.v1+json": {
       "config": {
        "plotlyServerURL": "https://plot.ly"
       },
       "data": [
        {
         "customdata": [
          981844.6504846615,
          2278314.2427099524,
          2929904.464067256,
          1029690.044424932
         ],
         "hovertemplate": "<b>%{x}</b><br><br><b>barrels:</b> %{customdata:,.0f}<br><b>cubic meters:</b> %{y:,.0f}",
         "marker": {
          "color": "mediumspringgreen",
          "line": {
           "color": "whitesmoke",
           "width": 1.2
          }
         },
         "name": "",
         "showlegend": false,
         "type": "bar",
         "x": [
          2013,
          2014,
          2015,
          2016
         ],
         "xaxis": "x",
         "y": [
          156100.83000000002,
          362223.03,
          465817.60000000003,
          163707.63999999998
         ],
         "yaxis": "y"
        },
        {
         "colorscale": [
          [
           0,
           "rgb(247,252,245)"
          ],
          [
           0.125,
           "rgb(229,245,224)"
          ],
          [
           0.25,
           "rgb(199,233,192)"
          ],
          [
           0.375,
           "rgb(161,217,155)"
          ],
          [
           0.5,
           "rgb(116,196,118)"
          ],
          [
           0.625,
           "rgb(65,171,93)"
          ],
          [
           0.75,
           "rgb(35,139,69)"
          ],
          [
           0.875,
           "rgb(0,109,44)"
          ],
          [
           1,
           "rgb(0,68,27)"
          ]
         ],
         "customdata": [
          [
           0,
           217327.86203677906,
           185938.12210157668,
           198778.51878734966
          ],
          [
           0,
           177309.57126764214,
           159429.21227041405,
           163249.32871996693
          ],
          [
           0,
           209392.7628181622,
           278740.4402741603,
           157394.08116245765
          ],
          [
           0,
           222840.00042770713,
           343145.395890112,
           84465.86614150941
          ],
          [
           0,
           219085.92698913685,
           346123.3696024777,
           97672.89588539462
          ],
          [
           0,
           213216.02417299998,
           303364.48257187835,
           91772.17299746584
          ],
          [
           24675.43005007318,
           212346.0804730944,
           275397.21726200776,
           90478.170268946
          ],
          [
           160365.45057372507,
           163771.19430294118,
           198117.39679836063,
           91728.89910074578
          ],
          [
           149540.74948124788,
           208957.82241726227,
           197654.71833284796,
           54150.11136109614
          ],
          [
           214573.74268259163,
           212920.90626106615,
           186963.2354282386,
           0
          ],
          [
           222573.43825576003,
           167381.2939775693,
           229013.44950194136,
           0
          ],
          [
           210115.83944126355,
           53764.79756559172,
           226017.42403324042,
           0
          ]
         ],
         "hoverlabel": {
          "bgcolor": "#F2FBF0",
          "font": {
           "color": "#333"
          }
         },
         "hovertemplate": "<b>%{y} %{x}</b><br><br><b>barrels:</b> %{customdata:,.0f}<br><b>cubic meters:</b> %{z:,.0f}",
         "name": "",
         "showscale": false,
         "type": "heatmap",
         "x": [
          2013,
          2014,
          2015,
          2016
         ],
         "xaxis": "x2",
         "y": [
          "Jan",
          "Feb",
          "Mar",
          "Apr",
          "May",
          "Jun",
          "Jul",
          "Aug",
          "Sep",
          "Oct",
          "Nov",
          "Dec"
         ],
         "yaxis": "y2",
         "z": [
          [
           0,
           34552.37,
           29561.8,
           31603.26
          ],
          [
           0,
           28189.97,
           25347.22,
           25954.57
          ],
          [
           0,
           33290.79,
           44316.19,
           25023.66
          ],
          [
           0,
           35428.73,
           54555.76,
           13429
          ],
          [
           0,
           34831.88,
           55029.22,
           15528.75
          ],
          [
           0,
           33898.64,
           48231.1,
           14590.61
          ],
          [
           3923.08,
           33760.33,
           43784.66,
           14384.88
          ],
          [
           25496.07,
           26037.54,
           31498.15,
           14583.73
          ],
          [
           23775.08,
           33221.64,
           31424.59,
           8609.18
          ],
          [
           34114.5,
           33851.72,
           29724.78,
           0
          ],
          [
           35386.35,
           26611.5,
           36410.23,
           0
          ],
          [
           33405.75,
           8547.92,
           35933.9,
           0
          ]
         ]
        },
        {
         "customdata": [
          847584828.794214,
          1934441775.5537348,
          2449191180.1474743,
          924510285.4136062
         ],
         "hovertemplate": "<b>%{x}</b><br><br><b>SCF:</b> %{customdata:,.0f}<br><b>cubic meters:</b> %{y:,.0f}",
         "marker": {
          "color": "crimson",
          "line": {
           "color": "whitesmoke",
           "width": 1.2
          }
         },
         "name": "",
         "showlegend": false,
         "type": "bar",
         "x": [
          2013,
          2014,
          2015,
          2016
         ],
         "xaxis": "x3",
         "y": [
          24000890.08,
          54777200.87,
          69353256.81,
          26179172.85
         ],
         "yaxis": "y3"
        },
        {
         "colorscale": [
          [
           0,
           "rgb(255,245,240)"
          ],
          [
           0.125,
           "rgb(254,224,210)"
          ],
          [
           0.25,
           "rgb(252,187,161)"
          ],
          [
           0.375,
           "rgb(252,146,114)"
          ],
          [
           0.5,
           "rgb(251,106,74)"
          ],
          [
           0.625,
           "rgb(239,59,44)"
          ],
          [
           0.75,
           "rgb(203,24,29)"
          ],
          [
           0.875,
           "rgb(165,15,21)"
          ],
          [
           1,
           "rgb(103,0,13)"
          ]
         ],
         "customdata": [
          [
           0,
           183401839.8971635,
           153936142.14883038,
           174805796.55893323
          ],
          [
           0,
           150274136.9081252,
           135469886.7809922,
           144553288.50717595
          ],
          [
           0,
           177980907.09402192,
           230135484.5886541,
           142390315.99615777
          ],
          [
           0,
           187237216.06961238,
           280980460.00960565,
           77495587.42513278
          ],
          [
           0,
           173134650.80800092,
           283489322.2398011,
           86546282.41891739
          ],
          [
           0,
           176244650.5254831,
           249528604.57396317,
           82958922.61837496
          ],
          [
           20853504.6332919,
           177842033.35122612,
           229858362.87998644,
           81557501.90699515
          ],
          [
           136736577.22624025,
           142451492.4002712,
           168447782.94157532,
           82684892.00757147
          ],
          [
           129307478.24612951,
           184354470.84416318,
           167678193.15741894,
           51517697.97434739
          ],
          [
           186204807.3934908,
           184950569.97965872,
           158971706.54876256,
           0
          ],
          [
           191175773.39247373,
           146666158.95863938,
           196299488.28963724,
           0
          ],
          [
           183306687.9025879,
           49903648.71736919,
           194395745.98824728,
           0
          ]
         ],
         "hoverlabel": {
          "bgcolor": "#FEF5F1",
          "font": {
           "color": "#333"
          }
         },
         "hovertemplate": "<b>%{y} %{x}</b><br><br><b>SCF:</b> %{customdata:,.0f}<br><b>cubic meters:</b> %{z:,.0f}",
         "name": "",
         "showscale": false,
         "type": "heatmap",
         "x": [
          2013,
          2014,
          2015,
          2016
         ],
         "xaxis": "x4",
         "y": [
          "Jan",
          "Feb",
          "Mar",
          "Apr",
          "May",
          "Jun",
          "Jul",
          "Aug",
          "Sep",
          "Oct",
          "Nov",
          "Dec"
         ],
         "yaxis": "y4",
         "z": [
          [
           0,
           5193353.22,
           4358978.95,
           4949940.78
          ],
          [
           0,
           4255282.68,
           3836073.69,
           4093286.56
          ],
          [
           0,
           5039849.75,
           6516700.49,
           4032038.1
          ],
          [
           0,
           5301958.8,
           7956467.49,
           2194427.05
          ],
          [
           0,
           4902619.28,
           8027510.44,
           2450713.77
          ],
          [
           0,
           4990684.52,
           7065851.59,
           2349131.22
          ],
          [
           590504.52,
           5035917.29,
           6508853.29,
           2309447.47
          ],
          [
           3871942.31,
           4033770.42,
           4769902.18,
           2341371.55
          ],
          [
           3661574,
           5220328.68,
           4748109.86,
           1458816.35
          ],
          [
           5272724.29,
           5237208.3,
           4501570.02,
           0
          ],
          [
           5413486.14,
           4153116.29,
           5558573.35,
           0
          ],
          [
           5190658.82,
           1413111.64,
           5504665.46,
           0
          ]
         ]
        }
       ],
       "layout": {
        "annotations": [
         {
          "font": {
           "size": 18
          },
          "showarrow": false,
          "text": "<b>Annual Oil Production (m<sup>3</sup>)</b>",
          "x": 0.225,
          "xanchor": "center",
          "xref": "paper",
          "y": 0.9999999999999999,
          "yanchor": "bottom",
          "yref": "paper"
         },
         {
          "font": {
           "size": 18
          },
          "showarrow": false,
          "text": "<b>Monthly Oil Production (m<sup>3</sup>)</b>",
          "x": 0.775,
          "xanchor": "center",
          "xref": "paper",
          "y": 0.9999999999999999,
          "yanchor": "bottom",
          "yref": "paper"
         },
         {
          "font": {
           "size": 18
          },
          "showarrow": false,
          "text": "<b>Annual Gas Production (m<sup>3</sup>)</b>",
          "x": 0.225,
          "xanchor": "center",
          "xref": "paper",
          "y": 0.4125,
          "yanchor": "bottom",
          "yref": "paper"
         },
         {
          "font": {
           "size": 18
          },
          "showarrow": false,
          "text": "<b>Monthly Gas Production (m<sup>3</sup>)</b>",
          "x": 0.775,
          "xanchor": "center",
          "xref": "paper",
          "y": 0.4125,
          "yanchor": "bottom",
          "yref": "paper"
         }
        ],
        "font": {
         "size": 14
        },
        "height": 1000,
        "margin": {
         "t": 120
        },
        "template": {
         "data": {
          "bar": [
           {
            "error_x": {
             "color": "#2a3f5f"
            },
            "error_y": {
             "color": "#2a3f5f"
            },
            "marker": {
             "line": {
              "color": "#E5ECF6",
              "width": 0.5
             },
             "pattern": {
              "fillmode": "overlay",
              "size": 10,
              "solidity": 0.2
             }
            },
            "type": "bar"
           }
          ],
          "barpolar": [
           {
            "marker": {
             "line": {
              "color": "#E5ECF6",
              "width": 0.5
             },
             "pattern": {
              "fillmode": "overlay",
              "size": 10,
              "solidity": 0.2
             }
            },
            "type": "barpolar"
           }
          ],
          "carpet": [
           {
            "aaxis": {
             "endlinecolor": "#2a3f5f",
             "gridcolor": "white",
             "linecolor": "white",
             "minorgridcolor": "white",
             "startlinecolor": "#2a3f5f"
            },
            "baxis": {
             "endlinecolor": "#2a3f5f",
             "gridcolor": "white",
             "linecolor": "white",
             "minorgridcolor": "white",
             "startlinecolor": "#2a3f5f"
            },
            "type": "carpet"
           }
          ],
          "choropleth": [
           {
            "colorbar": {
             "outlinewidth": 0,
             "ticks": ""
            },
            "type": "choropleth"
           }
          ],
          "contour": [
           {
            "colorbar": {
             "outlinewidth": 0,
             "ticks": ""
            },
            "colorscale": [
             [
              0,
              "#0d0887"
             ],
             [
              0.1111111111111111,
              "#46039f"
             ],
             [
              0.2222222222222222,
              "#7201a8"
             ],
             [
              0.3333333333333333,
              "#9c179e"
             ],
             [
              0.4444444444444444,
              "#bd3786"
             ],
             [
              0.5555555555555556,
              "#d8576b"
             ],
             [
              0.6666666666666666,
              "#ed7953"
             ],
             [
              0.7777777777777778,
              "#fb9f3a"
             ],
             [
              0.8888888888888888,
              "#fdca26"
             ],
             [
              1,
              "#f0f921"
             ]
            ],
            "type": "contour"
           }
          ],
          "contourcarpet": [
           {
            "colorbar": {
             "outlinewidth": 0,
             "ticks": ""
            },
            "type": "contourcarpet"
           }
          ],
          "heatmap": [
           {
            "colorbar": {
             "outlinewidth": 0,
             "ticks": ""
            },
            "colorscale": [
             [
              0,
              "#0d0887"
             ],
             [
              0.1111111111111111,
              "#46039f"
             ],
             [
              0.2222222222222222,
              "#7201a8"
             ],
             [
              0.3333333333333333,
              "#9c179e"
             ],
             [
              0.4444444444444444,
              "#bd3786"
             ],
             [
              0.5555555555555556,
              "#d8576b"
             ],
             [
              0.6666666666666666,
              "#ed7953"
             ],
             [
              0.7777777777777778,
              "#fb9f3a"
             ],
             [
              0.8888888888888888,
              "#fdca26"
             ],
             [
              1,
              "#f0f921"
             ]
            ],
            "type": "heatmap"
           }
          ],
          "heatmapgl": [
           {
            "colorbar": {
             "outlinewidth": 0,
             "ticks": ""
            },
            "colorscale": [
             [
              0,
              "#0d0887"
             ],
             [
              0.1111111111111111,
              "#46039f"
             ],
             [
              0.2222222222222222,
              "#7201a8"
             ],
             [
              0.3333333333333333,
              "#9c179e"
             ],
             [
              0.4444444444444444,
              "#bd3786"
             ],
             [
              0.5555555555555556,
              "#d8576b"
             ],
             [
              0.6666666666666666,
              "#ed7953"
             ],
             [
              0.7777777777777778,
              "#fb9f3a"
             ],
             [
              0.8888888888888888,
              "#fdca26"
             ],
             [
              1,
              "#f0f921"
             ]
            ],
            "type": "heatmapgl"
           }
          ],
          "histogram": [
           {
            "marker": {
             "pattern": {
              "fillmode": "overlay",
              "size": 10,
              "solidity": 0.2
             }
            },
            "type": "histogram"
           }
          ],
          "histogram2d": [
           {
            "colorbar": {
             "outlinewidth": 0,
             "ticks": ""
            },
            "colorscale": [
             [
              0,
              "#0d0887"
             ],
             [
              0.1111111111111111,
              "#46039f"
             ],
             [
              0.2222222222222222,
              "#7201a8"
             ],
             [
              0.3333333333333333,
              "#9c179e"
             ],
             [
              0.4444444444444444,
              "#bd3786"
             ],
             [
              0.5555555555555556,
              "#d8576b"
             ],
             [
              0.6666666666666666,
              "#ed7953"
             ],
             [
              0.7777777777777778,
              "#fb9f3a"
             ],
             [
              0.8888888888888888,
              "#fdca26"
             ],
             [
              1,
              "#f0f921"
             ]
            ],
            "type": "histogram2d"
           }
          ],
          "histogram2dcontour": [
           {
            "colorbar": {
             "outlinewidth": 0,
             "ticks": ""
            },
            "colorscale": [
             [
              0,
              "#0d0887"
             ],
             [
              0.1111111111111111,
              "#46039f"
             ],
             [
              0.2222222222222222,
              "#7201a8"
             ],
             [
              0.3333333333333333,
              "#9c179e"
             ],
             [
              0.4444444444444444,
              "#bd3786"
             ],
             [
              0.5555555555555556,
              "#d8576b"
             ],
             [
              0.6666666666666666,
              "#ed7953"
             ],
             [
              0.7777777777777778,
              "#fb9f3a"
             ],
             [
              0.8888888888888888,
              "#fdca26"
             ],
             [
              1,
              "#f0f921"
             ]
            ],
            "type": "histogram2dcontour"
           }
          ],
          "mesh3d": [
           {
            "colorbar": {
             "outlinewidth": 0,
             "ticks": ""
            },
            "type": "mesh3d"
           }
          ],
          "parcoords": [
           {
            "line": {
             "colorbar": {
              "outlinewidth": 0,
              "ticks": ""
             }
            },
            "type": "parcoords"
           }
          ],
          "pie": [
           {
            "automargin": true,
            "type": "pie"
           }
          ],
          "scatter": [
           {
            "fillpattern": {
             "fillmode": "overlay",
             "size": 10,
             "solidity": 0.2
            },
            "type": "scatter"
           }
          ],
          "scatter3d": [
           {
            "line": {
             "colorbar": {
              "outlinewidth": 0,
              "ticks": ""
             }
            },
            "marker": {
             "colorbar": {
              "outlinewidth": 0,
              "ticks": ""
             }
            },
            "type": "scatter3d"
           }
          ],
          "scattercarpet": [
           {
            "marker": {
             "colorbar": {
              "outlinewidth": 0,
              "ticks": ""
             }
            },
            "type": "scattercarpet"
           }
          ],
          "scattergeo": [
           {
            "marker": {
             "colorbar": {
              "outlinewidth": 0,
              "ticks": ""
             }
            },
            "type": "scattergeo"
           }
          ],
          "scattergl": [
           {
            "marker": {
             "colorbar": {
              "outlinewidth": 0,
              "ticks": ""
             }
            },
            "type": "scattergl"
           }
          ],
          "scattermapbox": [
           {
            "marker": {
             "colorbar": {
              "outlinewidth": 0,
              "ticks": ""
             }
            },
            "type": "scattermapbox"
           }
          ],
          "scatterpolar": [
           {
            "marker": {
             "colorbar": {
              "outlinewidth": 0,
              "ticks": ""
             }
            },
            "type": "scatterpolar"
           }
          ],
          "scatterpolargl": [
           {
            "marker": {
             "colorbar": {
              "outlinewidth": 0,
              "ticks": ""
             }
            },
            "type": "scatterpolargl"
           }
          ],
          "scatterternary": [
           {
            "marker": {
             "colorbar": {
              "outlinewidth": 0,
              "ticks": ""
             }
            },
            "type": "scatterternary"
           }
          ],
          "surface": [
           {
            "colorbar": {
             "outlinewidth": 0,
             "ticks": ""
            },
            "colorscale": [
             [
              0,
              "#0d0887"
             ],
             [
              0.1111111111111111,
              "#46039f"
             ],
             [
              0.2222222222222222,
              "#7201a8"
             ],
             [
              0.3333333333333333,
              "#9c179e"
             ],
             [
              0.4444444444444444,
              "#bd3786"
             ],
             [
              0.5555555555555556,
              "#d8576b"
             ],
             [
              0.6666666666666666,
              "#ed7953"
             ],
             [
              0.7777777777777778,
              "#fb9f3a"
             ],
             [
              0.8888888888888888,
              "#fdca26"
             ],
             [
              1,
              "#f0f921"
             ]
            ],
            "type": "surface"
           }
          ],
          "table": [
           {
            "cells": {
             "fill": {
              "color": "#EBF0F8"
             },
             "line": {
              "color": "white"
             }
            },
            "header": {
             "fill": {
              "color": "#C8D4E3"
             },
             "line": {
              "color": "white"
             }
            },
            "type": "table"
           }
          ]
         },
         "layout": {
          "annotationdefaults": {
           "arrowcolor": "#2a3f5f",
           "arrowhead": 0,
           "arrowwidth": 1
          },
          "autotypenumbers": "strict",
          "coloraxis": {
           "colorbar": {
            "outlinewidth": 0,
            "ticks": ""
           }
          },
          "colorscale": {
           "diverging": [
            [
             0,
             "#8e0152"
            ],
            [
             0.1,
             "#c51b7d"
            ],
            [
             0.2,
             "#de77ae"
            ],
            [
             0.3,
             "#f1b6da"
            ],
            [
             0.4,
             "#fde0ef"
            ],
            [
             0.5,
             "#f7f7f7"
            ],
            [
             0.6,
             "#e6f5d0"
            ],
            [
             0.7,
             "#b8e186"
            ],
            [
             0.8,
             "#7fbc41"
            ],
            [
             0.9,
             "#4d9221"
            ],
            [
             1,
             "#276419"
            ]
           ],
           "sequential": [
            [
             0,
             "#0d0887"
            ],
            [
             0.1111111111111111,
             "#46039f"
            ],
            [
             0.2222222222222222,
             "#7201a8"
            ],
            [
             0.3333333333333333,
             "#9c179e"
            ],
            [
             0.4444444444444444,
             "#bd3786"
            ],
            [
             0.5555555555555556,
             "#d8576b"
            ],
            [
             0.6666666666666666,
             "#ed7953"
            ],
            [
             0.7777777777777778,
             "#fb9f3a"
            ],
            [
             0.8888888888888888,
             "#fdca26"
            ],
            [
             1,
             "#f0f921"
            ]
           ],
           "sequentialminus": [
            [
             0,
             "#0d0887"
            ],
            [
             0.1111111111111111,
             "#46039f"
            ],
            [
             0.2222222222222222,
             "#7201a8"
            ],
            [
             0.3333333333333333,
             "#9c179e"
            ],
            [
             0.4444444444444444,
             "#bd3786"
            ],
            [
             0.5555555555555556,
             "#d8576b"
            ],
            [
             0.6666666666666666,
             "#ed7953"
            ],
            [
             0.7777777777777778,
             "#fb9f3a"
            ],
            [
             0.8888888888888888,
             "#fdca26"
            ],
            [
             1,
             "#f0f921"
            ]
           ]
          },
          "colorway": [
           "#636efa",
           "#EF553B",
           "#00cc96",
           "#ab63fa",
           "#FFA15A",
           "#19d3f3",
           "#FF6692",
           "#B6E880",
           "#FF97FF",
           "#FECB52"
          ],
          "font": {
           "color": "#2a3f5f"
          },
          "geo": {
           "bgcolor": "white",
           "lakecolor": "white",
           "landcolor": "#E5ECF6",
           "showlakes": true,
           "showland": true,
           "subunitcolor": "white"
          },
          "hoverlabel": {
           "align": "left"
          },
          "hovermode": "closest",
          "mapbox": {
           "style": "light"
          },
          "paper_bgcolor": "white",
          "plot_bgcolor": "#E5ECF6",
          "polar": {
           "angularaxis": {
            "gridcolor": "white",
            "linecolor": "white",
            "ticks": ""
           },
           "bgcolor": "#E5ECF6",
           "radialaxis": {
            "gridcolor": "white",
            "linecolor": "white",
            "ticks": ""
           }
          },
          "scene": {
           "xaxis": {
            "backgroundcolor": "#E5ECF6",
            "gridcolor": "white",
            "gridwidth": 2,
            "linecolor": "white",
            "showbackground": true,
            "ticks": "",
            "zerolinecolor": "white"
           },
           "yaxis": {
            "backgroundcolor": "#E5ECF6",
            "gridcolor": "white",
            "gridwidth": 2,
            "linecolor": "white",
            "showbackground": true,
            "ticks": "",
            "zerolinecolor": "white"
           },
           "zaxis": {
            "backgroundcolor": "#E5ECF6",
            "gridcolor": "white",
            "gridwidth": 2,
            "linecolor": "white",
            "showbackground": true,
            "ticks": "",
            "zerolinecolor": "white"
           }
          },
          "shapedefaults": {
           "line": {
            "color": "#2a3f5f"
           }
          },
          "ternary": {
           "aaxis": {
            "gridcolor": "white",
            "linecolor": "white",
            "ticks": ""
           },
           "baxis": {
            "gridcolor": "white",
            "linecolor": "white",
            "ticks": ""
           },
           "bgcolor": "#E5ECF6",
           "caxis": {
            "gridcolor": "white",
            "linecolor": "white",
            "ticks": ""
           }
          },
          "title": {
           "x": 0.05
          },
          "xaxis": {
           "automargin": true,
           "gridcolor": "white",
           "linecolor": "white",
           "ticks": "",
           "title": {
            "standoff": 15
           },
           "zerolinecolor": "white",
           "zerolinewidth": 2
          },
          "yaxis": {
           "automargin": true,
           "gridcolor": "white",
           "linecolor": "white",
           "ticks": "",
           "title": {
            "standoff": 15
           },
           "zerolinecolor": "white",
           "zerolinewidth": 2
          }
         }
        },
        "title": {
         "font": {
          "size": 20
         },
         "text": "<b>Wellbore 15/9-F-11</b>"
        },
        "xaxis": {
         "anchor": "y",
         "domain": [
          0,
          0.45
         ],
         "tickmode": "array",
         "tickvals": [
          2013,
          2014,
          2015,
          2016
         ],
         "title": {
          "text": "Year"
         }
        },
        "xaxis2": {
         "anchor": "y2",
         "domain": [
          0.55,
          1
         ],
         "tickmode": "array",
         "tickvals": [
          2013,
          2014,
          2015,
          2016
         ],
         "title": {
          "text": "Year"
         }
        },
        "xaxis3": {
         "anchor": "y3",
         "domain": [
          0,
          0.45
         ],
         "tickmode": "array",
         "tickvals": [
          2013,
          2014,
          2015,
          2016
         ],
         "title": {
          "text": "Year"
         }
        },
        "xaxis4": {
         "anchor": "y4",
         "domain": [
          0.55,
          1
         ],
         "tickmode": "array",
         "tickvals": [
          2013,
          2014,
          2015,
          2016
         ],
         "title": {
          "text": "Year"
         }
        },
        "yaxis": {
         "anchor": "x",
         "domain": [
          0.5874999999999999,
          0.9999999999999999
         ],
         "title": {
          "standoff": 3,
          "text": "Oil Volume"
         }
        },
        "yaxis2": {
         "anchor": "x2",
         "autorange": "reversed",
         "domain": [
          0.5874999999999999,
          0.9999999999999999
         ],
         "title": {
          "standoff": 3,
          "text": "Month"
         }
        },
        "yaxis3": {
         "anchor": "x3",
         "domain": [
          0,
          0.4125
         ],
         "title": {
          "standoff": 3,
          "text": "Gas Volume"
         }
        },
        "yaxis4": {
         "anchor": "x4",
         "autorange": "reversed",
         "domain": [
          0,
          0.4125
         ],
         "title": {
          "standoff": 3,
          "text": "Month"
         }
        }
       }
      }
     },
     "metadata": {},
     "output_type": "display_data"
    }
   ],
   "source": [
    "analyze_wellbore(volve_df, \"15/9-F-11\")"
   ]
  },
  {
   "cell_type": "code",
   "execution_count": 29,
   "metadata": {},
   "outputs": [
    {
     "data": {
      "application/vnd.plotly.v1+json": {
       "config": {
        "plotlyServerURL": "https://plot.ly"
       },
       "data": [
        {
         "customdata": [
          428561.27502008027,
          346564.15952720755,
          159028.1739484852
         ],
         "hovertemplate": "<b>%{x}</b><br><br><b>barrels:</b> %{customdata:,.0f}<br><b>cubic meters:</b> %{y:,.0f}",
         "marker": {
          "color": "mediumspringgreen",
          "line": {
           "color": "whitesmoke",
           "width": 1.2
          }
         },
         "name": "",
         "showlegend": false,
         "type": "bar",
         "x": [
          2014,
          2015,
          2016
         ],
         "xaxis": "x",
         "y": [
          68135.8,
          55099.3,
          25283.46
         ],
         "yaxis": "y"
        },
        {
         "colorscale": [
          [
           0,
           "rgb(247,252,245)"
          ],
          [
           0.125,
           "rgb(229,245,224)"
          ],
          [
           0.25,
           "rgb(199,233,192)"
          ],
          [
           0.375,
           "rgb(161,217,155)"
          ],
          [
           0.5,
           "rgb(116,196,118)"
          ],
          [
           0.625,
           "rgb(65,171,93)"
          ],
          [
           0.75,
           "rgb(35,139,69)"
          ],
          [
           0.875,
           "rgb(0,109,44)"
          ],
          [
           1,
           "rgb(0,68,27)"
          ]
         ],
         "customdata": [
          [
           35692.34775356271,
           37584.82595779663,
           18183.402070479842
          ],
          [
           49680.69776642537,
           28815.44626520483,
           32136.71783846886
          ],
          [
           44541.10485554507,
           25998.743295848162,
           23571.379600760567
          ],
          [
           45055.800054469764,
           26794.089842396217,
           28581.905598749083
          ],
          [
           45403.689477084015,
           25523.799699724445,
           29555.882765478753
          ],
          [
           44107.61111107617,
           23057.18758668145,
           21787.33773074956
          ],
          [
           43068.97469168921,
           14079.426469913005,
           5211.54834379853
          ],
          [
           21859.54475609058,
           22502.866581167174,
           0
          ],
          [
           33427.5127635981,
           46653.72642972112,
           0
          ],
          [
           36059.29530220338,
           39920.358418565505,
           0
          ],
          [
           29664.696488335863,
           24693.859195042623,
           0
          ],
          [
           0,
           30939.82978514636,
           0
          ]
         ],
         "hoverlabel": {
          "bgcolor": "#F2FBF0",
          "font": {
           "color": "#333"
          }
         },
         "hovertemplate": "<b>%{y} %{x}</b><br><br><b>barrels:</b> %{customdata:,.0f}<br><b>cubic meters:</b> %{z:,.0f}",
         "name": "",
         "showscale": false,
         "type": "heatmap",
         "x": [
          2014,
          2015,
          2016
         ],
         "xaxis": "x2",
         "y": [
          "Jan",
          "Feb",
          "Mar",
          "Apr",
          "May",
          "Jun",
          "Jul",
          "Aug",
          "Sep",
          "Oct",
          "Nov",
          "Dec"
         ],
         "yaxis": "y2",
         "z": [
          [
           5674.63,
           5975.51,
           2890.93
          ],
          [
           7898.6,
           4581.29,
           5109.33
          ],
          [
           7081.47,
           4133.47,
           3747.55
          ],
          [
           7163.3,
           4259.92,
           4544.16
          ],
          [
           7218.61,
           4057.96,
           4699.01
          ],
          [
           7012.55,
           3665.8,
           3463.91
          ],
          [
           6847.42,
           2238.45,
           828.57
          ],
          [
           3475.39,
           3577.67,
           0
          ],
          [
           5314.55,
           7417.35,
           0
          ],
          [
           5732.97,
           6346.83,
           0
          ],
          [
           4716.31,
           3926.01,
           0
          ],
          [
           0,
           4919.04,
           0
          ]
         ]
        },
        {
         "customdata": [
          360697781.52898633,
          291684471.05605155,
          142388023.36422196
         ],
         "hovertemplate": "<b>%{x}</b><br><br><b>SCF:</b> %{customdata:,.0f}<br><b>cubic meters:</b> %{y:,.0f}",
         "marker": {
          "color": "crimson",
          "line": {
           "color": "whitesmoke",
           "width": 1.2
          }
         },
         "name": "",
         "showlegend": false,
         "type": "bar",
         "x": [
          2014,
          2015,
          2016
         ],
         "xaxis": "x3",
         "y": [
          10213806.94,
          8259570.83,
          4031973.18
         ],
         "yaxis": "y3"
        },
        {
         "colorscale": [
          [
           0,
           "rgb(255,245,240)"
          ],
          [
           0.125,
           "rgb(254,224,210)"
          ],
          [
           0.25,
           "rgb(252,187,161)"
          ],
          [
           0.375,
           "rgb(252,146,114)"
          ],
          [
           0.5,
           "rgb(251,106,74)"
          ],
          [
           0.625,
           "rgb(239,59,44)"
          ],
          [
           0.75,
           "rgb(203,24,29)"
          ],
          [
           0.875,
           "rgb(165,15,21)"
          ],
          [
           1,
           "rgb(103,0,13)"
          ]
         ],
         "customdata": [
          [
           28992292.91445361,
           31037178.989151318,
           15735112.018307155
          ],
          [
           42242904.91863487,
           24612955.913097527,
           28456423.395298902
          ],
          [
           38011496.70866764,
           21549766.216521643,
           21209808.664820883
          ],
          [
           37937561.09447396,
           21943550.824951973,
           26525860.61984405
          ],
          [
           35809131.681545936,
           20902442.366369084,
           26139698.341620523
          ],
          [
           36452723.47157871,
           18964812.408181716,
           19618599.912419483
          ],
          [
           36056486.2555091,
           11651807.760763928,
           4702520.41191095
          ],
          [
           18597125.02825178,
           19150678.042716693,
           0
          ],
          [
           29425946.78777263,
           39596517.96813199,
           0
          ],
          [
           31319893.49078992,
           34340521.8810035,
           0
          ],
          [
           25852219.177308172,
           21391454.542886205,
           0
          ],
          [
           0,
           26542784.142275963,
           0
          ]
         ],
         "hoverlabel": {
          "bgcolor": "#FEF5F1",
          "font": {
           "color": "#333"
          }
         },
         "hovertemplate": "<b>%{y} %{x}</b><br><br><b>SCF:</b> %{customdata:,.0f}<br><b>cubic meters:</b> %{z:,.0f}",
         "name": "",
         "showscale": false,
         "type": "heatmap",
         "x": [
          2014,
          2015,
          2016
         ],
         "xaxis": "x4",
         "y": [
          "Jan",
          "Feb",
          "Mar",
          "Apr",
          "May",
          "Jun",
          "Jul",
          "Aug",
          "Sep",
          "Oct",
          "Nov",
          "Dec"
         ],
         "yaxis": "y4",
         "z": [
          [
           820968.96,
           878873.59,
           445568.02
          ],
          [
           1196183.89,
           696960.15,
           805794.85
          ],
          [
           1076363.95,
           610220.42,
           600593.91
          ],
          [
           1074270.33,
           621371.14,
           751127.49
          ],
          [
           1014000.02,
           591890.28,
           740192.61
          ],
          [
           1032224.48,
           537022.8,
           555535.97
          ],
          [
           1021004.31,
           329941.91,
           133160.33
          ],
          [
           526611.07,
           542285.92,
           0
          ],
          [
           833248.65,
           1121246.68,
           0
          ],
          [
           886879.16,
           972413.69,
           0
          ],
          [
           732052.12,
           605737.54,
           0
          ],
          [
           0,
           751606.71,
           0
          ]
         ]
        }
       ],
       "layout": {
        "annotations": [
         {
          "font": {
           "size": 18
          },
          "showarrow": false,
          "text": "<b>Annual Oil Production (m<sup>3</sup>)</b>",
          "x": 0.225,
          "xanchor": "center",
          "xref": "paper",
          "y": 0.9999999999999999,
          "yanchor": "bottom",
          "yref": "paper"
         },
         {
          "font": {
           "size": 18
          },
          "showarrow": false,
          "text": "<b>Monthly Oil Production (m<sup>3</sup>)</b>",
          "x": 0.775,
          "xanchor": "center",
          "xref": "paper",
          "y": 0.9999999999999999,
          "yanchor": "bottom",
          "yref": "paper"
         },
         {
          "font": {
           "size": 18
          },
          "showarrow": false,
          "text": "<b>Annual Gas Production (m<sup>3</sup>)</b>",
          "x": 0.225,
          "xanchor": "center",
          "xref": "paper",
          "y": 0.4125,
          "yanchor": "bottom",
          "yref": "paper"
         },
         {
          "font": {
           "size": 18
          },
          "showarrow": false,
          "text": "<b>Monthly Gas Production (m<sup>3</sup>)</b>",
          "x": 0.775,
          "xanchor": "center",
          "xref": "paper",
          "y": 0.4125,
          "yanchor": "bottom",
          "yref": "paper"
         }
        ],
        "font": {
         "size": 14
        },
        "height": 1000,
        "margin": {
         "t": 120
        },
        "template": {
         "data": {
          "bar": [
           {
            "error_x": {
             "color": "#2a3f5f"
            },
            "error_y": {
             "color": "#2a3f5f"
            },
            "marker": {
             "line": {
              "color": "#E5ECF6",
              "width": 0.5
             },
             "pattern": {
              "fillmode": "overlay",
              "size": 10,
              "solidity": 0.2
             }
            },
            "type": "bar"
           }
          ],
          "barpolar": [
           {
            "marker": {
             "line": {
              "color": "#E5ECF6",
              "width": 0.5
             },
             "pattern": {
              "fillmode": "overlay",
              "size": 10,
              "solidity": 0.2
             }
            },
            "type": "barpolar"
           }
          ],
          "carpet": [
           {
            "aaxis": {
             "endlinecolor": "#2a3f5f",
             "gridcolor": "white",
             "linecolor": "white",
             "minorgridcolor": "white",
             "startlinecolor": "#2a3f5f"
            },
            "baxis": {
             "endlinecolor": "#2a3f5f",
             "gridcolor": "white",
             "linecolor": "white",
             "minorgridcolor": "white",
             "startlinecolor": "#2a3f5f"
            },
            "type": "carpet"
           }
          ],
          "choropleth": [
           {
            "colorbar": {
             "outlinewidth": 0,
             "ticks": ""
            },
            "type": "choropleth"
           }
          ],
          "contour": [
           {
            "colorbar": {
             "outlinewidth": 0,
             "ticks": ""
            },
            "colorscale": [
             [
              0,
              "#0d0887"
             ],
             [
              0.1111111111111111,
              "#46039f"
             ],
             [
              0.2222222222222222,
              "#7201a8"
             ],
             [
              0.3333333333333333,
              "#9c179e"
             ],
             [
              0.4444444444444444,
              "#bd3786"
             ],
             [
              0.5555555555555556,
              "#d8576b"
             ],
             [
              0.6666666666666666,
              "#ed7953"
             ],
             [
              0.7777777777777778,
              "#fb9f3a"
             ],
             [
              0.8888888888888888,
              "#fdca26"
             ],
             [
              1,
              "#f0f921"
             ]
            ],
            "type": "contour"
           }
          ],
          "contourcarpet": [
           {
            "colorbar": {
             "outlinewidth": 0,
             "ticks": ""
            },
            "type": "contourcarpet"
           }
          ],
          "heatmap": [
           {
            "colorbar": {
             "outlinewidth": 0,
             "ticks": ""
            },
            "colorscale": [
             [
              0,
              "#0d0887"
             ],
             [
              0.1111111111111111,
              "#46039f"
             ],
             [
              0.2222222222222222,
              "#7201a8"
             ],
             [
              0.3333333333333333,
              "#9c179e"
             ],
             [
              0.4444444444444444,
              "#bd3786"
             ],
             [
              0.5555555555555556,
              "#d8576b"
             ],
             [
              0.6666666666666666,
              "#ed7953"
             ],
             [
              0.7777777777777778,
              "#fb9f3a"
             ],
             [
              0.8888888888888888,
              "#fdca26"
             ],
             [
              1,
              "#f0f921"
             ]
            ],
            "type": "heatmap"
           }
          ],
          "heatmapgl": [
           {
            "colorbar": {
             "outlinewidth": 0,
             "ticks": ""
            },
            "colorscale": [
             [
              0,
              "#0d0887"
             ],
             [
              0.1111111111111111,
              "#46039f"
             ],
             [
              0.2222222222222222,
              "#7201a8"
             ],
             [
              0.3333333333333333,
              "#9c179e"
             ],
             [
              0.4444444444444444,
              "#bd3786"
             ],
             [
              0.5555555555555556,
              "#d8576b"
             ],
             [
              0.6666666666666666,
              "#ed7953"
             ],
             [
              0.7777777777777778,
              "#fb9f3a"
             ],
             [
              0.8888888888888888,
              "#fdca26"
             ],
             [
              1,
              "#f0f921"
             ]
            ],
            "type": "heatmapgl"
           }
          ],
          "histogram": [
           {
            "marker": {
             "pattern": {
              "fillmode": "overlay",
              "size": 10,
              "solidity": 0.2
             }
            },
            "type": "histogram"
           }
          ],
          "histogram2d": [
           {
            "colorbar": {
             "outlinewidth": 0,
             "ticks": ""
            },
            "colorscale": [
             [
              0,
              "#0d0887"
             ],
             [
              0.1111111111111111,
              "#46039f"
             ],
             [
              0.2222222222222222,
              "#7201a8"
             ],
             [
              0.3333333333333333,
              "#9c179e"
             ],
             [
              0.4444444444444444,
              "#bd3786"
             ],
             [
              0.5555555555555556,
              "#d8576b"
             ],
             [
              0.6666666666666666,
              "#ed7953"
             ],
             [
              0.7777777777777778,
              "#fb9f3a"
             ],
             [
              0.8888888888888888,
              "#fdca26"
             ],
             [
              1,
              "#f0f921"
             ]
            ],
            "type": "histogram2d"
           }
          ],
          "histogram2dcontour": [
           {
            "colorbar": {
             "outlinewidth": 0,
             "ticks": ""
            },
            "colorscale": [
             [
              0,
              "#0d0887"
             ],
             [
              0.1111111111111111,
              "#46039f"
             ],
             [
              0.2222222222222222,
              "#7201a8"
             ],
             [
              0.3333333333333333,
              "#9c179e"
             ],
             [
              0.4444444444444444,
              "#bd3786"
             ],
             [
              0.5555555555555556,
              "#d8576b"
             ],
             [
              0.6666666666666666,
              "#ed7953"
             ],
             [
              0.7777777777777778,
              "#fb9f3a"
             ],
             [
              0.8888888888888888,
              "#fdca26"
             ],
             [
              1,
              "#f0f921"
             ]
            ],
            "type": "histogram2dcontour"
           }
          ],
          "mesh3d": [
           {
            "colorbar": {
             "outlinewidth": 0,
             "ticks": ""
            },
            "type": "mesh3d"
           }
          ],
          "parcoords": [
           {
            "line": {
             "colorbar": {
              "outlinewidth": 0,
              "ticks": ""
             }
            },
            "type": "parcoords"
           }
          ],
          "pie": [
           {
            "automargin": true,
            "type": "pie"
           }
          ],
          "scatter": [
           {
            "fillpattern": {
             "fillmode": "overlay",
             "size": 10,
             "solidity": 0.2
            },
            "type": "scatter"
           }
          ],
          "scatter3d": [
           {
            "line": {
             "colorbar": {
              "outlinewidth": 0,
              "ticks": ""
             }
            },
            "marker": {
             "colorbar": {
              "outlinewidth": 0,
              "ticks": ""
             }
            },
            "type": "scatter3d"
           }
          ],
          "scattercarpet": [
           {
            "marker": {
             "colorbar": {
              "outlinewidth": 0,
              "ticks": ""
             }
            },
            "type": "scattercarpet"
           }
          ],
          "scattergeo": [
           {
            "marker": {
             "colorbar": {
              "outlinewidth": 0,
              "ticks": ""
             }
            },
            "type": "scattergeo"
           }
          ],
          "scattergl": [
           {
            "marker": {
             "colorbar": {
              "outlinewidth": 0,
              "ticks": ""
             }
            },
            "type": "scattergl"
           }
          ],
          "scattermapbox": [
           {
            "marker": {
             "colorbar": {
              "outlinewidth": 0,
              "ticks": ""
             }
            },
            "type": "scattermapbox"
           }
          ],
          "scatterpolar": [
           {
            "marker": {
             "colorbar": {
              "outlinewidth": 0,
              "ticks": ""
             }
            },
            "type": "scatterpolar"
           }
          ],
          "scatterpolargl": [
           {
            "marker": {
             "colorbar": {
              "outlinewidth": 0,
              "ticks": ""
             }
            },
            "type": "scatterpolargl"
           }
          ],
          "scatterternary": [
           {
            "marker": {
             "colorbar": {
              "outlinewidth": 0,
              "ticks": ""
             }
            },
            "type": "scatterternary"
           }
          ],
          "surface": [
           {
            "colorbar": {
             "outlinewidth": 0,
             "ticks": ""
            },
            "colorscale": [
             [
              0,
              "#0d0887"
             ],
             [
              0.1111111111111111,
              "#46039f"
             ],
             [
              0.2222222222222222,
              "#7201a8"
             ],
             [
              0.3333333333333333,
              "#9c179e"
             ],
             [
              0.4444444444444444,
              "#bd3786"
             ],
             [
              0.5555555555555556,
              "#d8576b"
             ],
             [
              0.6666666666666666,
              "#ed7953"
             ],
             [
              0.7777777777777778,
              "#fb9f3a"
             ],
             [
              0.8888888888888888,
              "#fdca26"
             ],
             [
              1,
              "#f0f921"
             ]
            ],
            "type": "surface"
           }
          ],
          "table": [
           {
            "cells": {
             "fill": {
              "color": "#EBF0F8"
             },
             "line": {
              "color": "white"
             }
            },
            "header": {
             "fill": {
              "color": "#C8D4E3"
             },
             "line": {
              "color": "white"
             }
            },
            "type": "table"
           }
          ]
         },
         "layout": {
          "annotationdefaults": {
           "arrowcolor": "#2a3f5f",
           "arrowhead": 0,
           "arrowwidth": 1
          },
          "autotypenumbers": "strict",
          "coloraxis": {
           "colorbar": {
            "outlinewidth": 0,
            "ticks": ""
           }
          },
          "colorscale": {
           "diverging": [
            [
             0,
             "#8e0152"
            ],
            [
             0.1,
             "#c51b7d"
            ],
            [
             0.2,
             "#de77ae"
            ],
            [
             0.3,
             "#f1b6da"
            ],
            [
             0.4,
             "#fde0ef"
            ],
            [
             0.5,
             "#f7f7f7"
            ],
            [
             0.6,
             "#e6f5d0"
            ],
            [
             0.7,
             "#b8e186"
            ],
            [
             0.8,
             "#7fbc41"
            ],
            [
             0.9,
             "#4d9221"
            ],
            [
             1,
             "#276419"
            ]
           ],
           "sequential": [
            [
             0,
             "#0d0887"
            ],
            [
             0.1111111111111111,
             "#46039f"
            ],
            [
             0.2222222222222222,
             "#7201a8"
            ],
            [
             0.3333333333333333,
             "#9c179e"
            ],
            [
             0.4444444444444444,
             "#bd3786"
            ],
            [
             0.5555555555555556,
             "#d8576b"
            ],
            [
             0.6666666666666666,
             "#ed7953"
            ],
            [
             0.7777777777777778,
             "#fb9f3a"
            ],
            [
             0.8888888888888888,
             "#fdca26"
            ],
            [
             1,
             "#f0f921"
            ]
           ],
           "sequentialminus": [
            [
             0,
             "#0d0887"
            ],
            [
             0.1111111111111111,
             "#46039f"
            ],
            [
             0.2222222222222222,
             "#7201a8"
            ],
            [
             0.3333333333333333,
             "#9c179e"
            ],
            [
             0.4444444444444444,
             "#bd3786"
            ],
            [
             0.5555555555555556,
             "#d8576b"
            ],
            [
             0.6666666666666666,
             "#ed7953"
            ],
            [
             0.7777777777777778,
             "#fb9f3a"
            ],
            [
             0.8888888888888888,
             "#fdca26"
            ],
            [
             1,
             "#f0f921"
            ]
           ]
          },
          "colorway": [
           "#636efa",
           "#EF553B",
           "#00cc96",
           "#ab63fa",
           "#FFA15A",
           "#19d3f3",
           "#FF6692",
           "#B6E880",
           "#FF97FF",
           "#FECB52"
          ],
          "font": {
           "color": "#2a3f5f"
          },
          "geo": {
           "bgcolor": "white",
           "lakecolor": "white",
           "landcolor": "#E5ECF6",
           "showlakes": true,
           "showland": true,
           "subunitcolor": "white"
          },
          "hoverlabel": {
           "align": "left"
          },
          "hovermode": "closest",
          "mapbox": {
           "style": "light"
          },
          "paper_bgcolor": "white",
          "plot_bgcolor": "#E5ECF6",
          "polar": {
           "angularaxis": {
            "gridcolor": "white",
            "linecolor": "white",
            "ticks": ""
           },
           "bgcolor": "#E5ECF6",
           "radialaxis": {
            "gridcolor": "white",
            "linecolor": "white",
            "ticks": ""
           }
          },
          "scene": {
           "xaxis": {
            "backgroundcolor": "#E5ECF6",
            "gridcolor": "white",
            "gridwidth": 2,
            "linecolor": "white",
            "showbackground": true,
            "ticks": "",
            "zerolinecolor": "white"
           },
           "yaxis": {
            "backgroundcolor": "#E5ECF6",
            "gridcolor": "white",
            "gridwidth": 2,
            "linecolor": "white",
            "showbackground": true,
            "ticks": "",
            "zerolinecolor": "white"
           },
           "zaxis": {
            "backgroundcolor": "#E5ECF6",
            "gridcolor": "white",
            "gridwidth": 2,
            "linecolor": "white",
            "showbackground": true,
            "ticks": "",
            "zerolinecolor": "white"
           }
          },
          "shapedefaults": {
           "line": {
            "color": "#2a3f5f"
           }
          },
          "ternary": {
           "aaxis": {
            "gridcolor": "white",
            "linecolor": "white",
            "ticks": ""
           },
           "baxis": {
            "gridcolor": "white",
            "linecolor": "white",
            "ticks": ""
           },
           "bgcolor": "#E5ECF6",
           "caxis": {
            "gridcolor": "white",
            "linecolor": "white",
            "ticks": ""
           }
          },
          "title": {
           "x": 0.05
          },
          "xaxis": {
           "automargin": true,
           "gridcolor": "white",
           "linecolor": "white",
           "ticks": "",
           "title": {
            "standoff": 15
           },
           "zerolinecolor": "white",
           "zerolinewidth": 2
          },
          "yaxis": {
           "automargin": true,
           "gridcolor": "white",
           "linecolor": "white",
           "ticks": "",
           "title": {
            "standoff": 15
           },
           "zerolinecolor": "white",
           "zerolinewidth": 2
          }
         }
        },
        "title": {
         "font": {
          "size": 20
         },
         "text": "<b>Wellbore 15/9-F-15 D</b>"
        },
        "xaxis": {
         "anchor": "y",
         "domain": [
          0,
          0.45
         ],
         "tickmode": "array",
         "tickvals": [
          2014,
          2015,
          2016
         ],
         "title": {
          "text": "Year"
         }
        },
        "xaxis2": {
         "anchor": "y2",
         "domain": [
          0.55,
          1
         ],
         "tickmode": "array",
         "tickvals": [
          2014,
          2015,
          2016
         ],
         "title": {
          "text": "Year"
         }
        },
        "xaxis3": {
         "anchor": "y3",
         "domain": [
          0,
          0.45
         ],
         "tickmode": "array",
         "tickvals": [
          2014,
          2015,
          2016
         ],
         "title": {
          "text": "Year"
         }
        },
        "xaxis4": {
         "anchor": "y4",
         "domain": [
          0.55,
          1
         ],
         "tickmode": "array",
         "tickvals": [
          2014,
          2015,
          2016
         ],
         "title": {
          "text": "Year"
         }
        },
        "yaxis": {
         "anchor": "x",
         "domain": [
          0.5874999999999999,
          0.9999999999999999
         ],
         "title": {
          "standoff": 3,
          "text": "Oil Volume"
         }
        },
        "yaxis2": {
         "anchor": "x2",
         "autorange": "reversed",
         "domain": [
          0.5874999999999999,
          0.9999999999999999
         ],
         "title": {
          "standoff": 3,
          "text": "Month"
         }
        },
        "yaxis3": {
         "anchor": "x3",
         "domain": [
          0,
          0.4125
         ],
         "title": {
          "standoff": 3,
          "text": "Gas Volume"
         }
        },
        "yaxis4": {
         "anchor": "x4",
         "autorange": "reversed",
         "domain": [
          0,
          0.4125
         ],
         "title": {
          "standoff": 3,
          "text": "Month"
         }
        }
       }
      }
     },
     "metadata": {},
     "output_type": "display_data"
    }
   ],
   "source": [
    "analyze_wellbore(volve_df, \"15/9-F-15 D\")"
   ]
  },
  {
   "cell_type": "code",
   "execution_count": 30,
   "metadata": {},
   "outputs": [
    {
     "data": {
      "application/vnd.plotly.v1+json": {
       "config": {
        "plotlyServerURL": "https://plot.ly"
       },
       "data": [
        {
         "customdata": [
          649016.6195664685,
          391448.05905880535,
          77293.34355637211
         ],
         "hovertemplate": "<b>%{x}</b><br><br><b>barrels:</b> %{customdata:,.0f}<br><b>cubic meters:</b> %{y:,.0f}",
         "marker": {
          "color": "mediumspringgreen",
          "line": {
           "color": "whitesmoke",
           "width": 1.2
          }
         },
         "name": "",
         "showlegend": false,
         "type": "bar",
         "x": [
          2014,
          2015,
          2016
         ],
         "xaxis": "x",
         "y": [
          103185.4,
          62235.270000000004,
          12288.66
         ],
         "yaxis": "y"
        },
        {
         "colorscale": [
          [
           0,
           "rgb(247,252,245)"
          ],
          [
           0.125,
           "rgb(229,245,224)"
          ],
          [
           0.25,
           "rgb(199,233,192)"
          ],
          [
           0.375,
           "rgb(161,217,155)"
          ],
          [
           0.5,
           "rgb(116,196,118)"
          ],
          [
           0.625,
           "rgb(65,171,93)"
          ],
          [
           0.75,
           "rgb(35,139,69)"
          ],
          [
           0.875,
           "rgb(0,109,44)"
          ],
          [
           1,
           "rgb(0,68,27)"
          ]
         ],
         "customdata": [
          [
           0,
           68405.02354590587,
           18752.692825150185
          ],
          [
           0,
           60298.14960062847,
           29675.514962515874
          ],
          [
           0,
           36979.180098032986,
           18350.522337318765
          ],
          [
           70084.02557940163,
           24682.348841699935,
           10514.613431387288
          ],
          [
           156628.54831801032,
           24106.894072671214,
           0
          ],
          [
           123391.99420331058,
           39905.70315993793,
           0
          ],
          [
           94886.06951624439,
           13170.548842580507,
           0
          ],
          [
           43842.684289877245,
           18058.17194203562,
           0
          ],
          [
           57667.68792224285,
           40633.8745296008,
           0
          ],
          [
           59552.30386326455,
           25698.908025986984,
           0
          ],
          [
           42206.70456067874,
           20957.963309019025,
           0
          ],
          [
           756.6013134382432,
           18551.29309070599,
           0
          ]
         ],
         "hoverlabel": {
          "bgcolor": "#F2FBF0",
          "font": {
           "color": "#333"
          }
         },
         "hovertemplate": "<b>%{y} %{x}</b><br><br><b>barrels:</b> %{customdata:,.0f}<br><b>cubic meters:</b> %{z:,.0f}",
         "name": "",
         "showscale": false,
         "type": "heatmap",
         "x": [
          2014,
          2015,
          2016
         ],
         "xaxis": "x2",
         "y": [
          "Jan",
          "Feb",
          "Mar",
          "Apr",
          "May",
          "Jun",
          "Jul",
          "Aug",
          "Sep",
          "Oct",
          "Nov",
          "Dec"
         ],
         "yaxis": "y2",
         "z": [
          [
           0,
           10875.53,
           2981.44
          ],
          [
           0,
           9586.64,
           4718.03
          ],
          [
           0,
           5879.22,
           2917.5
          ],
          [
           11142.47,
           3924.18,
           1671.69
          ],
          [
           24901.95,
           3832.69,
           0
          ],
          [
           19617.76,
           6344.5,
           0
          ],
          [
           15085.68,
           2093.95,
           0
          ],
          [
           6970.43,
           2871.02,
           0
          ],
          [
           9168.43,
           6460.27,
           0
          ],
          [
           9468.06,
           4085.8,
           0
          ],
          [
           6710.33,
           3332.05,
           0
          ],
          [
           120.29,
           2949.42,
           0
          ]
         ]
        },
        {
         "customdata": [
          537652344.191434,
          326705899.32478243,
          69395521.0334501
         ],
         "hovertemplate": "<b>%{x}</b><br><br><b>SCF:</b> %{customdata:,.0f}<br><b>cubic meters:</b> %{y:,.0f}",
         "marker": {
          "color": "crimson",
          "line": {
           "color": "whitesmoke",
           "width": 1.2
          }
         },
         "name": "",
         "showlegend": false,
         "type": "bar",
         "x": [
          2014,
          2015,
          2016
         ],
         "xaxis": "x3",
         "y": [
          15224593.9,
          9251265.61,
          1965059.0899999999
         ],
         "yaxis": "y3"
        },
        {
         "colorscale": [
          [
           0,
           "rgb(255,245,240)"
          ],
          [
           0.125,
           "rgb(254,224,210)"
          ],
          [
           0.25,
           "rgb(252,187,161)"
          ],
          [
           0.375,
           "rgb(252,146,114)"
          ],
          [
           0.5,
           "rgb(251,106,74)"
          ],
          [
           0.625,
           "rgb(239,59,44)"
          ],
          [
           0.75,
           "rgb(203,24,29)"
          ],
          [
           0.875,
           "rgb(165,15,21)"
          ],
          [
           1,
           "rgb(103,0,13)"
          ]
         ],
         "customdata": [
          [
           0,
           56677823.76539722,
           16657106.73522432
          ],
          [
           0,
           50833910.25822127,
           26215524.70618149
          ],
          [
           0,
           30253469.671714317,
           16839126.94937281
          ],
          [
           56430693.08678947,
           20013200.997287832,
           9683762.642671488
          ],
          [
           123468388.02407052,
           19743062.069160357,
           0
          ],
          [
           101941663.25290993,
           32678038.478924174,
           0
          ],
          [
           79435732.49802238,
           11130458.243869364,
           0
          ],
          [
           37016569.66888914,
           15103846.126680981,
           0
          ],
          [
           49938552.02565262,
           33956817.86077523,
           0
          ],
          [
           51632387.4872867,
           22296748.22013787,
           0
          ],
          [
           36875222.48276642,
           17953456.25211888,
           0
          ],
          [
           913135.6650468981,
           16065067.38049497,
           0
          ]
         ],
         "hoverlabel": {
          "bgcolor": "#FEF5F1",
          "font": {
           "color": "#333"
          }
         },
         "hovertemplate": "<b>%{y} %{x}</b><br><br><b>SCF:</b> %{customdata:,.0f}<br><b>cubic meters:</b> %{z:,.0f}",
         "name": "",
         "showscale": false,
         "type": "heatmap",
         "x": [
          2014,
          2015,
          2016
         ],
         "xaxis": "x4",
         "y": [
          "Jan",
          "Feb",
          "Mar",
          "Apr",
          "May",
          "Jun",
          "Jul",
          "Aug",
          "Sep",
          "Oct",
          "Nov",
          "Dec"
         ],
         "yaxis": "y4",
         "z": [
          [
           0,
           1604934.6,
           471675.96
          ],
          [
           0,
           1439453.67,
           742339.77
          ],
          [
           0,
           856681.45,
           476830.19
          ],
          [
           1597936.65,
           566709.81,
           274213.17
          ],
          [
           3496229.65,
           559060.34,
           0
          ],
          [
           2886661.69,
           925337.48,
           0
          ],
          [
           2249365.75,
           315178.96,
           0
          ],
          [
           1048190.8,
           427692.59,
           0
          ],
          [
           1414099.99,
           961548.42,
           0
          ],
          [
           1462063.99,
           631372.56,
           0
          ],
          [
           1044188.3,
           508384.43,
           0
          ],
          [
           25857.08,
           454911.3,
           0
          ]
         ]
        }
       ],
       "layout": {
        "annotations": [
         {
          "font": {
           "size": 18
          },
          "showarrow": false,
          "text": "<b>Annual Oil Production (m<sup>3</sup>)</b>",
          "x": 0.225,
          "xanchor": "center",
          "xref": "paper",
          "y": 0.9999999999999999,
          "yanchor": "bottom",
          "yref": "paper"
         },
         {
          "font": {
           "size": 18
          },
          "showarrow": false,
          "text": "<b>Monthly Oil Production (m<sup>3</sup>)</b>",
          "x": 0.775,
          "xanchor": "center",
          "xref": "paper",
          "y": 0.9999999999999999,
          "yanchor": "bottom",
          "yref": "paper"
         },
         {
          "font": {
           "size": 18
          },
          "showarrow": false,
          "text": "<b>Annual Gas Production (m<sup>3</sup>)</b>",
          "x": 0.225,
          "xanchor": "center",
          "xref": "paper",
          "y": 0.4125,
          "yanchor": "bottom",
          "yref": "paper"
         },
         {
          "font": {
           "size": 18
          },
          "showarrow": false,
          "text": "<b>Monthly Gas Production (m<sup>3</sup>)</b>",
          "x": 0.775,
          "xanchor": "center",
          "xref": "paper",
          "y": 0.4125,
          "yanchor": "bottom",
          "yref": "paper"
         }
        ],
        "font": {
         "size": 14
        },
        "height": 1000,
        "margin": {
         "t": 120
        },
        "template": {
         "data": {
          "bar": [
           {
            "error_x": {
             "color": "#2a3f5f"
            },
            "error_y": {
             "color": "#2a3f5f"
            },
            "marker": {
             "line": {
              "color": "#E5ECF6",
              "width": 0.5
             },
             "pattern": {
              "fillmode": "overlay",
              "size": 10,
              "solidity": 0.2
             }
            },
            "type": "bar"
           }
          ],
          "barpolar": [
           {
            "marker": {
             "line": {
              "color": "#E5ECF6",
              "width": 0.5
             },
             "pattern": {
              "fillmode": "overlay",
              "size": 10,
              "solidity": 0.2
             }
            },
            "type": "barpolar"
           }
          ],
          "carpet": [
           {
            "aaxis": {
             "endlinecolor": "#2a3f5f",
             "gridcolor": "white",
             "linecolor": "white",
             "minorgridcolor": "white",
             "startlinecolor": "#2a3f5f"
            },
            "baxis": {
             "endlinecolor": "#2a3f5f",
             "gridcolor": "white",
             "linecolor": "white",
             "minorgridcolor": "white",
             "startlinecolor": "#2a3f5f"
            },
            "type": "carpet"
           }
          ],
          "choropleth": [
           {
            "colorbar": {
             "outlinewidth": 0,
             "ticks": ""
            },
            "type": "choropleth"
           }
          ],
          "contour": [
           {
            "colorbar": {
             "outlinewidth": 0,
             "ticks": ""
            },
            "colorscale": [
             [
              0,
              "#0d0887"
             ],
             [
              0.1111111111111111,
              "#46039f"
             ],
             [
              0.2222222222222222,
              "#7201a8"
             ],
             [
              0.3333333333333333,
              "#9c179e"
             ],
             [
              0.4444444444444444,
              "#bd3786"
             ],
             [
              0.5555555555555556,
              "#d8576b"
             ],
             [
              0.6666666666666666,
              "#ed7953"
             ],
             [
              0.7777777777777778,
              "#fb9f3a"
             ],
             [
              0.8888888888888888,
              "#fdca26"
             ],
             [
              1,
              "#f0f921"
             ]
            ],
            "type": "contour"
           }
          ],
          "contourcarpet": [
           {
            "colorbar": {
             "outlinewidth": 0,
             "ticks": ""
            },
            "type": "contourcarpet"
           }
          ],
          "heatmap": [
           {
            "colorbar": {
             "outlinewidth": 0,
             "ticks": ""
            },
            "colorscale": [
             [
              0,
              "#0d0887"
             ],
             [
              0.1111111111111111,
              "#46039f"
             ],
             [
              0.2222222222222222,
              "#7201a8"
             ],
             [
              0.3333333333333333,
              "#9c179e"
             ],
             [
              0.4444444444444444,
              "#bd3786"
             ],
             [
              0.5555555555555556,
              "#d8576b"
             ],
             [
              0.6666666666666666,
              "#ed7953"
             ],
             [
              0.7777777777777778,
              "#fb9f3a"
             ],
             [
              0.8888888888888888,
              "#fdca26"
             ],
             [
              1,
              "#f0f921"
             ]
            ],
            "type": "heatmap"
           }
          ],
          "heatmapgl": [
           {
            "colorbar": {
             "outlinewidth": 0,
             "ticks": ""
            },
            "colorscale": [
             [
              0,
              "#0d0887"
             ],
             [
              0.1111111111111111,
              "#46039f"
             ],
             [
              0.2222222222222222,
              "#7201a8"
             ],
             [
              0.3333333333333333,
              "#9c179e"
             ],
             [
              0.4444444444444444,
              "#bd3786"
             ],
             [
              0.5555555555555556,
              "#d8576b"
             ],
             [
              0.6666666666666666,
              "#ed7953"
             ],
             [
              0.7777777777777778,
              "#fb9f3a"
             ],
             [
              0.8888888888888888,
              "#fdca26"
             ],
             [
              1,
              "#f0f921"
             ]
            ],
            "type": "heatmapgl"
           }
          ],
          "histogram": [
           {
            "marker": {
             "pattern": {
              "fillmode": "overlay",
              "size": 10,
              "solidity": 0.2
             }
            },
            "type": "histogram"
           }
          ],
          "histogram2d": [
           {
            "colorbar": {
             "outlinewidth": 0,
             "ticks": ""
            },
            "colorscale": [
             [
              0,
              "#0d0887"
             ],
             [
              0.1111111111111111,
              "#46039f"
             ],
             [
              0.2222222222222222,
              "#7201a8"
             ],
             [
              0.3333333333333333,
              "#9c179e"
             ],
             [
              0.4444444444444444,
              "#bd3786"
             ],
             [
              0.5555555555555556,
              "#d8576b"
             ],
             [
              0.6666666666666666,
              "#ed7953"
             ],
             [
              0.7777777777777778,
              "#fb9f3a"
             ],
             [
              0.8888888888888888,
              "#fdca26"
             ],
             [
              1,
              "#f0f921"
             ]
            ],
            "type": "histogram2d"
           }
          ],
          "histogram2dcontour": [
           {
            "colorbar": {
             "outlinewidth": 0,
             "ticks": ""
            },
            "colorscale": [
             [
              0,
              "#0d0887"
             ],
             [
              0.1111111111111111,
              "#46039f"
             ],
             [
              0.2222222222222222,
              "#7201a8"
             ],
             [
              0.3333333333333333,
              "#9c179e"
             ],
             [
              0.4444444444444444,
              "#bd3786"
             ],
             [
              0.5555555555555556,
              "#d8576b"
             ],
             [
              0.6666666666666666,
              "#ed7953"
             ],
             [
              0.7777777777777778,
              "#fb9f3a"
             ],
             [
              0.8888888888888888,
              "#fdca26"
             ],
             [
              1,
              "#f0f921"
             ]
            ],
            "type": "histogram2dcontour"
           }
          ],
          "mesh3d": [
           {
            "colorbar": {
             "outlinewidth": 0,
             "ticks": ""
            },
            "type": "mesh3d"
           }
          ],
          "parcoords": [
           {
            "line": {
             "colorbar": {
              "outlinewidth": 0,
              "ticks": ""
             }
            },
            "type": "parcoords"
           }
          ],
          "pie": [
           {
            "automargin": true,
            "type": "pie"
           }
          ],
          "scatter": [
           {
            "fillpattern": {
             "fillmode": "overlay",
             "size": 10,
             "solidity": 0.2
            },
            "type": "scatter"
           }
          ],
          "scatter3d": [
           {
            "line": {
             "colorbar": {
              "outlinewidth": 0,
              "ticks": ""
             }
            },
            "marker": {
             "colorbar": {
              "outlinewidth": 0,
              "ticks": ""
             }
            },
            "type": "scatter3d"
           }
          ],
          "scattercarpet": [
           {
            "marker": {
             "colorbar": {
              "outlinewidth": 0,
              "ticks": ""
             }
            },
            "type": "scattercarpet"
           }
          ],
          "scattergeo": [
           {
            "marker": {
             "colorbar": {
              "outlinewidth": 0,
              "ticks": ""
             }
            },
            "type": "scattergeo"
           }
          ],
          "scattergl": [
           {
            "marker": {
             "colorbar": {
              "outlinewidth": 0,
              "ticks": ""
             }
            },
            "type": "scattergl"
           }
          ],
          "scattermapbox": [
           {
            "marker": {
             "colorbar": {
              "outlinewidth": 0,
              "ticks": ""
             }
            },
            "type": "scattermapbox"
           }
          ],
          "scatterpolar": [
           {
            "marker": {
             "colorbar": {
              "outlinewidth": 0,
              "ticks": ""
             }
            },
            "type": "scatterpolar"
           }
          ],
          "scatterpolargl": [
           {
            "marker": {
             "colorbar": {
              "outlinewidth": 0,
              "ticks": ""
             }
            },
            "type": "scatterpolargl"
           }
          ],
          "scatterternary": [
           {
            "marker": {
             "colorbar": {
              "outlinewidth": 0,
              "ticks": ""
             }
            },
            "type": "scatterternary"
           }
          ],
          "surface": [
           {
            "colorbar": {
             "outlinewidth": 0,
             "ticks": ""
            },
            "colorscale": [
             [
              0,
              "#0d0887"
             ],
             [
              0.1111111111111111,
              "#46039f"
             ],
             [
              0.2222222222222222,
              "#7201a8"
             ],
             [
              0.3333333333333333,
              "#9c179e"
             ],
             [
              0.4444444444444444,
              "#bd3786"
             ],
             [
              0.5555555555555556,
              "#d8576b"
             ],
             [
              0.6666666666666666,
              "#ed7953"
             ],
             [
              0.7777777777777778,
              "#fb9f3a"
             ],
             [
              0.8888888888888888,
              "#fdca26"
             ],
             [
              1,
              "#f0f921"
             ]
            ],
            "type": "surface"
           }
          ],
          "table": [
           {
            "cells": {
             "fill": {
              "color": "#EBF0F8"
             },
             "line": {
              "color": "white"
             }
            },
            "header": {
             "fill": {
              "color": "#C8D4E3"
             },
             "line": {
              "color": "white"
             }
            },
            "type": "table"
           }
          ]
         },
         "layout": {
          "annotationdefaults": {
           "arrowcolor": "#2a3f5f",
           "arrowhead": 0,
           "arrowwidth": 1
          },
          "autotypenumbers": "strict",
          "coloraxis": {
           "colorbar": {
            "outlinewidth": 0,
            "ticks": ""
           }
          },
          "colorscale": {
           "diverging": [
            [
             0,
             "#8e0152"
            ],
            [
             0.1,
             "#c51b7d"
            ],
            [
             0.2,
             "#de77ae"
            ],
            [
             0.3,
             "#f1b6da"
            ],
            [
             0.4,
             "#fde0ef"
            ],
            [
             0.5,
             "#f7f7f7"
            ],
            [
             0.6,
             "#e6f5d0"
            ],
            [
             0.7,
             "#b8e186"
            ],
            [
             0.8,
             "#7fbc41"
            ],
            [
             0.9,
             "#4d9221"
            ],
            [
             1,
             "#276419"
            ]
           ],
           "sequential": [
            [
             0,
             "#0d0887"
            ],
            [
             0.1111111111111111,
             "#46039f"
            ],
            [
             0.2222222222222222,
             "#7201a8"
            ],
            [
             0.3333333333333333,
             "#9c179e"
            ],
            [
             0.4444444444444444,
             "#bd3786"
            ],
            [
             0.5555555555555556,
             "#d8576b"
            ],
            [
             0.6666666666666666,
             "#ed7953"
            ],
            [
             0.7777777777777778,
             "#fb9f3a"
            ],
            [
             0.8888888888888888,
             "#fdca26"
            ],
            [
             1,
             "#f0f921"
            ]
           ],
           "sequentialminus": [
            [
             0,
             "#0d0887"
            ],
            [
             0.1111111111111111,
             "#46039f"
            ],
            [
             0.2222222222222222,
             "#7201a8"
            ],
            [
             0.3333333333333333,
             "#9c179e"
            ],
            [
             0.4444444444444444,
             "#bd3786"
            ],
            [
             0.5555555555555556,
             "#d8576b"
            ],
            [
             0.6666666666666666,
             "#ed7953"
            ],
            [
             0.7777777777777778,
             "#fb9f3a"
            ],
            [
             0.8888888888888888,
             "#fdca26"
            ],
            [
             1,
             "#f0f921"
            ]
           ]
          },
          "colorway": [
           "#636efa",
           "#EF553B",
           "#00cc96",
           "#ab63fa",
           "#FFA15A",
           "#19d3f3",
           "#FF6692",
           "#B6E880",
           "#FF97FF",
           "#FECB52"
          ],
          "font": {
           "color": "#2a3f5f"
          },
          "geo": {
           "bgcolor": "white",
           "lakecolor": "white",
           "landcolor": "#E5ECF6",
           "showlakes": true,
           "showland": true,
           "subunitcolor": "white"
          },
          "hoverlabel": {
           "align": "left"
          },
          "hovermode": "closest",
          "mapbox": {
           "style": "light"
          },
          "paper_bgcolor": "white",
          "plot_bgcolor": "#E5ECF6",
          "polar": {
           "angularaxis": {
            "gridcolor": "white",
            "linecolor": "white",
            "ticks": ""
           },
           "bgcolor": "#E5ECF6",
           "radialaxis": {
            "gridcolor": "white",
            "linecolor": "white",
            "ticks": ""
           }
          },
          "scene": {
           "xaxis": {
            "backgroundcolor": "#E5ECF6",
            "gridcolor": "white",
            "gridwidth": 2,
            "linecolor": "white",
            "showbackground": true,
            "ticks": "",
            "zerolinecolor": "white"
           },
           "yaxis": {
            "backgroundcolor": "#E5ECF6",
            "gridcolor": "white",
            "gridwidth": 2,
            "linecolor": "white",
            "showbackground": true,
            "ticks": "",
            "zerolinecolor": "white"
           },
           "zaxis": {
            "backgroundcolor": "#E5ECF6",
            "gridcolor": "white",
            "gridwidth": 2,
            "linecolor": "white",
            "showbackground": true,
            "ticks": "",
            "zerolinecolor": "white"
           }
          },
          "shapedefaults": {
           "line": {
            "color": "#2a3f5f"
           }
          },
          "ternary": {
           "aaxis": {
            "gridcolor": "white",
            "linecolor": "white",
            "ticks": ""
           },
           "baxis": {
            "gridcolor": "white",
            "linecolor": "white",
            "ticks": ""
           },
           "bgcolor": "#E5ECF6",
           "caxis": {
            "gridcolor": "white",
            "linecolor": "white",
            "ticks": ""
           }
          },
          "title": {
           "x": 0.05
          },
          "xaxis": {
           "automargin": true,
           "gridcolor": "white",
           "linecolor": "white",
           "ticks": "",
           "title": {
            "standoff": 15
           },
           "zerolinecolor": "white",
           "zerolinewidth": 2
          },
          "yaxis": {
           "automargin": true,
           "gridcolor": "white",
           "linecolor": "white",
           "ticks": "",
           "title": {
            "standoff": 15
           },
           "zerolinecolor": "white",
           "zerolinewidth": 2
          }
         }
        },
        "title": {
         "font": {
          "size": 20
         },
         "text": "<b>Wellbore 15/9-F-1 C</b>"
        },
        "xaxis": {
         "anchor": "y",
         "domain": [
          0,
          0.45
         ],
         "tickmode": "array",
         "tickvals": [
          2014,
          2015,
          2016
         ],
         "title": {
          "text": "Year"
         }
        },
        "xaxis2": {
         "anchor": "y2",
         "domain": [
          0.55,
          1
         ],
         "tickmode": "array",
         "tickvals": [
          2014,
          2015,
          2016
         ],
         "title": {
          "text": "Year"
         }
        },
        "xaxis3": {
         "anchor": "y3",
         "domain": [
          0,
          0.45
         ],
         "tickmode": "array",
         "tickvals": [
          2014,
          2015,
          2016
         ],
         "title": {
          "text": "Year"
         }
        },
        "xaxis4": {
         "anchor": "y4",
         "domain": [
          0.55,
          1
         ],
         "tickmode": "array",
         "tickvals": [
          2014,
          2015,
          2016
         ],
         "title": {
          "text": "Year"
         }
        },
        "yaxis": {
         "anchor": "x",
         "domain": [
          0.5874999999999999,
          0.9999999999999999
         ],
         "title": {
          "standoff": 3,
          "text": "Oil Volume"
         }
        },
        "yaxis2": {
         "anchor": "x2",
         "autorange": "reversed",
         "domain": [
          0.5874999999999999,
          0.9999999999999999
         ],
         "title": {
          "standoff": 3,
          "text": "Month"
         }
        },
        "yaxis3": {
         "anchor": "x3",
         "domain": [
          0,
          0.4125
         ],
         "title": {
          "standoff": 3,
          "text": "Gas Volume"
         }
        },
        "yaxis4": {
         "anchor": "x4",
         "autorange": "reversed",
         "domain": [
          0,
          0.4125
         ],
         "title": {
          "standoff": 3,
          "text": "Month"
         }
        }
       }
      }
     },
     "metadata": {},
     "output_type": "display_data"
    }
   ],
   "source": [
    "analyze_wellbore(volve_df, \"15/9-F-1 C\")"
   ]
  },
  {
   "cell_type": "code",
   "execution_count": 31,
   "metadata": {},
   "outputs": [
    {
     "data": {
      "application/vnd.plotly.v1+json": {
       "config": {
        "plotlyServerURL": "https://plot.ly"
       },
       "data": [
        {
         "customdata": [
          0,
          10857728.994324453,
          13519810.950300964,
          14249384.319101287,
          10825714.988211479,
          9188897.353567498,
          10473545.556296006,
          12833628.3642116,
          10266950.606763951,
          9935435.474484446
         ],
         "hoverlabel": {
          "bgcolor": "aliceblue",
          "font": {
           "color": "#333"
          }
         },
         "hovertemplate": "<b>%{x}</b><br><br><b>barrels:</b> %{customdata:,.0f}<br><b>cubic meters:</b> %{y:,.0f}",
         "marker": {
          "color": "deepskyblue",
          "line": {
           "color": "whitesmoke",
           "width": 1.2
          }
         },
         "name": "",
         "type": "bar",
         "x": [
          2007,
          2008,
          2009,
          2010,
          2011,
          2012,
          2013,
          2014,
          2015,
          2016
         ],
         "xaxis": "x",
         "y": [
          0,
          1726241.0169393602,
          2149478.2394987843,
          2265471.139556252,
          1721151.196545275,
          1460917.9802208417,
          1665160.7294225,
          2040383.922829419,
          1632314.7562027622,
          1579608.0604125008
         ],
         "yaxis": "y"
        },
        {
         "colorscale": [
          [
           0,
           "rgb(247,251,255)"
          ],
          [
           0.125,
           "rgb(222,235,247)"
          ],
          [
           0.25,
           "rgb(198,219,239)"
          ],
          [
           0.375,
           "rgb(158,202,225)"
          ],
          [
           0.5,
           "rgb(107,174,214)"
          ],
          [
           0.625,
           "rgb(66,146,198)"
          ],
          [
           0.75,
           "rgb(33,113,181)"
          ],
          [
           0.875,
           "rgb(8,81,156)"
          ],
          [
           1,
           "rgb(8,48,107)"
          ]
         ],
         "customdata": [
          [
           0,
           0,
           1551444.0687662915,
           1400608.465665792,
           1189300.3424199102,
           573912.2827027693,
           978868.7793812777,
           929684.2962692617,
           510486.6817048173,
           956868.4767562127
          ],
          [
           0,
           0,
           1390888.9623010266,
           1168557.1195596189,
           851575.4399604686,
           925387.4241173666,
           873665.7294639257,
           824111.1952967312,
           794886.6638234124,
           931383.3634536659
          ],
          [
           0,
           0,
           384860.732293292,
           1062594.6293254304,
           1162615.9619233925,
           938154.8750251875,
           607972.7906961752,
           969242.2680848533,
           862048.7535196962,
           888132.4836677207
          ],
          [
           0,
           187138.76450147654,
           670238.1003073831,
           1400320.1337733895,
           1135495.844224715,
           926902.0416960977,
           729795.4690537106,
           1165592.9123597168,
           903739.3809233002,
           1384250.9127170348
          ],
          [
           0,
           1392168.4717846457,
           1456110.617513424,
           1588342.8828054694,
           1183594.887398616,
           937998.2823444577,
           984575.6488856846,
           982400.3320009335,
           809172.6042268785,
           1693715.0084380452
          ],
          [
           0,
           1332204.8607905852,
           817599.7934845551,
           1323148.7081857105,
           756257.0167627351,
           910528.2657810277,
           831276.6315558979,
           1272054.7987952495,
           1014440.0677024707,
           1618250.3940238748
          ],
          [
           0,
           1459422.6252054912,
           1202789.5957491572,
           1245642.8667834916,
           409967.5436680584,
           946182.4075256326,
           839957.8830025543,
           1425169.678552941,
           983176.2682407148,
           1245229.697214809
          ],
          [
           0,
           1345473.9082553827,
           1207167.8525226542,
           683273.1794234256,
           1090682.7391308802,
           365893.21674723894,
           981656.119376359,
           1158015.929911018,
           721774.9476176713,
           832663.2214976165
          ],
          [
           0,
           620070.2903071736,
           1030178.6484840675,
           913602.8171864356,
           1100517.5550499947,
           37896.15738699462,
           819705.3017953321,
           1257130.37428933,
           841296.1486362936,
           384941.91671546537
          ],
          [
           0,
           1468692.1905160034,
           1145404.2401074616,
           1224798.6563252788,
           489523.10551036656,
           694707.5785350968,
           910403.333290351,
           1381379.8882293303,
           854535.0259607214,
           0
          ],
          [
           0,
           1397131.0867497341,
           1282331.0253405082,
           1053330.2279691147,
           764855.3642714984,
           1022021.5500493876,
           981038.7688906598,
           1049497.2726935863,
           1009545.9362778787,
           0
          ],
          [
           0,
           1655426.796213962,
           1380797.3134311421,
           1185164.63209813,
           691329.1878908442,
           909313.2716562393,
           934629.1009040785,
           419349.4177286488,
           961848.1281300959,
           0
          ]
         ],
         "hoverlabel": {
          "bgcolor": "aliceblue",
          "font": {
           "color": "#333"
          }
         },
         "hovertemplate": "<b>%{y} %{x}</b><br><br><b>barrels:</b> %{customdata:,.0f}<br><b>cubic meters:</b> %{z:,.0f}",
         "name": "",
         "showscale": false,
         "type": "heatmap",
         "x": [
          2007,
          2008,
          2009,
          2010,
          2011,
          2012,
          2013,
          2014,
          2015,
          2016
         ],
         "xaxis": "x2",
         "y": [
          "Jan",
          "Feb",
          "Mar",
          "Apr",
          "May",
          "Jun",
          "Jul",
          "Aug",
          "Sep",
          "Oct",
          "Nov",
          "Dec"
         ],
         "yaxis": "y2",
         "z": [
          [
           0,
           0,
           246659.903594167,
           222678.958313347,
           189083.650330417,
           91244.76426375,
           155627.704288125,
           147807.99611625,
           81160.8992102083,
           152129.935574583
          ],
          [
           0,
           0,
           221133.680716042,
           185785.741334561,
           135389.679945627,
           147124.848014375,
           138901.75543,
           131023.21384,
           126376.884487292,
           148078.126220417
          ],
          [
           0,
           0,
           61187.9687033333,
           168939.051110951,
           184841.172723103,
           149154.710562092,
           96659.95246625,
           154097.211248687,
           137054.803790462,
           141201.785620625
          ],
          [
           0,
           29752.6868934256,
           106559.345925,
           222633.11720427,
           180529.418434508,
           147365.65297375,
           116028.211177083,
           185314.470035208,
           143683.084076667,
           220078.315135417
          ],
          [
           0,
           221337.106474167,
           231503.095579792,
           252526.346411458,
           188176.55544131,
           149129.814314583,
           156535.024062083,
           156189.176303932,
           128648.16758,
           269279.176161042
          ],
          [
           0,
           211803.653863971,
           129987.983646667,
           210363.840612934,
           120235.261201162,
           144762.430550208,
           132162.427204167,
           202240.5579125,
           161283.087375833,
           257281.260869792
          ],
          [
           0,
           232029.662740333,
           191228.27029625,
           198041.396154167,
           65179.6328554167,
           150430.98628,
           133542.635932292,
           226583.879235,
           156312.540311667,
           197975.70744
          ],
          [
           0,
           213913.263893971,
           191924.357519375,
           108631.757958946,
           173404.703851023,
           58172.3746189583,
           156070.855948125,
           184109.826053542,
           114753.050129375,
           132382.877395208
          ],
          [
           0,
           98583.3012661537,
           163785.321840131,
           145251.245176865,
           174968.31468,
           6025.00774333333,
           130322.732728125,
           199867.76395625,
           133755.403172083,
           61200.8759954167
          ],
          [
           0,
           233503.405901225,
           182104.727543237,
           194727.431412784,
           77827.9568327083,
           110449.682200833,
           144742.567870833,
           219621.858703883,
           135860.216532925,
           0
          ],
          [
           0,
           222126.099228406,
           203874.347425119,
           167466.128953194,
           121602.289256042,
           162488.446784167,
           155972.70506125,
           166856.737742917,
           160504.982634792,
           0
          ],
          [
           0,
           263191.836677708,
           219529.236709671,
           188426.124912775,
           109912.560993958,
           144569.261914792,
           148594.157254167,
           66671.23168125,
           152921.636901458,
           0
          ]
         ]
        }
       ],
       "layout": {
        "annotations": [
         {
          "font": {
           "size": 18
          },
          "showarrow": false,
          "text": "<b>Annual Water Injection (m<sup>3</sup>)</b>",
          "x": 0.225,
          "xanchor": "center",
          "xref": "paper",
          "y": 1,
          "yanchor": "bottom",
          "yref": "paper"
         },
         {
          "font": {
           "size": 18
          },
          "showarrow": false,
          "text": "<b>Monthly Water Injection (m<sup>3</sup>)</b>",
          "x": 0.775,
          "xanchor": "center",
          "xref": "paper",
          "y": 1,
          "yanchor": "bottom",
          "yref": "paper"
         }
        ],
        "font": {
         "size": 14
        },
        "height": 530,
        "margin": {
         "t": 120
        },
        "template": {
         "data": {
          "bar": [
           {
            "error_x": {
             "color": "#2a3f5f"
            },
            "error_y": {
             "color": "#2a3f5f"
            },
            "marker": {
             "line": {
              "color": "#E5ECF6",
              "width": 0.5
             },
             "pattern": {
              "fillmode": "overlay",
              "size": 10,
              "solidity": 0.2
             }
            },
            "type": "bar"
           }
          ],
          "barpolar": [
           {
            "marker": {
             "line": {
              "color": "#E5ECF6",
              "width": 0.5
             },
             "pattern": {
              "fillmode": "overlay",
              "size": 10,
              "solidity": 0.2
             }
            },
            "type": "barpolar"
           }
          ],
          "carpet": [
           {
            "aaxis": {
             "endlinecolor": "#2a3f5f",
             "gridcolor": "white",
             "linecolor": "white",
             "minorgridcolor": "white",
             "startlinecolor": "#2a3f5f"
            },
            "baxis": {
             "endlinecolor": "#2a3f5f",
             "gridcolor": "white",
             "linecolor": "white",
             "minorgridcolor": "white",
             "startlinecolor": "#2a3f5f"
            },
            "type": "carpet"
           }
          ],
          "choropleth": [
           {
            "colorbar": {
             "outlinewidth": 0,
             "ticks": ""
            },
            "type": "choropleth"
           }
          ],
          "contour": [
           {
            "colorbar": {
             "outlinewidth": 0,
             "ticks": ""
            },
            "colorscale": [
             [
              0,
              "#0d0887"
             ],
             [
              0.1111111111111111,
              "#46039f"
             ],
             [
              0.2222222222222222,
              "#7201a8"
             ],
             [
              0.3333333333333333,
              "#9c179e"
             ],
             [
              0.4444444444444444,
              "#bd3786"
             ],
             [
              0.5555555555555556,
              "#d8576b"
             ],
             [
              0.6666666666666666,
              "#ed7953"
             ],
             [
              0.7777777777777778,
              "#fb9f3a"
             ],
             [
              0.8888888888888888,
              "#fdca26"
             ],
             [
              1,
              "#f0f921"
             ]
            ],
            "type": "contour"
           }
          ],
          "contourcarpet": [
           {
            "colorbar": {
             "outlinewidth": 0,
             "ticks": ""
            },
            "type": "contourcarpet"
           }
          ],
          "heatmap": [
           {
            "colorbar": {
             "outlinewidth": 0,
             "ticks": ""
            },
            "colorscale": [
             [
              0,
              "#0d0887"
             ],
             [
              0.1111111111111111,
              "#46039f"
             ],
             [
              0.2222222222222222,
              "#7201a8"
             ],
             [
              0.3333333333333333,
              "#9c179e"
             ],
             [
              0.4444444444444444,
              "#bd3786"
             ],
             [
              0.5555555555555556,
              "#d8576b"
             ],
             [
              0.6666666666666666,
              "#ed7953"
             ],
             [
              0.7777777777777778,
              "#fb9f3a"
             ],
             [
              0.8888888888888888,
              "#fdca26"
             ],
             [
              1,
              "#f0f921"
             ]
            ],
            "type": "heatmap"
           }
          ],
          "heatmapgl": [
           {
            "colorbar": {
             "outlinewidth": 0,
             "ticks": ""
            },
            "colorscale": [
             [
              0,
              "#0d0887"
             ],
             [
              0.1111111111111111,
              "#46039f"
             ],
             [
              0.2222222222222222,
              "#7201a8"
             ],
             [
              0.3333333333333333,
              "#9c179e"
             ],
             [
              0.4444444444444444,
              "#bd3786"
             ],
             [
              0.5555555555555556,
              "#d8576b"
             ],
             [
              0.6666666666666666,
              "#ed7953"
             ],
             [
              0.7777777777777778,
              "#fb9f3a"
             ],
             [
              0.8888888888888888,
              "#fdca26"
             ],
             [
              1,
              "#f0f921"
             ]
            ],
            "type": "heatmapgl"
           }
          ],
          "histogram": [
           {
            "marker": {
             "pattern": {
              "fillmode": "overlay",
              "size": 10,
              "solidity": 0.2
             }
            },
            "type": "histogram"
           }
          ],
          "histogram2d": [
           {
            "colorbar": {
             "outlinewidth": 0,
             "ticks": ""
            },
            "colorscale": [
             [
              0,
              "#0d0887"
             ],
             [
              0.1111111111111111,
              "#46039f"
             ],
             [
              0.2222222222222222,
              "#7201a8"
             ],
             [
              0.3333333333333333,
              "#9c179e"
             ],
             [
              0.4444444444444444,
              "#bd3786"
             ],
             [
              0.5555555555555556,
              "#d8576b"
             ],
             [
              0.6666666666666666,
              "#ed7953"
             ],
             [
              0.7777777777777778,
              "#fb9f3a"
             ],
             [
              0.8888888888888888,
              "#fdca26"
             ],
             [
              1,
              "#f0f921"
             ]
            ],
            "type": "histogram2d"
           }
          ],
          "histogram2dcontour": [
           {
            "colorbar": {
             "outlinewidth": 0,
             "ticks": ""
            },
            "colorscale": [
             [
              0,
              "#0d0887"
             ],
             [
              0.1111111111111111,
              "#46039f"
             ],
             [
              0.2222222222222222,
              "#7201a8"
             ],
             [
              0.3333333333333333,
              "#9c179e"
             ],
             [
              0.4444444444444444,
              "#bd3786"
             ],
             [
              0.5555555555555556,
              "#d8576b"
             ],
             [
              0.6666666666666666,
              "#ed7953"
             ],
             [
              0.7777777777777778,
              "#fb9f3a"
             ],
             [
              0.8888888888888888,
              "#fdca26"
             ],
             [
              1,
              "#f0f921"
             ]
            ],
            "type": "histogram2dcontour"
           }
          ],
          "mesh3d": [
           {
            "colorbar": {
             "outlinewidth": 0,
             "ticks": ""
            },
            "type": "mesh3d"
           }
          ],
          "parcoords": [
           {
            "line": {
             "colorbar": {
              "outlinewidth": 0,
              "ticks": ""
             }
            },
            "type": "parcoords"
           }
          ],
          "pie": [
           {
            "automargin": true,
            "type": "pie"
           }
          ],
          "scatter": [
           {
            "fillpattern": {
             "fillmode": "overlay",
             "size": 10,
             "solidity": 0.2
            },
            "type": "scatter"
           }
          ],
          "scatter3d": [
           {
            "line": {
             "colorbar": {
              "outlinewidth": 0,
              "ticks": ""
             }
            },
            "marker": {
             "colorbar": {
              "outlinewidth": 0,
              "ticks": ""
             }
            },
            "type": "scatter3d"
           }
          ],
          "scattercarpet": [
           {
            "marker": {
             "colorbar": {
              "outlinewidth": 0,
              "ticks": ""
             }
            },
            "type": "scattercarpet"
           }
          ],
          "scattergeo": [
           {
            "marker": {
             "colorbar": {
              "outlinewidth": 0,
              "ticks": ""
             }
            },
            "type": "scattergeo"
           }
          ],
          "scattergl": [
           {
            "marker": {
             "colorbar": {
              "outlinewidth": 0,
              "ticks": ""
             }
            },
            "type": "scattergl"
           }
          ],
          "scattermapbox": [
           {
            "marker": {
             "colorbar": {
              "outlinewidth": 0,
              "ticks": ""
             }
            },
            "type": "scattermapbox"
           }
          ],
          "scatterpolar": [
           {
            "marker": {
             "colorbar": {
              "outlinewidth": 0,
              "ticks": ""
             }
            },
            "type": "scatterpolar"
           }
          ],
          "scatterpolargl": [
           {
            "marker": {
             "colorbar": {
              "outlinewidth": 0,
              "ticks": ""
             }
            },
            "type": "scatterpolargl"
           }
          ],
          "scatterternary": [
           {
            "marker": {
             "colorbar": {
              "outlinewidth": 0,
              "ticks": ""
             }
            },
            "type": "scatterternary"
           }
          ],
          "surface": [
           {
            "colorbar": {
             "outlinewidth": 0,
             "ticks": ""
            },
            "colorscale": [
             [
              0,
              "#0d0887"
             ],
             [
              0.1111111111111111,
              "#46039f"
             ],
             [
              0.2222222222222222,
              "#7201a8"
             ],
             [
              0.3333333333333333,
              "#9c179e"
             ],
             [
              0.4444444444444444,
              "#bd3786"
             ],
             [
              0.5555555555555556,
              "#d8576b"
             ],
             [
              0.6666666666666666,
              "#ed7953"
             ],
             [
              0.7777777777777778,
              "#fb9f3a"
             ],
             [
              0.8888888888888888,
              "#fdca26"
             ],
             [
              1,
              "#f0f921"
             ]
            ],
            "type": "surface"
           }
          ],
          "table": [
           {
            "cells": {
             "fill": {
              "color": "#EBF0F8"
             },
             "line": {
              "color": "white"
             }
            },
            "header": {
             "fill": {
              "color": "#C8D4E3"
             },
             "line": {
              "color": "white"
             }
            },
            "type": "table"
           }
          ]
         },
         "layout": {
          "annotationdefaults": {
           "arrowcolor": "#2a3f5f",
           "arrowhead": 0,
           "arrowwidth": 1
          },
          "autotypenumbers": "strict",
          "coloraxis": {
           "colorbar": {
            "outlinewidth": 0,
            "ticks": ""
           }
          },
          "colorscale": {
           "diverging": [
            [
             0,
             "#8e0152"
            ],
            [
             0.1,
             "#c51b7d"
            ],
            [
             0.2,
             "#de77ae"
            ],
            [
             0.3,
             "#f1b6da"
            ],
            [
             0.4,
             "#fde0ef"
            ],
            [
             0.5,
             "#f7f7f7"
            ],
            [
             0.6,
             "#e6f5d0"
            ],
            [
             0.7,
             "#b8e186"
            ],
            [
             0.8,
             "#7fbc41"
            ],
            [
             0.9,
             "#4d9221"
            ],
            [
             1,
             "#276419"
            ]
           ],
           "sequential": [
            [
             0,
             "#0d0887"
            ],
            [
             0.1111111111111111,
             "#46039f"
            ],
            [
             0.2222222222222222,
             "#7201a8"
            ],
            [
             0.3333333333333333,
             "#9c179e"
            ],
            [
             0.4444444444444444,
             "#bd3786"
            ],
            [
             0.5555555555555556,
             "#d8576b"
            ],
            [
             0.6666666666666666,
             "#ed7953"
            ],
            [
             0.7777777777777778,
             "#fb9f3a"
            ],
            [
             0.8888888888888888,
             "#fdca26"
            ],
            [
             1,
             "#f0f921"
            ]
           ],
           "sequentialminus": [
            [
             0,
             "#0d0887"
            ],
            [
             0.1111111111111111,
             "#46039f"
            ],
            [
             0.2222222222222222,
             "#7201a8"
            ],
            [
             0.3333333333333333,
             "#9c179e"
            ],
            [
             0.4444444444444444,
             "#bd3786"
            ],
            [
             0.5555555555555556,
             "#d8576b"
            ],
            [
             0.6666666666666666,
             "#ed7953"
            ],
            [
             0.7777777777777778,
             "#fb9f3a"
            ],
            [
             0.8888888888888888,
             "#fdca26"
            ],
            [
             1,
             "#f0f921"
            ]
           ]
          },
          "colorway": [
           "#636efa",
           "#EF553B",
           "#00cc96",
           "#ab63fa",
           "#FFA15A",
           "#19d3f3",
           "#FF6692",
           "#B6E880",
           "#FF97FF",
           "#FECB52"
          ],
          "font": {
           "color": "#2a3f5f"
          },
          "geo": {
           "bgcolor": "white",
           "lakecolor": "white",
           "landcolor": "#E5ECF6",
           "showlakes": true,
           "showland": true,
           "subunitcolor": "white"
          },
          "hoverlabel": {
           "align": "left"
          },
          "hovermode": "closest",
          "mapbox": {
           "style": "light"
          },
          "paper_bgcolor": "white",
          "plot_bgcolor": "#E5ECF6",
          "polar": {
           "angularaxis": {
            "gridcolor": "white",
            "linecolor": "white",
            "ticks": ""
           },
           "bgcolor": "#E5ECF6",
           "radialaxis": {
            "gridcolor": "white",
            "linecolor": "white",
            "ticks": ""
           }
          },
          "scene": {
           "xaxis": {
            "backgroundcolor": "#E5ECF6",
            "gridcolor": "white",
            "gridwidth": 2,
            "linecolor": "white",
            "showbackground": true,
            "ticks": "",
            "zerolinecolor": "white"
           },
           "yaxis": {
            "backgroundcolor": "#E5ECF6",
            "gridcolor": "white",
            "gridwidth": 2,
            "linecolor": "white",
            "showbackground": true,
            "ticks": "",
            "zerolinecolor": "white"
           },
           "zaxis": {
            "backgroundcolor": "#E5ECF6",
            "gridcolor": "white",
            "gridwidth": 2,
            "linecolor": "white",
            "showbackground": true,
            "ticks": "",
            "zerolinecolor": "white"
           }
          },
          "shapedefaults": {
           "line": {
            "color": "#2a3f5f"
           }
          },
          "ternary": {
           "aaxis": {
            "gridcolor": "white",
            "linecolor": "white",
            "ticks": ""
           },
           "baxis": {
            "gridcolor": "white",
            "linecolor": "white",
            "ticks": ""
           },
           "bgcolor": "#E5ECF6",
           "caxis": {
            "gridcolor": "white",
            "linecolor": "white",
            "ticks": ""
           }
          },
          "title": {
           "x": 0.05
          },
          "xaxis": {
           "automargin": true,
           "gridcolor": "white",
           "linecolor": "white",
           "ticks": "",
           "title": {
            "standoff": 15
           },
           "zerolinecolor": "white",
           "zerolinewidth": 2
          },
          "yaxis": {
           "automargin": true,
           "gridcolor": "white",
           "linecolor": "white",
           "ticks": "",
           "title": {
            "standoff": 15
           },
           "zerolinecolor": "white",
           "zerolinewidth": 2
          }
         }
        },
        "title": {
         "font": {
          "size": 20
         },
         "text": "<b>Wellbore 15/9-F-4</b>"
        },
        "xaxis": {
         "anchor": "y",
         "domain": [
          0,
          0.45
         ],
         "tickmode": "array",
         "tickvals": [
          2007,
          2008,
          2009,
          2010,
          2011,
          2012,
          2013,
          2014,
          2015,
          2016
         ],
         "title": {
          "text": "Year"
         }
        },
        "xaxis2": {
         "anchor": "y2",
         "domain": [
          0.55,
          1
         ],
         "tickmode": "array",
         "tickvals": [
          2007,
          2008,
          2009,
          2010,
          2011,
          2012,
          2013,
          2014,
          2015,
          2016
         ],
         "title": {
          "text": "Year"
         }
        },
        "yaxis": {
         "anchor": "x",
         "domain": [
          0,
          1
         ],
         "title": {
          "standoff": 3,
          "text": "Water Volume"
         }
        },
        "yaxis2": {
         "anchor": "x2",
         "autorange": "reversed",
         "domain": [
          0,
          1
         ],
         "title": {
          "standoff": 3,
          "text": "Month"
         }
        }
       }
      }
     },
     "metadata": {},
     "output_type": "display_data"
    }
   ],
   "source": [
    "analyze_wellbore(volve_df, \"15/9-F-4\")"
   ]
  },
  {
   "cell_type": "code",
   "execution_count": 32,
   "metadata": {},
   "outputs": [
    {
     "data": {
      "application/vnd.plotly.v1+json": {
       "config": {
        "plotlyServerURL": "https://plot.ly"
       },
       "data": [
        {
         "customdata": [
          0,
          0,
          0,
          0,
          0,
          0,
          0,
          0,
          0,
          258892.88012312935
         ],
         "hovertemplate": "<b>%{x}</b><br><br><b>barrels:</b> %{customdata:,.0f}<br><b>cubic meters:</b> %{y:,.0f}",
         "marker": {
          "color": "mediumspringgreen",
          "line": {
           "color": "whitesmoke",
           "width": 1.2
          }
         },
         "name": "",
         "showlegend": false,
         "type": "bar",
         "x": [
          2007,
          2008,
          2009,
          2010,
          2011,
          2012,
          2013,
          2014,
          2015,
          2016
         ],
         "xaxis": "x",
         "y": [
          0,
          0,
          0,
          0,
          0,
          0,
          0,
          0,
          0,
          41160.68
         ],
         "yaxis": "y"
        },
        {
         "customdata": [
          0,
          0,
          0,
          0,
          0,
          0,
          0,
          0,
          0,
          231729070.37518364
         ],
         "hovertemplate": "<b>%{x}</b><br><br><b>SCF:</b> %{customdata:,.0f}<br><b>cubic meters:</b> %{y:,.0f}",
         "marker": {
          "color": "crimson",
          "line": {
           "color": "whitesmoke",
           "width": 1.2
          }
         },
         "name": "",
         "showlegend": false,
         "type": "bar",
         "x": [
          2007,
          2008,
          2009,
          2010,
          2011,
          2012,
          2013,
          2014,
          2015,
          2016
         ],
         "xaxis": "x2",
         "y": [
          0,
          0,
          0,
          0,
          0,
          0,
          0,
          0,
          0,
          6561825.74
         ],
         "yaxis": "y2"
        },
        {
         "customdata": [
          0,
          4349586.253523475,
          14106280.034765884,
          14491240.890211701,
          10826621.380225943,
          9524635.779562932,
          11249958.637818614,
          11228000.4658442,
          9870679.722262584,
          2972694.695109559
         ],
         "hovertemplate": "<b>%{x}</b><br><br><b>barrels:</b> %{customdata:,.0f}<br><b>cubic meters:</b> %{y:,.0f}",
         "marker": {
          "color": "deepskyblue",
          "line": {
           "color": "whitesmoke",
           "width": 1.2
          }
         },
         "name": "",
         "showlegend": false,
         "type": "bar",
         "x": [
          2007,
          2008,
          2009,
          2010,
          2011,
          2012,
          2013,
          2014,
          2015,
          2016
         ],
         "xaxis": "x3",
         "y": [
          0,
          691528.9745648127,
          2242719.375771334,
          2303923.262784355,
          1721295.3013643962,
          1514296.1260761055,
          1788600.5489384593,
          1785109.4784633117,
          1569312.718207278,
          472620.703299792
         ],
         "yaxis": "y3"
        },
        {
         "colorscale": [
          [
           0,
           "rgb(247,252,245)"
          ],
          [
           0.125,
           "rgb(229,245,224)"
          ],
          [
           0.25,
           "rgb(199,233,192)"
          ],
          [
           0.375,
           "rgb(161,217,155)"
          ],
          [
           0.5,
           "rgb(116,196,118)"
          ],
          [
           0.625,
           "rgb(65,171,93)"
          ],
          [
           0.75,
           "rgb(35,139,69)"
          ],
          [
           0.875,
           "rgb(0,109,44)"
          ],
          [
           1,
           "rgb(0,68,27)"
          ]
         ],
         "customdata": [
          [
           0,
           0,
           0,
           0,
           0,
           0,
           0,
           0,
           0,
           0
          ],
          [
           0,
           0,
           0,
           0,
           0,
           0,
           0,
           0,
           0,
           0
          ],
          [
           0,
           0,
           0,
           0,
           0,
           0,
           0,
           0,
           0,
           0
          ],
          [
           0,
           0,
           0,
           0,
           0,
           0,
           0,
           0,
           0,
           21389.1927216828
          ],
          [
           0,
           0,
           0,
           0,
           0,
           0,
           0,
           0,
           0,
           61164.63390472069
          ],
          [
           0,
           0,
           0,
           0,
           0,
           0,
           0,
           0,
           0,
           57372.3813159919
          ],
          [
           0,
           0,
           0,
           0,
           0,
           0,
           0,
           0,
           0,
           62805.582584269316
          ],
          [
           0,
           0,
           0,
           0,
           0,
           0,
           0,
           0,
           0,
           56161.08959646462
          ],
          [
           0,
           0,
           0,
           0,
           0,
           0,
           0,
           0,
           0,
           0
          ],
          [
           0,
           0,
           0,
           0,
           0,
           0,
           0,
           0,
           0,
           0
          ],
          [
           0,
           0,
           0,
           0,
           0,
           0,
           0,
           0,
           0,
           0
          ],
          [
           0,
           0,
           0,
           0,
           0,
           0,
           0,
           0,
           0,
           0
          ]
         ],
         "hoverlabel": {
          "bgcolor": "#F2FBF0",
          "font": {
           "color": "#333"
          }
         },
         "hovertemplate": "<b>%{y} %{x}</b><br><br><b>barrels:</b> %{customdata:,.0f}<br><b>cubic meters:</b> %{z:,.0f}",
         "name": "",
         "showscale": false,
         "type": "heatmap",
         "x": [
          2007,
          2008,
          2009,
          2010,
          2011,
          2012,
          2013,
          2014,
          2015,
          2016
         ],
         "xaxis": "x4",
         "y": [
          "Jan",
          "Feb",
          "Mar",
          "Apr",
          "May",
          "Jun",
          "Jul",
          "Aug",
          "Sep",
          "Oct",
          "Nov",
          "Dec"
         ],
         "yaxis": "y4",
         "z": [
          [
           0,
           0,
           0,
           0,
           0,
           0,
           0,
           0,
           0,
           0
          ],
          [
           0,
           0,
           0,
           0,
           0,
           0,
           0,
           0,
           0,
           0
          ],
          [
           0,
           0,
           0,
           0,
           0,
           0,
           0,
           0,
           0,
           0
          ],
          [
           0,
           0,
           0,
           0,
           0,
           0,
           0,
           0,
           0,
           3400.61
          ],
          [
           0,
           0,
           0,
           0,
           0,
           0,
           0,
           0,
           0,
           9724.4
          ],
          [
           0,
           0,
           0,
           0,
           0,
           0,
           0,
           0,
           0,
           9121.48
          ],
          [
           0,
           0,
           0,
           0,
           0,
           0,
           0,
           0,
           0,
           9985.29
          ],
          [
           0,
           0,
           0,
           0,
           0,
           0,
           0,
           0,
           0,
           8928.9
          ],
          [
           0,
           0,
           0,
           0,
           0,
           0,
           0,
           0,
           0,
           0
          ],
          [
           0,
           0,
           0,
           0,
           0,
           0,
           0,
           0,
           0,
           0
          ],
          [
           0,
           0,
           0,
           0,
           0,
           0,
           0,
           0,
           0,
           0
          ],
          [
           0,
           0,
           0,
           0,
           0,
           0,
           0,
           0,
           0,
           0
          ]
         ]
        },
        {
         "colorscale": [
          [
           0,
           "rgb(255,245,240)"
          ],
          [
           0.125,
           "rgb(254,224,210)"
          ],
          [
           0.25,
           "rgb(252,187,161)"
          ],
          [
           0.375,
           "rgb(252,146,114)"
          ],
          [
           0.5,
           "rgb(251,106,74)"
          ],
          [
           0.625,
           "rgb(239,59,44)"
          ],
          [
           0.75,
           "rgb(203,24,29)"
          ],
          [
           0.875,
           "rgb(165,15,21)"
          ],
          [
           1,
           "rgb(103,0,13)"
          ]
         ],
         "customdata": [
          [
           0,
           0,
           0,
           0,
           0,
           0,
           0,
           0,
           0,
           0
          ],
          [
           0,
           0,
           0,
           0,
           0,
           0,
           0,
           0,
           0,
           0
          ],
          [
           0,
           0,
           0,
           0,
           0,
           0,
           0,
           0,
           0,
           0
          ],
          [
           0,
           0,
           0,
           0,
           0,
           0,
           0,
           0,
           0,
           19021872.527969263
          ],
          [
           0,
           0,
           0,
           0,
           0,
           0,
           0,
           0,
           0,
           54196701.604701094
          ],
          [
           0,
           0,
           0,
           0,
           0,
           0,
           0,
           0,
           0,
           51861690.586506955
          ],
          [
           0,
           0,
           0,
           0,
           0,
           0,
           0,
           0,
           0,
           56598005.071194485
          ],
          [
           0,
           0,
           0,
           0,
           0,
           0,
           0,
           0,
           0,
           50050800.584811844
          ],
          [
           0,
           0,
           0,
           0,
           0,
           0,
           0,
           0,
           0,
           0
          ],
          [
           0,
           0,
           0,
           0,
           0,
           0,
           0,
           0,
           0,
           0
          ],
          [
           0,
           0,
           0,
           0,
           0,
           0,
           0,
           0,
           0,
           0
          ],
          [
           0,
           0,
           0,
           0,
           0,
           0,
           0,
           0,
           0,
           0
          ]
         ],
         "hoverlabel": {
          "bgcolor": "#FEF5F1",
          "font": {
           "color": "#333"
          }
         },
         "hovertemplate": "<b>%{y} %{x}</b><br><br><b>SCF:</b> %{customdata:,.0f}<br><b>cubic meters:</b> %{z:,.0f}",
         "name": "",
         "showscale": false,
         "type": "heatmap",
         "x": [
          2007,
          2008,
          2009,
          2010,
          2011,
          2012,
          2013,
          2014,
          2015,
          2016
         ],
         "xaxis": "x5",
         "y": [
          "Jan",
          "Feb",
          "Mar",
          "Apr",
          "May",
          "Jun",
          "Jul",
          "Aug",
          "Sep",
          "Oct",
          "Nov",
          "Dec"
         ],
         "yaxis": "y5",
         "z": [
          [
           0,
           0,
           0,
           0,
           0,
           0,
           0,
           0,
           0,
           0
          ],
          [
           0,
           0,
           0,
           0,
           0,
           0,
           0,
           0,
           0,
           0
          ],
          [
           0,
           0,
           0,
           0,
           0,
           0,
           0,
           0,
           0,
           0
          ],
          [
           0,
           0,
           0,
           0,
           0,
           0,
           0,
           0,
           0,
           538638.56
          ],
          [
           0,
           0,
           0,
           0,
           0,
           0,
           0,
           0,
           0,
           1534677.16
          ],
          [
           0,
           0,
           0,
           0,
           0,
           0,
           0,
           0,
           0,
           1468557.12
          ],
          [
           0,
           0,
           0,
           0,
           0,
           0,
           0,
           0,
           0,
           1602674.39
          ],
          [
           0,
           0,
           0,
           0,
           0,
           0,
           0,
           0,
           0,
           1417278.51
          ],
          [
           0,
           0,
           0,
           0,
           0,
           0,
           0,
           0,
           0,
           0
          ],
          [
           0,
           0,
           0,
           0,
           0,
           0,
           0,
           0,
           0,
           0
          ],
          [
           0,
           0,
           0,
           0,
           0,
           0,
           0,
           0,
           0,
           0
          ],
          [
           0,
           0,
           0,
           0,
           0,
           0,
           0,
           0,
           0,
           0
          ]
         ]
        },
        {
         "colorscale": [
          [
           0,
           "rgb(247,251,255)"
          ],
          [
           0.125,
           "rgb(222,235,247)"
          ],
          [
           0.25,
           "rgb(198,219,239)"
          ],
          [
           0.375,
           "rgb(158,202,225)"
          ],
          [
           0.5,
           "rgb(107,174,214)"
          ],
          [
           0.625,
           "rgb(66,146,198)"
          ],
          [
           0.75,
           "rgb(33,113,181)"
          ],
          [
           0.875,
           "rgb(8,81,156)"
          ],
          [
           1,
           "rgb(8,48,107)"
          ]
         ],
         "customdata": [
          [
           0,
           0,
           1595444.5782820892,
           1582231.8378454694,
           1189032.8316698377,
           604735.4080103147,
           1005990.329975256,
           875302.3933869245,
           734974.8208177132,
           933373.6474535514
          ],
          [
           0,
           0,
           1422138.83222119,
           1253176.6972147964,
           877218.2207660171,
           906846.8572568375,
           929624.3462095715,
           879787.9404033655,
           773380.9859642374,
           1032715.1737237817
          ],
          [
           0,
           0,
           513716.1899095085,
           1006088.4866067603,
           1161049.893234925,
           911401.802494998,
           540911.5391541229,
           1058917.2867570429,
           803860.9821835895,
           879382.1347404793
          ],
          [
           0,
           0,
           659288.8097351171,
           900589.0871524267,
           1188140.389894564,
           961798.274834688,
           765196.941355536,
           1071569.5222721123,
           924584.1544327252,
           127223.73919174676
          ],
          [
           0,
           0,
           1461340.0847000924,
           1586364.0531560257,
           1204109.281321225,
           992277.0409518055,
           1075151.7005957395,
           977710.3586117129,
           850721.3108452688,
           0
          ],
          [
           0,
           0,
           837829.2182535963,
           1371150.9204351543,
           728427.4424436229,
           925702.3444508901,
           871951.4418565193,
           1072715.1253551384,
           918474.6260419355,
           0
          ],
          [
           0,
           0,
           1292222.829673345,
           1344868.046364131,
           378864.6686166128,
           975811.8358471085,
           825530.8533710995,
           941166.6046740337,
           740057.6671860457,
           0
          ],
          [
           0,
           91082.31963883531,
           1248361.724356285,
           756704.9554004503,
           1016235.7104599738,
           414963.778987116,
           1168594.2940162013,
           768047.8368083489,
           711635.4968237525,
           0
          ],
          [
           0,
           407669.5844540746,
           1080420.9195495993,
           1026404.3747098981,
           1167616.7689241152,
           50742.74072913371,
           888894.738391318,
           1010536.4914943961,
           806736.5829049994,
           0
          ],
          [
           0,
           768956.8395426741,
           1263291.033271796,
           1262158.9881621364,
           541685.3940665909,
           745250.2262628336,
           1054310.9520867893,
           1049349.9412318342,
           845192.4849957637,
           0
          ],
          [
           0,
           1382374.468892899,
           1314154.450582726,
           1185225.5907733636,
           702738.8890876316,
           1060648.885298807,
           1056584.1479384957,
           920871.7290023606,
           846627.0004179077,
           0
          ],
          [
           0,
           1699503.0409949915,
           1418071.3642305392,
           1216277.8523910902,
           671501.8897408284,
           974456.5844383986,
           1067217.352867965,
           602025.2358469305,
           914433.6096486448,
           0
          ]
         ],
         "hoverlabel": {
          "bgcolor": "aliceblue",
          "font": {
           "color": "#333"
          }
         },
         "hovertemplate": "<b>%{y} %{x}</b><br><br><b>barrels:</b> %{customdata:,.0f}<br><b>cubic meters:</b> %{z:,.0f}",
         "name": "",
         "showscale": false,
         "type": "heatmap",
         "x": [
          2007,
          2008,
          2009,
          2010,
          2011,
          2012,
          2013,
          2014,
          2015,
          2016
         ],
         "xaxis": "x6",
         "y": [
          "Jan",
          "Feb",
          "Mar",
          "Apr",
          "May",
          "Jun",
          "Jul",
          "Aug",
          "Sep",
          "Oct",
          "Nov",
          "Dec"
         ],
         "yaxis": "y6",
         "z": [
          [
           0,
           0,
           253655.425800708,
           251554.767873089,
           189041.119518542,
           96145.2497339583,
           159939.686388875,
           139161.964208125,
           116851.662329792,
           148394.556099792
          ],
          [
           0,
           0,
           226102.01316,
           199239.179513098,
           139466.556430393,
           144177.13334875,
           147798.464818125,
           139875.109217292,
           122957.754829792,
           164188.597139375
          ],
          [
           0,
           0,
           81674.35,
           159955.292046695,
           184592.187690709,
           144901.311793813,
           85998.0651489583,
           168354.400344828,
           127803.687132717,
           139810.591270625
          ],
          [
           0,
           0,
           104818.54778,
           143182.227375829,
           188899.232610284,
           152913.710860625,
           121656.595674375,
           170365.945108333,
           146997.138336042,
           20226.95879
          ],
          [
           0,
           0,
           232334.514448239,
           252211.737628333,
           191438.083542202,
           157759.447592917,
           170935.465968125,
           155443.530097708,
           135253.88426375,
           0
          ],
          [
           0,
           0,
           133204.20527125,
           217995.5827325,
           115810.712320017,
           147174.916347917,
           138629.205471875,
           170548.081449375,
           146025.800912917,
           0
          ],
          [
           0,
           0,
           205447.018688125,
           213816.939547708,
           60234.67072875,
           155141.689089375,
           131248.921444167,
           149633.537327292,
           117659.770350208,
           0
          ],
          [
           0,
           14480.9320771154,
           198473.65997875,
           120306.477755738,
           161568.571769613,
           65973.9708189583,
           185791.651601042,
           122109.851845,
           113141.006224167,
           0
          ],
          [
           0,
           64814.2865244753,
           171773.204862708,
           163185.260243315,
           185636.237525969,
           8067.451343125,
           141322.974441042,
           160662.468334167,
           128260.871127292,
           0
          ],
          [
           0,
           122254.371735423,
           200847.230494093,
           200667.24969863,
           86121.0982520833,
           118485.321297917,
           167622.051632708,
           166833.313911608,
           134374.871169767,
           0
          ],
          [
           0,
           219779.984398216,
           208933.867881131,
           188435.816567962,
           111726.558581042,
           168629.702521667,
           167983.460903542,
           146406.909840417,
           134602.940903542,
           0
          ],
          [
           0,
           270199.399829583,
           225455.33740633,
           193372.731801458,
           106760.272394792,
           154926.221327083,
           169674.005445625,
           95714.3667791667,
           145383.330627292,
           0
          ]
         ]
        }
       ],
       "layout": {
        "annotations": [
         {
          "font": {
           "size": 18
          },
          "showarrow": false,
          "text": "<b>Annual Oil Production (m<sup>3</sup>)</b>",
          "x": 0.14444444444444446,
          "xanchor": "center",
          "xref": "paper",
          "y": 1,
          "yanchor": "bottom",
          "yref": "paper"
         },
         {
          "font": {
           "size": 18
          },
          "showarrow": false,
          "text": "<b>Annual Gas Production (m<sup>3</sup>)</b>",
          "x": 0.5,
          "xanchor": "center",
          "xref": "paper",
          "y": 1,
          "yanchor": "bottom",
          "yref": "paper"
         },
         {
          "font": {
           "size": 18
          },
          "showarrow": false,
          "text": "<b>Annual Water Injection (m<sup>3</sup>)</b>",
          "x": 0.8555555555555556,
          "xanchor": "center",
          "xref": "paper",
          "y": 1,
          "yanchor": "bottom",
          "yref": "paper"
         },
         {
          "font": {
           "size": 18
          },
          "showarrow": false,
          "text": "<b>Monthly Oil Production (m<sup>3</sup>)</b>",
          "x": 0.14444444444444446,
          "xanchor": "center",
          "xref": "paper",
          "y": 0.4075,
          "yanchor": "bottom",
          "yref": "paper"
         },
         {
          "font": {
           "size": 18
          },
          "showarrow": false,
          "text": "<b>Monthly Gas Production (m<sup>3</sup>)</b>",
          "x": 0.5,
          "xanchor": "center",
          "xref": "paper",
          "y": 0.4075,
          "yanchor": "bottom",
          "yref": "paper"
         },
         {
          "font": {
           "size": 18
          },
          "showarrow": false,
          "text": "<b>Monthly Water Injection (m<sup>3</sup>)</b>",
          "x": 0.8555555555555556,
          "xanchor": "center",
          "xref": "paper",
          "y": 0.4075,
          "yanchor": "bottom",
          "yref": "paper"
         }
        ],
        "font": {
         "size": 14
        },
        "height": 810,
        "margin": {
         "t": 120
        },
        "template": {
         "data": {
          "bar": [
           {
            "error_x": {
             "color": "#2a3f5f"
            },
            "error_y": {
             "color": "#2a3f5f"
            },
            "marker": {
             "line": {
              "color": "#E5ECF6",
              "width": 0.5
             },
             "pattern": {
              "fillmode": "overlay",
              "size": 10,
              "solidity": 0.2
             }
            },
            "type": "bar"
           }
          ],
          "barpolar": [
           {
            "marker": {
             "line": {
              "color": "#E5ECF6",
              "width": 0.5
             },
             "pattern": {
              "fillmode": "overlay",
              "size": 10,
              "solidity": 0.2
             }
            },
            "type": "barpolar"
           }
          ],
          "carpet": [
           {
            "aaxis": {
             "endlinecolor": "#2a3f5f",
             "gridcolor": "white",
             "linecolor": "white",
             "minorgridcolor": "white",
             "startlinecolor": "#2a3f5f"
            },
            "baxis": {
             "endlinecolor": "#2a3f5f",
             "gridcolor": "white",
             "linecolor": "white",
             "minorgridcolor": "white",
             "startlinecolor": "#2a3f5f"
            },
            "type": "carpet"
           }
          ],
          "choropleth": [
           {
            "colorbar": {
             "outlinewidth": 0,
             "ticks": ""
            },
            "type": "choropleth"
           }
          ],
          "contour": [
           {
            "colorbar": {
             "outlinewidth": 0,
             "ticks": ""
            },
            "colorscale": [
             [
              0,
              "#0d0887"
             ],
             [
              0.1111111111111111,
              "#46039f"
             ],
             [
              0.2222222222222222,
              "#7201a8"
             ],
             [
              0.3333333333333333,
              "#9c179e"
             ],
             [
              0.4444444444444444,
              "#bd3786"
             ],
             [
              0.5555555555555556,
              "#d8576b"
             ],
             [
              0.6666666666666666,
              "#ed7953"
             ],
             [
              0.7777777777777778,
              "#fb9f3a"
             ],
             [
              0.8888888888888888,
              "#fdca26"
             ],
             [
              1,
              "#f0f921"
             ]
            ],
            "type": "contour"
           }
          ],
          "contourcarpet": [
           {
            "colorbar": {
             "outlinewidth": 0,
             "ticks": ""
            },
            "type": "contourcarpet"
           }
          ],
          "heatmap": [
           {
            "colorbar": {
             "outlinewidth": 0,
             "ticks": ""
            },
            "colorscale": [
             [
              0,
              "#0d0887"
             ],
             [
              0.1111111111111111,
              "#46039f"
             ],
             [
              0.2222222222222222,
              "#7201a8"
             ],
             [
              0.3333333333333333,
              "#9c179e"
             ],
             [
              0.4444444444444444,
              "#bd3786"
             ],
             [
              0.5555555555555556,
              "#d8576b"
             ],
             [
              0.6666666666666666,
              "#ed7953"
             ],
             [
              0.7777777777777778,
              "#fb9f3a"
             ],
             [
              0.8888888888888888,
              "#fdca26"
             ],
             [
              1,
              "#f0f921"
             ]
            ],
            "type": "heatmap"
           }
          ],
          "heatmapgl": [
           {
            "colorbar": {
             "outlinewidth": 0,
             "ticks": ""
            },
            "colorscale": [
             [
              0,
              "#0d0887"
             ],
             [
              0.1111111111111111,
              "#46039f"
             ],
             [
              0.2222222222222222,
              "#7201a8"
             ],
             [
              0.3333333333333333,
              "#9c179e"
             ],
             [
              0.4444444444444444,
              "#bd3786"
             ],
             [
              0.5555555555555556,
              "#d8576b"
             ],
             [
              0.6666666666666666,
              "#ed7953"
             ],
             [
              0.7777777777777778,
              "#fb9f3a"
             ],
             [
              0.8888888888888888,
              "#fdca26"
             ],
             [
              1,
              "#f0f921"
             ]
            ],
            "type": "heatmapgl"
           }
          ],
          "histogram": [
           {
            "marker": {
             "pattern": {
              "fillmode": "overlay",
              "size": 10,
              "solidity": 0.2
             }
            },
            "type": "histogram"
           }
          ],
          "histogram2d": [
           {
            "colorbar": {
             "outlinewidth": 0,
             "ticks": ""
            },
            "colorscale": [
             [
              0,
              "#0d0887"
             ],
             [
              0.1111111111111111,
              "#46039f"
             ],
             [
              0.2222222222222222,
              "#7201a8"
             ],
             [
              0.3333333333333333,
              "#9c179e"
             ],
             [
              0.4444444444444444,
              "#bd3786"
             ],
             [
              0.5555555555555556,
              "#d8576b"
             ],
             [
              0.6666666666666666,
              "#ed7953"
             ],
             [
              0.7777777777777778,
              "#fb9f3a"
             ],
             [
              0.8888888888888888,
              "#fdca26"
             ],
             [
              1,
              "#f0f921"
             ]
            ],
            "type": "histogram2d"
           }
          ],
          "histogram2dcontour": [
           {
            "colorbar": {
             "outlinewidth": 0,
             "ticks": ""
            },
            "colorscale": [
             [
              0,
              "#0d0887"
             ],
             [
              0.1111111111111111,
              "#46039f"
             ],
             [
              0.2222222222222222,
              "#7201a8"
             ],
             [
              0.3333333333333333,
              "#9c179e"
             ],
             [
              0.4444444444444444,
              "#bd3786"
             ],
             [
              0.5555555555555556,
              "#d8576b"
             ],
             [
              0.6666666666666666,
              "#ed7953"
             ],
             [
              0.7777777777777778,
              "#fb9f3a"
             ],
             [
              0.8888888888888888,
              "#fdca26"
             ],
             [
              1,
              "#f0f921"
             ]
            ],
            "type": "histogram2dcontour"
           }
          ],
          "mesh3d": [
           {
            "colorbar": {
             "outlinewidth": 0,
             "ticks": ""
            },
            "type": "mesh3d"
           }
          ],
          "parcoords": [
           {
            "line": {
             "colorbar": {
              "outlinewidth": 0,
              "ticks": ""
             }
            },
            "type": "parcoords"
           }
          ],
          "pie": [
           {
            "automargin": true,
            "type": "pie"
           }
          ],
          "scatter": [
           {
            "fillpattern": {
             "fillmode": "overlay",
             "size": 10,
             "solidity": 0.2
            },
            "type": "scatter"
           }
          ],
          "scatter3d": [
           {
            "line": {
             "colorbar": {
              "outlinewidth": 0,
              "ticks": ""
             }
            },
            "marker": {
             "colorbar": {
              "outlinewidth": 0,
              "ticks": ""
             }
            },
            "type": "scatter3d"
           }
          ],
          "scattercarpet": [
           {
            "marker": {
             "colorbar": {
              "outlinewidth": 0,
              "ticks": ""
             }
            },
            "type": "scattercarpet"
           }
          ],
          "scattergeo": [
           {
            "marker": {
             "colorbar": {
              "outlinewidth": 0,
              "ticks": ""
             }
            },
            "type": "scattergeo"
           }
          ],
          "scattergl": [
           {
            "marker": {
             "colorbar": {
              "outlinewidth": 0,
              "ticks": ""
             }
            },
            "type": "scattergl"
           }
          ],
          "scattermapbox": [
           {
            "marker": {
             "colorbar": {
              "outlinewidth": 0,
              "ticks": ""
             }
            },
            "type": "scattermapbox"
           }
          ],
          "scatterpolar": [
           {
            "marker": {
             "colorbar": {
              "outlinewidth": 0,
              "ticks": ""
             }
            },
            "type": "scatterpolar"
           }
          ],
          "scatterpolargl": [
           {
            "marker": {
             "colorbar": {
              "outlinewidth": 0,
              "ticks": ""
             }
            },
            "type": "scatterpolargl"
           }
          ],
          "scatterternary": [
           {
            "marker": {
             "colorbar": {
              "outlinewidth": 0,
              "ticks": ""
             }
            },
            "type": "scatterternary"
           }
          ],
          "surface": [
           {
            "colorbar": {
             "outlinewidth": 0,
             "ticks": ""
            },
            "colorscale": [
             [
              0,
              "#0d0887"
             ],
             [
              0.1111111111111111,
              "#46039f"
             ],
             [
              0.2222222222222222,
              "#7201a8"
             ],
             [
              0.3333333333333333,
              "#9c179e"
             ],
             [
              0.4444444444444444,
              "#bd3786"
             ],
             [
              0.5555555555555556,
              "#d8576b"
             ],
             [
              0.6666666666666666,
              "#ed7953"
             ],
             [
              0.7777777777777778,
              "#fb9f3a"
             ],
             [
              0.8888888888888888,
              "#fdca26"
             ],
             [
              1,
              "#f0f921"
             ]
            ],
            "type": "surface"
           }
          ],
          "table": [
           {
            "cells": {
             "fill": {
              "color": "#EBF0F8"
             },
             "line": {
              "color": "white"
             }
            },
            "header": {
             "fill": {
              "color": "#C8D4E3"
             },
             "line": {
              "color": "white"
             }
            },
            "type": "table"
           }
          ]
         },
         "layout": {
          "annotationdefaults": {
           "arrowcolor": "#2a3f5f",
           "arrowhead": 0,
           "arrowwidth": 1
          },
          "autotypenumbers": "strict",
          "coloraxis": {
           "colorbar": {
            "outlinewidth": 0,
            "ticks": ""
           }
          },
          "colorscale": {
           "diverging": [
            [
             0,
             "#8e0152"
            ],
            [
             0.1,
             "#c51b7d"
            ],
            [
             0.2,
             "#de77ae"
            ],
            [
             0.3,
             "#f1b6da"
            ],
            [
             0.4,
             "#fde0ef"
            ],
            [
             0.5,
             "#f7f7f7"
            ],
            [
             0.6,
             "#e6f5d0"
            ],
            [
             0.7,
             "#b8e186"
            ],
            [
             0.8,
             "#7fbc41"
            ],
            [
             0.9,
             "#4d9221"
            ],
            [
             1,
             "#276419"
            ]
           ],
           "sequential": [
            [
             0,
             "#0d0887"
            ],
            [
             0.1111111111111111,
             "#46039f"
            ],
            [
             0.2222222222222222,
             "#7201a8"
            ],
            [
             0.3333333333333333,
             "#9c179e"
            ],
            [
             0.4444444444444444,
             "#bd3786"
            ],
            [
             0.5555555555555556,
             "#d8576b"
            ],
            [
             0.6666666666666666,
             "#ed7953"
            ],
            [
             0.7777777777777778,
             "#fb9f3a"
            ],
            [
             0.8888888888888888,
             "#fdca26"
            ],
            [
             1,
             "#f0f921"
            ]
           ],
           "sequentialminus": [
            [
             0,
             "#0d0887"
            ],
            [
             0.1111111111111111,
             "#46039f"
            ],
            [
             0.2222222222222222,
             "#7201a8"
            ],
            [
             0.3333333333333333,
             "#9c179e"
            ],
            [
             0.4444444444444444,
             "#bd3786"
            ],
            [
             0.5555555555555556,
             "#d8576b"
            ],
            [
             0.6666666666666666,
             "#ed7953"
            ],
            [
             0.7777777777777778,
             "#fb9f3a"
            ],
            [
             0.8888888888888888,
             "#fdca26"
            ],
            [
             1,
             "#f0f921"
            ]
           ]
          },
          "colorway": [
           "#636efa",
           "#EF553B",
           "#00cc96",
           "#ab63fa",
           "#FFA15A",
           "#19d3f3",
           "#FF6692",
           "#B6E880",
           "#FF97FF",
           "#FECB52"
          ],
          "font": {
           "color": "#2a3f5f"
          },
          "geo": {
           "bgcolor": "white",
           "lakecolor": "white",
           "landcolor": "#E5ECF6",
           "showlakes": true,
           "showland": true,
           "subunitcolor": "white"
          },
          "hoverlabel": {
           "align": "left"
          },
          "hovermode": "closest",
          "mapbox": {
           "style": "light"
          },
          "paper_bgcolor": "white",
          "plot_bgcolor": "#E5ECF6",
          "polar": {
           "angularaxis": {
            "gridcolor": "white",
            "linecolor": "white",
            "ticks": ""
           },
           "bgcolor": "#E5ECF6",
           "radialaxis": {
            "gridcolor": "white",
            "linecolor": "white",
            "ticks": ""
           }
          },
          "scene": {
           "xaxis": {
            "backgroundcolor": "#E5ECF6",
            "gridcolor": "white",
            "gridwidth": 2,
            "linecolor": "white",
            "showbackground": true,
            "ticks": "",
            "zerolinecolor": "white"
           },
           "yaxis": {
            "backgroundcolor": "#E5ECF6",
            "gridcolor": "white",
            "gridwidth": 2,
            "linecolor": "white",
            "showbackground": true,
            "ticks": "",
            "zerolinecolor": "white"
           },
           "zaxis": {
            "backgroundcolor": "#E5ECF6",
            "gridcolor": "white",
            "gridwidth": 2,
            "linecolor": "white",
            "showbackground": true,
            "ticks": "",
            "zerolinecolor": "white"
           }
          },
          "shapedefaults": {
           "line": {
            "color": "#2a3f5f"
           }
          },
          "ternary": {
           "aaxis": {
            "gridcolor": "white",
            "linecolor": "white",
            "ticks": ""
           },
           "baxis": {
            "gridcolor": "white",
            "linecolor": "white",
            "ticks": ""
           },
           "bgcolor": "#E5ECF6",
           "caxis": {
            "gridcolor": "white",
            "linecolor": "white",
            "ticks": ""
           }
          },
          "title": {
           "x": 0.05
          },
          "xaxis": {
           "automargin": true,
           "gridcolor": "white",
           "linecolor": "white",
           "ticks": "",
           "title": {
            "standoff": 15
           },
           "zerolinecolor": "white",
           "zerolinewidth": 2
          },
          "yaxis": {
           "automargin": true,
           "gridcolor": "white",
           "linecolor": "white",
           "ticks": "",
           "title": {
            "standoff": 15
           },
           "zerolinecolor": "white",
           "zerolinewidth": 2
          }
         }
        },
        "title": {
         "font": {
          "size": 20
         },
         "text": "<b>Wellbore 15/9-F-5</b>"
        },
        "xaxis": {
         "anchor": "y",
         "domain": [
          0,
          0.2888888888888889
         ],
         "tickmode": "array",
         "tickvals": [
          2007,
          2008,
          2009,
          2010,
          2011,
          2012,
          2013,
          2014,
          2015,
          2016
         ],
         "title": {
          "text": "Year"
         }
        },
        "xaxis2": {
         "anchor": "y2",
         "domain": [
          0.35555555555555557,
          0.6444444444444445
         ],
         "tickmode": "array",
         "tickvals": [
          2007,
          2008,
          2009,
          2010,
          2011,
          2012,
          2013,
          2014,
          2015,
          2016
         ],
         "title": {
          "text": "Year"
         }
        },
        "xaxis3": {
         "anchor": "y3",
         "domain": [
          0.7111111111111111,
          1
         ],
         "tickmode": "array",
         "tickvals": [
          2007,
          2008,
          2009,
          2010,
          2011,
          2012,
          2013,
          2014,
          2015,
          2016
         ],
         "title": {
          "text": "Year"
         }
        },
        "xaxis4": {
         "anchor": "y4",
         "domain": [
          0,
          0.2888888888888889
         ],
         "tickmode": "array",
         "tickvals": [
          2007,
          2008,
          2009,
          2010,
          2011,
          2012,
          2013,
          2014,
          2015,
          2016
         ],
         "title": {
          "text": "Year"
         }
        },
        "xaxis5": {
         "anchor": "y5",
         "domain": [
          0.35555555555555557,
          0.6444444444444445
         ],
         "tickmode": "array",
         "tickvals": [
          2007,
          2008,
          2009,
          2010,
          2011,
          2012,
          2013,
          2014,
          2015,
          2016
         ],
         "title": {
          "text": "Year"
         }
        },
        "xaxis6": {
         "anchor": "y6",
         "domain": [
          0.7111111111111111,
          1
         ],
         "tickmode": "array",
         "tickvals": [
          2007,
          2008,
          2009,
          2010,
          2011,
          2012,
          2013,
          2014,
          2015,
          2016
         ],
         "title": {
          "text": "Year"
         }
        },
        "yaxis": {
         "anchor": "x",
         "domain": [
          0.5925,
          1
         ],
         "title": {
          "standoff": 3,
          "text": "Oil Volume"
         }
        },
        "yaxis2": {
         "anchor": "x2",
         "domain": [
          0.5925,
          1
         ],
         "title": {
          "standoff": 3,
          "text": "Gas Volume"
         }
        },
        "yaxis3": {
         "anchor": "x3",
         "domain": [
          0.5925,
          1
         ],
         "title": {
          "standoff": 3,
          "text": "Water Volume"
         }
        },
        "yaxis4": {
         "anchor": "x4",
         "autorange": "reversed",
         "domain": [
          0,
          0.4075
         ],
         "title": {
          "standoff": 3,
          "text": "Month"
         }
        },
        "yaxis5": {
         "anchor": "x5",
         "autorange": "reversed",
         "domain": [
          0,
          0.4075
         ],
         "title": {
          "standoff": 3,
          "text": "Month"
         }
        },
        "yaxis6": {
         "anchor": "x6",
         "autorange": "reversed",
         "domain": [
          0,
          0.4075
         ],
         "title": {
          "standoff": 3,
          "text": "Month"
         }
        }
       }
      }
     },
     "metadata": {},
     "output_type": "display_data"
    }
   ],
   "source": [
    "analyze_wellbore(volve_df, \"15/9-F-5\")"
   ]
  },
  {
   "cell_type": "markdown",
   "metadata": {},
   "source": [
    "[Back to Top](#analysis-and-visualization)"
   ]
  },
  {
   "cell_type": "markdown",
   "metadata": {},
   "source": [
    "## Chronology of Events\n",
    "\n",
    "### 2008\n",
    "- **Feb:** Beginning of hydrocarbon production from the wellbore `15/9-F-12` <br><br>\n",
    "- **Apr:** Beginning of secondary recovery via water injection from the wellbore `15/9-F-4` <br><br>\n",
    "- **Jul:** The wellbore `15/9-F-14` started producing hydrocarbons <br><br>\n",
    "- **Aug:** Introduction of the wellbore `15/9-F-5` to aid in water injection <br><br>\n",
    "\n",
    "### 2012\n",
    "- **Aug - Sep:** The field was temporarily shut down due to an anchor line repair. There is a noticeable decrease in hydrocarbon production and water injection for the wellbores `F12`, `F14`, `F4`, and `F5`. <br><br>\n",
    "\n",
    "### 2013\n",
    "- **Jul**: The wellbore `15/9-F-11` started producing hydrocarbons (*New wellbore*) <br><br>\n",
    "\n",
    "### 2014\n",
    "- **Jan:** The wellbore `15/9-F-15 D` started producing hydrocarbons (*New wellbore*) <br><br>\n",
    "- **Apr:** The wellbore `15/9-F-1 C` started producing hydrocarbons (*New wellbore*) <br><br>\n",
    "- **Dec:** Interruption of operations for the wellbores `15/9-F-12` and `15/9-F-15 D` (*Why?*) <br><br>\n",
    "\n",
    "### 2015\n",
    "- **Jan:** Production operations re-started for the wellbores `15/9-F-12` and `15/9-F-15 D` <br><br>\n",
    "\n",
    "### 2016\n",
    "- **Apr:** End of operations for the wellbore `15/9-F-1 C` <br><br>\n",
    "- **Jul:** End of operations for the wellbores `15/9-F-14` and `15/9-F-15 D` <br><br>\n",
    "- **Aug:** End of operations for the wellbores `15/9-F-12` and `15/9-F-5` <br><br>\n",
    "- **Sep:** End of operations for the wellbores `15/9-F-4` and `15/9-F-11` (*Abandonment of the field*) <br><br>"
   ]
  },
  {
   "cell_type": "code",
   "execution_count": null,
   "metadata": {},
   "outputs": [],
   "source": []
  },
  {
   "cell_type": "code",
   "execution_count": null,
   "metadata": {},
   "outputs": [],
   "source": []
  },
  {
   "cell_type": "code",
   "execution_count": null,
   "metadata": {},
   "outputs": [],
   "source": []
  }
 ],
 "metadata": {
  "kernelspec": {
   "display_name": "Python 3",
   "language": "python",
   "name": "python3"
  },
  "language_info": {
   "codemirror_mode": {
    "name": "ipython",
    "version": 3
   },
   "file_extension": ".py",
   "mimetype": "text/x-python",
   "name": "python",
   "nbconvert_exporter": "python",
   "pygments_lexer": "ipython3",
   "version": "3.11.1"
  }
 },
 "nbformat": 4,
 "nbformat_minor": 2
}
