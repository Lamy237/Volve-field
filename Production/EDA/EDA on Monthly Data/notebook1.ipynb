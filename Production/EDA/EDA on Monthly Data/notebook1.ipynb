{
 "cells": [
  {
   "attachments": {},
   "cell_type": "markdown",
   "metadata": {},
   "source": [
    "# Discover the dataset [<svg height=\"1.5rem\" width=\"1.5rem\" fill=\"currentColor\" viewBox=\"0 0 16 16\" aria-hidden=\"true\" xmlns=\"http://www.w3.org/2000/svg\" class=\"Icon__StyledSvg-sc-6evbi1-0\"><path data-testid=\"eds-icon-path\" d=\"M5 3c-1.093 0-2 .907-2 2v14c0 1.093.907 2 2 2h14c1.093 0 2-.907 2-2v-7h-2v7H5V5h7V3H5Zm9 0v2h3.586l-9.293 9.293 1.414 1.414L19 6.414V10h2V3h-7Z\" height=\"24\" fill-rule=\"evenodd\" clip-rule=\"evenodd\" transform=\"scale(0.6666666666666666)\" class=\"Icon__StyledPath-sc-6evbi1-1 jzkZsK\"></path></svg>]()\n",
    "\n",
    "### About the dataset\n",
    "In June 2018, the Norwegian Oil & Gas company **Equinor** announced that they would be sharing a complete set of data from the Norwegian continental shelf for research and study purposes, thus granting all academic institutions, students, and researchers permission to use this dataset in accordance with the [Equinor Open Data Licence](https://cdn.equinor.com/files/h61q9gi9/global/de6532f6134b9a953f6c41bac47a0c055a3712d3.pdf?equinor-hrs-terms-and-conditions-for-licence-to-data-volve.pdf), without any need for further written permission.\n",
    "\n",
    "The Volve production data was released in the form of an excel file made up of two (02) sheets, namely **Daily Production Data** and **Monthly Production Data**.\n",
    "\n",
    "## Key points about the industry\n",
    "\n",
    "### Definitions\n",
    "\n",
    "**Wellbore**: is a hole that is drilled to aid in the exploration and recovery of natural resources, including oil, gas, or water.\n",
    "\n",
    "**Hydrocarbons**: is a term generally used to designate oil and gas.\n",
    "\n",
    "### Important notes\n",
    "\n",
    "In the Oil & Gas industry, when a wellbore starts producing hydrocarbons, the amount of pressure required to move the hydrocarbons from the reservoir to the surface is provided by natural forces, also known as [natural drive mechanisms](https://wiki.aapg.org/Reservoir_drive_mechanisms).\n",
    "\n",
    "However, these forces get depleted with time and become insufficient to drive the hydrocarbons to the surface. To tackle this problem, [secondary recovery methods](https://www.britannica.com/technology/petroleum-production/Recovery-of-oil-and-gas#ref623983) were introduced, which consist of injecting water or gas to displace the hydrocarbons and drive them through a production wellbore to the surface."
   ]
  },
  {
   "cell_type": "code",
   "execution_count": 1,
   "metadata": {},
   "outputs": [],
   "source": [
    "import pandas as pd"
   ]
  },
  {
   "cell_type": "code",
   "execution_count": 2,
   "metadata": {},
   "outputs": [],
   "source": [
    "volve_df = pd.read_excel(io=\"../../Data/raw-data/Volve production data.xlsx\", sheet_name=\"Monthly Production Data\")"
   ]
  },
  {
   "cell_type": "code",
   "execution_count": 3,
   "metadata": {},
   "outputs": [
    {
     "data": {
      "text/html": [
       "<div>\n",
       "<style scoped>\n",
       "    .dataframe tbody tr th:only-of-type {\n",
       "        vertical-align: middle;\n",
       "    }\n",
       "\n",
       "    .dataframe tbody tr th {\n",
       "        vertical-align: top;\n",
       "    }\n",
       "\n",
       "    .dataframe thead th {\n",
       "        text-align: right;\n",
       "    }\n",
       "</style>\n",
       "<table border=\"1\" class=\"dataframe\">\n",
       "  <thead>\n",
       "    <tr style=\"text-align: right;\">\n",
       "      <th></th>\n",
       "      <th>Wellbore name</th>\n",
       "      <th>NPDCode</th>\n",
       "      <th>Year</th>\n",
       "      <th>Month</th>\n",
       "      <th>On Stream</th>\n",
       "      <th>Oil</th>\n",
       "      <th>Gas</th>\n",
       "      <th>Water</th>\n",
       "      <th>GI</th>\n",
       "      <th>WI</th>\n",
       "    </tr>\n",
       "  </thead>\n",
       "  <tbody>\n",
       "    <tr>\n",
       "      <th>0</th>\n",
       "      <td>NaN</td>\n",
       "      <td>NaN</td>\n",
       "      <td>NaN</td>\n",
       "      <td>NaN</td>\n",
       "      <td>hrs</td>\n",
       "      <td>Sm3</td>\n",
       "      <td>Sm3</td>\n",
       "      <td>Sm3</td>\n",
       "      <td>Sm3</td>\n",
       "      <td>Sm3</td>\n",
       "    </tr>\n",
       "    <tr>\n",
       "      <th>1</th>\n",
       "      <td>15/9-F-1 C</td>\n",
       "      <td>7405.0</td>\n",
       "      <td>2014.0</td>\n",
       "      <td>4.0</td>\n",
       "      <td>227.5</td>\n",
       "      <td>11142.47</td>\n",
       "      <td>1597936.65</td>\n",
       "      <td>0</td>\n",
       "      <td>NaN</td>\n",
       "      <td>NaN</td>\n",
       "    </tr>\n",
       "    <tr>\n",
       "      <th>2</th>\n",
       "      <td>15/9-F-1 C</td>\n",
       "      <td>7405.0</td>\n",
       "      <td>2014.0</td>\n",
       "      <td>5.0</td>\n",
       "      <td>733.83334</td>\n",
       "      <td>24901.95</td>\n",
       "      <td>3496229.65</td>\n",
       "      <td>783.48</td>\n",
       "      <td>NaN</td>\n",
       "      <td>NaN</td>\n",
       "    </tr>\n",
       "    <tr>\n",
       "      <th>3</th>\n",
       "      <td>15/9-F-1 C</td>\n",
       "      <td>7405.0</td>\n",
       "      <td>2014.0</td>\n",
       "      <td>6.0</td>\n",
       "      <td>705.91666</td>\n",
       "      <td>19617.76</td>\n",
       "      <td>2886661.69</td>\n",
       "      <td>2068.48</td>\n",
       "      <td>NaN</td>\n",
       "      <td>NaN</td>\n",
       "    </tr>\n",
       "    <tr>\n",
       "      <th>4</th>\n",
       "      <td>15/9-F-1 C</td>\n",
       "      <td>7405.0</td>\n",
       "      <td>2014.0</td>\n",
       "      <td>7.0</td>\n",
       "      <td>742.41666</td>\n",
       "      <td>15085.68</td>\n",
       "      <td>2249365.75</td>\n",
       "      <td>6243.98</td>\n",
       "      <td>NaN</td>\n",
       "      <td>NaN</td>\n",
       "    </tr>\n",
       "    <tr>\n",
       "      <th>...</th>\n",
       "      <td>...</td>\n",
       "      <td>...</td>\n",
       "      <td>...</td>\n",
       "      <td>...</td>\n",
       "      <td>...</td>\n",
       "      <td>...</td>\n",
       "      <td>...</td>\n",
       "      <td>...</td>\n",
       "      <td>...</td>\n",
       "      <td>...</td>\n",
       "    </tr>\n",
       "    <tr>\n",
       "      <th>522</th>\n",
       "      <td>15/9-F-5</td>\n",
       "      <td>5769.0</td>\n",
       "      <td>2016.0</td>\n",
       "      <td>5.0</td>\n",
       "      <td>732</td>\n",
       "      <td>9724.4</td>\n",
       "      <td>1534677.16</td>\n",
       "      <td>3949.9</td>\n",
       "      <td>NaN</td>\n",
       "      <td>0</td>\n",
       "    </tr>\n",
       "    <tr>\n",
       "      <th>523</th>\n",
       "      <td>15/9-F-5</td>\n",
       "      <td>5769.0</td>\n",
       "      <td>2016.0</td>\n",
       "      <td>6.0</td>\n",
       "      <td>718.41667</td>\n",
       "      <td>9121.48</td>\n",
       "      <td>1468557.12</td>\n",
       "      <td>2376.93</td>\n",
       "      <td>NaN</td>\n",
       "      <td>NaN</td>\n",
       "    </tr>\n",
       "    <tr>\n",
       "      <th>524</th>\n",
       "      <td>15/9-F-5</td>\n",
       "      <td>5769.0</td>\n",
       "      <td>2016.0</td>\n",
       "      <td>7.0</td>\n",
       "      <td>668.64168</td>\n",
       "      <td>9985.29</td>\n",
       "      <td>1602674.39</td>\n",
       "      <td>2453.71</td>\n",
       "      <td>NaN</td>\n",
       "      <td>0</td>\n",
       "    </tr>\n",
       "    <tr>\n",
       "      <th>525</th>\n",
       "      <td>15/9-F-5</td>\n",
       "      <td>5769.0</td>\n",
       "      <td>2016.0</td>\n",
       "      <td>8.0</td>\n",
       "      <td>608.425</td>\n",
       "      <td>8928.9</td>\n",
       "      <td>1417278.51</td>\n",
       "      <td>2371.86</td>\n",
       "      <td>NaN</td>\n",
       "      <td>0</td>\n",
       "    </tr>\n",
       "    <tr>\n",
       "      <th>526</th>\n",
       "      <td>15/9-F-5</td>\n",
       "      <td>5769.0</td>\n",
       "      <td>2016.0</td>\n",
       "      <td>9.0</td>\n",
       "      <td>0</td>\n",
       "      <td>0</td>\n",
       "      <td>0</td>\n",
       "      <td>0</td>\n",
       "      <td>NaN</td>\n",
       "      <td>0</td>\n",
       "    </tr>\n",
       "  </tbody>\n",
       "</table>\n",
       "<p>527 rows × 10 columns</p>\n",
       "</div>"
      ],
      "text/plain": [
       "    Wellbore name  NPDCode    Year  Month  On Stream       Oil         Gas  \\\n",
       "0             NaN      NaN     NaN    NaN        hrs       Sm3         Sm3   \n",
       "1      15/9-F-1 C   7405.0  2014.0    4.0      227.5  11142.47  1597936.65   \n",
       "2      15/9-F-1 C   7405.0  2014.0    5.0  733.83334  24901.95  3496229.65   \n",
       "3      15/9-F-1 C   7405.0  2014.0    6.0  705.91666  19617.76  2886661.69   \n",
       "4      15/9-F-1 C   7405.0  2014.0    7.0  742.41666  15085.68  2249365.75   \n",
       "..            ...      ...     ...    ...        ...       ...         ...   \n",
       "522      15/9-F-5   5769.0  2016.0    5.0        732    9724.4  1534677.16   \n",
       "523      15/9-F-5   5769.0  2016.0    6.0  718.41667   9121.48  1468557.12   \n",
       "524      15/9-F-5   5769.0  2016.0    7.0  668.64168   9985.29  1602674.39   \n",
       "525      15/9-F-5   5769.0  2016.0    8.0    608.425    8928.9  1417278.51   \n",
       "526      15/9-F-5   5769.0  2016.0    9.0          0         0           0   \n",
       "\n",
       "       Water   GI   WI  \n",
       "0        Sm3  Sm3  Sm3  \n",
       "1          0  NaN  NaN  \n",
       "2     783.48  NaN  NaN  \n",
       "3    2068.48  NaN  NaN  \n",
       "4    6243.98  NaN  NaN  \n",
       "..       ...  ...  ...  \n",
       "522   3949.9  NaN    0  \n",
       "523  2376.93  NaN  NaN  \n",
       "524  2453.71  NaN    0  \n",
       "525  2371.86  NaN    0  \n",
       "526        0  NaN    0  \n",
       "\n",
       "[527 rows x 10 columns]"
      ]
     },
     "execution_count": 3,
     "metadata": {},
     "output_type": "execute_result"
    }
   ],
   "source": [
    "volve_df"
   ]
  },
  {
   "attachments": {},
   "cell_type": "markdown",
   "metadata": {},
   "source": [
    "## Questions and Answers\n",
    "\n",
    "### What is the dataset about?\n",
    "\n",
    "- The dataset provides hydrocarbon production data from the Volve field in Norway.\n",
    "\n",
    "### What does each column tell us about?\n",
    "\n",
    "|Column        | Information                                           | Unit        |\n",
    "|:-------------|:-----------------------------------------------------:|------------:|\n",
    "|Wellbore name | The name of the wellbore                              | NA          |\n",
    "|NPDCode       | Norwegian Petroleum Directorate Code                  | NA          |\n",
    "|Year          | The year of record                                    | NA          |\n",
    "|Month         | The month of record                                   | NA          |\n",
    "|On Stream     | The duration of a wellbore in operation               | hours       |\n",
    "|Oil           | The Volume of oil produced                            | cubic meters|\n",
    "|Gas           | The Volume of gas produced                            | cubic meters|\n",
    "|Water         | The Volume of water produced                          | cubic meters|\n",
    "|GI            | The Volume of gas injected during secondary recovery  | cubic meters|\n",
    "|WI            | The Volume of water injected during secondary recovery| cubic meters|"
   ]
  },
  {
   "cell_type": "code",
   "execution_count": 4,
   "metadata": {},
   "outputs": [
    {
     "data": {
      "text/plain": [
       "Wellbore name     object\n",
       "NPDCode          float64\n",
       "Year             float64\n",
       "Month            float64\n",
       "On Stream         object\n",
       "Oil               object\n",
       "Gas               object\n",
       "Water             object\n",
       "GI                object\n",
       "WI                object\n",
       "dtype: object"
      ]
     },
     "execution_count": 4,
     "metadata": {},
     "output_type": "execute_result"
    }
   ],
   "source": [
    "volve_df.dtypes"
   ]
  },
  {
   "attachments": {},
   "cell_type": "markdown",
   "metadata": {},
   "source": [
    "## Questions and Answers\n",
    "\n",
    "### Which of the available columns are correctly formatted?\n",
    "- The column `Wellbore name` is the only one in a correct format.\n",
    "\n",
    "### Which of the available columns require type conversion?\n",
    "- `NPDCode`, `Year`, `Month`: float ->  int\n",
    "- `On Stream`, `Oil`, `Gas`, `Water`, `GI`, `WI`: object -> float\n",
    "\n",
    "Let's try to transform our data columns into appropriate data types."
   ]
  },
  {
   "cell_type": "code",
   "execution_count": 5,
   "metadata": {},
   "outputs": [
    {
     "ename": "IntCastingNaNError",
     "evalue": "Cannot convert non-finite values (NA or inf) to integer",
     "output_type": "error",
     "traceback": [
      "\u001b[1;31m---------------------------------------------------------------------------\u001b[0m",
      "\u001b[1;31mIntCastingNaNError\u001b[0m                        Traceback (most recent call last)",
      "Cell \u001b[1;32mIn[5], line 1\u001b[0m\n\u001b[1;32m----> 1\u001b[0m volve_df[[\u001b[38;5;124m\"\u001b[39m\u001b[38;5;124mNPDCode\u001b[39m\u001b[38;5;124m\"\u001b[39m, \u001b[38;5;124m\"\u001b[39m\u001b[38;5;124mYear\u001b[39m\u001b[38;5;124m\"\u001b[39m, \u001b[38;5;124m\"\u001b[39m\u001b[38;5;124mMonth\u001b[39m\u001b[38;5;124m\"\u001b[39m]] \u001b[38;5;241m=\u001b[39m \u001b[43mvolve_df\u001b[49m\u001b[43m[\u001b[49m\u001b[43m[\u001b[49m\u001b[38;5;124;43m\"\u001b[39;49m\u001b[38;5;124;43mNPDCode\u001b[39;49m\u001b[38;5;124;43m\"\u001b[39;49m\u001b[43m,\u001b[49m\u001b[43m \u001b[49m\u001b[38;5;124;43m\"\u001b[39;49m\u001b[38;5;124;43mYear\u001b[39;49m\u001b[38;5;124;43m\"\u001b[39;49m\u001b[43m,\u001b[49m\u001b[43m \u001b[49m\u001b[38;5;124;43m\"\u001b[39;49m\u001b[38;5;124;43mMonth\u001b[39;49m\u001b[38;5;124;43m\"\u001b[39;49m\u001b[43m]\u001b[49m\u001b[43m]\u001b[49m\u001b[38;5;241;43m.\u001b[39;49m\u001b[43mastype\u001b[49m\u001b[43m(\u001b[49m\u001b[38;5;28;43mint\u001b[39;49m\u001b[43m)\u001b[49m\n\u001b[0;32m      2\u001b[0m volve_df[[\u001b[38;5;124m\"\u001b[39m\u001b[38;5;124mOn Stream\u001b[39m\u001b[38;5;124m\"\u001b[39m, \u001b[38;5;124m\"\u001b[39m\u001b[38;5;124mOil\u001b[39m\u001b[38;5;124m\"\u001b[39m, \u001b[38;5;124m\"\u001b[39m\u001b[38;5;124mGas\u001b[39m\u001b[38;5;124m\"\u001b[39m, \u001b[38;5;124m\"\u001b[39m\u001b[38;5;124mWater\u001b[39m\u001b[38;5;124m\"\u001b[39m, \u001b[38;5;124m\"\u001b[39m\u001b[38;5;124mWI\u001b[39m\u001b[38;5;124m\"\u001b[39m, \u001b[38;5;124m\"\u001b[39m\u001b[38;5;124mGI\u001b[39m\u001b[38;5;124m\"\u001b[39m]] \u001b[38;5;241m=\u001b[39m volve_df[[\u001b[38;5;124m\"\u001b[39m\u001b[38;5;124mOn Stream\u001b[39m\u001b[38;5;124m\"\u001b[39m, \u001b[38;5;124m\"\u001b[39m\u001b[38;5;124mOil\u001b[39m\u001b[38;5;124m\"\u001b[39m, \u001b[38;5;124m\"\u001b[39m\u001b[38;5;124mGas\u001b[39m\u001b[38;5;124m\"\u001b[39m, \u001b[38;5;124m\"\u001b[39m\u001b[38;5;124mWater\u001b[39m\u001b[38;5;124m\"\u001b[39m, \u001b[38;5;124m\"\u001b[39m\u001b[38;5;124mWI\u001b[39m\u001b[38;5;124m\"\u001b[39m, \u001b[38;5;124m\"\u001b[39m\u001b[38;5;124mGI\u001b[39m\u001b[38;5;124m\"\u001b[39m]]\u001b[38;5;241m.\u001b[39mastype(\u001b[38;5;28mfloat\u001b[39m)\n",
      "File \u001b[1;32mc:\\Users\\show\\AppData\\Local\\Programs\\Python\\Python311\\Lib\\site-packages\\pandas\\core\\generic.py:6637\u001b[0m, in \u001b[0;36mNDFrame.astype\u001b[1;34m(self, dtype, copy, errors)\u001b[0m\n\u001b[0;32m   6631\u001b[0m     results \u001b[38;5;241m=\u001b[39m [\n\u001b[0;32m   6632\u001b[0m         ser\u001b[38;5;241m.\u001b[39mastype(dtype, copy\u001b[38;5;241m=\u001b[39mcopy, errors\u001b[38;5;241m=\u001b[39merrors) \u001b[38;5;28;01mfor\u001b[39;00m _, ser \u001b[38;5;129;01min\u001b[39;00m \u001b[38;5;28mself\u001b[39m\u001b[38;5;241m.\u001b[39mitems()\n\u001b[0;32m   6633\u001b[0m     ]\n\u001b[0;32m   6635\u001b[0m \u001b[38;5;28;01melse\u001b[39;00m:\n\u001b[0;32m   6636\u001b[0m     \u001b[38;5;66;03m# else, only a single dtype is given\u001b[39;00m\n\u001b[1;32m-> 6637\u001b[0m     new_data \u001b[38;5;241m=\u001b[39m \u001b[38;5;28;43mself\u001b[39;49m\u001b[38;5;241;43m.\u001b[39;49m\u001b[43m_mgr\u001b[49m\u001b[38;5;241;43m.\u001b[39;49m\u001b[43mastype\u001b[49m\u001b[43m(\u001b[49m\u001b[43mdtype\u001b[49m\u001b[38;5;241;43m=\u001b[39;49m\u001b[43mdtype\u001b[49m\u001b[43m,\u001b[49m\u001b[43m \u001b[49m\u001b[43mcopy\u001b[49m\u001b[38;5;241;43m=\u001b[39;49m\u001b[43mcopy\u001b[49m\u001b[43m,\u001b[49m\u001b[43m \u001b[49m\u001b[43merrors\u001b[49m\u001b[38;5;241;43m=\u001b[39;49m\u001b[43merrors\u001b[49m\u001b[43m)\u001b[49m\n\u001b[0;32m   6638\u001b[0m     res \u001b[38;5;241m=\u001b[39m \u001b[38;5;28mself\u001b[39m\u001b[38;5;241m.\u001b[39m_constructor_from_mgr(new_data, axes\u001b[38;5;241m=\u001b[39mnew_data\u001b[38;5;241m.\u001b[39maxes)\n\u001b[0;32m   6639\u001b[0m     \u001b[38;5;28;01mreturn\u001b[39;00m res\u001b[38;5;241m.\u001b[39m__finalize__(\u001b[38;5;28mself\u001b[39m, method\u001b[38;5;241m=\u001b[39m\u001b[38;5;124m\"\u001b[39m\u001b[38;5;124mastype\u001b[39m\u001b[38;5;124m\"\u001b[39m)\n",
      "File \u001b[1;32mc:\\Users\\show\\AppData\\Local\\Programs\\Python\\Python311\\Lib\\site-packages\\pandas\\core\\internals\\managers.py:431\u001b[0m, in \u001b[0;36mBaseBlockManager.astype\u001b[1;34m(self, dtype, copy, errors)\u001b[0m\n\u001b[0;32m    428\u001b[0m \u001b[38;5;28;01melif\u001b[39;00m using_copy_on_write():\n\u001b[0;32m    429\u001b[0m     copy \u001b[38;5;241m=\u001b[39m \u001b[38;5;28;01mFalse\u001b[39;00m\n\u001b[1;32m--> 431\u001b[0m \u001b[38;5;28;01mreturn\u001b[39;00m \u001b[38;5;28;43mself\u001b[39;49m\u001b[38;5;241;43m.\u001b[39;49m\u001b[43mapply\u001b[49m\u001b[43m(\u001b[49m\n\u001b[0;32m    432\u001b[0m \u001b[43m    \u001b[49m\u001b[38;5;124;43m\"\u001b[39;49m\u001b[38;5;124;43mastype\u001b[39;49m\u001b[38;5;124;43m\"\u001b[39;49m\u001b[43m,\u001b[49m\n\u001b[0;32m    433\u001b[0m \u001b[43m    \u001b[49m\u001b[43mdtype\u001b[49m\u001b[38;5;241;43m=\u001b[39;49m\u001b[43mdtype\u001b[49m\u001b[43m,\u001b[49m\n\u001b[0;32m    434\u001b[0m \u001b[43m    \u001b[49m\u001b[43mcopy\u001b[49m\u001b[38;5;241;43m=\u001b[39;49m\u001b[43mcopy\u001b[49m\u001b[43m,\u001b[49m\n\u001b[0;32m    435\u001b[0m \u001b[43m    \u001b[49m\u001b[43merrors\u001b[49m\u001b[38;5;241;43m=\u001b[39;49m\u001b[43merrors\u001b[49m\u001b[43m,\u001b[49m\n\u001b[0;32m    436\u001b[0m \u001b[43m    \u001b[49m\u001b[43musing_cow\u001b[49m\u001b[38;5;241;43m=\u001b[39;49m\u001b[43musing_copy_on_write\u001b[49m\u001b[43m(\u001b[49m\u001b[43m)\u001b[49m\u001b[43m,\u001b[49m\n\u001b[0;32m    437\u001b[0m \u001b[43m\u001b[49m\u001b[43m)\u001b[49m\n",
      "File \u001b[1;32mc:\\Users\\show\\AppData\\Local\\Programs\\Python\\Python311\\Lib\\site-packages\\pandas\\core\\internals\\managers.py:364\u001b[0m, in \u001b[0;36mBaseBlockManager.apply\u001b[1;34m(self, f, align_keys, **kwargs)\u001b[0m\n\u001b[0;32m    362\u001b[0m         applied \u001b[38;5;241m=\u001b[39m b\u001b[38;5;241m.\u001b[39mapply(f, \u001b[38;5;241m*\u001b[39m\u001b[38;5;241m*\u001b[39mkwargs)\n\u001b[0;32m    363\u001b[0m     \u001b[38;5;28;01melse\u001b[39;00m:\n\u001b[1;32m--> 364\u001b[0m         applied \u001b[38;5;241m=\u001b[39m \u001b[38;5;28;43mgetattr\u001b[39;49m\u001b[43m(\u001b[49m\u001b[43mb\u001b[49m\u001b[43m,\u001b[49m\u001b[43m \u001b[49m\u001b[43mf\u001b[49m\u001b[43m)\u001b[49m\u001b[43m(\u001b[49m\u001b[38;5;241;43m*\u001b[39;49m\u001b[38;5;241;43m*\u001b[39;49m\u001b[43mkwargs\u001b[49m\u001b[43m)\u001b[49m\n\u001b[0;32m    365\u001b[0m     result_blocks \u001b[38;5;241m=\u001b[39m extend_blocks(applied, result_blocks)\n\u001b[0;32m    367\u001b[0m out \u001b[38;5;241m=\u001b[39m \u001b[38;5;28mtype\u001b[39m(\u001b[38;5;28mself\u001b[39m)\u001b[38;5;241m.\u001b[39mfrom_blocks(result_blocks, \u001b[38;5;28mself\u001b[39m\u001b[38;5;241m.\u001b[39maxes)\n",
      "File \u001b[1;32mc:\\Users\\show\\AppData\\Local\\Programs\\Python\\Python311\\Lib\\site-packages\\pandas\\core\\internals\\blocks.py:758\u001b[0m, in \u001b[0;36mBlock.astype\u001b[1;34m(self, dtype, copy, errors, using_cow, squeeze)\u001b[0m\n\u001b[0;32m    755\u001b[0m         \u001b[38;5;28;01mraise\u001b[39;00m \u001b[38;5;167;01mValueError\u001b[39;00m(\u001b[38;5;124m\"\u001b[39m\u001b[38;5;124mCan not squeeze with more than one column.\u001b[39m\u001b[38;5;124m\"\u001b[39m)\n\u001b[0;32m    756\u001b[0m     values \u001b[38;5;241m=\u001b[39m values[\u001b[38;5;241m0\u001b[39m, :]  \u001b[38;5;66;03m# type: ignore[call-overload]\u001b[39;00m\n\u001b[1;32m--> 758\u001b[0m new_values \u001b[38;5;241m=\u001b[39m \u001b[43mastype_array_safe\u001b[49m\u001b[43m(\u001b[49m\u001b[43mvalues\u001b[49m\u001b[43m,\u001b[49m\u001b[43m \u001b[49m\u001b[43mdtype\u001b[49m\u001b[43m,\u001b[49m\u001b[43m \u001b[49m\u001b[43mcopy\u001b[49m\u001b[38;5;241;43m=\u001b[39;49m\u001b[43mcopy\u001b[49m\u001b[43m,\u001b[49m\u001b[43m \u001b[49m\u001b[43merrors\u001b[49m\u001b[38;5;241;43m=\u001b[39;49m\u001b[43merrors\u001b[49m\u001b[43m)\u001b[49m\n\u001b[0;32m    760\u001b[0m new_values \u001b[38;5;241m=\u001b[39m maybe_coerce_values(new_values)\n\u001b[0;32m    762\u001b[0m refs \u001b[38;5;241m=\u001b[39m \u001b[38;5;28;01mNone\u001b[39;00m\n",
      "File \u001b[1;32mc:\\Users\\show\\AppData\\Local\\Programs\\Python\\Python311\\Lib\\site-packages\\pandas\\core\\dtypes\\astype.py:237\u001b[0m, in \u001b[0;36mastype_array_safe\u001b[1;34m(values, dtype, copy, errors)\u001b[0m\n\u001b[0;32m    234\u001b[0m     dtype \u001b[38;5;241m=\u001b[39m dtype\u001b[38;5;241m.\u001b[39mnumpy_dtype\n\u001b[0;32m    236\u001b[0m \u001b[38;5;28;01mtry\u001b[39;00m:\n\u001b[1;32m--> 237\u001b[0m     new_values \u001b[38;5;241m=\u001b[39m \u001b[43mastype_array\u001b[49m\u001b[43m(\u001b[49m\u001b[43mvalues\u001b[49m\u001b[43m,\u001b[49m\u001b[43m \u001b[49m\u001b[43mdtype\u001b[49m\u001b[43m,\u001b[49m\u001b[43m \u001b[49m\u001b[43mcopy\u001b[49m\u001b[38;5;241;43m=\u001b[39;49m\u001b[43mcopy\u001b[49m\u001b[43m)\u001b[49m\n\u001b[0;32m    238\u001b[0m \u001b[38;5;28;01mexcept\u001b[39;00m (\u001b[38;5;167;01mValueError\u001b[39;00m, \u001b[38;5;167;01mTypeError\u001b[39;00m):\n\u001b[0;32m    239\u001b[0m     \u001b[38;5;66;03m# e.g. _astype_nansafe can fail on object-dtype of strings\u001b[39;00m\n\u001b[0;32m    240\u001b[0m     \u001b[38;5;66;03m#  trying to convert to float\u001b[39;00m\n\u001b[0;32m    241\u001b[0m     \u001b[38;5;28;01mif\u001b[39;00m errors \u001b[38;5;241m==\u001b[39m \u001b[38;5;124m\"\u001b[39m\u001b[38;5;124mignore\u001b[39m\u001b[38;5;124m\"\u001b[39m:\n",
      "File \u001b[1;32mc:\\Users\\show\\AppData\\Local\\Programs\\Python\\Python311\\Lib\\site-packages\\pandas\\core\\dtypes\\astype.py:182\u001b[0m, in \u001b[0;36mastype_array\u001b[1;34m(values, dtype, copy)\u001b[0m\n\u001b[0;32m    179\u001b[0m     values \u001b[38;5;241m=\u001b[39m values\u001b[38;5;241m.\u001b[39mastype(dtype, copy\u001b[38;5;241m=\u001b[39mcopy)\n\u001b[0;32m    181\u001b[0m \u001b[38;5;28;01melse\u001b[39;00m:\n\u001b[1;32m--> 182\u001b[0m     values \u001b[38;5;241m=\u001b[39m \u001b[43m_astype_nansafe\u001b[49m\u001b[43m(\u001b[49m\u001b[43mvalues\u001b[49m\u001b[43m,\u001b[49m\u001b[43m \u001b[49m\u001b[43mdtype\u001b[49m\u001b[43m,\u001b[49m\u001b[43m \u001b[49m\u001b[43mcopy\u001b[49m\u001b[38;5;241;43m=\u001b[39;49m\u001b[43mcopy\u001b[49m\u001b[43m)\u001b[49m\n\u001b[0;32m    184\u001b[0m \u001b[38;5;66;03m# in pandas we don't store numpy str dtypes, so convert to object\u001b[39;00m\n\u001b[0;32m    185\u001b[0m \u001b[38;5;28;01mif\u001b[39;00m \u001b[38;5;28misinstance\u001b[39m(dtype, np\u001b[38;5;241m.\u001b[39mdtype) \u001b[38;5;129;01mand\u001b[39;00m \u001b[38;5;28missubclass\u001b[39m(values\u001b[38;5;241m.\u001b[39mdtype\u001b[38;5;241m.\u001b[39mtype, \u001b[38;5;28mstr\u001b[39m):\n",
      "File \u001b[1;32mc:\\Users\\show\\AppData\\Local\\Programs\\Python\\Python311\\Lib\\site-packages\\pandas\\core\\dtypes\\astype.py:101\u001b[0m, in \u001b[0;36m_astype_nansafe\u001b[1;34m(arr, dtype, copy, skipna)\u001b[0m\n\u001b[0;32m     96\u001b[0m     \u001b[38;5;28;01mreturn\u001b[39;00m lib\u001b[38;5;241m.\u001b[39mensure_string_array(\n\u001b[0;32m     97\u001b[0m         arr, skipna\u001b[38;5;241m=\u001b[39mskipna, convert_na_value\u001b[38;5;241m=\u001b[39m\u001b[38;5;28;01mFalse\u001b[39;00m\n\u001b[0;32m     98\u001b[0m     )\u001b[38;5;241m.\u001b[39mreshape(shape)\n\u001b[0;32m    100\u001b[0m \u001b[38;5;28;01melif\u001b[39;00m np\u001b[38;5;241m.\u001b[39missubdtype(arr\u001b[38;5;241m.\u001b[39mdtype, np\u001b[38;5;241m.\u001b[39mfloating) \u001b[38;5;129;01mand\u001b[39;00m dtype\u001b[38;5;241m.\u001b[39mkind \u001b[38;5;129;01min\u001b[39;00m \u001b[38;5;124m\"\u001b[39m\u001b[38;5;124miu\u001b[39m\u001b[38;5;124m\"\u001b[39m:\n\u001b[1;32m--> 101\u001b[0m     \u001b[38;5;28;01mreturn\u001b[39;00m \u001b[43m_astype_float_to_int_nansafe\u001b[49m\u001b[43m(\u001b[49m\u001b[43marr\u001b[49m\u001b[43m,\u001b[49m\u001b[43m \u001b[49m\u001b[43mdtype\u001b[49m\u001b[43m,\u001b[49m\u001b[43m \u001b[49m\u001b[43mcopy\u001b[49m\u001b[43m)\u001b[49m\n\u001b[0;32m    103\u001b[0m \u001b[38;5;28;01melif\u001b[39;00m arr\u001b[38;5;241m.\u001b[39mdtype \u001b[38;5;241m==\u001b[39m \u001b[38;5;28mobject\u001b[39m:\n\u001b[0;32m    104\u001b[0m     \u001b[38;5;66;03m# if we have a datetime/timedelta array of objects\u001b[39;00m\n\u001b[0;32m    105\u001b[0m     \u001b[38;5;66;03m# then coerce to datetime64[ns] and use DatetimeArray.astype\u001b[39;00m\n\u001b[0;32m    107\u001b[0m     \u001b[38;5;28;01mif\u001b[39;00m lib\u001b[38;5;241m.\u001b[39mis_np_dtype(dtype, \u001b[38;5;124m\"\u001b[39m\u001b[38;5;124mM\u001b[39m\u001b[38;5;124m\"\u001b[39m):\n",
      "File \u001b[1;32mc:\\Users\\show\\AppData\\Local\\Programs\\Python\\Python311\\Lib\\site-packages\\pandas\\core\\dtypes\\astype.py:145\u001b[0m, in \u001b[0;36m_astype_float_to_int_nansafe\u001b[1;34m(values, dtype, copy)\u001b[0m\n\u001b[0;32m    141\u001b[0m \u001b[38;5;250m\u001b[39m\u001b[38;5;124;03m\"\"\"\u001b[39;00m\n\u001b[0;32m    142\u001b[0m \u001b[38;5;124;03mastype with a check preventing converting NaN to an meaningless integer value.\u001b[39;00m\n\u001b[0;32m    143\u001b[0m \u001b[38;5;124;03m\"\"\"\u001b[39;00m\n\u001b[0;32m    144\u001b[0m \u001b[38;5;28;01mif\u001b[39;00m \u001b[38;5;129;01mnot\u001b[39;00m np\u001b[38;5;241m.\u001b[39misfinite(values)\u001b[38;5;241m.\u001b[39mall():\n\u001b[1;32m--> 145\u001b[0m     \u001b[38;5;28;01mraise\u001b[39;00m IntCastingNaNError(\n\u001b[0;32m    146\u001b[0m         \u001b[38;5;124m\"\u001b[39m\u001b[38;5;124mCannot convert non-finite values (NA or inf) to integer\u001b[39m\u001b[38;5;124m\"\u001b[39m\n\u001b[0;32m    147\u001b[0m     )\n\u001b[0;32m    148\u001b[0m \u001b[38;5;28;01mif\u001b[39;00m dtype\u001b[38;5;241m.\u001b[39mkind \u001b[38;5;241m==\u001b[39m \u001b[38;5;124m\"\u001b[39m\u001b[38;5;124mu\u001b[39m\u001b[38;5;124m\"\u001b[39m:\n\u001b[0;32m    149\u001b[0m     \u001b[38;5;66;03m# GH#45151\u001b[39;00m\n\u001b[0;32m    150\u001b[0m     \u001b[38;5;28;01mif\u001b[39;00m \u001b[38;5;129;01mnot\u001b[39;00m (values \u001b[38;5;241m>\u001b[39m\u001b[38;5;241m=\u001b[39m \u001b[38;5;241m0\u001b[39m)\u001b[38;5;241m.\u001b[39mall():\n",
      "\u001b[1;31mIntCastingNaNError\u001b[0m: Cannot convert non-finite values (NA or inf) to integer"
     ]
    }
   ],
   "source": [
    "volve_df[[\"NPDCode\", \"Year\", \"Month\"]] = volve_df[[\"NPDCode\", \"Year\", \"Month\"]].astype(int)\n",
    "volve_df[[\"On Stream\", \"Oil\", \"Gas\", \"Water\", \"WI\", \"GI\"]] = volve_df[[\"On Stream\", \"Oil\", \"Gas\", \"Water\", \"WI\", \"GI\"]].astype(float)"
   ]
  },
  {
   "attachments": {},
   "cell_type": "markdown",
   "metadata": {},
   "source": [
    "### 🤯 What just happened? 😦 Why can't I convert my data?\n",
    "- If you take a look a the dataset, you will see that the first row only contains strings (*units*) and non-numeric (NaN) values.\n",
    "- When python tries to convert `NaN` into `int` or `hrs` into `float`, it throws an error saying `I cannot make that kind of conversion`.\n",
    "- To fix this, we will have to drop the first row of the dataset."
   ]
  },
  {
   "cell_type": "code",
   "execution_count": 6,
   "metadata": {},
   "outputs": [],
   "source": [
    "volve_df = volve_df.drop(index=[0]).reset_index(drop=True)"
   ]
  },
  {
   "cell_type": "code",
   "execution_count": 7,
   "metadata": {},
   "outputs": [],
   "source": [
    "volve_df[[\"NPDCode\", \"Year\", \"Month\"]] = volve_df[[\"NPDCode\", \"Year\", \"Month\"]].astype(int)\n",
    "volve_df[[\"On Stream\", \"Oil\", \"Gas\", \"Water\", \"WI\", \"GI\"]] = volve_df[[\"On Stream\", \"Oil\", \"Gas\", \"Water\", \"WI\", \"GI\"]].astype(float)"
   ]
  },
  {
   "cell_type": "code",
   "execution_count": 8,
   "metadata": {},
   "outputs": [
    {
     "data": {
      "text/plain": [
       "Wellbore name     object\n",
       "NPDCode            int32\n",
       "Year               int32\n",
       "Month              int32\n",
       "On Stream        float64\n",
       "Oil              float64\n",
       "Gas              float64\n",
       "Water            float64\n",
       "GI               float64\n",
       "WI               float64\n",
       "dtype: object"
      ]
     },
     "execution_count": 8,
     "metadata": {},
     "output_type": "execute_result"
    }
   ],
   "source": [
    "volve_df.dtypes"
   ]
  },
  {
   "attachments": {},
   "cell_type": "markdown",
   "metadata": {},
   "source": [
    "## Questions and Answers\n",
    "\n",
    "### Questions\n",
    "\n",
    "- Which of the available columns contain missing values?\n",
    "- How do you intend to handle the missing values?"
   ]
  },
  {
   "cell_type": "code",
   "execution_count": 9,
   "metadata": {},
   "outputs": [
    {
     "name": "stdout",
     "output_type": "stream",
     "text": [
      "<class 'pandas.core.frame.DataFrame'>\n",
      "RangeIndex: 526 entries, 0 to 525\n",
      "Data columns (total 10 columns):\n",
      " #   Column         Non-Null Count  Dtype  \n",
      "---  ------         --------------  -----  \n",
      " 0   Wellbore name  526 non-null    object \n",
      " 1   NPDCode        526 non-null    int32  \n",
      " 2   Year           526 non-null    int32  \n",
      " 3   Month          526 non-null    int32  \n",
      " 4   On Stream      515 non-null    float64\n",
      " 5   Oil            311 non-null    float64\n",
      " 6   Gas            311 non-null    float64\n",
      " 7   Water          311 non-null    float64\n",
      " 8   GI             0 non-null      float64\n",
      " 9   WI             201 non-null    float64\n",
      "dtypes: float64(6), int32(3), object(1)\n",
      "memory usage: 35.1+ KB\n"
     ]
    }
   ],
   "source": [
    "volve_df.info()"
   ]
  },
  {
   "cell_type": "code",
   "execution_count": 10,
   "metadata": {},
   "outputs": [
    {
     "data": {
      "text/html": [
       "<div>\n",
       "<style scoped>\n",
       "    .dataframe tbody tr th:only-of-type {\n",
       "        vertical-align: middle;\n",
       "    }\n",
       "\n",
       "    .dataframe tbody tr th {\n",
       "        vertical-align: top;\n",
       "    }\n",
       "\n",
       "    .dataframe thead th {\n",
       "        text-align: right;\n",
       "    }\n",
       "</style>\n",
       "<table border=\"1\" class=\"dataframe\">\n",
       "  <thead>\n",
       "    <tr style=\"text-align: right;\">\n",
       "      <th></th>\n",
       "      <th>NPDCode</th>\n",
       "      <th>Year</th>\n",
       "      <th>Month</th>\n",
       "      <th>On Stream</th>\n",
       "      <th>Oil</th>\n",
       "      <th>Gas</th>\n",
       "      <th>Water</th>\n",
       "      <th>GI</th>\n",
       "      <th>WI</th>\n",
       "    </tr>\n",
       "  </thead>\n",
       "  <tbody>\n",
       "    <tr>\n",
       "      <th>count</th>\n",
       "      <td>526.000000</td>\n",
       "      <td>526.000000</td>\n",
       "      <td>526.000000</td>\n",
       "      <td>515.000000</td>\n",
       "      <td>311.000000</td>\n",
       "      <td>3.110000e+02</td>\n",
       "      <td>311.000000</td>\n",
       "      <td>0.0</td>\n",
       "      <td>201.000000</td>\n",
       "    </tr>\n",
       "    <tr>\n",
       "      <th>mean</th>\n",
       "      <td>5906.731939</td>\n",
       "      <td>2012.380228</td>\n",
       "      <td>6.482890</td>\n",
       "      <td>595.901633</td>\n",
       "      <td>32273.571093</td>\n",
       "      <td>4.743956e+06</td>\n",
       "      <td>49255.878939</td>\n",
       "      <td>NaN</td>\n",
       "      <td>150896.186722</td>\n",
       "    </tr>\n",
       "    <tr>\n",
       "      <th>std</th>\n",
       "      <td>650.021100</td>\n",
       "      <td>2.633829</td>\n",
       "      <td>3.417977</td>\n",
       "      <td>196.676640</td>\n",
       "      <td>37361.937092</td>\n",
       "      <td>5.302562e+06</td>\n",
       "      <td>47458.158698</td>\n",
       "      <td>NaN</td>\n",
       "      <td>56431.406213</td>\n",
       "    </tr>\n",
       "    <tr>\n",
       "      <th>min</th>\n",
       "      <td>5351.000000</td>\n",
       "      <td>2007.000000</td>\n",
       "      <td>1.000000</td>\n",
       "      <td>0.000000</td>\n",
       "      <td>0.000000</td>\n",
       "      <td>0.000000e+00</td>\n",
       "      <td>0.000000</td>\n",
       "      <td>NaN</td>\n",
       "      <td>0.000000</td>\n",
       "    </tr>\n",
       "    <tr>\n",
       "      <th>25%</th>\n",
       "      <td>5599.000000</td>\n",
       "      <td>2010.000000</td>\n",
       "      <td>4.000000</td>\n",
       "      <td>561.334160</td>\n",
       "      <td>6085.665000</td>\n",
       "      <td>9.236522e+05</td>\n",
       "      <td>3534.335000</td>\n",
       "      <td>NaN</td>\n",
       "      <td>126376.884487</td>\n",
       "    </tr>\n",
       "    <tr>\n",
       "      <th>50%</th>\n",
       "      <td>5693.000000</td>\n",
       "      <td>2013.000000</td>\n",
       "      <td>6.500000</td>\n",
       "      <td>683.741660</td>\n",
       "      <td>17870.720000</td>\n",
       "      <td>2.722573e+06</td>\n",
       "      <td>36195.930000</td>\n",
       "      <td>NaN</td>\n",
       "      <td>150430.986280</td>\n",
       "    </tr>\n",
       "    <tr>\n",
       "      <th>75%</th>\n",
       "      <td>5769.000000</td>\n",
       "      <td>2015.000000</td>\n",
       "      <td>9.000000</td>\n",
       "      <td>720.000000</td>\n",
       "      <td>37607.385000</td>\n",
       "      <td>5.780980e+06</td>\n",
       "      <td>94056.455000</td>\n",
       "      <td>NaN</td>\n",
       "      <td>188426.124913</td>\n",
       "    </tr>\n",
       "    <tr>\n",
       "      <th>max</th>\n",
       "      <td>7405.000000</td>\n",
       "      <td>2016.000000</td>\n",
       "      <td>12.000000</td>\n",
       "      <td>745.000000</td>\n",
       "      <td>166439.670000</td>\n",
       "      <td>2.410636e+07</td>\n",
       "      <td>155365.680000</td>\n",
       "      <td>NaN</td>\n",
       "      <td>270199.399830</td>\n",
       "    </tr>\n",
       "  </tbody>\n",
       "</table>\n",
       "</div>"
      ],
      "text/plain": [
       "           NPDCode         Year       Month   On Stream            Oil  \\\n",
       "count   526.000000   526.000000  526.000000  515.000000     311.000000   \n",
       "mean   5906.731939  2012.380228    6.482890  595.901633   32273.571093   \n",
       "std     650.021100     2.633829    3.417977  196.676640   37361.937092   \n",
       "min    5351.000000  2007.000000    1.000000    0.000000       0.000000   \n",
       "25%    5599.000000  2010.000000    4.000000  561.334160    6085.665000   \n",
       "50%    5693.000000  2013.000000    6.500000  683.741660   17870.720000   \n",
       "75%    5769.000000  2015.000000    9.000000  720.000000   37607.385000   \n",
       "max    7405.000000  2016.000000   12.000000  745.000000  166439.670000   \n",
       "\n",
       "                Gas          Water   GI             WI  \n",
       "count  3.110000e+02     311.000000  0.0     201.000000  \n",
       "mean   4.743956e+06   49255.878939  NaN  150896.186722  \n",
       "std    5.302562e+06   47458.158698  NaN   56431.406213  \n",
       "min    0.000000e+00       0.000000  NaN       0.000000  \n",
       "25%    9.236522e+05    3534.335000  NaN  126376.884487  \n",
       "50%    2.722573e+06   36195.930000  NaN  150430.986280  \n",
       "75%    5.780980e+06   94056.455000  NaN  188426.124913  \n",
       "max    2.410636e+07  155365.680000  NaN  270199.399830  "
      ]
     },
     "execution_count": 10,
     "metadata": {},
     "output_type": "execute_result"
    }
   ],
   "source": [
    "volve_df.describe()"
   ]
  },
  {
   "attachments": {},
   "cell_type": "markdown",
   "metadata": {},
   "source": [
    "### Answers\n",
    "\n",
    "- The columns `On Stream`, `Oil`, `Gas`, `Water`, `GI`, and `WI` all contain missing values.\n",
    "- Given the high standard deviation for the concerned columns (*cell above*), the best option is to replace them with zero (0).\n",
    "\n",
    ">**Note:** The standard deviation is considered high when it is more than one third of the arithmetic mean."
   ]
  },
  {
   "cell_type": "code",
   "execution_count": 11,
   "metadata": {},
   "outputs": [],
   "source": [
    "volve_df = volve_df.fillna(0)"
   ]
  },
  {
   "cell_type": "code",
   "execution_count": 12,
   "metadata": {},
   "outputs": [
    {
     "data": {
      "text/html": [
       "<div>\n",
       "<style scoped>\n",
       "    .dataframe tbody tr th:only-of-type {\n",
       "        vertical-align: middle;\n",
       "    }\n",
       "\n",
       "    .dataframe tbody tr th {\n",
       "        vertical-align: top;\n",
       "    }\n",
       "\n",
       "    .dataframe thead th {\n",
       "        text-align: right;\n",
       "    }\n",
       "</style>\n",
       "<table border=\"1\" class=\"dataframe\">\n",
       "  <thead>\n",
       "    <tr style=\"text-align: right;\">\n",
       "      <th></th>\n",
       "      <th>Wellbore name</th>\n",
       "      <th>NPDCode</th>\n",
       "      <th>Year</th>\n",
       "      <th>Month</th>\n",
       "      <th>On Stream</th>\n",
       "      <th>Oil</th>\n",
       "      <th>Gas</th>\n",
       "      <th>Water</th>\n",
       "      <th>GI</th>\n",
       "      <th>WI</th>\n",
       "    </tr>\n",
       "  </thead>\n",
       "  <tbody>\n",
       "    <tr>\n",
       "      <th>0</th>\n",
       "      <td>15/9-F-1 C</td>\n",
       "      <td>7405</td>\n",
       "      <td>2014</td>\n",
       "      <td>4</td>\n",
       "      <td>227.50000</td>\n",
       "      <td>11142.47</td>\n",
       "      <td>1597936.65</td>\n",
       "      <td>0.00</td>\n",
       "      <td>0.0</td>\n",
       "      <td>0.0</td>\n",
       "    </tr>\n",
       "    <tr>\n",
       "      <th>1</th>\n",
       "      <td>15/9-F-1 C</td>\n",
       "      <td>7405</td>\n",
       "      <td>2014</td>\n",
       "      <td>5</td>\n",
       "      <td>733.83334</td>\n",
       "      <td>24901.95</td>\n",
       "      <td>3496229.65</td>\n",
       "      <td>783.48</td>\n",
       "      <td>0.0</td>\n",
       "      <td>0.0</td>\n",
       "    </tr>\n",
       "    <tr>\n",
       "      <th>2</th>\n",
       "      <td>15/9-F-1 C</td>\n",
       "      <td>7405</td>\n",
       "      <td>2014</td>\n",
       "      <td>6</td>\n",
       "      <td>705.91666</td>\n",
       "      <td>19617.76</td>\n",
       "      <td>2886661.69</td>\n",
       "      <td>2068.48</td>\n",
       "      <td>0.0</td>\n",
       "      <td>0.0</td>\n",
       "    </tr>\n",
       "    <tr>\n",
       "      <th>3</th>\n",
       "      <td>15/9-F-1 C</td>\n",
       "      <td>7405</td>\n",
       "      <td>2014</td>\n",
       "      <td>7</td>\n",
       "      <td>742.41666</td>\n",
       "      <td>15085.68</td>\n",
       "      <td>2249365.75</td>\n",
       "      <td>6243.98</td>\n",
       "      <td>0.0</td>\n",
       "      <td>0.0</td>\n",
       "    </tr>\n",
       "    <tr>\n",
       "      <th>4</th>\n",
       "      <td>15/9-F-1 C</td>\n",
       "      <td>7405</td>\n",
       "      <td>2014</td>\n",
       "      <td>8</td>\n",
       "      <td>432.99166</td>\n",
       "      <td>6970.43</td>\n",
       "      <td>1048190.80</td>\n",
       "      <td>4529.75</td>\n",
       "      <td>0.0</td>\n",
       "      <td>0.0</td>\n",
       "    </tr>\n",
       "    <tr>\n",
       "      <th>5</th>\n",
       "      <td>15/9-F-1 C</td>\n",
       "      <td>7405</td>\n",
       "      <td>2014</td>\n",
       "      <td>9</td>\n",
       "      <td>630.30000</td>\n",
       "      <td>9168.43</td>\n",
       "      <td>1414099.99</td>\n",
       "      <td>8317.59</td>\n",
       "      <td>0.0</td>\n",
       "      <td>0.0</td>\n",
       "    </tr>\n",
       "    <tr>\n",
       "      <th>6</th>\n",
       "      <td>15/9-F-1 C</td>\n",
       "      <td>7405</td>\n",
       "      <td>2014</td>\n",
       "      <td>10</td>\n",
       "      <td>745.00000</td>\n",
       "      <td>9468.06</td>\n",
       "      <td>1462063.99</td>\n",
       "      <td>10364.87</td>\n",
       "      <td>0.0</td>\n",
       "      <td>0.0</td>\n",
       "    </tr>\n",
       "    <tr>\n",
       "      <th>7</th>\n",
       "      <td>15/9-F-1 C</td>\n",
       "      <td>7405</td>\n",
       "      <td>2014</td>\n",
       "      <td>11</td>\n",
       "      <td>579.77500</td>\n",
       "      <td>6710.33</td>\n",
       "      <td>1044188.30</td>\n",
       "      <td>7234.24</td>\n",
       "      <td>0.0</td>\n",
       "      <td>0.0</td>\n",
       "    </tr>\n",
       "    <tr>\n",
       "      <th>8</th>\n",
       "      <td>15/9-F-1 C</td>\n",
       "      <td>7405</td>\n",
       "      <td>2014</td>\n",
       "      <td>12</td>\n",
       "      <td>27.50000</td>\n",
       "      <td>120.29</td>\n",
       "      <td>25857.08</td>\n",
       "      <td>183.44</td>\n",
       "      <td>0.0</td>\n",
       "      <td>0.0</td>\n",
       "    </tr>\n",
       "    <tr>\n",
       "      <th>9</th>\n",
       "      <td>15/9-F-1 C</td>\n",
       "      <td>7405</td>\n",
       "      <td>2015</td>\n",
       "      <td>1</td>\n",
       "      <td>479.91667</td>\n",
       "      <td>10875.53</td>\n",
       "      <td>1604934.60</td>\n",
       "      <td>6850.80</td>\n",
       "      <td>0.0</td>\n",
       "      <td>0.0</td>\n",
       "    </tr>\n",
       "  </tbody>\n",
       "</table>\n",
       "</div>"
      ],
      "text/plain": [
       "  Wellbore name  NPDCode  Year  Month  On Stream       Oil         Gas  \\\n",
       "0    15/9-F-1 C     7405  2014      4  227.50000  11142.47  1597936.65   \n",
       "1    15/9-F-1 C     7405  2014      5  733.83334  24901.95  3496229.65   \n",
       "2    15/9-F-1 C     7405  2014      6  705.91666  19617.76  2886661.69   \n",
       "3    15/9-F-1 C     7405  2014      7  742.41666  15085.68  2249365.75   \n",
       "4    15/9-F-1 C     7405  2014      8  432.99166   6970.43  1048190.80   \n",
       "5    15/9-F-1 C     7405  2014      9  630.30000   9168.43  1414099.99   \n",
       "6    15/9-F-1 C     7405  2014     10  745.00000   9468.06  1462063.99   \n",
       "7    15/9-F-1 C     7405  2014     11  579.77500   6710.33  1044188.30   \n",
       "8    15/9-F-1 C     7405  2014     12   27.50000    120.29    25857.08   \n",
       "9    15/9-F-1 C     7405  2015      1  479.91667  10875.53  1604934.60   \n",
       "\n",
       "      Water   GI   WI  \n",
       "0      0.00  0.0  0.0  \n",
       "1    783.48  0.0  0.0  \n",
       "2   2068.48  0.0  0.0  \n",
       "3   6243.98  0.0  0.0  \n",
       "4   4529.75  0.0  0.0  \n",
       "5   8317.59  0.0  0.0  \n",
       "6  10364.87  0.0  0.0  \n",
       "7   7234.24  0.0  0.0  \n",
       "8    183.44  0.0  0.0  \n",
       "9   6850.80  0.0  0.0  "
      ]
     },
     "execution_count": 12,
     "metadata": {},
     "output_type": "execute_result"
    }
   ],
   "source": [
    "volve_df.head(10)"
   ]
  },
  {
   "attachments": {},
   "cell_type": "markdown",
   "metadata": {},
   "source": [
    "## Questions and Answers\n",
    "\n",
    "### Questions\n",
    "\n",
    "- What is the temporal coverage of the dataset?\n",
    "- How many wellbores are there in the dataset?\n",
    "- How much hydrocarbon was produced from the Volve field?\n",
    "- What secondary recovery method was employed during field development?"
   ]
  },
  {
   "cell_type": "code",
   "execution_count": 13,
   "metadata": {},
   "outputs": [
    {
     "name": "stdout",
     "output_type": "stream",
     "text": [
      "The dataset provides production data for a duration of 9 years, from 2007 to 2016.\n"
     ]
    }
   ],
   "source": [
    "years = sorted(list(volve_df[\"Year\"].unique()))\n",
    "temporal_coverage = years[-1] - years[0]\n",
    "\n",
    "print(f\"The dataset provides production data for a duration of {temporal_coverage} years, from {years[0]} to {years[-1]}.\")"
   ]
  },
  {
   "cell_type": "code",
   "execution_count": 14,
   "metadata": {},
   "outputs": [
    {
     "name": "stdout",
     "output_type": "stream",
     "text": [
      "There is a total of 7 wellbores in the dataset.\n"
     ]
    }
   ],
   "source": [
    "number_of_wells = len(volve_df[\"Wellbore name\"].unique())\n",
    "print(f\"There is a total of {number_of_wells} wellbores in the dataset.\")"
   ]
  },
  {
   "attachments": {},
   "cell_type": "markdown",
   "metadata": {},
   "source": [
    "### Unit convension\n",
    "\n",
    "- Oil reserves are measured in barrels (bbl)\n",
    "- Gas reserves are measured in standard cubic feet (SCF or ft<sup>3</sup>)\n",
    "\n",
    ">1 bbl = 0.1589873 m<sup>3</sup> <br>\n",
    ">1 scf = 0.0283168 m<sup>3</sup>"
   ]
  },
  {
   "cell_type": "code",
   "execution_count": 15,
   "metadata": {},
   "outputs": [],
   "source": [
    "total_oil_production = volve_df[\"Oil\"].sum() / 0.1589873\n",
    "total_gas_production = volve_df[\"Gas\"].sum() / 0.0283168"
   ]
  },
  {
   "cell_type": "code",
   "execution_count": 16,
   "metadata": {},
   "outputs": [
    {
     "name": "stdout",
     "output_type": "stream",
     "text": [
      "A total of 63.13 million barrels of oil were produced.\n"
     ]
    }
   ],
   "source": [
    "print(\"A total of {:.2f} million barrels of oil were produced.\".format(total_oil_production / 1e6))"
   ]
  },
  {
   "cell_type": "code",
   "execution_count": 17,
   "metadata": {},
   "outputs": [
    {
     "name": "stdout",
     "output_type": "stream",
     "text": [
      "A total of 52.10 billion cubic feet of gas were produced.\n"
     ]
    }
   ],
   "source": [
    "print(\"A total of {:.2f} billion cubic feet of gas were produced.\".format(total_gas_production / 1e9))"
   ]
  },
  {
   "cell_type": "code",
   "execution_count": 18,
   "metadata": {},
   "outputs": [
    {
     "name": "stdout",
     "output_type": "stream",
     "text": [
      "Water injection was used as the secondary recovery method.\n"
     ]
    }
   ],
   "source": [
    "if volve_df[\"WI\"].sum() > 0:\n",
    "    if volve_df[\"GI\"].sum() > 0:\n",
    "        print(\"Both water and gas injection were used for the secondary recovery.\")\n",
    "    else:\n",
    "        print(\"Water injection was used as the secondary recovery method.\")\n",
    "else:\n",
    "    print(\"Gas injection was used as the secondary recovery method.\")"
   ]
  },
  {
   "cell_type": "markdown",
   "metadata": {},
   "source": [
    "### Basic Information\n",
    "\n",
    "|Field name | Location | No of wells | Temporal coverage      |\n",
    "|:---------:|:--------:|:-----------:|:----------------------:|\n",
    "|Volve      |Norway    |7            |9 years (_2007 - 2016_) |\n",
    "\n",
    "### Performance Evaluation\n",
    "\n",
    "| Oil Production | Gas Production | Recovery Method |\n",
    "|:--------------:|:--------------:|:---------------:|\n",
    "| 62.73 MMbbl    | 52.10 BCF      |Water injection  |"
   ]
  },
  {
   "cell_type": "code",
   "execution_count": null,
   "metadata": {},
   "outputs": [],
   "source": []
  },
  {
   "cell_type": "code",
   "execution_count": null,
   "metadata": {},
   "outputs": [],
   "source": []
  },
  {
   "cell_type": "code",
   "execution_count": null,
   "metadata": {},
   "outputs": [],
   "source": []
  }
 ],
 "metadata": {
  "kernelspec": {
   "display_name": "Python 3",
   "language": "python",
   "name": "python3"
  },
  "language_info": {
   "codemirror_mode": {
    "name": "ipython",
    "version": 3
   },
   "file_extension": ".py",
   "mimetype": "text/x-python",
   "name": "python",
   "nbconvert_exporter": "python",
   "pygments_lexer": "ipython3",
   "version": "3.11.1"
  },
  "orig_nbformat": 4
 },
 "nbformat": 4,
 "nbformat_minor": 2
}
